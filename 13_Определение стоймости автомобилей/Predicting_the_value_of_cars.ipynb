{
 "cells": [
  {
   "cell_type": "markdown",
   "metadata": {},
   "source": [
    "# Определение стоимости автомобилей"
   ]
  },
  {
   "cell_type": "markdown",
   "metadata": {},
   "source": [
    "## **Описание проекта**\n",
    "\n",
    "### Постановка задачи\n",
    "\n",
    "Сервис по продаже автомобилей с пробегом «Не бит, не крашен» активно работает над созданием приложения, цель которого — привлечение новых клиентов. Особенность приложения в том, что пользователи могут мгновенно получить оценку рыночной стоимости своего автомобиля, основываясь на обширной базе данных по продажам автомобилей. Вам предстоит решить ключевую задачу проекта: разработать модель машинного обучения, которая будет предсказывать стоимость автомобиля на основе его характеристик и истории продаж. Эта модель поможет сервису укрепить доверие пользователей, предоставляя им точную и обоснованную оценку стоимости их автомобилей.\n",
    "\n",
    "Для заказчика важны следующие аспекты:\n",
    "- Высокое качество предсказаний;\n",
    "- Минимальное время обучения модели;\n",
    "- Быстрое время ответа модели на запросы пользователей.\n",
    "\n",
    "### Описание данных\n",
    "\n",
    "В вашем распоряжении предоставлены исторические данные о продажах автомобилей, включая технические характеристики, комплектации и фактические цены продаж. Эти данные выглядят следующим образом:\n",
    "\n",
    "**Признаки:**\n",
    "- `DateCrawled` — дата скачивания анкеты из базы;\n",
    "- `VehicleType` — тип автомобильного кузова;\n",
    "- `RegistrationYear` — год регистрации автомобиля;\n",
    "- `Gearbox` — тип коробки передач;\n",
    "- `Power` — мощность двигателя в лошадиных силах;\n",
    "- `Model` — модель автомобиля;\n",
    "- `Kilometer` — пробег автомобиля в километрах;\n",
    "- `RegistrationMonth` — месяц регистрации автомобиля;\n",
    "- `FuelType` — тип используемого топлива;\n",
    "- `Brand` — марка автомобиля;\n",
    "- `Repaired` — информация о проведенных ремонтных работах;\n",
    "- `DateCreated` — дата создания анкеты;\n",
    "- `NumberOfPictures` — количество фотографий автомобиля в анкете;\n",
    "- `PostalCode` — почтовый индекс владельца анкеты;\n",
    "- `LastSeen` — дата последней активности пользователя.\n",
    "\n",
    "**Целевой признак:**\n",
    "- `Price` — цена автомобиля в евро.\n",
    "\n",
    "Цель проекта — создать модель, способную с высокой точностью предсказывать стоимость автомобиля на рынке. Это позволит пользователям сервиса «Не бит, не крашен» быстро и надежно оценивать стоимость своих автомобилей, улучшая пользовательский опыт и повышая лояльность к сервису.\n",
    "\n",
    "\n",
    "### Задачи исследования:\n",
    "\n",
    "- Этап 1. Разведочный анализ данных (EDA);\n",
    "- Этап 2. Предобработка данных;\n",
    "- Этап 3. Подготовка данных к обучению;\n",
    "- Этап 4. Обучение моделей;\n",
    "- Этап 5. Анализ моделей;\n",
    "- Этап 6. Тестирование наилучшей модели;\n",
    "- Общий вывод."
   ]
  },
  {
   "cell_type": "markdown",
   "metadata": {},
   "source": [
    "### Этап 1. Разведочный анализ данных (EDA):\n",
    "\n",
    "#### Импорт библиотек"
   ]
  },
  {
   "cell_type": "code",
   "execution_count": 1,
   "metadata": {},
   "outputs": [],
   "source": [
    "# !pip install -q seaborn catboost lightgbm"
   ]
  },
  {
   "cell_type": "code",
   "execution_count": 1,
   "metadata": {},
   "outputs": [],
   "source": [
    "import warnings\n",
    "\n",
    "import matplotlib.pyplot as plt\n",
    "import numpy as np\n",
    "import pandas as pd\n",
    "import seaborn as sns\n",
    "\n",
    "\n",
    "from catboost import CatBoostRegressor\n",
    "from lightgbm import LGBMRegressor\n",
    "from sklearn.dummy import DummyRegressor\n",
    "from sklearn.ensemble import RandomForestRegressor\n",
    "from sklearn.metrics import mean_squared_error\n",
    "from sklearn.model_selection import (\n",
    "    cross_val_score,\n",
    "    RandomizedSearchCV,\n",
    "    train_test_split\n",
    ")    \n",
    "from sklearn.preprocessing import (\n",
    "    OneHotEncoder,\n",
    "    OrdinalEncoder,\n",
    "    StandardScaler\n",
    ")\n",
    "from sklearn.tree import DecisionTreeRegressor\n",
    "from time import time\n",
    "%matplotlib notebook\n",
    "%matplotlib inline"
   ]
  },
  {
   "cell_type": "code",
   "execution_count": 2,
   "metadata": {},
   "outputs": [],
   "source": [
    "# Отключение warning\n",
    "warnings.filterwarnings('ignore')\n",
    "pd.options.mode.chained_assignment = None\n",
    "#Формат float\n",
    "pd.options.display.float_format = '{:,.2f}'.format\n",
    "# Сброс ограничений на число столбцов\n",
    "pd.options.display.max_columns = None"
   ]
  },
  {
   "cell_type": "markdown",
   "metadata": {},
   "source": [
    "#### Информация о столбцах:"
   ]
  },
  {
   "cell_type": "code",
   "execution_count": 3,
   "metadata": {},
   "outputs": [],
   "source": [
    "data_name = 'Объявления о продаже автомобилей'\n",
    "\n",
    "data_fields = { 'DateCrawled'      :['дата скачивания анкеты из базы', False],\n",
    "                'VehicleType'      :['тип автомобильного кузова', False],\n",
    "                'RegistrationYear' :['год регистрации автомобиля', True],\n",
    "                'Gearbox'          :['тип коробки передач', True],\n",
    "                'Power'            :['мощность (л. с.)', True],\n",
    "                'Model'            :['модель автомобиля',  False],\n",
    "                'Kilometer'        :['пробег (км)', True],\n",
    "                'RegistrationMonth':['месяц регистрации автомобиля', False],\n",
    "                'FuelType'         :['тип топлива', False],\n",
    "                'Brand'            :['марка автомобиля',  False],\n",
    "                'Repaired'         :['была машина в ремонте или нет', False],\n",
    "                'DateCreated'      :['дата создания анкеты', False],\n",
    "                'NumberOfPictures' :['количество фотографий автомобиля', False],\n",
    "                'PostalCode'       :['почтовый индекс владельца анкеты (пользователя)', False],\n",
    "                'LastSeen'         :['дата последней активности пользователя', False],\n",
    "                'Price'            :['цена (евро)', True]\n",
    "}"
   ]
  },
  {
   "cell_type": "markdown",
   "metadata": {},
   "source": [
    "#### Функция получения информации о столбце"
   ]
  },
  {
   "cell_type": "code",
   "execution_count": 4,
   "metadata": {},
   "outputs": [],
   "source": [
    "def col_reaper(ddf, param_name, plot_hist=True):\n",
    "    \"\"\"\n",
    "    Функция для анализа распределения значений в столбце DataFrame.\n",
    "\n",
    "    Осуществляет вывод описательной статистики для указанного столбца,\n",
    "    строит гистограмму значений для количественных данных или распределение\n",
    "    уникальных значений для категориальных данных, если это указано в параметрах.\n",
    "\n",
    "    Параметры:\n",
    "    ddf (pandas.DataFrame): DataFrame, в котором производится анализ.\n",
    "    param_name (str): Имя столбца в DataFrame для анализа.\n",
    "    plot_hist (bool, optional): Флаг, указывающий, нужно ли строить гистограмму\n",
    "                                значений. По умолчанию True.\n",
    "\n",
    "    Возвращает:\n",
    "    None: Функция только выводит результаты анализа и графики, не возвращая значений.\n",
    "    \"\"\"\n",
    "    global data_fields\n",
    "    data_len = len(ddf)\n",
    "    param = ddf[param_name]\n",
    "    \n",
    "    # Определение имени столбца\n",
    "    if data_fields.get(param_name)[0] is not None:\n",
    "        field = data_fields.get(param_name)[0]\n",
    "    else:\n",
    "        field = ''\n",
    "        \n",
    "    # Описание данных\n",
    "    print('\\n\\033[4m'+'Описание данных:'+ '\\033[0m')\n",
    "    print(param.describe(datetime_is_numeric=True))\n",
    "    typer = type(param[0])\n",
    "    print('\\033[4m' + 'Количество записей:' + '\\033[0m', sum(param.notna()), 'из', data_len)\n",
    "    if sum(param.isna()) > 0:\n",
    "        print('\\033[4m' + 'Пропущено:' + '\\033[0m', sum(param.isna()))\n",
    "        print('')\n",
    "\n",
    "    # Построение гистограммы\n",
    "    print('\\033[4m'+'\\nТип:\\n' + '\\033[0m', typer)\n",
    "    if plot_hist and not 'str' in str(typer):\n",
    "        print('\\033[4m'+'\\nГистограмма значений:'+ '\\033[0m')\n",
    "        param.plot(kind='hist', bins=20, figsize=(12, 5), grid=True)\n",
    "        plt.title(field)\n",
    "        plt.ylabel('Количество записей')\n",
    "        plt.xticks(rotation=0)\n",
    "        plt.show()\n",
    "    else:\n",
    "        if len(param.unique()) <= 40:\n",
    "            print('\\033[4m'+'\\nРаспределение уникальных значений (первые 10 значений в порядке убывания):'+ '\\033[0m')\n",
    "            param_group = ddf.groupby(param_name).agg(cnt=(param_name, 'count')).reset_index()\n",
    "            display(param_group.sort_values(by='cnt', ascending=False).reset_index(drop=True).head(10))\n",
    "            print('\\033[4m'+'\\nГистограмма значений:'+ '\\033[0m')\n",
    "            param_group.plot(x=param_name, y='cnt', kind='bar', figsize=(12, 5))\n",
    "            plt.title(field)\n",
    "            plt.ylabel('Количество записей')\n",
    "            if len(param.unique()) <= 20:\n",
    "                plt.xticks(rotation=0)\n",
    "            else:\n",
    "                plt.xticks(rotation=90)\n",
    "            plt.show()\n",
    "    print('')"
   ]
  },
  {
   "cell_type": "markdown",
   "metadata": {},
   "source": [
    "#### Функция получения информации о датафрейме"
   ]
  },
  {
   "cell_type": "code",
   "execution_count": 5,
   "metadata": {},
   "outputs": [],
   "source": [
    "def df_reaper(df, df_name='', data_fields={}):\n",
    "    \"\"\"\n",
    "    Функция для комплексного анализа DataFrame, включая вывод общей информации,\n",
    "    анализ дубликатов, описание статистик для числовых столбцов, построение диаграмм рассеивания\n",
    "    и корреляционной матрицы для выбранных столбцов, а также детальный анализ каждого столбца.\n",
    "\n",
    "    Параметры:\n",
    "    df (pandas.DataFrame): DataFrame для анализа.\n",
    "    df_name (str, optional): Название DataFrame для вывода в заголовке. По умолчанию пустая строка.\n",
    "    data_fields (dict, optional): Словарь, описывающий поля данных. Для каждого поля может быть\n",
    "                                  указано его название и необходимость построения гистограммы.\n",
    "                                  По умолчанию пустой словарь.\n",
    "\n",
    "    Возвращает:\n",
    "    None: Функция только выводит результаты анализа и графики, не возвращая значений.\n",
    "    \"\"\"\n",
    "    # Список столбцов для анализа\n",
    "    cols = df.columns\n",
    "    true_cols = [col for col in cols if data_fields.get(col) and data_fields.get(col)[1]]\n",
    "\n",
    "    print('\\033[1;4m' + df_name + '\\033[0m \\n')   \n",
    "    print('\\033[1m' + 'Количество записей:' + '\\033[0m')   \n",
    "    df_len = len(df)\n",
    "    display(df_len)\n",
    "    print('')\n",
    "    \n",
    "    print('\\033[1m' + 'Первые 5 строк данных:' + '\\033[0m')   \n",
    "    display(df.head())\n",
    "    print('')\n",
    "    \n",
    "    print('\\033[1m' + 'Информация о датафрейме:' + '\\033[0m')\n",
    "    print('')\n",
    "    display(df.info())\n",
    "    \n",
    "    print('\\033[1m' + 'Дубликаты:' + '\\033[0m')\n",
    "    if df.duplicated().sum() > 0:\n",
    "        print('Обнаружено дубликатов:', df.duplicated().sum())\n",
    "    else:    \n",
    "        print('Дубликатов не обнаружено')\n",
    "    print('')\n",
    "    \n",
    "    print('\\033[1m' + 'Описание данных в столбцах с числовыми значениями:' + '\\033[0m')\n",
    "    display(df.describe().T)\n",
    "\n",
    "    print('\\033[1m' + 'Диаграмма рассеивания:' + '\\033[0m')\n",
    "    pd.plotting.scatter_matrix(df[true_cols], figsize=(16, 16)); \n",
    "    plt.show()\n",
    "    \n",
    "    print('\\033[1m' + 'Корелляция данных:' + '\\033[0m')\n",
    "    plt.figure(figsize=(16, 6))\n",
    "    mask = np.triu(np.ones_like(df[true_cols].corr(), dtype=bool))\n",
    "    heatmap = sns.heatmap(df[true_cols].corr(), mask=mask, vmin=-1, vmax=1, annot=True, cmap='BrBG')\n",
    "    plt.show()\n",
    "    \n",
    "    print('\\033[1m' + 'Столбцы:' + '\\033[0m \\n')\n",
    "    for col in cols:\n",
    "        field = data_fields.get(col)[0] if data_fields.get(col) and data_fields.get(col)[0] is not None else ''\n",
    "        print('\\033[1;3m' + col + ' - ' + field + '\\033[0m')\n",
    "        plot_hist = data_fields.get(col)[1] if data_fields.get(col) else False\n",
    "        col_reaper(df, col, plot_hist)"
   ]
  },
  {
   "cell_type": "markdown",
   "metadata": {},
   "source": [
    "#### Функция заполнения пропуска в данных\n",
    "\n",
    "Функция **friendly_filler** ищет в датафрейме **df** строки с пропущенными значениями столбца **target**, <br />\n",
    "для которых в **df** есть строки с таким же значением столбца **base** c непустыми значениями,<br />\n",
    "и заполняет их в зависимости от значения параметра **agg**:\n",
    "- *'none'* (по умолчанию) - первым непустым значением;\n",
    "- *'mode'* - наиболее популярным значением;\n",
    "- *'median'* - медианным значением;\n",
    "- *'mean'* - средним значением."
   ]
  },
  {
   "cell_type": "code",
   "execution_count": 6,
   "metadata": {},
   "outputs": [],
   "source": [
    "def friendly_filler(df, base, target, agg='none'):\n",
    "    \"\"\"\n",
    "    Заполняет пропущенные значения в целевом столбце (`target`) DataFrame (`df`) на основе\n",
    "    уникальных значений в базовом столбце (`base`). Метод заполнения определяется параметром `agg`,\n",
    "    который может принимать значения 'none', 'mode', 'median' или 'mean'.\n",
    "\n",
    "    Параметры:\n",
    "    df (pandas.DataFrame): DataFrame для обработки.\n",
    "    base (str): Имя столбца, на основе уникальных значений которого будет производиться заполнение.\n",
    "    target (str): Имя целевого столбца, в котором необходимо заполнить пропущенные значения.\n",
    "    agg (str, optional): Метод агрегации для заполнения пропущенных значений. \n",
    "                         'none' - использовать первое встречное непропущенное значение (по умолчанию),\n",
    "                         'mode' - использовать моду,\n",
    "                         'median' - использовать медиану,\n",
    "                         'mean' - использовать среднее значение.\n",
    "\n",
    "    Возвращает:\n",
    "    pandas.DataFrame: DataFrame с заполненными пропущенными значениями в целевом столбце.\n",
    "    \"\"\"\n",
    "    # Получение уникальных значений базового столбца с пропущенными и непропущенными значениями целевого столбца\n",
    "    target_no = df.query(target + '.isna()')[base].unique()\n",
    "    target_yes = df.query(target + '.notna()')[base].unique()\n",
    "    target_yes_no = pd.Series(list(set(target_yes).intersection(set(target_no))))\n",
    "    \n",
    "    for t in target_yes_no:\n",
    "        if agg == 'none':\n",
    "            x = list(df[(df[base] == t) & (df[target].notna())][target])[0]\n",
    "        elif agg == 'mode':\n",
    "            x = df[(df[base] == t) & (df[target].notna())][target].mode()[0]\n",
    "        elif agg == 'median':\n",
    "            x = df[(df[base] == t) & (df[target].notna())][target].median()\n",
    "        elif agg == 'mean':\n",
    "            x = df[(df[base] == t) & (df[target].notna())][target].mean()\n",
    "            \n",
    "        # Заполнение пропущенных значений найденным значением\n",
    "        df.loc[(df[base] == t) & (df[target].isna()), target] = x\n",
    "    \n",
    "    return df"
   ]
  },
  {
   "cell_type": "markdown",
   "metadata": {},
   "source": [
    "#### Загрузка данных"
   ]
  },
  {
   "cell_type": "code",
   "execution_count": 7,
   "metadata": {},
   "outputs": [],
   "source": [
    "try:\n",
    "    data = pd.read_csv('./autos.csv')\n",
    "except:\n",
    "    data = pd.read_csv('/datasets/autos.csv')"
   ]
  },
  {
   "cell_type": "markdown",
   "metadata": {},
   "source": [
    "#### Анализ датасета"
   ]
  },
  {
   "cell_type": "code",
   "execution_count": 8,
   "metadata": {
    "scrolled": true
   },
   "outputs": [
    {
     "name": "stdout",
     "output_type": "stream",
     "text": [
      "\u001b[1;4mОбъявления о продаже автомобилей\u001b[0m \n",
      "\n",
      "\u001b[1mКоличество записей:\u001b[0m\n"
     ]
    },
    {
     "data": {
      "text/plain": [
       "354369"
      ]
     },
     "metadata": {},
     "output_type": "display_data"
    },
    {
     "name": "stdout",
     "output_type": "stream",
     "text": [
      "\n",
      "\u001b[1mПервые 5 строк данных:\u001b[0m\n"
     ]
    },
    {
     "data": {
      "text/html": [
       "<div>\n",
       "<style scoped>\n",
       "    .dataframe tbody tr th:only-of-type {\n",
       "        vertical-align: middle;\n",
       "    }\n",
       "\n",
       "    .dataframe tbody tr th {\n",
       "        vertical-align: top;\n",
       "    }\n",
       "\n",
       "    .dataframe thead th {\n",
       "        text-align: right;\n",
       "    }\n",
       "</style>\n",
       "<table border=\"1\" class=\"dataframe\">\n",
       "  <thead>\n",
       "    <tr style=\"text-align: right;\">\n",
       "      <th></th>\n",
       "      <th>DateCrawled</th>\n",
       "      <th>Price</th>\n",
       "      <th>VehicleType</th>\n",
       "      <th>RegistrationYear</th>\n",
       "      <th>Gearbox</th>\n",
       "      <th>Power</th>\n",
       "      <th>Model</th>\n",
       "      <th>Kilometer</th>\n",
       "      <th>RegistrationMonth</th>\n",
       "      <th>FuelType</th>\n",
       "      <th>Brand</th>\n",
       "      <th>Repaired</th>\n",
       "      <th>DateCreated</th>\n",
       "      <th>NumberOfPictures</th>\n",
       "      <th>PostalCode</th>\n",
       "      <th>LastSeen</th>\n",
       "    </tr>\n",
       "  </thead>\n",
       "  <tbody>\n",
       "    <tr>\n",
       "      <th>0</th>\n",
       "      <td>2016-03-24 11:52:17</td>\n",
       "      <td>480</td>\n",
       "      <td>NaN</td>\n",
       "      <td>1993</td>\n",
       "      <td>manual</td>\n",
       "      <td>0</td>\n",
       "      <td>golf</td>\n",
       "      <td>150000</td>\n",
       "      <td>0</td>\n",
       "      <td>petrol</td>\n",
       "      <td>volkswagen</td>\n",
       "      <td>NaN</td>\n",
       "      <td>2016-03-24 00:00:00</td>\n",
       "      <td>0</td>\n",
       "      <td>70435</td>\n",
       "      <td>2016-04-07 03:16:57</td>\n",
       "    </tr>\n",
       "    <tr>\n",
       "      <th>1</th>\n",
       "      <td>2016-03-24 10:58:45</td>\n",
       "      <td>18300</td>\n",
       "      <td>coupe</td>\n",
       "      <td>2011</td>\n",
       "      <td>manual</td>\n",
       "      <td>190</td>\n",
       "      <td>NaN</td>\n",
       "      <td>125000</td>\n",
       "      <td>5</td>\n",
       "      <td>gasoline</td>\n",
       "      <td>audi</td>\n",
       "      <td>yes</td>\n",
       "      <td>2016-03-24 00:00:00</td>\n",
       "      <td>0</td>\n",
       "      <td>66954</td>\n",
       "      <td>2016-04-07 01:46:50</td>\n",
       "    </tr>\n",
       "    <tr>\n",
       "      <th>2</th>\n",
       "      <td>2016-03-14 12:52:21</td>\n",
       "      <td>9800</td>\n",
       "      <td>suv</td>\n",
       "      <td>2004</td>\n",
       "      <td>auto</td>\n",
       "      <td>163</td>\n",
       "      <td>grand</td>\n",
       "      <td>125000</td>\n",
       "      <td>8</td>\n",
       "      <td>gasoline</td>\n",
       "      <td>jeep</td>\n",
       "      <td>NaN</td>\n",
       "      <td>2016-03-14 00:00:00</td>\n",
       "      <td>0</td>\n",
       "      <td>90480</td>\n",
       "      <td>2016-04-05 12:47:46</td>\n",
       "    </tr>\n",
       "    <tr>\n",
       "      <th>3</th>\n",
       "      <td>2016-03-17 16:54:04</td>\n",
       "      <td>1500</td>\n",
       "      <td>small</td>\n",
       "      <td>2001</td>\n",
       "      <td>manual</td>\n",
       "      <td>75</td>\n",
       "      <td>golf</td>\n",
       "      <td>150000</td>\n",
       "      <td>6</td>\n",
       "      <td>petrol</td>\n",
       "      <td>volkswagen</td>\n",
       "      <td>no</td>\n",
       "      <td>2016-03-17 00:00:00</td>\n",
       "      <td>0</td>\n",
       "      <td>91074</td>\n",
       "      <td>2016-03-17 17:40:17</td>\n",
       "    </tr>\n",
       "    <tr>\n",
       "      <th>4</th>\n",
       "      <td>2016-03-31 17:25:20</td>\n",
       "      <td>3600</td>\n",
       "      <td>small</td>\n",
       "      <td>2008</td>\n",
       "      <td>manual</td>\n",
       "      <td>69</td>\n",
       "      <td>fabia</td>\n",
       "      <td>90000</td>\n",
       "      <td>7</td>\n",
       "      <td>gasoline</td>\n",
       "      <td>skoda</td>\n",
       "      <td>no</td>\n",
       "      <td>2016-03-31 00:00:00</td>\n",
       "      <td>0</td>\n",
       "      <td>60437</td>\n",
       "      <td>2016-04-06 10:17:21</td>\n",
       "    </tr>\n",
       "  </tbody>\n",
       "</table>\n",
       "</div>"
      ],
      "text/plain": [
       "           DateCrawled  Price VehicleType  RegistrationYear Gearbox  Power  \\\n",
       "0  2016-03-24 11:52:17    480         NaN              1993  manual      0   \n",
       "1  2016-03-24 10:58:45  18300       coupe              2011  manual    190   \n",
       "2  2016-03-14 12:52:21   9800         suv              2004    auto    163   \n",
       "3  2016-03-17 16:54:04   1500       small              2001  manual     75   \n",
       "4  2016-03-31 17:25:20   3600       small              2008  manual     69   \n",
       "\n",
       "   Model  Kilometer  RegistrationMonth  FuelType       Brand Repaired  \\\n",
       "0   golf     150000                  0    petrol  volkswagen      NaN   \n",
       "1    NaN     125000                  5  gasoline        audi      yes   \n",
       "2  grand     125000                  8  gasoline        jeep      NaN   \n",
       "3   golf     150000                  6    petrol  volkswagen       no   \n",
       "4  fabia      90000                  7  gasoline       skoda       no   \n",
       "\n",
       "           DateCreated  NumberOfPictures  PostalCode             LastSeen  \n",
       "0  2016-03-24 00:00:00                 0       70435  2016-04-07 03:16:57  \n",
       "1  2016-03-24 00:00:00                 0       66954  2016-04-07 01:46:50  \n",
       "2  2016-03-14 00:00:00                 0       90480  2016-04-05 12:47:46  \n",
       "3  2016-03-17 00:00:00                 0       91074  2016-03-17 17:40:17  \n",
       "4  2016-03-31 00:00:00                 0       60437  2016-04-06 10:17:21  "
      ]
     },
     "metadata": {},
     "output_type": "display_data"
    },
    {
     "name": "stdout",
     "output_type": "stream",
     "text": [
      "\n",
      "\u001b[1mИнформация о датафрейме:\u001b[0m\n",
      "\n",
      "<class 'pandas.core.frame.DataFrame'>\n",
      "RangeIndex: 354369 entries, 0 to 354368\n",
      "Data columns (total 16 columns):\n",
      " #   Column             Non-Null Count   Dtype \n",
      "---  ------             --------------   ----- \n",
      " 0   DateCrawled        354369 non-null  object\n",
      " 1   Price              354369 non-null  int64 \n",
      " 2   VehicleType        316879 non-null  object\n",
      " 3   RegistrationYear   354369 non-null  int64 \n",
      " 4   Gearbox            334536 non-null  object\n",
      " 5   Power              354369 non-null  int64 \n",
      " 6   Model              334664 non-null  object\n",
      " 7   Kilometer          354369 non-null  int64 \n",
      " 8   RegistrationMonth  354369 non-null  int64 \n",
      " 9   FuelType           321474 non-null  object\n",
      " 10  Brand              354369 non-null  object\n",
      " 11  Repaired           283215 non-null  object\n",
      " 12  DateCreated        354369 non-null  object\n",
      " 13  NumberOfPictures   354369 non-null  int64 \n",
      " 14  PostalCode         354369 non-null  int64 \n",
      " 15  LastSeen           354369 non-null  object\n",
      "dtypes: int64(7), object(9)\n",
      "memory usage: 43.3+ MB\n"
     ]
    },
    {
     "data": {
      "text/plain": [
       "None"
      ]
     },
     "metadata": {},
     "output_type": "display_data"
    },
    {
     "name": "stdout",
     "output_type": "stream",
     "text": [
      "\u001b[1mДубликаты:\u001b[0m\n",
      "Обнаружено дубликатов: 4\n",
      "\n",
      "\u001b[1mОписание данных в столбцах с числовыми значениями:\u001b[0m\n"
     ]
    },
    {
     "data": {
      "text/html": [
       "<div>\n",
       "<style scoped>\n",
       "    .dataframe tbody tr th:only-of-type {\n",
       "        vertical-align: middle;\n",
       "    }\n",
       "\n",
       "    .dataframe tbody tr th {\n",
       "        vertical-align: top;\n",
       "    }\n",
       "\n",
       "    .dataframe thead th {\n",
       "        text-align: right;\n",
       "    }\n",
       "</style>\n",
       "<table border=\"1\" class=\"dataframe\">\n",
       "  <thead>\n",
       "    <tr style=\"text-align: right;\">\n",
       "      <th></th>\n",
       "      <th>count</th>\n",
       "      <th>mean</th>\n",
       "      <th>std</th>\n",
       "      <th>min</th>\n",
       "      <th>25%</th>\n",
       "      <th>50%</th>\n",
       "      <th>75%</th>\n",
       "      <th>max</th>\n",
       "    </tr>\n",
       "  </thead>\n",
       "  <tbody>\n",
       "    <tr>\n",
       "      <th>Price</th>\n",
       "      <td>354,369.00</td>\n",
       "      <td>4,416.66</td>\n",
       "      <td>4,514.16</td>\n",
       "      <td>0.00</td>\n",
       "      <td>1,050.00</td>\n",
       "      <td>2,700.00</td>\n",
       "      <td>6,400.00</td>\n",
       "      <td>20,000.00</td>\n",
       "    </tr>\n",
       "    <tr>\n",
       "      <th>RegistrationYear</th>\n",
       "      <td>354,369.00</td>\n",
       "      <td>2,004.23</td>\n",
       "      <td>90.23</td>\n",
       "      <td>1,000.00</td>\n",
       "      <td>1,999.00</td>\n",
       "      <td>2,003.00</td>\n",
       "      <td>2,008.00</td>\n",
       "      <td>9,999.00</td>\n",
       "    </tr>\n",
       "    <tr>\n",
       "      <th>Power</th>\n",
       "      <td>354,369.00</td>\n",
       "      <td>110.09</td>\n",
       "      <td>189.85</td>\n",
       "      <td>0.00</td>\n",
       "      <td>69.00</td>\n",
       "      <td>105.00</td>\n",
       "      <td>143.00</td>\n",
       "      <td>20,000.00</td>\n",
       "    </tr>\n",
       "    <tr>\n",
       "      <th>Kilometer</th>\n",
       "      <td>354,369.00</td>\n",
       "      <td>128,211.17</td>\n",
       "      <td>37,905.34</td>\n",
       "      <td>5,000.00</td>\n",
       "      <td>125,000.00</td>\n",
       "      <td>150,000.00</td>\n",
       "      <td>150,000.00</td>\n",
       "      <td>150,000.00</td>\n",
       "    </tr>\n",
       "    <tr>\n",
       "      <th>RegistrationMonth</th>\n",
       "      <td>354,369.00</td>\n",
       "      <td>5.71</td>\n",
       "      <td>3.73</td>\n",
       "      <td>0.00</td>\n",
       "      <td>3.00</td>\n",
       "      <td>6.00</td>\n",
       "      <td>9.00</td>\n",
       "      <td>12.00</td>\n",
       "    </tr>\n",
       "    <tr>\n",
       "      <th>NumberOfPictures</th>\n",
       "      <td>354,369.00</td>\n",
       "      <td>0.00</td>\n",
       "      <td>0.00</td>\n",
       "      <td>0.00</td>\n",
       "      <td>0.00</td>\n",
       "      <td>0.00</td>\n",
       "      <td>0.00</td>\n",
       "      <td>0.00</td>\n",
       "    </tr>\n",
       "    <tr>\n",
       "      <th>PostalCode</th>\n",
       "      <td>354,369.00</td>\n",
       "      <td>50,508.69</td>\n",
       "      <td>25,783.10</td>\n",
       "      <td>1,067.00</td>\n",
       "      <td>30,165.00</td>\n",
       "      <td>49,413.00</td>\n",
       "      <td>71,083.00</td>\n",
       "      <td>99,998.00</td>\n",
       "    </tr>\n",
       "  </tbody>\n",
       "</table>\n",
       "</div>"
      ],
      "text/plain": [
       "                       count       mean       std      min        25%  \\\n",
       "Price             354,369.00   4,416.66  4,514.16     0.00   1,050.00   \n",
       "RegistrationYear  354,369.00   2,004.23     90.23 1,000.00   1,999.00   \n",
       "Power             354,369.00     110.09    189.85     0.00      69.00   \n",
       "Kilometer         354,369.00 128,211.17 37,905.34 5,000.00 125,000.00   \n",
       "RegistrationMonth 354,369.00       5.71      3.73     0.00       3.00   \n",
       "NumberOfPictures  354,369.00       0.00      0.00     0.00       0.00   \n",
       "PostalCode        354,369.00  50,508.69 25,783.10 1,067.00  30,165.00   \n",
       "\n",
       "                         50%        75%        max  \n",
       "Price               2,700.00   6,400.00  20,000.00  \n",
       "RegistrationYear    2,003.00   2,008.00   9,999.00  \n",
       "Power                 105.00     143.00  20,000.00  \n",
       "Kilometer         150,000.00 150,000.00 150,000.00  \n",
       "RegistrationMonth       6.00       9.00      12.00  \n",
       "NumberOfPictures        0.00       0.00       0.00  \n",
       "PostalCode         49,413.00  71,083.00  99,998.00  "
      ]
     },
     "metadata": {},
     "output_type": "display_data"
    },
    {
     "name": "stdout",
     "output_type": "stream",
     "text": [
      "\u001b[1mДиаграмма рассеивания:\u001b[0m\n"
     ]
    },
    {
     "data": {
      "image/png": "[encoded data removed]",
      "text/plain": [
       "<Figure size 1152x1152 with 16 Axes>"
      ]
     },
     "metadata": {
      "needs_background": "light"
     },
     "output_type": "display_data"
    },
    {
     "name": "stdout",
     "output_type": "stream",
     "text": [
      "\u001b[1mКорелляция данных:\u001b[0m\n"
     ]
    },
    {
     "data": {
      "image/png": "[encoded data removed]",
      "text/plain": [
       "<Figure size 1152x432 with 2 Axes>"
      ]
     },
     "metadata": {
      "needs_background": "light"
     },
     "output_type": "display_data"
    },
    {
     "name": "stdout",
     "output_type": "stream",
     "text": [
      "\u001b[1mСтолбцы:\u001b[0m \n",
      "\n",
      "\u001b[1;3mDateCrawled - дата скачивания анкеты из базы\u001b[0m\n",
      "\n",
      "\u001b[4mОписание данных:\u001b[0m\n",
      "count                  354369\n",
      "unique                 271174\n",
      "top       2016-03-24 14:49:47\n",
      "freq                        7\n",
      "Name: DateCrawled, dtype: object\n",
      "\u001b[4mКоличество записей:\u001b[0m 354369 из 354369\n",
      "\u001b[4m\n",
      "Тип:\n",
      "\u001b[0m <class 'str'>\n",
      "\n",
      "\u001b[1;3mPrice - цена (евро)\u001b[0m\n",
      "\n",
      "\u001b[4mОписание данных:\u001b[0m\n",
      "count   354,369.00\n",
      "mean      4,416.66\n",
      "std       4,514.16\n",
      "min           0.00\n",
      "25%       1,050.00\n",
      "50%       2,700.00\n",
      "75%       6,400.00\n",
      "max      20,000.00\n",
      "Name: Price, dtype: float64\n",
      "\u001b[4mКоличество записей:\u001b[0m 354369 из 354369\n",
      "\u001b[4m\n",
      "Тип:\n",
      "\u001b[0m <class 'numpy.int64'>\n",
      "\u001b[4m\n",
      "Гистограмма значений:\u001b[0m\n"
     ]
    },
    {
     "data": {
      "image/png": "[encoded data removed]",
      "text/plain": [
       "<Figure size 864x360 with 1 Axes>"
      ]
     },
     "metadata": {
      "needs_background": "light"
     },
     "output_type": "display_data"
    },
    {
     "name": "stdout",
     "output_type": "stream",
     "text": [
      "\n",
      "\u001b[1;3mVehicleType - тип автомобильного кузова\u001b[0m\n",
      "\n",
      "\u001b[4mОписание данных:\u001b[0m\n",
      "count     316879\n",
      "unique         8\n",
      "top        sedan\n",
      "freq       91457\n",
      "Name: VehicleType, dtype: object\n",
      "\u001b[4mКоличество записей:\u001b[0m 316879 из 354369\n",
      "\u001b[4mПропущено:\u001b[0m 37490\n",
      "\n",
      "\u001b[4m\n",
      "Тип:\n",
      "\u001b[0m <class 'float'>\n",
      "\u001b[4m\n",
      "Распределение уникальных значений (первые 10 значений в порядке убывания):\u001b[0m\n"
     ]
    },
    {
     "data": {
      "text/html": [
       "<div>\n",
       "<style scoped>\n",
       "    .dataframe tbody tr th:only-of-type {\n",
       "        vertical-align: middle;\n",
       "    }\n",
       "\n",
       "    .dataframe tbody tr th {\n",
       "        vertical-align: top;\n",
       "    }\n",
       "\n",
       "    .dataframe thead th {\n",
       "        text-align: right;\n",
       "    }\n",
       "</style>\n",
       "<table border=\"1\" class=\"dataframe\">\n",
       "  <thead>\n",
       "    <tr style=\"text-align: right;\">\n",
       "      <th></th>\n",
       "      <th>VehicleType</th>\n",
       "      <th>cnt</th>\n",
       "    </tr>\n",
       "  </thead>\n",
       "  <tbody>\n",
       "    <tr>\n",
       "      <th>0</th>\n",
       "      <td>sedan</td>\n",
       "      <td>91457</td>\n",
       "    </tr>\n",
       "    <tr>\n",
       "      <th>1</th>\n",
       "      <td>small</td>\n",
       "      <td>79831</td>\n",
       "    </tr>\n",
       "    <tr>\n",
       "      <th>2</th>\n",
       "      <td>wagon</td>\n",
       "      <td>65166</td>\n",
       "    </tr>\n",
       "    <tr>\n",
       "      <th>3</th>\n",
       "      <td>bus</td>\n",
       "      <td>28775</td>\n",
       "    </tr>\n",
       "    <tr>\n",
       "      <th>4</th>\n",
       "      <td>convertible</td>\n",
       "      <td>20203</td>\n",
       "    </tr>\n",
       "    <tr>\n",
       "      <th>5</th>\n",
       "      <td>coupe</td>\n",
       "      <td>16163</td>\n",
       "    </tr>\n",
       "    <tr>\n",
       "      <th>6</th>\n",
       "      <td>suv</td>\n",
       "      <td>11996</td>\n",
       "    </tr>\n",
       "    <tr>\n",
       "      <th>7</th>\n",
       "      <td>other</td>\n",
       "      <td>3288</td>\n",
       "    </tr>\n",
       "  </tbody>\n",
       "</table>\n",
       "</div>"
      ],
      "text/plain": [
       "   VehicleType    cnt\n",
       "0        sedan  91457\n",
       "1        small  79831\n",
       "2        wagon  65166\n",
       "3          bus  28775\n",
       "4  convertible  20203\n",
       "5        coupe  16163\n",
       "6          suv  11996\n",
       "7        other   3288"
      ]
     },
     "metadata": {},
     "output_type": "display_data"
    },
    {
     "name": "stdout",
     "output_type": "stream",
     "text": [
      "\u001b[4m\n",
      "Гистограмма значений:\u001b[0m\n"
     ]
    },
    {
     "data": {
      "image/png": "[encoded data removed]",
      "text/plain": [
       "<Figure size 864x360 with 1 Axes>"
      ]
     },
     "metadata": {
      "needs_background": "light"
     },
     "output_type": "display_data"
    },
    {
     "name": "stdout",
     "output_type": "stream",
     "text": [
      "\n",
      "\u001b[1;3mRegistrationYear - год регистрации автомобиля\u001b[0m\n",
      "\n",
      "\u001b[4mОписание данных:\u001b[0m\n",
      "count   354,369.00\n",
      "mean      2,004.23\n",
      "std          90.23\n",
      "min       1,000.00\n",
      "25%       1,999.00\n",
      "50%       2,003.00\n",
      "75%       2,008.00\n",
      "max       9,999.00\n",
      "Name: RegistrationYear, dtype: float64\n",
      "\u001b[4mКоличество записей:\u001b[0m 354369 из 354369\n",
      "\u001b[4m\n",
      "Тип:\n",
      "\u001b[0m <class 'numpy.int64'>\n",
      "\u001b[4m\n",
      "Гистограмма значений:\u001b[0m\n"
     ]
    },
    {
     "data": {
      "image/png": "[encoded data removed]",
      "text/plain": [
       "<Figure size 864x360 with 1 Axes>"
      ]
     },
     "metadata": {
      "needs_background": "light"
     },
     "output_type": "display_data"
    },
    {
     "name": "stdout",
     "output_type": "stream",
     "text": [
      "\n",
      "\u001b[1;3mGearbox - тип коробки передач\u001b[0m\n",
      "\n",
      "\u001b[4mОписание данных:\u001b[0m\n",
      "count     334536\n",
      "unique         2\n",
      "top       manual\n",
      "freq      268251\n",
      "Name: Gearbox, dtype: object\n",
      "\u001b[4mКоличество записей:\u001b[0m 334536 из 354369\n",
      "\u001b[4mПропущено:\u001b[0m 19833\n",
      "\n",
      "\u001b[4m\n",
      "Тип:\n",
      "\u001b[0m <class 'str'>\n",
      "\u001b[4m\n",
      "Распределение уникальных значений (первые 10 значений в порядке убывания):\u001b[0m\n"
     ]
    },
    {
     "data": {
      "text/html": [
       "<div>\n",
       "<style scoped>\n",
       "    .dataframe tbody tr th:only-of-type {\n",
       "        vertical-align: middle;\n",
       "    }\n",
       "\n",
       "    .dataframe tbody tr th {\n",
       "        vertical-align: top;\n",
       "    }\n",
       "\n",
       "    .dataframe thead th {\n",
       "        text-align: right;\n",
       "    }\n",
       "</style>\n",
       "<table border=\"1\" class=\"dataframe\">\n",
       "  <thead>\n",
       "    <tr style=\"text-align: right;\">\n",
       "      <th></th>\n",
       "      <th>Gearbox</th>\n",
       "      <th>cnt</th>\n",
       "    </tr>\n",
       "  </thead>\n",
       "  <tbody>\n",
       "    <tr>\n",
       "      <th>0</th>\n",
       "      <td>manual</td>\n",
       "      <td>268251</td>\n",
       "    </tr>\n",
       "    <tr>\n",
       "      <th>1</th>\n",
       "      <td>auto</td>\n",
       "      <td>66285</td>\n",
       "    </tr>\n",
       "  </tbody>\n",
       "</table>\n",
       "</div>"
      ],
      "text/plain": [
       "  Gearbox     cnt\n",
       "0  manual  268251\n",
       "1    auto   66285"
      ]
     },
     "metadata": {},
     "output_type": "display_data"
    },
    {
     "name": "stdout",
     "output_type": "stream",
     "text": [
      "\u001b[4m\n",
      "Гистограмма значений:\u001b[0m\n"
     ]
    },
    {
     "data": {
      "image/png": "[encoded data removed]",
      "text/plain": [
       "<Figure size 864x360 with 1 Axes>"
      ]
     },
     "metadata": {
      "needs_background": "light"
     },
     "output_type": "display_data"
    },
    {
     "name": "stdout",
     "output_type": "stream",
     "text": [
      "\n",
      "\u001b[1;3mPower - мощность (л. с.)\u001b[0m\n",
      "\n",
      "\u001b[4mОписание данных:\u001b[0m\n",
      "count   354,369.00\n",
      "mean        110.09\n",
      "std         189.85\n",
      "min           0.00\n",
      "25%          69.00\n",
      "50%         105.00\n",
      "75%         143.00\n",
      "max      20,000.00\n",
      "Name: Power, dtype: float64\n",
      "\u001b[4mКоличество записей:\u001b[0m 354369 из 354369\n",
      "\u001b[4m\n",
      "Тип:\n",
      "\u001b[0m <class 'numpy.int64'>\n",
      "\u001b[4m\n",
      "Гистограмма значений:\u001b[0m\n"
     ]
    },
    {
     "data": {
      "image/png": "[encoded data removed]",
      "text/plain": [
       "<Figure size 864x360 with 1 Axes>"
      ]
     },
     "metadata": {
      "needs_background": "light"
     },
     "output_type": "display_data"
    },
    {
     "name": "stdout",
     "output_type": "stream",
     "text": [
      "\n",
      "\u001b[1;3mModel - модель автомобиля\u001b[0m\n",
      "\n",
      "\u001b[4mОписание данных:\u001b[0m\n",
      "count     334664\n",
      "unique       250\n",
      "top         golf\n",
      "freq       29232\n",
      "Name: Model, dtype: object\n",
      "\u001b[4mКоличество записей:\u001b[0m 334664 из 354369\n",
      "\u001b[4mПропущено:\u001b[0m 19705\n",
      "\n",
      "\u001b[4m\n",
      "Тип:\n",
      "\u001b[0m <class 'str'>\n",
      "\n",
      "\u001b[1;3mKilometer - пробег (км)\u001b[0m\n",
      "\n",
      "\u001b[4mОписание данных:\u001b[0m\n",
      "count   354,369.00\n",
      "mean    128,211.17\n",
      "std      37,905.34\n",
      "min       5,000.00\n",
      "25%     125,000.00\n",
      "50%     150,000.00\n",
      "75%     150,000.00\n",
      "max     150,000.00\n",
      "Name: Kilometer, dtype: float64\n",
      "\u001b[4mКоличество записей:\u001b[0m 354369 из 354369\n",
      "\u001b[4m\n",
      "Тип:\n",
      "\u001b[0m <class 'numpy.int64'>\n",
      "\u001b[4m\n",
      "Гистограмма значений:\u001b[0m\n"
     ]
    },
    {
     "data": {
      "image/png": "[encoded data removed]",
      "text/plain": [
       "<Figure size 864x360 with 1 Axes>"
      ]
     },
     "metadata": {
      "needs_background": "light"
     },
     "output_type": "display_data"
    },
    {
     "name": "stdout",
     "output_type": "stream",
     "text": [
      "\n",
      "\u001b[1;3mRegistrationMonth - месяц регистрации автомобиля\u001b[0m\n",
      "\n",
      "\u001b[4mОписание данных:\u001b[0m\n",
      "count   354,369.00\n",
      "mean          5.71\n",
      "std           3.73\n",
      "min           0.00\n",
      "25%           3.00\n",
      "50%           6.00\n",
      "75%           9.00\n",
      "max          12.00\n",
      "Name: RegistrationMonth, dtype: float64\n",
      "\u001b[4mКоличество записей:\u001b[0m 354369 из 354369\n",
      "\u001b[4m\n",
      "Тип:\n",
      "\u001b[0m <class 'numpy.int64'>\n",
      "\u001b[4m\n",
      "Распределение уникальных значений (первые 10 значений в порядке убывания):\u001b[0m\n"
     ]
    },
    {
     "data": {
      "text/html": [
       "<div>\n",
       "<style scoped>\n",
       "    .dataframe tbody tr th:only-of-type {\n",
       "        vertical-align: middle;\n",
       "    }\n",
       "\n",
       "    .dataframe tbody tr th {\n",
       "        vertical-align: top;\n",
       "    }\n",
       "\n",
       "    .dataframe thead th {\n",
       "        text-align: right;\n",
       "    }\n",
       "</style>\n",
       "<table border=\"1\" class=\"dataframe\">\n",
       "  <thead>\n",
       "    <tr style=\"text-align: right;\">\n",
       "      <th></th>\n",
       "      <th>RegistrationMonth</th>\n",
       "      <th>cnt</th>\n",
       "    </tr>\n",
       "  </thead>\n",
       "  <tbody>\n",
       "    <tr>\n",
       "      <th>0</th>\n",
       "      <td>0</td>\n",
       "      <td>37352</td>\n",
       "    </tr>\n",
       "    <tr>\n",
       "      <th>1</th>\n",
       "      <td>3</td>\n",
       "      <td>34373</td>\n",
       "    </tr>\n",
       "    <tr>\n",
       "      <th>2</th>\n",
       "      <td>6</td>\n",
       "      <td>31508</td>\n",
       "    </tr>\n",
       "    <tr>\n",
       "      <th>3</th>\n",
       "      <td>4</td>\n",
       "      <td>29270</td>\n",
       "    </tr>\n",
       "    <tr>\n",
       "      <th>4</th>\n",
       "      <td>5</td>\n",
       "      <td>29153</td>\n",
       "    </tr>\n",
       "    <tr>\n",
       "      <th>5</th>\n",
       "      <td>7</td>\n",
       "      <td>27213</td>\n",
       "    </tr>\n",
       "    <tr>\n",
       "      <th>6</th>\n",
       "      <td>10</td>\n",
       "      <td>26099</td>\n",
       "    </tr>\n",
       "    <tr>\n",
       "      <th>7</th>\n",
       "      <td>12</td>\n",
       "      <td>24289</td>\n",
       "    </tr>\n",
       "    <tr>\n",
       "      <th>8</th>\n",
       "      <td>11</td>\n",
       "      <td>24186</td>\n",
       "    </tr>\n",
       "    <tr>\n",
       "      <th>9</th>\n",
       "      <td>9</td>\n",
       "      <td>23813</td>\n",
       "    </tr>\n",
       "  </tbody>\n",
       "</table>\n",
       "</div>"
      ],
      "text/plain": [
       "   RegistrationMonth    cnt\n",
       "0                  0  37352\n",
       "1                  3  34373\n",
       "2                  6  31508\n",
       "3                  4  29270\n",
       "4                  5  29153\n",
       "5                  7  27213\n",
       "6                 10  26099\n",
       "7                 12  24289\n",
       "8                 11  24186\n",
       "9                  9  23813"
      ]
     },
     "metadata": {},
     "output_type": "display_data"
    },
    {
     "name": "stdout",
     "output_type": "stream",
     "text": [
      "\u001b[4m\n",
      "Гистограмма значений:\u001b[0m\n"
     ]
    },
    {
     "data": {
      "image/png": "[encoded data removed]",
      "text/plain": [
       "<Figure size 864x360 with 1 Axes>"
      ]
     },
     "metadata": {
      "needs_background": "light"
     },
     "output_type": "display_data"
    },
    {
     "name": "stdout",
     "output_type": "stream",
     "text": [
      "\n",
      "\u001b[1;3mFuelType - тип топлива\u001b[0m\n",
      "\n",
      "\u001b[4mОписание данных:\u001b[0m\n",
      "count     321474\n",
      "unique         7\n",
      "top       petrol\n",
      "freq      216352\n",
      "Name: FuelType, dtype: object\n",
      "\u001b[4mКоличество записей:\u001b[0m 321474 из 354369\n",
      "\u001b[4mПропущено:\u001b[0m 32895\n",
      "\n",
      "\u001b[4m\n",
      "Тип:\n",
      "\u001b[0m <class 'str'>\n",
      "\u001b[4m\n",
      "Распределение уникальных значений (первые 10 значений в порядке убывания):\u001b[0m\n"
     ]
    },
    {
     "data": {
      "text/html": [
       "<div>\n",
       "<style scoped>\n",
       "    .dataframe tbody tr th:only-of-type {\n",
       "        vertical-align: middle;\n",
       "    }\n",
       "\n",
       "    .dataframe tbody tr th {\n",
       "        vertical-align: top;\n",
       "    }\n",
       "\n",
       "    .dataframe thead th {\n",
       "        text-align: right;\n",
       "    }\n",
       "</style>\n",
       "<table border=\"1\" class=\"dataframe\">\n",
       "  <thead>\n",
       "    <tr style=\"text-align: right;\">\n",
       "      <th></th>\n",
       "      <th>FuelType</th>\n",
       "      <th>cnt</th>\n",
       "    </tr>\n",
       "  </thead>\n",
       "  <tbody>\n",
       "    <tr>\n",
       "      <th>0</th>\n",
       "      <td>petrol</td>\n",
       "      <td>216352</td>\n",
       "    </tr>\n",
       "    <tr>\n",
       "      <th>1</th>\n",
       "      <td>gasoline</td>\n",
       "      <td>98720</td>\n",
       "    </tr>\n",
       "    <tr>\n",
       "      <th>2</th>\n",
       "      <td>lpg</td>\n",
       "      <td>5310</td>\n",
       "    </tr>\n",
       "    <tr>\n",
       "      <th>3</th>\n",
       "      <td>cng</td>\n",
       "      <td>565</td>\n",
       "    </tr>\n",
       "    <tr>\n",
       "      <th>4</th>\n",
       "      <td>hybrid</td>\n",
       "      <td>233</td>\n",
       "    </tr>\n",
       "    <tr>\n",
       "      <th>5</th>\n",
       "      <td>other</td>\n",
       "      <td>204</td>\n",
       "    </tr>\n",
       "    <tr>\n",
       "      <th>6</th>\n",
       "      <td>electric</td>\n",
       "      <td>90</td>\n",
       "    </tr>\n",
       "  </tbody>\n",
       "</table>\n",
       "</div>"
      ],
      "text/plain": [
       "   FuelType     cnt\n",
       "0    petrol  216352\n",
       "1  gasoline   98720\n",
       "2       lpg    5310\n",
       "3       cng     565\n",
       "4    hybrid     233\n",
       "5     other     204\n",
       "6  electric      90"
      ]
     },
     "metadata": {},
     "output_type": "display_data"
    },
    {
     "name": "stdout",
     "output_type": "stream",
     "text": [
      "\u001b[4m\n",
      "Гистограмма значений:\u001b[0m\n"
     ]
    },
    {
     "data": {
      "image/png": "[encoded data removed]",
      "text/plain": [
       "<Figure size 864x360 with 1 Axes>"
      ]
     },
     "metadata": {
      "needs_background": "light"
     },
     "output_type": "display_data"
    },
    {
     "name": "stdout",
     "output_type": "stream",
     "text": [
      "\n",
      "\u001b[1;3mBrand - марка автомобиля\u001b[0m\n",
      "\n",
      "\u001b[4mОписание данных:\u001b[0m\n",
      "count         354369\n",
      "unique            40\n",
      "top       volkswagen\n",
      "freq           77013\n",
      "Name: Brand, dtype: object\n",
      "\u001b[4mКоличество записей:\u001b[0m 354369 из 354369\n",
      "\u001b[4m\n",
      "Тип:\n",
      "\u001b[0m <class 'str'>\n",
      "\u001b[4m\n",
      "Распределение уникальных значений (первые 10 значений в порядке убывания):\u001b[0m\n"
     ]
    },
    {
     "data": {
      "text/html": [
       "<div>\n",
       "<style scoped>\n",
       "    .dataframe tbody tr th:only-of-type {\n",
       "        vertical-align: middle;\n",
       "    }\n",
       "\n",
       "    .dataframe tbody tr th {\n",
       "        vertical-align: top;\n",
       "    }\n",
       "\n",
       "    .dataframe thead th {\n",
       "        text-align: right;\n",
       "    }\n",
       "</style>\n",
       "<table border=\"1\" class=\"dataframe\">\n",
       "  <thead>\n",
       "    <tr style=\"text-align: right;\">\n",
       "      <th></th>\n",
       "      <th>Brand</th>\n",
       "      <th>cnt</th>\n",
       "    </tr>\n",
       "  </thead>\n",
       "  <tbody>\n",
       "    <tr>\n",
       "      <th>0</th>\n",
       "      <td>volkswagen</td>\n",
       "      <td>77013</td>\n",
       "    </tr>\n",
       "    <tr>\n",
       "      <th>1</th>\n",
       "      <td>opel</td>\n",
       "      <td>39931</td>\n",
       "    </tr>\n",
       "    <tr>\n",
       "      <th>2</th>\n",
       "      <td>bmw</td>\n",
       "      <td>36914</td>\n",
       "    </tr>\n",
       "    <tr>\n",
       "      <th>3</th>\n",
       "      <td>mercedes_benz</td>\n",
       "      <td>32046</td>\n",
       "    </tr>\n",
       "    <tr>\n",
       "      <th>4</th>\n",
       "      <td>audi</td>\n",
       "      <td>29456</td>\n",
       "    </tr>\n",
       "    <tr>\n",
       "      <th>5</th>\n",
       "      <td>ford</td>\n",
       "      <td>25179</td>\n",
       "    </tr>\n",
       "    <tr>\n",
       "      <th>6</th>\n",
       "      <td>renault</td>\n",
       "      <td>17927</td>\n",
       "    </tr>\n",
       "    <tr>\n",
       "      <th>7</th>\n",
       "      <td>peugeot</td>\n",
       "      <td>10998</td>\n",
       "    </tr>\n",
       "    <tr>\n",
       "      <th>8</th>\n",
       "      <td>fiat</td>\n",
       "      <td>9643</td>\n",
       "    </tr>\n",
       "    <tr>\n",
       "      <th>9</th>\n",
       "      <td>seat</td>\n",
       "      <td>6907</td>\n",
       "    </tr>\n",
       "  </tbody>\n",
       "</table>\n",
       "</div>"
      ],
      "text/plain": [
       "           Brand    cnt\n",
       "0     volkswagen  77013\n",
       "1           opel  39931\n",
       "2            bmw  36914\n",
       "3  mercedes_benz  32046\n",
       "4           audi  29456\n",
       "5           ford  25179\n",
       "6        renault  17927\n",
       "7        peugeot  10998\n",
       "8           fiat   9643\n",
       "9           seat   6907"
      ]
     },
     "metadata": {},
     "output_type": "display_data"
    },
    {
     "name": "stdout",
     "output_type": "stream",
     "text": [
      "\u001b[4m\n",
      "Гистограмма значений:\u001b[0m\n"
     ]
    },
    {
     "data": {
      "image/png": "[encoded data removed]",
      "text/plain": [
       "<Figure size 864x360 with 1 Axes>"
      ]
     },
     "metadata": {
      "needs_background": "light"
     },
     "output_type": "display_data"
    },
    {
     "name": "stdout",
     "output_type": "stream",
     "text": [
      "\n",
      "\u001b[1;3mRepaired - была машина в ремонте или нет\u001b[0m\n",
      "\n",
      "\u001b[4mОписание данных:\u001b[0m\n",
      "count     283215\n",
      "unique         2\n",
      "top           no\n",
      "freq      247161\n",
      "Name: Repaired, dtype: object\n",
      "\u001b[4mКоличество записей:\u001b[0m 283215 из 354369\n",
      "\u001b[4mПропущено:\u001b[0m 71154\n",
      "\n",
      "\u001b[4m\n",
      "Тип:\n",
      "\u001b[0m <class 'float'>\n",
      "\u001b[4m\n",
      "Распределение уникальных значений (первые 10 значений в порядке убывания):\u001b[0m\n"
     ]
    },
    {
     "data": {
      "text/html": [
       "<div>\n",
       "<style scoped>\n",
       "    .dataframe tbody tr th:only-of-type {\n",
       "        vertical-align: middle;\n",
       "    }\n",
       "\n",
       "    .dataframe tbody tr th {\n",
       "        vertical-align: top;\n",
       "    }\n",
       "\n",
       "    .dataframe thead th {\n",
       "        text-align: right;\n",
       "    }\n",
       "</style>\n",
       "<table border=\"1\" class=\"dataframe\">\n",
       "  <thead>\n",
       "    <tr style=\"text-align: right;\">\n",
       "      <th></th>\n",
       "      <th>Repaired</th>\n",
       "      <th>cnt</th>\n",
       "    </tr>\n",
       "  </thead>\n",
       "  <tbody>\n",
       "    <tr>\n",
       "      <th>0</th>\n",
       "      <td>no</td>\n",
       "      <td>247161</td>\n",
       "    </tr>\n",
       "    <tr>\n",
       "      <th>1</th>\n",
       "      <td>yes</td>\n",
       "      <td>36054</td>\n",
       "    </tr>\n",
       "  </tbody>\n",
       "</table>\n",
       "</div>"
      ],
      "text/plain": [
       "  Repaired     cnt\n",
       "0       no  247161\n",
       "1      yes   36054"
      ]
     },
     "metadata": {},
     "output_type": "display_data"
    },
    {
     "name": "stdout",
     "output_type": "stream",
     "text": [
      "\u001b[4m\n",
      "Гистограмма значений:\u001b[0m\n"
     ]
    },
    {
     "data": {
      "image/png": "[encoded data removed]",
      "text/plain": [
       "<Figure size 864x360 with 1 Axes>"
      ]
     },
     "metadata": {
      "needs_background": "light"
     },
     "output_type": "display_data"
    },
    {
     "name": "stdout",
     "output_type": "stream",
     "text": [
      "\n",
      "\u001b[1;3mDateCreated - дата создания анкеты\u001b[0m\n",
      "\n",
      "\u001b[4mОписание данных:\u001b[0m\n",
      "count                  354369\n",
      "unique                    109\n",
      "top       2016-04-03 00:00:00\n",
      "freq                    13719\n",
      "Name: DateCreated, dtype: object\n",
      "\u001b[4mКоличество записей:\u001b[0m 354369 из 354369\n",
      "\u001b[4m\n",
      "Тип:\n",
      "\u001b[0m <class 'str'>\n",
      "\n",
      "\u001b[1;3mNumberOfPictures - количество фотографий автомобиля\u001b[0m\n",
      "\n",
      "\u001b[4mОписание данных:\u001b[0m\n",
      "count   354,369.00\n",
      "mean          0.00\n",
      "std           0.00\n",
      "min           0.00\n",
      "25%           0.00\n",
      "50%           0.00\n",
      "75%           0.00\n",
      "max           0.00\n",
      "Name: NumberOfPictures, dtype: float64\n",
      "\u001b[4mКоличество записей:\u001b[0m 354369 из 354369\n",
      "\u001b[4m\n",
      "Тип:\n",
      "\u001b[0m <class 'numpy.int64'>\n",
      "\u001b[4m\n",
      "Распределение уникальных значений (первые 10 значений в порядке убывания):\u001b[0m\n"
     ]
    },
    {
     "data": {
      "text/html": [
       "<div>\n",
       "<style scoped>\n",
       "    .dataframe tbody tr th:only-of-type {\n",
       "        vertical-align: middle;\n",
       "    }\n",
       "\n",
       "    .dataframe tbody tr th {\n",
       "        vertical-align: top;\n",
       "    }\n",
       "\n",
       "    .dataframe thead th {\n",
       "        text-align: right;\n",
       "    }\n",
       "</style>\n",
       "<table border=\"1\" class=\"dataframe\">\n",
       "  <thead>\n",
       "    <tr style=\"text-align: right;\">\n",
       "      <th></th>\n",
       "      <th>NumberOfPictures</th>\n",
       "      <th>cnt</th>\n",
       "    </tr>\n",
       "  </thead>\n",
       "  <tbody>\n",
       "    <tr>\n",
       "      <th>0</th>\n",
       "      <td>0</td>\n",
       "      <td>354369</td>\n",
       "    </tr>\n",
       "  </tbody>\n",
       "</table>\n",
       "</div>"
      ],
      "text/plain": [
       "   NumberOfPictures     cnt\n",
       "0                 0  354369"
      ]
     },
     "metadata": {},
     "output_type": "display_data"
    },
    {
     "name": "stdout",
     "output_type": "stream",
     "text": [
      "\u001b[4m\n",
      "Гистограмма значений:\u001b[0m\n"
     ]
    },
    {
     "data": {
      "image/png": "[encoded data removed]",
      "text/plain": [
       "<Figure size 864x360 with 1 Axes>"
      ]
     },
     "metadata": {
      "needs_background": "light"
     },
     "output_type": "display_data"
    },
    {
     "name": "stdout",
     "output_type": "stream",
     "text": [
      "\n",
      "\u001b[1;3mPostalCode - почтовый индекс владельца анкеты (пользователя)\u001b[0m\n",
      "\n",
      "\u001b[4mОписание данных:\u001b[0m\n",
      "count   354,369.00\n",
      "mean     50,508.69\n",
      "std      25,783.10\n",
      "min       1,067.00\n",
      "25%      30,165.00\n",
      "50%      49,413.00\n",
      "75%      71,083.00\n",
      "max      99,998.00\n",
      "Name: PostalCode, dtype: float64\n",
      "\u001b[4mКоличество записей:\u001b[0m 354369 из 354369\n",
      "\u001b[4m\n",
      "Тип:\n",
      "\u001b[0m <class 'numpy.int64'>\n",
      "\n",
      "\u001b[1;3mLastSeen - дата последней активности пользователя\u001b[0m\n",
      "\n",
      "\u001b[4mОписание данных:\u001b[0m\n",
      "count                  354369\n",
      "unique                 179150\n",
      "top       2016-04-06 13:45:54\n",
      "freq                       17\n",
      "Name: LastSeen, dtype: object\n",
      "\u001b[4mКоличество записей:\u001b[0m 354369 из 354369\n",
      "\u001b[4m\n",
      "Тип:\n",
      "\u001b[0m <class 'str'>\n",
      "\n"
     ]
    }
   ],
   "source": [
    "df_reaper(data, data_name, data_fields)"
   ]
  },
  {
   "cell_type": "markdown",
   "metadata": {},
   "source": [
    "#### Итоги анализа данных:\n",
    "1. Датасет содержит 354369 записей\n",
    "2. Присутствует 4 полных дубликата\n",
    "3. Часть признаков (VehicleType, Model, FuelType, Gearbox, Repaired) содержит пропуски\n",
    "4. Присутствует  слабая обратная корелляция между пробегом и ценой, а также очень слабая корреляция между мощностью двигателя и ценой\n",
    "5. Требуется приведение типов:\n",
    "- DateCrawled - к типу DateTime;\n",
    "- RegistrationYear, RegistrationMonth - объединить \n",
    "- DateCreated - к типу DateTime;\n",
    "- PostalCode - к типу string, добавить лидирующие нули до 6 символов\n",
    "- Repaired - к типу boolean;\n",
    "- LastSeen - к типу DateTime.\n",
    "6. NumberOfPictures содержит только нулевые данные\n",
    "7. признаки RegistrationYear, Power содержат сбойные данные (RegistrationMonth - 13 месяцев, Power - мощность 0 и 20000 л.с."
   ]
  },
  {
   "cell_type": "markdown",
   "metadata": {},
   "source": [
    "### Этап 2. Предобработка данных"
   ]
  },
  {
   "cell_type": "markdown",
   "metadata": {},
   "source": [
    "#### Дубликаты данных"
   ]
  },
  {
   "cell_type": "code",
   "execution_count": 9,
   "metadata": {},
   "outputs": [
    {
     "data": {
      "text/html": [
       "<div>\n",
       "<style scoped>\n",
       "    .dataframe tbody tr th:only-of-type {\n",
       "        vertical-align: middle;\n",
       "    }\n",
       "\n",
       "    .dataframe tbody tr th {\n",
       "        vertical-align: top;\n",
       "    }\n",
       "\n",
       "    .dataframe thead th {\n",
       "        text-align: right;\n",
       "    }\n",
       "</style>\n",
       "<table border=\"1\" class=\"dataframe\">\n",
       "  <thead>\n",
       "    <tr style=\"text-align: right;\">\n",
       "      <th></th>\n",
       "      <th>DateCrawled</th>\n",
       "      <th>Price</th>\n",
       "      <th>VehicleType</th>\n",
       "      <th>RegistrationYear</th>\n",
       "      <th>Gearbox</th>\n",
       "      <th>Power</th>\n",
       "      <th>Model</th>\n",
       "      <th>Kilometer</th>\n",
       "      <th>RegistrationMonth</th>\n",
       "      <th>FuelType</th>\n",
       "      <th>Brand</th>\n",
       "      <th>Repaired</th>\n",
       "      <th>DateCreated</th>\n",
       "      <th>NumberOfPictures</th>\n",
       "      <th>PostalCode</th>\n",
       "      <th>LastSeen</th>\n",
       "    </tr>\n",
       "  </thead>\n",
       "  <tbody>\n",
       "    <tr>\n",
       "      <th>90964</th>\n",
       "      <td>2016-03-28 00:56:10</td>\n",
       "      <td>1000</td>\n",
       "      <td>small</td>\n",
       "      <td>2002</td>\n",
       "      <td>manual</td>\n",
       "      <td>83</td>\n",
       "      <td>other</td>\n",
       "      <td>150000</td>\n",
       "      <td>1</td>\n",
       "      <td>petrol</td>\n",
       "      <td>suzuki</td>\n",
       "      <td>no</td>\n",
       "      <td>2016-03-28 00:00:00</td>\n",
       "      <td>0</td>\n",
       "      <td>66589</td>\n",
       "      <td>2016-03-28 08:46:21</td>\n",
       "    </tr>\n",
       "    <tr>\n",
       "      <th>231258</th>\n",
       "      <td>2016-03-28 00:56:10</td>\n",
       "      <td>1000</td>\n",
       "      <td>small</td>\n",
       "      <td>2002</td>\n",
       "      <td>manual</td>\n",
       "      <td>83</td>\n",
       "      <td>other</td>\n",
       "      <td>150000</td>\n",
       "      <td>1</td>\n",
       "      <td>petrol</td>\n",
       "      <td>suzuki</td>\n",
       "      <td>no</td>\n",
       "      <td>2016-03-28 00:00:00</td>\n",
       "      <td>0</td>\n",
       "      <td>66589</td>\n",
       "      <td>2016-03-28 08:46:21</td>\n",
       "    </tr>\n",
       "    <tr>\n",
       "      <th>88087</th>\n",
       "      <td>2016-03-08 18:42:48</td>\n",
       "      <td>1799</td>\n",
       "      <td>coupe</td>\n",
       "      <td>1999</td>\n",
       "      <td>auto</td>\n",
       "      <td>193</td>\n",
       "      <td>clk</td>\n",
       "      <td>20000</td>\n",
       "      <td>7</td>\n",
       "      <td>petrol</td>\n",
       "      <td>mercedes_benz</td>\n",
       "      <td>no</td>\n",
       "      <td>2016-03-08 00:00:00</td>\n",
       "      <td>0</td>\n",
       "      <td>89518</td>\n",
       "      <td>2016-03-09 09:46:57</td>\n",
       "    </tr>\n",
       "    <tr>\n",
       "      <th>171088</th>\n",
       "      <td>2016-03-08 18:42:48</td>\n",
       "      <td>1799</td>\n",
       "      <td>coupe</td>\n",
       "      <td>1999</td>\n",
       "      <td>auto</td>\n",
       "      <td>193</td>\n",
       "      <td>clk</td>\n",
       "      <td>20000</td>\n",
       "      <td>7</td>\n",
       "      <td>petrol</td>\n",
       "      <td>mercedes_benz</td>\n",
       "      <td>no</td>\n",
       "      <td>2016-03-08 00:00:00</td>\n",
       "      <td>0</td>\n",
       "      <td>89518</td>\n",
       "      <td>2016-03-09 09:46:57</td>\n",
       "    </tr>\n",
       "    <tr>\n",
       "      <th>41529</th>\n",
       "      <td>2016-03-18 18:46:15</td>\n",
       "      <td>1999</td>\n",
       "      <td>wagon</td>\n",
       "      <td>2001</td>\n",
       "      <td>manual</td>\n",
       "      <td>131</td>\n",
       "      <td>passat</td>\n",
       "      <td>150000</td>\n",
       "      <td>7</td>\n",
       "      <td>gasoline</td>\n",
       "      <td>volkswagen</td>\n",
       "      <td>no</td>\n",
       "      <td>2016-03-18 00:00:00</td>\n",
       "      <td>0</td>\n",
       "      <td>36391</td>\n",
       "      <td>2016-03-18 18:46:15</td>\n",
       "    </tr>\n",
       "    <tr>\n",
       "      <th>325651</th>\n",
       "      <td>2016-03-18 18:46:15</td>\n",
       "      <td>1999</td>\n",
       "      <td>wagon</td>\n",
       "      <td>2001</td>\n",
       "      <td>manual</td>\n",
       "      <td>131</td>\n",
       "      <td>passat</td>\n",
       "      <td>150000</td>\n",
       "      <td>7</td>\n",
       "      <td>gasoline</td>\n",
       "      <td>volkswagen</td>\n",
       "      <td>no</td>\n",
       "      <td>2016-03-18 00:00:00</td>\n",
       "      <td>0</td>\n",
       "      <td>36391</td>\n",
       "      <td>2016-03-18 18:46:15</td>\n",
       "    </tr>\n",
       "    <tr>\n",
       "      <th>187735</th>\n",
       "      <td>2016-04-03 09:01:15</td>\n",
       "      <td>4699</td>\n",
       "      <td>coupe</td>\n",
       "      <td>2003</td>\n",
       "      <td>auto</td>\n",
       "      <td>218</td>\n",
       "      <td>clk</td>\n",
       "      <td>125000</td>\n",
       "      <td>6</td>\n",
       "      <td>petrol</td>\n",
       "      <td>mercedes_benz</td>\n",
       "      <td>yes</td>\n",
       "      <td>2016-04-03 00:00:00</td>\n",
       "      <td>0</td>\n",
       "      <td>75196</td>\n",
       "      <td>2016-04-07 09:44:54</td>\n",
       "    </tr>\n",
       "    <tr>\n",
       "      <th>258109</th>\n",
       "      <td>2016-04-03 09:01:15</td>\n",
       "      <td>4699</td>\n",
       "      <td>coupe</td>\n",
       "      <td>2003</td>\n",
       "      <td>auto</td>\n",
       "      <td>218</td>\n",
       "      <td>clk</td>\n",
       "      <td>125000</td>\n",
       "      <td>6</td>\n",
       "      <td>petrol</td>\n",
       "      <td>mercedes_benz</td>\n",
       "      <td>yes</td>\n",
       "      <td>2016-04-03 00:00:00</td>\n",
       "      <td>0</td>\n",
       "      <td>75196</td>\n",
       "      <td>2016-04-07 09:44:54</td>\n",
       "    </tr>\n",
       "  </tbody>\n",
       "</table>\n",
       "</div>"
      ],
      "text/plain": [
       "                DateCrawled  Price VehicleType  RegistrationYear Gearbox  \\\n",
       "90964   2016-03-28 00:56:10   1000       small              2002  manual   \n",
       "231258  2016-03-28 00:56:10   1000       small              2002  manual   \n",
       "88087   2016-03-08 18:42:48   1799       coupe              1999    auto   \n",
       "171088  2016-03-08 18:42:48   1799       coupe              1999    auto   \n",
       "41529   2016-03-18 18:46:15   1999       wagon              2001  manual   \n",
       "325651  2016-03-18 18:46:15   1999       wagon              2001  manual   \n",
       "187735  2016-04-03 09:01:15   4699       coupe              2003    auto   \n",
       "258109  2016-04-03 09:01:15   4699       coupe              2003    auto   \n",
       "\n",
       "        Power   Model  Kilometer  RegistrationMonth  FuelType          Brand  \\\n",
       "90964      83   other     150000                  1    petrol         suzuki   \n",
       "231258     83   other     150000                  1    petrol         suzuki   \n",
       "88087     193     clk      20000                  7    petrol  mercedes_benz   \n",
       "171088    193     clk      20000                  7    petrol  mercedes_benz   \n",
       "41529     131  passat     150000                  7  gasoline     volkswagen   \n",
       "325651    131  passat     150000                  7  gasoline     volkswagen   \n",
       "187735    218     clk     125000                  6    petrol  mercedes_benz   \n",
       "258109    218     clk     125000                  6    petrol  mercedes_benz   \n",
       "\n",
       "       Repaired          DateCreated  NumberOfPictures  PostalCode  \\\n",
       "90964        no  2016-03-28 00:00:00                 0       66589   \n",
       "231258       no  2016-03-28 00:00:00                 0       66589   \n",
       "88087        no  2016-03-08 00:00:00                 0       89518   \n",
       "171088       no  2016-03-08 00:00:00                 0       89518   \n",
       "41529        no  2016-03-18 00:00:00                 0       36391   \n",
       "325651       no  2016-03-18 00:00:00                 0       36391   \n",
       "187735      yes  2016-04-03 00:00:00                 0       75196   \n",
       "258109      yes  2016-04-03 00:00:00                 0       75196   \n",
       "\n",
       "                   LastSeen  \n",
       "90964   2016-03-28 08:46:21  \n",
       "231258  2016-03-28 08:46:21  \n",
       "88087   2016-03-09 09:46:57  \n",
       "171088  2016-03-09 09:46:57  \n",
       "41529   2016-03-18 18:46:15  \n",
       "325651  2016-03-18 18:46:15  \n",
       "187735  2016-04-07 09:44:54  \n",
       "258109  2016-04-07 09:44:54  "
      ]
     },
     "execution_count": 9,
     "metadata": {},
     "output_type": "execute_result"
    }
   ],
   "source": [
    "data[data.duplicated(keep=False)].sort_values(by='Price')"
   ]
  },
  {
   "cell_type": "markdown",
   "metadata": {},
   "source": [
    "- Похоже, это действительно дубликаты - их можно удалить"
   ]
  },
  {
   "cell_type": "code",
   "execution_count": 10,
   "metadata": {},
   "outputs": [],
   "source": [
    "data = data.drop_duplicates()"
   ]
  },
  {
   "cell_type": "code",
   "execution_count": 11,
   "metadata": {},
   "outputs": [
    {
     "data": {
      "text/plain": [
       "0"
      ]
     },
     "execution_count": 11,
     "metadata": {},
     "output_type": "execute_result"
    }
   ],
   "source": [
    "data.duplicated().sum()"
   ]
  },
  {
   "cell_type": "markdown",
   "metadata": {},
   "source": [
    "#### Преобразование типов данных"
   ]
  },
  {
   "cell_type": "code",
   "execution_count": 12,
   "metadata": {},
   "outputs": [
    {
     "data": {
      "text/html": [
       "<div>\n",
       "<style scoped>\n",
       "    .dataframe tbody tr th:only-of-type {\n",
       "        vertical-align: middle;\n",
       "    }\n",
       "\n",
       "    .dataframe tbody tr th {\n",
       "        vertical-align: top;\n",
       "    }\n",
       "\n",
       "    .dataframe thead th {\n",
       "        text-align: right;\n",
       "    }\n",
       "</style>\n",
       "<table border=\"1\" class=\"dataframe\">\n",
       "  <thead>\n",
       "    <tr style=\"text-align: right;\">\n",
       "      <th></th>\n",
       "      <th>DateCrawled</th>\n",
       "      <th>Price</th>\n",
       "      <th>VehicleType</th>\n",
       "      <th>RegistrationYear</th>\n",
       "      <th>Gearbox</th>\n",
       "      <th>Power</th>\n",
       "      <th>Model</th>\n",
       "      <th>Kilometer</th>\n",
       "      <th>RegistrationMonth</th>\n",
       "      <th>FuelType</th>\n",
       "      <th>Brand</th>\n",
       "      <th>Repaired</th>\n",
       "      <th>DateCreated</th>\n",
       "      <th>NumberOfPictures</th>\n",
       "      <th>PostalCode</th>\n",
       "      <th>LastSeen</th>\n",
       "    </tr>\n",
       "  </thead>\n",
       "  <tbody>\n",
       "    <tr>\n",
       "      <th>0</th>\n",
       "      <td>2016-03-24 11:52:17</td>\n",
       "      <td>480</td>\n",
       "      <td>NaN</td>\n",
       "      <td>1993</td>\n",
       "      <td>manual</td>\n",
       "      <td>0</td>\n",
       "      <td>golf</td>\n",
       "      <td>150000</td>\n",
       "      <td>0</td>\n",
       "      <td>petrol</td>\n",
       "      <td>volkswagen</td>\n",
       "      <td>NaN</td>\n",
       "      <td>2016-03-24 00:00:00</td>\n",
       "      <td>0</td>\n",
       "      <td>70435</td>\n",
       "      <td>2016-04-07 03:16:57</td>\n",
       "    </tr>\n",
       "    <tr>\n",
       "      <th>1</th>\n",
       "      <td>2016-03-24 10:58:45</td>\n",
       "      <td>18300</td>\n",
       "      <td>coupe</td>\n",
       "      <td>2011</td>\n",
       "      <td>manual</td>\n",
       "      <td>190</td>\n",
       "      <td>NaN</td>\n",
       "      <td>125000</td>\n",
       "      <td>5</td>\n",
       "      <td>gasoline</td>\n",
       "      <td>audi</td>\n",
       "      <td>yes</td>\n",
       "      <td>2016-03-24 00:00:00</td>\n",
       "      <td>0</td>\n",
       "      <td>66954</td>\n",
       "      <td>2016-04-07 01:46:50</td>\n",
       "    </tr>\n",
       "    <tr>\n",
       "      <th>2</th>\n",
       "      <td>2016-03-14 12:52:21</td>\n",
       "      <td>9800</td>\n",
       "      <td>suv</td>\n",
       "      <td>2004</td>\n",
       "      <td>auto</td>\n",
       "      <td>163</td>\n",
       "      <td>grand</td>\n",
       "      <td>125000</td>\n",
       "      <td>8</td>\n",
       "      <td>gasoline</td>\n",
       "      <td>jeep</td>\n",
       "      <td>NaN</td>\n",
       "      <td>2016-03-14 00:00:00</td>\n",
       "      <td>0</td>\n",
       "      <td>90480</td>\n",
       "      <td>2016-04-05 12:47:46</td>\n",
       "    </tr>\n",
       "    <tr>\n",
       "      <th>3</th>\n",
       "      <td>2016-03-17 16:54:04</td>\n",
       "      <td>1500</td>\n",
       "      <td>small</td>\n",
       "      <td>2001</td>\n",
       "      <td>manual</td>\n",
       "      <td>75</td>\n",
       "      <td>golf</td>\n",
       "      <td>150000</td>\n",
       "      <td>6</td>\n",
       "      <td>petrol</td>\n",
       "      <td>volkswagen</td>\n",
       "      <td>no</td>\n",
       "      <td>2016-03-17 00:00:00</td>\n",
       "      <td>0</td>\n",
       "      <td>91074</td>\n",
       "      <td>2016-03-17 17:40:17</td>\n",
       "    </tr>\n",
       "    <tr>\n",
       "      <th>4</th>\n",
       "      <td>2016-03-31 17:25:20</td>\n",
       "      <td>3600</td>\n",
       "      <td>small</td>\n",
       "      <td>2008</td>\n",
       "      <td>manual</td>\n",
       "      <td>69</td>\n",
       "      <td>fabia</td>\n",
       "      <td>90000</td>\n",
       "      <td>7</td>\n",
       "      <td>gasoline</td>\n",
       "      <td>skoda</td>\n",
       "      <td>no</td>\n",
       "      <td>2016-03-31 00:00:00</td>\n",
       "      <td>0</td>\n",
       "      <td>60437</td>\n",
       "      <td>2016-04-06 10:17:21</td>\n",
       "    </tr>\n",
       "  </tbody>\n",
       "</table>\n",
       "</div>"
      ],
      "text/plain": [
       "           DateCrawled  Price VehicleType  RegistrationYear Gearbox  Power  \\\n",
       "0  2016-03-24 11:52:17    480         NaN              1993  manual      0   \n",
       "1  2016-03-24 10:58:45  18300       coupe              2011  manual    190   \n",
       "2  2016-03-14 12:52:21   9800         suv              2004    auto    163   \n",
       "3  2016-03-17 16:54:04   1500       small              2001  manual     75   \n",
       "4  2016-03-31 17:25:20   3600       small              2008  manual     69   \n",
       "\n",
       "   Model  Kilometer  RegistrationMonth  FuelType       Brand Repaired  \\\n",
       "0   golf     150000                  0    petrol  volkswagen      NaN   \n",
       "1    NaN     125000                  5  gasoline        audi      yes   \n",
       "2  grand     125000                  8  gasoline        jeep      NaN   \n",
       "3   golf     150000                  6    petrol  volkswagen       no   \n",
       "4  fabia      90000                  7  gasoline       skoda       no   \n",
       "\n",
       "           DateCreated  NumberOfPictures  PostalCode             LastSeen  \n",
       "0  2016-03-24 00:00:00                 0       70435  2016-04-07 03:16:57  \n",
       "1  2016-03-24 00:00:00                 0       66954  2016-04-07 01:46:50  \n",
       "2  2016-03-14 00:00:00                 0       90480  2016-04-05 12:47:46  \n",
       "3  2016-03-17 00:00:00                 0       91074  2016-03-17 17:40:17  \n",
       "4  2016-03-31 00:00:00                 0       60437  2016-04-06 10:17:21  "
      ]
     },
     "execution_count": 12,
     "metadata": {},
     "output_type": "execute_result"
    }
   ],
   "source": [
    "data.head()"
   ]
  },
  {
   "cell_type": "markdown",
   "metadata": {},
   "source": [
    "#### Преобразование временных признаков"
   ]
  },
  {
   "cell_type": "code",
   "execution_count": 13,
   "metadata": {},
   "outputs": [
    {
     "data": {
      "text/plain": [
       "0   2016-03-24 11:52:17\n",
       "1   2016-03-24 10:58:45\n",
       "2   2016-03-14 12:52:21\n",
       "3   2016-03-17 16:54:04\n",
       "4   2016-03-31 17:25:20\n",
       "Name: DateCrawled, dtype: datetime64[ns]"
      ]
     },
     "execution_count": 13,
     "metadata": {},
     "output_type": "execute_result"
    }
   ],
   "source": [
    "data['DateCrawled'] = pd.to_datetime(data['DateCrawled'], format='%Y-%m-%d %H:%M:%S')\n",
    "data['DateCrawled'].head()"
   ]
  },
  {
   "cell_type": "code",
   "execution_count": 14,
   "metadata": {},
   "outputs": [
    {
     "data": {
      "text/plain": [
       "0   2016-03-24 11:52:17\n",
       "1   2016-03-24 10:58:45\n",
       "2   2016-03-14 12:52:21\n",
       "3   2016-03-17 16:54:04\n",
       "4   2016-03-31 17:25:20\n",
       "Name: DateCrawled, dtype: datetime64[ns]"
      ]
     },
     "execution_count": 14,
     "metadata": {},
     "output_type": "execute_result"
    }
   ],
   "source": [
    "data['DateCrawled'] = pd.to_datetime(data['DateCrawled'], format='%Y-%m-%d %H:%M:%S')\n",
    "data['DateCrawled'].head()"
   ]
  },
  {
   "cell_type": "code",
   "execution_count": 15,
   "metadata": {},
   "outputs": [
    {
     "data": {
      "text/plain": [
       "0   2016-03-24\n",
       "1   2016-03-24\n",
       "2   2016-03-14\n",
       "3   2016-03-17\n",
       "4   2016-03-31\n",
       "Name: DateCreated, dtype: datetime64[ns]"
      ]
     },
     "execution_count": 15,
     "metadata": {},
     "output_type": "execute_result"
    }
   ],
   "source": [
    "data['DateCreated'] = pd.to_datetime(data['DateCreated'], format='%Y-%m-%d %H:%M:%S')\n",
    "data['DateCreated'].head()"
   ]
  },
  {
   "cell_type": "code",
   "execution_count": 16,
   "metadata": {
    "scrolled": true
   },
   "outputs": [
    {
     "data": {
      "text/plain": [
       "0   2016-04-07 03:16:57\n",
       "1   2016-04-07 01:46:50\n",
       "2   2016-04-05 12:47:46\n",
       "3   2016-03-17 17:40:17\n",
       "4   2016-04-06 10:17:21\n",
       "Name: LastSeen, dtype: datetime64[ns]"
      ]
     },
     "execution_count": 16,
     "metadata": {},
     "output_type": "execute_result"
    }
   ],
   "source": [
    "data['LastSeen'] = pd.to_datetime(data['LastSeen'], format='%Y-%m-%d %H:%M:%S')\n",
    "data['LastSeen'].head()"
   ]
  },
  {
   "cell_type": "markdown",
   "metadata": {},
   "source": [
    "#### Данные о регистрации"
   ]
  },
  {
   "cell_type": "markdown",
   "metadata": {},
   "source": [
    "- Максимальный год скачивания анкеты 2016;\n",
    "- Часть автомобилей зарегистрированны в будущем - после ее скачивания."
   ]
  },
  {
   "cell_type": "code",
   "execution_count": 17,
   "metadata": {},
   "outputs": [
    {
     "data": {
      "text/plain": [
       "14530"
      ]
     },
     "execution_count": 17,
     "metadata": {},
     "output_type": "execute_result"
    }
   ],
   "source": [
    "len(data.query('RegistrationYear > 2016'))"
   ]
  },
  {
   "cell_type": "markdown",
   "metadata": {},
   "source": [
    "- а часть в 11-19 веках:"
   ]
  },
  {
   "cell_type": "code",
   "execution_count": 18,
   "metadata": {},
   "outputs": [
    {
     "data": {
      "text/plain": [
       "66"
      ]
     },
     "execution_count": 18,
     "metadata": {},
     "output_type": "execute_result"
    }
   ],
   "source": [
    "len(data.query('RegistrationYear < 1900'))"
   ]
  },
  {
   "cell_type": "markdown",
   "metadata": {},
   "source": [
    "- Поскольку цена на такие автомобили непредсказуема - записи о них тоже придется удалить!"
   ]
  },
  {
   "cell_type": "code",
   "execution_count": 19,
   "metadata": {},
   "outputs": [],
   "source": [
    "data = data[(data['RegistrationYear'] >= 1900) & (data['RegistrationYear'] <= 2016)]"
   ]
  },
  {
   "cell_type": "code",
   "execution_count": 20,
   "metadata": {},
   "outputs": [
    {
     "data": {
      "text/plain": [
       "array([ 0,  1,  2,  3,  4,  5,  6,  7,  8,  9, 10, 11, 12])"
      ]
     },
     "execution_count": 20,
     "metadata": {},
     "output_type": "execute_result"
    }
   ],
   "source": [
    "np.sort(data['RegistrationMonth'].unique())"
   ]
  },
  {
   "cell_type": "markdown",
   "metadata": {},
   "source": [
    "У признака RegistrationMonth 13 значений. И каждому из значений большое количество записей.<br>\n",
    "Есть два варианта причины этого:\n",
    "1. Сливали 2 базы данных, в одной месяцы нумеровали от 0, а во второй - от 1\n",
    "2. 0 помечены те объявления, где не был указан масяц.<br />\n",
    "Поскольку нет возможности уточнить это у постановщика задачи, примем за рабочий второй вариант, как более вероятный.<br />\n",
    "В этом случае стоит поступить по правилу, которым руководствуются страховые компании: если месяц не указан, значит это январь."
   ]
  },
  {
   "cell_type": "markdown",
   "metadata": {},
   "source": [
    "Кроме того, для модели будет хорошо, если мы объединим месяц и год регистрации в 1 признак: количество месяцев от какой-либо даты, например 1 января 1900 года."
   ]
  },
  {
   "cell_type": "markdown",
   "metadata": {},
   "source": [
    "Пересчёт месяца в число:"
   ]
  },
  {
   "cell_type": "code",
   "execution_count": 21,
   "metadata": {},
   "outputs": [],
   "source": [
    "def month_to_int(row):\n",
    "    \"\"\"\n",
    "    Преобразует месяц и год регистрации из строковых или числовых значений в одно числовое значение,\n",
    "    представляющее количество месяцев с 1900 года. Это преобразование может быть полезно для\n",
    "    анализа временных рядов или сортировки данных по дате, когда требуется одномерный числовой формат.\n",
    "\n",
    "    Параметры:\n",
    "    row (pandas.Series): Строка DataFrame, содержащая данные по месяцу и году регистрации.\n",
    "                         Предполагается, что в этой строке есть ключи 'RegistrationMonth' и 'RegistrationYear'.\n",
    "\n",
    "    Возвращает:\n",
    "    pandas.Series: Исходная строка с добавленным новым ключом 'reg_month', содержащим преобразованное значение.\n",
    "    \"\"\"\n",
    "    month = row['RegistrationMonth']\n",
    "    # Если месяц регистрации равен 0, принимаем его за январь (1 месяц)\n",
    "    if month == 0:\n",
    "        month = 1\n",
    "    # Рассчитываем количество лет с 1900 года\n",
    "    years = row['RegistrationYear'] - 1900\n",
    "    # Рассчитываем общее количество месяцев с 1900 года\n",
    "    row['reg_month'] = years * 12 + month - 1\n",
    "    return row"
   ]
  },
  {
   "cell_type": "code",
   "execution_count": 22,
   "metadata": {},
   "outputs": [
    {
     "name": "stdout",
     "output_type": "stream",
     "text": [
      "CPU times: user 3min 12s, sys: 1.47 s, total: 3min 14s\n",
      "Wall time: 3min 14s\n"
     ]
    }
   ],
   "source": [
    "%%time\n",
    "data = data.apply(month_to_int, axis=1)"
   ]
  },
  {
   "cell_type": "code",
   "execution_count": 23,
   "metadata": {},
   "outputs": [
    {
     "data": {
      "text/html": [
       "<div>\n",
       "<style scoped>\n",
       "    .dataframe tbody tr th:only-of-type {\n",
       "        vertical-align: middle;\n",
       "    }\n",
       "\n",
       "    .dataframe tbody tr th {\n",
       "        vertical-align: top;\n",
       "    }\n",
       "\n",
       "    .dataframe thead th {\n",
       "        text-align: right;\n",
       "    }\n",
       "</style>\n",
       "<table border=\"1\" class=\"dataframe\">\n",
       "  <thead>\n",
       "    <tr style=\"text-align: right;\">\n",
       "      <th></th>\n",
       "      <th>DateCrawled</th>\n",
       "      <th>Price</th>\n",
       "      <th>VehicleType</th>\n",
       "      <th>RegistrationYear</th>\n",
       "      <th>Gearbox</th>\n",
       "      <th>Power</th>\n",
       "      <th>Model</th>\n",
       "      <th>Kilometer</th>\n",
       "      <th>RegistrationMonth</th>\n",
       "      <th>FuelType</th>\n",
       "      <th>Brand</th>\n",
       "      <th>Repaired</th>\n",
       "      <th>DateCreated</th>\n",
       "      <th>NumberOfPictures</th>\n",
       "      <th>PostalCode</th>\n",
       "      <th>LastSeen</th>\n",
       "      <th>reg_month</th>\n",
       "    </tr>\n",
       "  </thead>\n",
       "  <tbody>\n",
       "    <tr>\n",
       "      <th>0</th>\n",
       "      <td>2016-03-24 11:52:17</td>\n",
       "      <td>480</td>\n",
       "      <td>NaN</td>\n",
       "      <td>1993</td>\n",
       "      <td>manual</td>\n",
       "      <td>0</td>\n",
       "      <td>golf</td>\n",
       "      <td>150000</td>\n",
       "      <td>0</td>\n",
       "      <td>petrol</td>\n",
       "      <td>volkswagen</td>\n",
       "      <td>NaN</td>\n",
       "      <td>2016-03-24</td>\n",
       "      <td>0</td>\n",
       "      <td>70435</td>\n",
       "      <td>2016-04-07 03:16:57</td>\n",
       "      <td>1116</td>\n",
       "    </tr>\n",
       "    <tr>\n",
       "      <th>1</th>\n",
       "      <td>2016-03-24 10:58:45</td>\n",
       "      <td>18300</td>\n",
       "      <td>coupe</td>\n",
       "      <td>2011</td>\n",
       "      <td>manual</td>\n",
       "      <td>190</td>\n",
       "      <td>NaN</td>\n",
       "      <td>125000</td>\n",
       "      <td>5</td>\n",
       "      <td>gasoline</td>\n",
       "      <td>audi</td>\n",
       "      <td>yes</td>\n",
       "      <td>2016-03-24</td>\n",
       "      <td>0</td>\n",
       "      <td>66954</td>\n",
       "      <td>2016-04-07 01:46:50</td>\n",
       "      <td>1336</td>\n",
       "    </tr>\n",
       "    <tr>\n",
       "      <th>2</th>\n",
       "      <td>2016-03-14 12:52:21</td>\n",
       "      <td>9800</td>\n",
       "      <td>suv</td>\n",
       "      <td>2004</td>\n",
       "      <td>auto</td>\n",
       "      <td>163</td>\n",
       "      <td>grand</td>\n",
       "      <td>125000</td>\n",
       "      <td>8</td>\n",
       "      <td>gasoline</td>\n",
       "      <td>jeep</td>\n",
       "      <td>NaN</td>\n",
       "      <td>2016-03-14</td>\n",
       "      <td>0</td>\n",
       "      <td>90480</td>\n",
       "      <td>2016-04-05 12:47:46</td>\n",
       "      <td>1255</td>\n",
       "    </tr>\n",
       "    <tr>\n",
       "      <th>3</th>\n",
       "      <td>2016-03-17 16:54:04</td>\n",
       "      <td>1500</td>\n",
       "      <td>small</td>\n",
       "      <td>2001</td>\n",
       "      <td>manual</td>\n",
       "      <td>75</td>\n",
       "      <td>golf</td>\n",
       "      <td>150000</td>\n",
       "      <td>6</td>\n",
       "      <td>petrol</td>\n",
       "      <td>volkswagen</td>\n",
       "      <td>no</td>\n",
       "      <td>2016-03-17</td>\n",
       "      <td>0</td>\n",
       "      <td>91074</td>\n",
       "      <td>2016-03-17 17:40:17</td>\n",
       "      <td>1217</td>\n",
       "    </tr>\n",
       "    <tr>\n",
       "      <th>4</th>\n",
       "      <td>2016-03-31 17:25:20</td>\n",
       "      <td>3600</td>\n",
       "      <td>small</td>\n",
       "      <td>2008</td>\n",
       "      <td>manual</td>\n",
       "      <td>69</td>\n",
       "      <td>fabia</td>\n",
       "      <td>90000</td>\n",
       "      <td>7</td>\n",
       "      <td>gasoline</td>\n",
       "      <td>skoda</td>\n",
       "      <td>no</td>\n",
       "      <td>2016-03-31</td>\n",
       "      <td>0</td>\n",
       "      <td>60437</td>\n",
       "      <td>2016-04-06 10:17:21</td>\n",
       "      <td>1302</td>\n",
       "    </tr>\n",
       "  </tbody>\n",
       "</table>\n",
       "</div>"
      ],
      "text/plain": [
       "          DateCrawled  Price VehicleType  RegistrationYear Gearbox  Power  \\\n",
       "0 2016-03-24 11:52:17    480         NaN              1993  manual      0   \n",
       "1 2016-03-24 10:58:45  18300       coupe              2011  manual    190   \n",
       "2 2016-03-14 12:52:21   9800         suv              2004    auto    163   \n",
       "3 2016-03-17 16:54:04   1500       small              2001  manual     75   \n",
       "4 2016-03-31 17:25:20   3600       small              2008  manual     69   \n",
       "\n",
       "   Model  Kilometer  RegistrationMonth  FuelType       Brand Repaired  \\\n",
       "0   golf     150000                  0    petrol  volkswagen      NaN   \n",
       "1    NaN     125000                  5  gasoline        audi      yes   \n",
       "2  grand     125000                  8  gasoline        jeep      NaN   \n",
       "3   golf     150000                  6    petrol  volkswagen       no   \n",
       "4  fabia      90000                  7  gasoline       skoda       no   \n",
       "\n",
       "  DateCreated  NumberOfPictures  PostalCode            LastSeen  reg_month  \n",
       "0  2016-03-24                 0       70435 2016-04-07 03:16:57       1116  \n",
       "1  2016-03-24                 0       66954 2016-04-07 01:46:50       1336  \n",
       "2  2016-03-14                 0       90480 2016-04-05 12:47:46       1255  \n",
       "3  2016-03-17                 0       91074 2016-03-17 17:40:17       1217  \n",
       "4  2016-03-31                 0       60437 2016-04-06 10:17:21       1302  "
      ]
     },
     "execution_count": 23,
     "metadata": {},
     "output_type": "execute_result"
    }
   ],
   "source": [
    "data.head()"
   ]
  },
  {
   "cell_type": "markdown",
   "metadata": {},
   "source": [
    "#### Преобразование PostalCode в текст"
   ]
  },
  {
   "cell_type": "markdown",
   "metadata": {},
   "source": [
    "Индексы состоят из чисел, и модель может индекс за числовой параметр. Чтобы этого не допустить, сделаем его текстом"
   ]
  },
  {
   "cell_type": "code",
   "execution_count": 24,
   "metadata": {},
   "outputs": [],
   "source": [
    "def indexer(row):\n",
    "    \"\"\"\n",
    "    Дополняет почтовый индекс нулями слева до длины в 6 символов. Это необходимо для стандартизации\n",
    "    формата почтовых индексов, особенно если они изначально представлены в числовом формате и ведущие нули были потеряны.\n",
    "\n",
    "    Параметры:\n",
    "    row (pandas.Series): Строка DataFrame, содержащая данные почтового индекса в ключе 'PostalCode'.\n",
    "\n",
    "    Возвращает:\n",
    "    pandas.Series: Исходная строка с модифицированным ключом 'PostalCode', где почтовый индекс дополнен нулями слева до 6 символов.\n",
    "    \"\"\"\n",
    "    PostalCode = str(row['PostalCode'])\n",
    "    # Дополнение индекса нулями слева до общей длины в 6 символов\n",
    "    index = PostalCode.zfill(6)\n",
    "    row['PostalCode'] = index\n",
    "    return row"
   ]
  },
  {
   "cell_type": "code",
   "execution_count": 25,
   "metadata": {},
   "outputs": [
    {
     "name": "stdout",
     "output_type": "stream",
     "text": [
      "CPU times: user 23.9 s, sys: 96.1 ms, total: 24 s\n",
      "Wall time: 24 s\n"
     ]
    },
    {
     "data": {
      "text/plain": [
       "0    070435\n",
       "1    066954\n",
       "2    090480\n",
       "3    091074\n",
       "4    060437\n",
       "Name: PostalCode, dtype: object"
      ]
     },
     "execution_count": 25,
     "metadata": {},
     "output_type": "execute_result"
    }
   ],
   "source": [
    "%%time\n",
    "data = data.apply(indexer, axis=1)\n",
    "data['PostalCode'].head()"
   ]
  },
  {
   "cell_type": "markdown",
   "metadata": {},
   "source": [
    "#### Преобразование Repaired в Bool"
   ]
  },
  {
   "cell_type": "code",
   "execution_count": 26,
   "metadata": {},
   "outputs": [
    {
     "data": {
      "text/plain": [
       "0    True\n",
       "1    True\n",
       "2    True\n",
       "3    True\n",
       "4    True\n",
       "Name: Repaired, dtype: bool"
      ]
     },
     "execution_count": 26,
     "metadata": {},
     "output_type": "execute_result"
    }
   ],
   "source": [
    "data['Repaired'] = data['Repaired'].astype(bool)\n",
    "data['Repaired'].head()"
   ]
  },
  {
   "cell_type": "markdown",
   "metadata": {},
   "source": [
    "#### Результат преобразования типов"
   ]
  },
  {
   "cell_type": "code",
   "execution_count": 27,
   "metadata": {},
   "outputs": [
    {
     "data": {
      "text/html": [
       "<div>\n",
       "<style scoped>\n",
       "    .dataframe tbody tr th:only-of-type {\n",
       "        vertical-align: middle;\n",
       "    }\n",
       "\n",
       "    .dataframe tbody tr th {\n",
       "        vertical-align: top;\n",
       "    }\n",
       "\n",
       "    .dataframe thead th {\n",
       "        text-align: right;\n",
       "    }\n",
       "</style>\n",
       "<table border=\"1\" class=\"dataframe\">\n",
       "  <thead>\n",
       "    <tr style=\"text-align: right;\">\n",
       "      <th></th>\n",
       "      <th>DateCrawled</th>\n",
       "      <th>Price</th>\n",
       "      <th>VehicleType</th>\n",
       "      <th>RegistrationYear</th>\n",
       "      <th>Gearbox</th>\n",
       "      <th>Power</th>\n",
       "      <th>Model</th>\n",
       "      <th>Kilometer</th>\n",
       "      <th>RegistrationMonth</th>\n",
       "      <th>FuelType</th>\n",
       "      <th>Brand</th>\n",
       "      <th>Repaired</th>\n",
       "      <th>DateCreated</th>\n",
       "      <th>NumberOfPictures</th>\n",
       "      <th>PostalCode</th>\n",
       "      <th>LastSeen</th>\n",
       "      <th>reg_month</th>\n",
       "    </tr>\n",
       "  </thead>\n",
       "  <tbody>\n",
       "    <tr>\n",
       "      <th>0</th>\n",
       "      <td>2016-03-24 11:52:17</td>\n",
       "      <td>480</td>\n",
       "      <td>NaN</td>\n",
       "      <td>1993</td>\n",
       "      <td>manual</td>\n",
       "      <td>0</td>\n",
       "      <td>golf</td>\n",
       "      <td>150000</td>\n",
       "      <td>0</td>\n",
       "      <td>petrol</td>\n",
       "      <td>volkswagen</td>\n",
       "      <td>True</td>\n",
       "      <td>2016-03-24</td>\n",
       "      <td>0</td>\n",
       "      <td>070435</td>\n",
       "      <td>2016-04-07 03:16:57</td>\n",
       "      <td>1116</td>\n",
       "    </tr>\n",
       "    <tr>\n",
       "      <th>1</th>\n",
       "      <td>2016-03-24 10:58:45</td>\n",
       "      <td>18300</td>\n",
       "      <td>coupe</td>\n",
       "      <td>2011</td>\n",
       "      <td>manual</td>\n",
       "      <td>190</td>\n",
       "      <td>NaN</td>\n",
       "      <td>125000</td>\n",
       "      <td>5</td>\n",
       "      <td>gasoline</td>\n",
       "      <td>audi</td>\n",
       "      <td>True</td>\n",
       "      <td>2016-03-24</td>\n",
       "      <td>0</td>\n",
       "      <td>066954</td>\n",
       "      <td>2016-04-07 01:46:50</td>\n",
       "      <td>1336</td>\n",
       "    </tr>\n",
       "    <tr>\n",
       "      <th>2</th>\n",
       "      <td>2016-03-14 12:52:21</td>\n",
       "      <td>9800</td>\n",
       "      <td>suv</td>\n",
       "      <td>2004</td>\n",
       "      <td>auto</td>\n",
       "      <td>163</td>\n",
       "      <td>grand</td>\n",
       "      <td>125000</td>\n",
       "      <td>8</td>\n",
       "      <td>gasoline</td>\n",
       "      <td>jeep</td>\n",
       "      <td>True</td>\n",
       "      <td>2016-03-14</td>\n",
       "      <td>0</td>\n",
       "      <td>090480</td>\n",
       "      <td>2016-04-05 12:47:46</td>\n",
       "      <td>1255</td>\n",
       "    </tr>\n",
       "    <tr>\n",
       "      <th>3</th>\n",
       "      <td>2016-03-17 16:54:04</td>\n",
       "      <td>1500</td>\n",
       "      <td>small</td>\n",
       "      <td>2001</td>\n",
       "      <td>manual</td>\n",
       "      <td>75</td>\n",
       "      <td>golf</td>\n",
       "      <td>150000</td>\n",
       "      <td>6</td>\n",
       "      <td>petrol</td>\n",
       "      <td>volkswagen</td>\n",
       "      <td>True</td>\n",
       "      <td>2016-03-17</td>\n",
       "      <td>0</td>\n",
       "      <td>091074</td>\n",
       "      <td>2016-03-17 17:40:17</td>\n",
       "      <td>1217</td>\n",
       "    </tr>\n",
       "    <tr>\n",
       "      <th>4</th>\n",
       "      <td>2016-03-31 17:25:20</td>\n",
       "      <td>3600</td>\n",
       "      <td>small</td>\n",
       "      <td>2008</td>\n",
       "      <td>manual</td>\n",
       "      <td>69</td>\n",
       "      <td>fabia</td>\n",
       "      <td>90000</td>\n",
       "      <td>7</td>\n",
       "      <td>gasoline</td>\n",
       "      <td>skoda</td>\n",
       "      <td>True</td>\n",
       "      <td>2016-03-31</td>\n",
       "      <td>0</td>\n",
       "      <td>060437</td>\n",
       "      <td>2016-04-06 10:17:21</td>\n",
       "      <td>1302</td>\n",
       "    </tr>\n",
       "  </tbody>\n",
       "</table>\n",
       "</div>"
      ],
      "text/plain": [
       "          DateCrawled  Price VehicleType  RegistrationYear Gearbox  Power  \\\n",
       "0 2016-03-24 11:52:17    480         NaN              1993  manual      0   \n",
       "1 2016-03-24 10:58:45  18300       coupe              2011  manual    190   \n",
       "2 2016-03-14 12:52:21   9800         suv              2004    auto    163   \n",
       "3 2016-03-17 16:54:04   1500       small              2001  manual     75   \n",
       "4 2016-03-31 17:25:20   3600       small              2008  manual     69   \n",
       "\n",
       "   Model  Kilometer  RegistrationMonth  FuelType       Brand  Repaired  \\\n",
       "0   golf     150000                  0    petrol  volkswagen      True   \n",
       "1    NaN     125000                  5  gasoline        audi      True   \n",
       "2  grand     125000                  8  gasoline        jeep      True   \n",
       "3   golf     150000                  6    petrol  volkswagen      True   \n",
       "4  fabia      90000                  7  gasoline       skoda      True   \n",
       "\n",
       "  DateCreated  NumberOfPictures PostalCode            LastSeen  reg_month  \n",
       "0  2016-03-24                 0     070435 2016-04-07 03:16:57       1116  \n",
       "1  2016-03-24                 0     066954 2016-04-07 01:46:50       1336  \n",
       "2  2016-03-14                 0     090480 2016-04-05 12:47:46       1255  \n",
       "3  2016-03-17                 0     091074 2016-03-17 17:40:17       1217  \n",
       "4  2016-03-31                 0     060437 2016-04-06 10:17:21       1302  "
      ]
     },
     "execution_count": 27,
     "metadata": {},
     "output_type": "execute_result"
    }
   ],
   "source": [
    "data.head()"
   ]
  },
  {
   "cell_type": "markdown",
   "metadata": {},
   "source": [
    "#### Пропущенные данные\n",
    "\n",
    "Признаки VehicleType, Model, FuelType, Repaired содержит пропуски\n",
    "\n",
    "Функция **friendly_filler** ищет в датафрейме **df** строки с пропущенными значениями столбца **target**, <br />\n",
    "для которых в **df** есть строки с таким же значением столбца **base** c непустыми значениями,<br />\n",
    "и заполняет их в зависимости от значения параметра **agg**:\n",
    "- *'none'* (по умолчанию) - первым непустым значением;\n",
    "- *'mode'* - наиболее популярным значением;\n",
    "- *'median'* - медианным значением;\n",
    "- *'mean'* - средним значением."
   ]
  },
  {
   "cell_type": "markdown",
   "metadata": {},
   "source": [
    "#### Model"
   ]
  },
  {
   "cell_type": "code",
   "execution_count": 28,
   "metadata": {
    "scrolled": true
   },
   "outputs": [
    {
     "data": {
      "text/html": [
       "<div>\n",
       "<style scoped>\n",
       "    .dataframe tbody tr th:only-of-type {\n",
       "        vertical-align: middle;\n",
       "    }\n",
       "\n",
       "    .dataframe tbody tr th {\n",
       "        vertical-align: top;\n",
       "    }\n",
       "\n",
       "    .dataframe thead th {\n",
       "        text-align: right;\n",
       "    }\n",
       "</style>\n",
       "<table border=\"1\" class=\"dataframe\">\n",
       "  <thead>\n",
       "    <tr style=\"text-align: right;\">\n",
       "      <th></th>\n",
       "      <th>DateCrawled</th>\n",
       "      <th>Price</th>\n",
       "      <th>VehicleType</th>\n",
       "      <th>RegistrationYear</th>\n",
       "      <th>Gearbox</th>\n",
       "      <th>Power</th>\n",
       "      <th>Model</th>\n",
       "      <th>Kilometer</th>\n",
       "      <th>RegistrationMonth</th>\n",
       "      <th>FuelType</th>\n",
       "      <th>Brand</th>\n",
       "      <th>Repaired</th>\n",
       "      <th>DateCreated</th>\n",
       "      <th>NumberOfPictures</th>\n",
       "      <th>PostalCode</th>\n",
       "      <th>LastSeen</th>\n",
       "      <th>reg_month</th>\n",
       "    </tr>\n",
       "  </thead>\n",
       "  <tbody>\n",
       "    <tr>\n",
       "      <th>1</th>\n",
       "      <td>2016-03-24 10:58:45</td>\n",
       "      <td>18300</td>\n",
       "      <td>coupe</td>\n",
       "      <td>2011</td>\n",
       "      <td>manual</td>\n",
       "      <td>190</td>\n",
       "      <td>NaN</td>\n",
       "      <td>125000</td>\n",
       "      <td>5</td>\n",
       "      <td>gasoline</td>\n",
       "      <td>audi</td>\n",
       "      <td>True</td>\n",
       "      <td>2016-03-24</td>\n",
       "      <td>0</td>\n",
       "      <td>066954</td>\n",
       "      <td>2016-04-07 01:46:50</td>\n",
       "      <td>1336</td>\n",
       "    </tr>\n",
       "    <tr>\n",
       "      <th>59</th>\n",
       "      <td>2016-03-29 15:48:15</td>\n",
       "      <td>1</td>\n",
       "      <td>suv</td>\n",
       "      <td>1994</td>\n",
       "      <td>manual</td>\n",
       "      <td>286</td>\n",
       "      <td>NaN</td>\n",
       "      <td>150000</td>\n",
       "      <td>11</td>\n",
       "      <td>NaN</td>\n",
       "      <td>sonstige_autos</td>\n",
       "      <td>True</td>\n",
       "      <td>2016-03-29</td>\n",
       "      <td>0</td>\n",
       "      <td>053721</td>\n",
       "      <td>2016-04-06 01:44:38</td>\n",
       "      <td>1138</td>\n",
       "    </tr>\n",
       "    <tr>\n",
       "      <th>81</th>\n",
       "      <td>2016-04-03 12:56:45</td>\n",
       "      <td>350</td>\n",
       "      <td>small</td>\n",
       "      <td>1997</td>\n",
       "      <td>manual</td>\n",
       "      <td>54</td>\n",
       "      <td>NaN</td>\n",
       "      <td>150000</td>\n",
       "      <td>3</td>\n",
       "      <td>NaN</td>\n",
       "      <td>fiat</td>\n",
       "      <td>True</td>\n",
       "      <td>2016-04-03</td>\n",
       "      <td>0</td>\n",
       "      <td>045665</td>\n",
       "      <td>2016-04-05 11:47:13</td>\n",
       "      <td>1166</td>\n",
       "    </tr>\n",
       "    <tr>\n",
       "      <th>115</th>\n",
       "      <td>2016-03-20 18:53:27</td>\n",
       "      <td>0</td>\n",
       "      <td>small</td>\n",
       "      <td>1999</td>\n",
       "      <td>NaN</td>\n",
       "      <td>0</td>\n",
       "      <td>NaN</td>\n",
       "      <td>5000</td>\n",
       "      <td>0</td>\n",
       "      <td>petrol</td>\n",
       "      <td>volkswagen</td>\n",
       "      <td>True</td>\n",
       "      <td>2016-03-20</td>\n",
       "      <td>0</td>\n",
       "      <td>037520</td>\n",
       "      <td>2016-04-07 02:45:22</td>\n",
       "      <td>1188</td>\n",
       "    </tr>\n",
       "    <tr>\n",
       "      <th>135</th>\n",
       "      <td>2016-03-27 20:51:23</td>\n",
       "      <td>1450</td>\n",
       "      <td>sedan</td>\n",
       "      <td>1992</td>\n",
       "      <td>manual</td>\n",
       "      <td>136</td>\n",
       "      <td>NaN</td>\n",
       "      <td>150000</td>\n",
       "      <td>0</td>\n",
       "      <td>NaN</td>\n",
       "      <td>audi</td>\n",
       "      <td>True</td>\n",
       "      <td>2016-03-27</td>\n",
       "      <td>0</td>\n",
       "      <td>038709</td>\n",
       "      <td>2016-04-05 20:17:31</td>\n",
       "      <td>1104</td>\n",
       "    </tr>\n",
       "  </tbody>\n",
       "</table>\n",
       "</div>"
      ],
      "text/plain": [
       "            DateCrawled  Price VehicleType  RegistrationYear Gearbox  Power  \\\n",
       "1   2016-03-24 10:58:45  18300       coupe              2011  manual    190   \n",
       "59  2016-03-29 15:48:15      1         suv              1994  manual    286   \n",
       "81  2016-04-03 12:56:45    350       small              1997  manual     54   \n",
       "115 2016-03-20 18:53:27      0       small              1999     NaN      0   \n",
       "135 2016-03-27 20:51:23   1450       sedan              1992  manual    136   \n",
       "\n",
       "    Model  Kilometer  RegistrationMonth  FuelType           Brand  Repaired  \\\n",
       "1     NaN     125000                  5  gasoline            audi      True   \n",
       "59    NaN     150000                 11       NaN  sonstige_autos      True   \n",
       "81    NaN     150000                  3       NaN            fiat      True   \n",
       "115   NaN       5000                  0    petrol      volkswagen      True   \n",
       "135   NaN     150000                  0       NaN            audi      True   \n",
       "\n",
       "    DateCreated  NumberOfPictures PostalCode            LastSeen  reg_month  \n",
       "1    2016-03-24                 0     066954 2016-04-07 01:46:50       1336  \n",
       "59   2016-03-29                 0     053721 2016-04-06 01:44:38       1138  \n",
       "81   2016-04-03                 0     045665 2016-04-05 11:47:13       1166  \n",
       "115  2016-03-20                 0     037520 2016-04-07 02:45:22       1188  \n",
       "135  2016-03-27                 0     038709 2016-04-05 20:17:31       1104  "
      ]
     },
     "execution_count": 28,
     "metadata": {},
     "output_type": "execute_result"
    }
   ],
   "source": [
    "data.query('Model.isna()').head()"
   ]
  },
  {
   "cell_type": "code",
   "execution_count": 29,
   "metadata": {},
   "outputs": [
    {
     "data": {
      "text/plain": [
       "17625"
      ]
     },
     "execution_count": 29,
     "metadata": {},
     "output_type": "execute_result"
    }
   ],
   "source": [
    "len(data.query('Model.isna()'))"
   ]
  },
  {
   "cell_type": "markdown",
   "metadata": {},
   "source": [
    "- У 5% данных отсутствуют данные о модели ТС. Такие данные очень трудно восстановить, поэтому их придется удалить."
   ]
  },
  {
   "cell_type": "code",
   "execution_count": 30,
   "metadata": {},
   "outputs": [],
   "source": [
    "data = data.dropna(subset=['Model'])"
   ]
  },
  {
   "cell_type": "code",
   "execution_count": 31,
   "metadata": {
    "scrolled": true
   },
   "outputs": [
    {
     "data": {
      "text/plain": [
       "0"
      ]
     },
     "execution_count": 31,
     "metadata": {},
     "output_type": "execute_result"
    }
   ],
   "source": [
    "len(data.query('Model.isna()'))"
   ]
  },
  {
   "cell_type": "markdown",
   "metadata": {},
   "source": [
    "#### VehicleType"
   ]
  },
  {
   "cell_type": "code",
   "execution_count": 32,
   "metadata": {},
   "outputs": [
    {
     "data": {
      "text/plain": [
       "18165"
      ]
     },
     "execution_count": 32,
     "metadata": {},
     "output_type": "execute_result"
    }
   ],
   "source": [
    "len(data.query('VehicleType.isna()'))"
   ]
  },
  {
   "cell_type": "markdown",
   "metadata": {},
   "source": [
    "- 6 процентов данных;\n",
    "- Попробуем заполнить данные наиболее популярными значениями для каждой из моделей."
   ]
  },
  {
   "cell_type": "code",
   "execution_count": 33,
   "metadata": {},
   "outputs": [],
   "source": [
    "data = friendly_filler(data,'Model','VehicleType','mode')"
   ]
  },
  {
   "cell_type": "code",
   "execution_count": 34,
   "metadata": {},
   "outputs": [
    {
     "data": {
      "text/plain": [
       "0"
      ]
     },
     "execution_count": 34,
     "metadata": {},
     "output_type": "execute_result"
    }
   ],
   "source": [
    "len(data.query('VehicleType.isna()'))"
   ]
  },
  {
   "cell_type": "markdown",
   "metadata": {},
   "source": [
    "- Все пропуски в признаке VehicleType заполнены."
   ]
  },
  {
   "cell_type": "markdown",
   "metadata": {},
   "source": [
    "#### FuelType"
   ]
  },
  {
   "cell_type": "code",
   "execution_count": 35,
   "metadata": {
    "scrolled": true
   },
   "outputs": [
    {
     "data": {
      "text/plain": [
       "21187"
      ]
     },
     "execution_count": 35,
     "metadata": {},
     "output_type": "execute_result"
    }
   ],
   "source": [
    "len(data.query('FuelType.isna()'))"
   ]
  },
  {
   "cell_type": "markdown",
   "metadata": {},
   "source": [
    "- Попробуем заполнить данные наиболее популярными значениями для каждой из моделей."
   ]
  },
  {
   "cell_type": "code",
   "execution_count": 36,
   "metadata": {},
   "outputs": [],
   "source": [
    "data = friendly_filler(data,'Model','FuelType','mode')"
   ]
  },
  {
   "cell_type": "code",
   "execution_count": 37,
   "metadata": {},
   "outputs": [
    {
     "data": {
      "text/plain": [
       "0"
      ]
     },
     "execution_count": 37,
     "metadata": {},
     "output_type": "execute_result"
    }
   ],
   "source": [
    "len(data.query('FuelType.isna()'))"
   ]
  },
  {
   "cell_type": "markdown",
   "metadata": {},
   "source": [
    "- Все пропуски в признаке FuelType заполнены."
   ]
  },
  {
   "cell_type": "markdown",
   "metadata": {},
   "source": [
    "Посмотрим на то, какие виды топлива присутствуют у машин:"
   ]
  },
  {
   "cell_type": "code",
   "execution_count": 38,
   "metadata": {
    "scrolled": true
   },
   "outputs": [
    {
     "data": {
      "text/plain": [
       "array(['petrol', 'gasoline', 'lpg', 'other', 'hybrid', 'cng', 'electric'],\n",
       "      dtype=object)"
      ]
     },
     "execution_count": 38,
     "metadata": {},
     "output_type": "execute_result"
    }
   ],
   "source": [
    "data['FuelType'].unique()"
   ]
  },
  {
   "cell_type": "markdown",
   "metadata": {},
   "source": [
    "- \"petrol\" и \"gasoline\" - это синонимы, в переводе - \"бензин\". Налицо - не явный дубликат."
   ]
  },
  {
   "cell_type": "code",
   "execution_count": 39,
   "metadata": {},
   "outputs": [],
   "source": [
    "data.loc[data['FuelType'] == 'gasoline','FuelType'] = 'petrol'"
   ]
  },
  {
   "cell_type": "markdown",
   "metadata": {},
   "source": [
    "#### Gearbox"
   ]
  },
  {
   "cell_type": "code",
   "execution_count": 40,
   "metadata": {},
   "outputs": [
    {
     "data": {
      "text/plain": [
       "14225"
      ]
     },
     "execution_count": 40,
     "metadata": {},
     "output_type": "execute_result"
    }
   ],
   "source": [
    "len(data.query('Gearbox.isna()'))"
   ]
  },
  {
   "cell_type": "markdown",
   "metadata": {},
   "source": [
    "- Попробуем заполнить данные наиболее популярными значениями для каждой из моделей."
   ]
  },
  {
   "cell_type": "code",
   "execution_count": 41,
   "metadata": {},
   "outputs": [],
   "source": [
    "data = friendly_filler(data,'Model','Gearbox','mode')"
   ]
  },
  {
   "cell_type": "code",
   "execution_count": 42,
   "metadata": {},
   "outputs": [
    {
     "data": {
      "text/plain": [
       "0"
      ]
     },
     "execution_count": 42,
     "metadata": {},
     "output_type": "execute_result"
    }
   ],
   "source": [
    "len(data.query('Gearbox.isna()'))"
   ]
  },
  {
   "cell_type": "markdown",
   "metadata": {},
   "source": [
    "- Все пропуски в признаке Gearbox заполнены."
   ]
  },
  {
   "cell_type": "markdown",
   "metadata": {},
   "source": [
    "#### Repaired"
   ]
  },
  {
   "cell_type": "code",
   "execution_count": 43,
   "metadata": {},
   "outputs": [
    {
     "data": {
      "text/plain": [
       "0"
      ]
     },
     "execution_count": 43,
     "metadata": {},
     "output_type": "execute_result"
    }
   ],
   "source": [
    "len(data.query('Repaired.isna()'))"
   ]
  },
  {
   "cell_type": "markdown",
   "metadata": {},
   "source": [
    "- Все пропущенные данные удалены раньше."
   ]
  },
  {
   "cell_type": "markdown",
   "metadata": {},
   "source": [
    "#### Итог обработки пропусков:"
   ]
  },
  {
   "cell_type": "markdown",
   "metadata": {},
   "source": [
    "Проверка пропусков в датасете:"
   ]
  },
  {
   "cell_type": "code",
   "execution_count": 44,
   "metadata": {},
   "outputs": [
    {
     "data": {
      "text/plain": [
       "0"
      ]
     },
     "execution_count": 44,
     "metadata": {},
     "output_type": "execute_result"
    }
   ],
   "source": [
    "data.isna().sum().sum()"
   ]
  },
  {
   "cell_type": "markdown",
   "metadata": {},
   "source": [
    "- Пропущенных данных нет."
   ]
  },
  {
   "cell_type": "markdown",
   "metadata": {},
   "source": [
    "#### Аномальные значения"
   ]
  },
  {
   "cell_type": "markdown",
   "metadata": {},
   "source": [
    "В поле Power присутствуют анормально высокие и аномально низкие значения"
   ]
  },
  {
   "cell_type": "markdown",
   "metadata": {},
   "source": [
    "Можно, конечно предположить, что среди объявлений есть суперкары, но, с большей вероятностью, владельцы указали в объявлениях не мощность, а объём двигателя.<br />\n",
    "Граничным значением можно считать 650 - все двигатели имеют объём больше, чем 650 куб.см, а автомобили мощьностью больше 650 л.с можно по пальцам пересчитать"
   ]
  },
  {
   "cell_type": "code",
   "execution_count": 45,
   "metadata": {},
   "outputs": [
    {
     "data": {
      "text/plain": [
       "289"
      ]
     },
     "execution_count": 45,
     "metadata": {},
     "output_type": "execute_result"
    }
   ],
   "source": [
    "len(data.query('Power > 650'))"
   ]
  },
  {
   "cell_type": "markdown",
   "metadata": {},
   "source": [
    "Посмотрим, какие бренды претендуют на мощь:"
   ]
  },
  {
   "cell_type": "code",
   "execution_count": 46,
   "metadata": {},
   "outputs": [
    {
     "data": {
      "text/plain": [
       "array(['toyota', 'opel', 'mitsubishi', 'fiat', 'volkswagen', 'ford',\n",
       "       'seat', 'bmw', 'nissan', 'mercedes_benz', 'citroen', 'skoda',\n",
       "       'volvo', 'chevrolet', 'peugeot', 'smart', 'audi', 'kia', 'renault',\n",
       "       'chrysler', 'mazda', 'suzuki', 'mini', 'alfa_romeo', 'honda',\n",
       "       'daewoo', 'hyundai', 'lancia'], dtype=object)"
      ]
     },
     "execution_count": 46,
     "metadata": {},
     "output_type": "execute_result"
    }
   ],
   "source": [
    "data.query('Power > 650')['Brand'].unique()"
   ]
  },
  {
   "cell_type": "markdown",
   "metadata": {},
   "source": [
    "Посмотрим теперь на машины тех из них, которые реально имеют в своей линейке машины с двигателями больше 1000 л.с."
   ]
  },
  {
   "cell_type": "code",
   "execution_count": 47,
   "metadata": {},
   "outputs": [],
   "source": [
    "top_brand = ['bmw','nissan', 'mercedes_benz''mini']"
   ]
  },
  {
   "cell_type": "code",
   "execution_count": 48,
   "metadata": {
    "scrolled": false
   },
   "outputs": [
    {
     "data": {
      "text/html": [
       "<div>\n",
       "<style scoped>\n",
       "    .dataframe tbody tr th:only-of-type {\n",
       "        vertical-align: middle;\n",
       "    }\n",
       "\n",
       "    .dataframe tbody tr th {\n",
       "        vertical-align: top;\n",
       "    }\n",
       "\n",
       "    .dataframe thead th {\n",
       "        text-align: right;\n",
       "    }\n",
       "</style>\n",
       "<table border=\"1\" class=\"dataframe\">\n",
       "  <thead>\n",
       "    <tr style=\"text-align: right;\">\n",
       "      <th></th>\n",
       "      <th>Brand</th>\n",
       "      <th>Model</th>\n",
       "      <th>Power</th>\n",
       "    </tr>\n",
       "  </thead>\n",
       "  <tbody>\n",
       "    <tr>\n",
       "      <th>91568</th>\n",
       "      <td>bmw</td>\n",
       "      <td>1er</td>\n",
       "      <td>1223</td>\n",
       "    </tr>\n",
       "    <tr>\n",
       "      <th>114106</th>\n",
       "      <td>bmw</td>\n",
       "      <td>1er</td>\n",
       "      <td>19211</td>\n",
       "    </tr>\n",
       "    <tr>\n",
       "      <th>22281</th>\n",
       "      <td>bmw</td>\n",
       "      <td>3er</td>\n",
       "      <td>1993</td>\n",
       "    </tr>\n",
       "    <tr>\n",
       "      <th>78059</th>\n",
       "      <td>bmw</td>\n",
       "      <td>3er</td>\n",
       "      <td>1500</td>\n",
       "    </tr>\n",
       "    <tr>\n",
       "      <th>79981</th>\n",
       "      <td>bmw</td>\n",
       "      <td>3er</td>\n",
       "      <td>2016</td>\n",
       "    </tr>\n",
       "    <tr>\n",
       "      <th>80682</th>\n",
       "      <td>bmw</td>\n",
       "      <td>3er</td>\n",
       "      <td>1436</td>\n",
       "    </tr>\n",
       "    <tr>\n",
       "      <th>148269</th>\n",
       "      <td>bmw</td>\n",
       "      <td>3er</td>\n",
       "      <td>1506</td>\n",
       "    </tr>\n",
       "    <tr>\n",
       "      <th>177706</th>\n",
       "      <td>bmw</td>\n",
       "      <td>3er</td>\n",
       "      <td>1103</td>\n",
       "    </tr>\n",
       "    <tr>\n",
       "      <th>187330</th>\n",
       "      <td>bmw</td>\n",
       "      <td>3er</td>\n",
       "      <td>17019</td>\n",
       "    </tr>\n",
       "    <tr>\n",
       "      <th>188785</th>\n",
       "      <td>bmw</td>\n",
       "      <td>3er</td>\n",
       "      <td>1895</td>\n",
       "    </tr>\n",
       "    <tr>\n",
       "      <th>240248</th>\n",
       "      <td>bmw</td>\n",
       "      <td>3er</td>\n",
       "      <td>1500</td>\n",
       "    </tr>\n",
       "    <tr>\n",
       "      <th>254819</th>\n",
       "      <td>bmw</td>\n",
       "      <td>3er</td>\n",
       "      <td>1600</td>\n",
       "    </tr>\n",
       "    <tr>\n",
       "      <th>255268</th>\n",
       "      <td>bmw</td>\n",
       "      <td>3er</td>\n",
       "      <td>1432</td>\n",
       "    </tr>\n",
       "    <tr>\n",
       "      <th>260799</th>\n",
       "      <td>bmw</td>\n",
       "      <td>3er</td>\n",
       "      <td>15017</td>\n",
       "    </tr>\n",
       "    <tr>\n",
       "      <th>264940</th>\n",
       "      <td>bmw</td>\n",
       "      <td>3er</td>\n",
       "      <td>1433</td>\n",
       "    </tr>\n",
       "    <tr>\n",
       "      <th>270974</th>\n",
       "      <td>bmw</td>\n",
       "      <td>3er</td>\n",
       "      <td>1160</td>\n",
       "    </tr>\n",
       "    <tr>\n",
       "      <th>354260</th>\n",
       "      <td>bmw</td>\n",
       "      <td>3er</td>\n",
       "      <td>1103</td>\n",
       "    </tr>\n",
       "    <tr>\n",
       "      <th>19092</th>\n",
       "      <td>bmw</td>\n",
       "      <td>5er</td>\n",
       "      <td>2729</td>\n",
       "    </tr>\n",
       "    <tr>\n",
       "      <th>125086</th>\n",
       "      <td>bmw</td>\n",
       "      <td>5er</td>\n",
       "      <td>1000</td>\n",
       "    </tr>\n",
       "    <tr>\n",
       "      <th>132485</th>\n",
       "      <td>bmw</td>\n",
       "      <td>5er</td>\n",
       "      <td>19208</td>\n",
       "    </tr>\n",
       "    <tr>\n",
       "      <th>196532</th>\n",
       "      <td>bmw</td>\n",
       "      <td>5er</td>\n",
       "      <td>17700</td>\n",
       "    </tr>\n",
       "    <tr>\n",
       "      <th>200944</th>\n",
       "      <td>bmw</td>\n",
       "      <td>5er</td>\n",
       "      <td>1500</td>\n",
       "    </tr>\n",
       "    <tr>\n",
       "      <th>299180</th>\n",
       "      <td>bmw</td>\n",
       "      <td>5er</td>\n",
       "      <td>19312</td>\n",
       "    </tr>\n",
       "    <tr>\n",
       "      <th>308234</th>\n",
       "      <td>bmw</td>\n",
       "      <td>5er</td>\n",
       "      <td>1933</td>\n",
       "    </tr>\n",
       "    <tr>\n",
       "      <th>311399</th>\n",
       "      <td>bmw</td>\n",
       "      <td>5er</td>\n",
       "      <td>16311</td>\n",
       "    </tr>\n",
       "    <tr>\n",
       "      <th>19826</th>\n",
       "      <td>nissan</td>\n",
       "      <td>micra</td>\n",
       "      <td>1240</td>\n",
       "    </tr>\n",
       "    <tr>\n",
       "      <th>240661</th>\n",
       "      <td>nissan</td>\n",
       "      <td>micra</td>\n",
       "      <td>1275</td>\n",
       "    </tr>\n",
       "    <tr>\n",
       "      <th>301843</th>\n",
       "      <td>nissan</td>\n",
       "      <td>micra</td>\n",
       "      <td>998</td>\n",
       "    </tr>\n",
       "    <tr>\n",
       "      <th>324069</th>\n",
       "      <td>nissan</td>\n",
       "      <td>x_trail</td>\n",
       "      <td>1416</td>\n",
       "    </tr>\n",
       "  </tbody>\n",
       "</table>\n",
       "</div>"
      ],
      "text/plain": [
       "         Brand    Model  Power\n",
       "91568      bmw      1er   1223\n",
       "114106     bmw      1er  19211\n",
       "22281      bmw      3er   1993\n",
       "78059      bmw      3er   1500\n",
       "79981      bmw      3er   2016\n",
       "80682      bmw      3er   1436\n",
       "148269     bmw      3er   1506\n",
       "177706     bmw      3er   1103\n",
       "187330     bmw      3er  17019\n",
       "188785     bmw      3er   1895\n",
       "240248     bmw      3er   1500\n",
       "254819     bmw      3er   1600\n",
       "255268     bmw      3er   1432\n",
       "260799     bmw      3er  15017\n",
       "264940     bmw      3er   1433\n",
       "270974     bmw      3er   1160\n",
       "354260     bmw      3er   1103\n",
       "19092      bmw      5er   2729\n",
       "125086     bmw      5er   1000\n",
       "132485     bmw      5er  19208\n",
       "196532     bmw      5er  17700\n",
       "200944     bmw      5er   1500\n",
       "299180     bmw      5er  19312\n",
       "308234     bmw      5er   1933\n",
       "311399     bmw      5er  16311\n",
       "19826   nissan    micra   1240\n",
       "240661  nissan    micra   1275\n",
       "301843  nissan    micra    998\n",
       "324069  nissan  x_trail   1416"
      ]
     },
     "execution_count": 48,
     "metadata": {},
     "output_type": "execute_result"
    }
   ],
   "source": [
    "data.query('(Power > 650) and Brand in @top_brand')[['Brand','Model','Power']].sort_values(by=['Brand','Model'])"
   ]
  },
  {
   "cell_type": "markdown",
   "metadata": {},
   "source": [
    "У BMW самый мощный серийный двигатель 626 л.с., а уж у Nissan Micra....\n",
    "\n",
    "Следовательно, записи, у которых Power > 650, сбойные."
   ]
  },
  {
   "cell_type": "markdown",
   "metadata": {},
   "source": [
    "Аналогично, посмотрим на модели с неожиданно низкой мощностью двигателя\n",
    "\n",
    "Рассмотрим сначала нулевые значения:"
   ]
  },
  {
   "cell_type": "code",
   "execution_count": 49,
   "metadata": {},
   "outputs": [
    {
     "data": {
      "text/plain": [
       "30886"
      ]
     },
     "execution_count": 49,
     "metadata": {},
     "output_type": "execute_result"
    }
   ],
   "source": [
    "len(data.query('Power == 0'))"
   ]
  },
  {
   "cell_type": "markdown",
   "metadata": {},
   "source": [
    "У этих машин скорее всего нет информации по мощности двигателя. "
   ]
  },
  {
   "cell_type": "markdown",
   "metadata": {},
   "source": [
    "Мощность двигателя \"Оки\" была 29 л.с. Скорее всего, меньше 25 л.с. сейчас машин не найти...."
   ]
  },
  {
   "cell_type": "code",
   "execution_count": 50,
   "metadata": {},
   "outputs": [
    {
     "data": {
      "text/html": [
       "<div>\n",
       "<style scoped>\n",
       "    .dataframe tbody tr th:only-of-type {\n",
       "        vertical-align: middle;\n",
       "    }\n",
       "\n",
       "    .dataframe tbody tr th {\n",
       "        vertical-align: top;\n",
       "    }\n",
       "\n",
       "    .dataframe thead th {\n",
       "        text-align: right;\n",
       "    }\n",
       "</style>\n",
       "<table border=\"1\" class=\"dataframe\">\n",
       "  <thead>\n",
       "    <tr style=\"text-align: right;\">\n",
       "      <th></th>\n",
       "      <th>DateCrawled</th>\n",
       "      <th>Price</th>\n",
       "      <th>VehicleType</th>\n",
       "      <th>RegistrationYear</th>\n",
       "      <th>Gearbox</th>\n",
       "      <th>Power</th>\n",
       "      <th>Model</th>\n",
       "      <th>Kilometer</th>\n",
       "      <th>RegistrationMonth</th>\n",
       "      <th>FuelType</th>\n",
       "      <th>Brand</th>\n",
       "      <th>Repaired</th>\n",
       "      <th>DateCreated</th>\n",
       "      <th>NumberOfPictures</th>\n",
       "      <th>PostalCode</th>\n",
       "      <th>LastSeen</th>\n",
       "      <th>reg_month</th>\n",
       "    </tr>\n",
       "  </thead>\n",
       "  <tbody>\n",
       "    <tr>\n",
       "      <th>1235</th>\n",
       "      <td>2016-03-08 20:43:16</td>\n",
       "      <td>4450</td>\n",
       "      <td>small</td>\n",
       "      <td>1971</td>\n",
       "      <td>manual</td>\n",
       "      <td>23</td>\n",
       "      <td>500</td>\n",
       "      <td>70000</td>\n",
       "      <td>5</td>\n",
       "      <td>petrol</td>\n",
       "      <td>fiat</td>\n",
       "      <td>True</td>\n",
       "      <td>2016-03-08</td>\n",
       "      <td>0</td>\n",
       "      <td>033729</td>\n",
       "      <td>2016-04-05 18:44:51</td>\n",
       "      <td>856</td>\n",
       "    </tr>\n",
       "    <tr>\n",
       "      <th>3349</th>\n",
       "      <td>2016-03-29 17:37:58</td>\n",
       "      <td>1990</td>\n",
       "      <td>small</td>\n",
       "      <td>2004</td>\n",
       "      <td>manual</td>\n",
       "      <td>7</td>\n",
       "      <td>polo</td>\n",
       "      <td>150000</td>\n",
       "      <td>5</td>\n",
       "      <td>petrol</td>\n",
       "      <td>volkswagen</td>\n",
       "      <td>True</td>\n",
       "      <td>2016-03-29</td>\n",
       "      <td>0</td>\n",
       "      <td>037124</td>\n",
       "      <td>2016-04-02 05:16:40</td>\n",
       "      <td>1252</td>\n",
       "    </tr>\n",
       "    <tr>\n",
       "      <th>4637</th>\n",
       "      <td>2016-03-21 00:36:23</td>\n",
       "      <td>870</td>\n",
       "      <td>wagon</td>\n",
       "      <td>2000</td>\n",
       "      <td>manual</td>\n",
       "      <td>16</td>\n",
       "      <td>focus</td>\n",
       "      <td>150000</td>\n",
       "      <td>0</td>\n",
       "      <td>petrol</td>\n",
       "      <td>ford</td>\n",
       "      <td>True</td>\n",
       "      <td>2016-03-21</td>\n",
       "      <td>0</td>\n",
       "      <td>066693</td>\n",
       "      <td>2016-03-21 08:40:31</td>\n",
       "      <td>1200</td>\n",
       "    </tr>\n",
       "    <tr>\n",
       "      <th>9561</th>\n",
       "      <td>2016-04-04 07:58:34</td>\n",
       "      <td>9000</td>\n",
       "      <td>sedan</td>\n",
       "      <td>2009</td>\n",
       "      <td>manual</td>\n",
       "      <td>2</td>\n",
       "      <td>a4</td>\n",
       "      <td>5000</td>\n",
       "      <td>12</td>\n",
       "      <td>petrol</td>\n",
       "      <td>audi</td>\n",
       "      <td>True</td>\n",
       "      <td>2016-04-04</td>\n",
       "      <td>0</td>\n",
       "      <td>012045</td>\n",
       "      <td>2016-04-06 10:17:01</td>\n",
       "      <td>1319</td>\n",
       "    </tr>\n",
       "    <tr>\n",
       "      <th>11228</th>\n",
       "      <td>2016-03-10 15:39:12</td>\n",
       "      <td>9900</td>\n",
       "      <td>small</td>\n",
       "      <td>1970</td>\n",
       "      <td>manual</td>\n",
       "      <td>18</td>\n",
       "      <td>500</td>\n",
       "      <td>30000</td>\n",
       "      <td>0</td>\n",
       "      <td>petrol</td>\n",
       "      <td>fiat</td>\n",
       "      <td>True</td>\n",
       "      <td>2016-03-10</td>\n",
       "      <td>0</td>\n",
       "      <td>073278</td>\n",
       "      <td>2016-04-05 11:49:04</td>\n",
       "      <td>840</td>\n",
       "    </tr>\n",
       "  </tbody>\n",
       "</table>\n",
       "</div>"
      ],
      "text/plain": [
       "              DateCrawled  Price VehicleType  RegistrationYear Gearbox  Power  \\\n",
       "1235  2016-03-08 20:43:16   4450       small              1971  manual     23   \n",
       "3349  2016-03-29 17:37:58   1990       small              2004  manual      7   \n",
       "4637  2016-03-21 00:36:23    870       wagon              2000  manual     16   \n",
       "9561  2016-04-04 07:58:34   9000       sedan              2009  manual      2   \n",
       "11228 2016-03-10 15:39:12   9900       small              1970  manual     18   \n",
       "\n",
       "       Model  Kilometer  RegistrationMonth FuelType       Brand  Repaired  \\\n",
       "1235     500      70000                  5   petrol        fiat      True   \n",
       "3349    polo     150000                  5   petrol  volkswagen      True   \n",
       "4637   focus     150000                  0   petrol        ford      True   \n",
       "9561      a4       5000                 12   petrol        audi      True   \n",
       "11228    500      30000                  0   petrol        fiat      True   \n",
       "\n",
       "      DateCreated  NumberOfPictures PostalCode            LastSeen  reg_month  \n",
       "1235   2016-03-08                 0     033729 2016-04-05 18:44:51        856  \n",
       "3349   2016-03-29                 0     037124 2016-04-02 05:16:40       1252  \n",
       "4637   2016-03-21                 0     066693 2016-03-21 08:40:31       1200  \n",
       "9561   2016-04-04                 0     012045 2016-04-06 10:17:01       1319  \n",
       "11228  2016-03-10                 0     073278 2016-04-05 11:49:04        840  "
      ]
     },
     "execution_count": 50,
     "metadata": {},
     "output_type": "execute_result"
    }
   ],
   "source": [
    "data.query('(Power > 0) and (Power < 25) ').head()"
   ]
  },
  {
   "cell_type": "code",
   "execution_count": 51,
   "metadata": {},
   "outputs": [
    {
     "data": {
      "text/plain": [
       "194"
      ]
     },
     "execution_count": 51,
     "metadata": {},
     "output_type": "execute_result"
    }
   ],
   "source": [
    "len(data.query('(Power > 0) and (Power < 20) '))"
   ]
  },
  {
   "cell_type": "markdown",
   "metadata": {},
   "source": [
    "Скорее всего, это тоже сбой"
   ]
  },
  {
   "cell_type": "markdown",
   "metadata": {},
   "source": [
    "#### Заполнение аномальных значений"
   ]
  },
  {
   "cell_type": "markdown",
   "metadata": {},
   "source": [
    "Стоит заполнить битые данные наиболее популярными значениями для этих моделей."
   ]
  },
  {
   "cell_type": "markdown",
   "metadata": {},
   "source": [
    "Для заполнения используем принцип, изложенный в классическом анекдоте:<br />\n",
    "\"Выливаем из чайника воду, и задача сводится к предыдущей\""
   ]
  },
  {
   "cell_type": "code",
   "execution_count": 52,
   "metadata": {},
   "outputs": [],
   "source": [
    "def noner(row):\n",
    "    \"\"\"\n",
    "    Присваивает значение np.nan столбцу 'Power' строки DataFrame, если значение мощности\n",
    "    выходит за пределы заданного диапазона (меньше 25 или больше 650).\n",
    "\n",
    "    Эта функция может быть использована для очистки данных, когда значения мощности\n",
    "    автомобилей явно некорректны и не должны учитываться в анализе.\n",
    "\n",
    "    Параметры:\n",
    "    row (pandas.Series): Строка DataFrame, содержащая данные о мощности в ключе 'Power'.\n",
    "\n",
    "    Возвращает:\n",
    "    pandas.Series: Исходная строка с модифицированным значением 'Power', если оно выходит за пределы заданного диапазона.\n",
    "    \"\"\"\n",
    "    if (row['Power'] < 25) or (row['Power'] > 650):\n",
    "        row['Power'] = np.nan\n",
    "    return row"
   ]
  },
  {
   "cell_type": "code",
   "execution_count": 53,
   "metadata": {},
   "outputs": [
    {
     "name": "stdout",
     "output_type": "stream",
     "text": [
      "CPU times: user 18.7 s, sys: 104 ms, total: 18.8 s\n",
      "Wall time: 18.8 s\n"
     ]
    }
   ],
   "source": [
    "%%time\n",
    "data = data.apply(noner, axis=1)"
   ]
  },
  {
   "cell_type": "code",
   "execution_count": 54,
   "metadata": {},
   "outputs": [
    {
     "name": "stdout",
     "output_type": "stream",
     "text": [
      "CPU times: user 9.01 s, sys: 4.06 ms, total: 9.01 s\n",
      "Wall time: 9.02 s\n"
     ]
    }
   ],
   "source": [
    "%%time\n",
    "data = friendly_filler(data,'Model','Power','mode')"
   ]
  },
  {
   "cell_type": "markdown",
   "metadata": {},
   "source": [
    "Оставшиеся пустыми записи (для моделей, для которых не было записей с нормальными значениями):"
   ]
  },
  {
   "cell_type": "code",
   "execution_count": 55,
   "metadata": {},
   "outputs": [
    {
     "data": {
      "text/html": [
       "<div>\n",
       "<style scoped>\n",
       "    .dataframe tbody tr th:only-of-type {\n",
       "        vertical-align: middle;\n",
       "    }\n",
       "\n",
       "    .dataframe tbody tr th {\n",
       "        vertical-align: top;\n",
       "    }\n",
       "\n",
       "    .dataframe thead th {\n",
       "        text-align: right;\n",
       "    }\n",
       "</style>\n",
       "<table border=\"1\" class=\"dataframe\">\n",
       "  <thead>\n",
       "    <tr style=\"text-align: right;\">\n",
       "      <th></th>\n",
       "      <th>DateCrawled</th>\n",
       "      <th>Price</th>\n",
       "      <th>VehicleType</th>\n",
       "      <th>RegistrationYear</th>\n",
       "      <th>Gearbox</th>\n",
       "      <th>Power</th>\n",
       "      <th>Model</th>\n",
       "      <th>Kilometer</th>\n",
       "      <th>RegistrationMonth</th>\n",
       "      <th>FuelType</th>\n",
       "      <th>Brand</th>\n",
       "      <th>Repaired</th>\n",
       "      <th>DateCreated</th>\n",
       "      <th>NumberOfPictures</th>\n",
       "      <th>PostalCode</th>\n",
       "      <th>LastSeen</th>\n",
       "      <th>reg_month</th>\n",
       "    </tr>\n",
       "  </thead>\n",
       "  <tbody>\n",
       "    <tr>\n",
       "      <th>234296</th>\n",
       "      <td>2016-03-30 11:39:08</td>\n",
       "      <td>3800</td>\n",
       "      <td>wagon</td>\n",
       "      <td>1978</td>\n",
       "      <td>manual</td>\n",
       "      <td>NaN</td>\n",
       "      <td>serie_1</td>\n",
       "      <td>30000</td>\n",
       "      <td>0</td>\n",
       "      <td>petrol</td>\n",
       "      <td>land_rover</td>\n",
       "      <td>True</td>\n",
       "      <td>2016-03-30</td>\n",
       "      <td>0</td>\n",
       "      <td>049824</td>\n",
       "      <td>2016-03-30 11:39:08</td>\n",
       "      <td>936</td>\n",
       "    </tr>\n",
       "    <tr>\n",
       "      <th>280216</th>\n",
       "      <td>2016-04-02 10:53:15</td>\n",
       "      <td>0</td>\n",
       "      <td>wagon</td>\n",
       "      <td>1970</td>\n",
       "      <td>manual</td>\n",
       "      <td>NaN</td>\n",
       "      <td>serie_1</td>\n",
       "      <td>100000</td>\n",
       "      <td>0</td>\n",
       "      <td>petrol</td>\n",
       "      <td>land_rover</td>\n",
       "      <td>True</td>\n",
       "      <td>2016-04-02</td>\n",
       "      <td>0</td>\n",
       "      <td>088634</td>\n",
       "      <td>2016-04-06 09:16:22</td>\n",
       "      <td>840</td>\n",
       "    </tr>\n",
       "  </tbody>\n",
       "</table>\n",
       "</div>"
      ],
      "text/plain": [
       "               DateCrawled  Price VehicleType  RegistrationYear Gearbox  \\\n",
       "234296 2016-03-30 11:39:08   3800       wagon              1978  manual   \n",
       "280216 2016-04-02 10:53:15      0       wagon              1970  manual   \n",
       "\n",
       "        Power    Model  Kilometer  RegistrationMonth FuelType       Brand  \\\n",
       "234296    NaN  serie_1      30000                  0   petrol  land_rover   \n",
       "280216    NaN  serie_1     100000                  0   petrol  land_rover   \n",
       "\n",
       "        Repaired DateCreated  NumberOfPictures PostalCode            LastSeen  \\\n",
       "234296      True  2016-03-30                 0     049824 2016-03-30 11:39:08   \n",
       "280216      True  2016-04-02                 0     088634 2016-04-06 09:16:22   \n",
       "\n",
       "        reg_month  \n",
       "234296        936  \n",
       "280216        840  "
      ]
     },
     "execution_count": 55,
     "metadata": {},
     "output_type": "execute_result"
    }
   ],
   "source": [
    "data[data['Power'].isna()]"
   ]
  },
  {
   "cell_type": "markdown",
   "metadata": {},
   "source": [
    "Land Rover Series I комплектовался двигателем 52 л.с."
   ]
  },
  {
   "cell_type": "code",
   "execution_count": 56,
   "metadata": {},
   "outputs": [],
   "source": [
    "data = data.fillna(value={'Power':52})"
   ]
  },
  {
   "cell_type": "code",
   "execution_count": 57,
   "metadata": {},
   "outputs": [
    {
     "data": {
      "text/plain": [
       "0"
      ]
     },
     "execution_count": 57,
     "metadata": {},
     "output_type": "execute_result"
    }
   ],
   "source": [
    "data['Power'].isna().sum()"
   ]
  },
  {
   "cell_type": "code",
   "execution_count": 59,
   "metadata": {},
   "outputs": [
    {
     "data": {
      "text/plain": [
       "count   322,144.00\n",
       "mean      4,555.75\n",
       "std       4,560.57\n",
       "min           0.00\n",
       "25%       1,150.00\n",
       "50%       2,899.00\n",
       "75%       6,550.00\n",
       "max      20,000.00\n",
       "Name: Price, dtype: float64"
      ]
     },
     "execution_count": 59,
     "metadata": {},
     "output_type": "execute_result"
    }
   ],
   "source": [
    "data['Price'].describe()"
   ]
  },
  {
   "cell_type": "code",
   "execution_count": 65,
   "metadata": {},
   "outputs": [],
   "source": [
    "data = data[data['Price'] > 100]"
   ]
  },
  {
   "cell_type": "code",
   "execution_count": 66,
   "metadata": {},
   "outputs": [
    {
     "data": {
      "text/plain": [
       "count   311,278.00\n",
       "mean      4,714.31\n",
       "std       4,558.45\n",
       "min         101.00\n",
       "25%       1,270.00\n",
       "50%       2,999.00\n",
       "75%       6,800.00\n",
       "max      20,000.00\n",
       "Name: Price, dtype: float64"
      ]
     },
     "execution_count": 66,
     "metadata": {},
     "output_type": "execute_result"
    }
   ],
   "source": [
    "data['Price'].describe()"
   ]
  },
  {
   "cell_type": "markdown",
   "metadata": {},
   "source": [
    "Определение порога для аномально низких значений\n",
    "\n",
    "На основе описательной статистики данных, аномально низкие значения можно определить как те, что находятся значительно ниже 25-го процентиля. Так как 25% данных начинаются от 1,250 евро, можно рассмотреть возможность установки порога аномальности на уровне значительно ниже этого значения, например, 100. Это позволит исключить из анализа явно ошибочные или несерьезные записи, сохраняя при этом большую часть данных для моделировани"
   ]
  },
  {
   "cell_type": "markdown",
   "metadata": {},
   "source": [
    "### Этап 3. Подготовка данных к обучению"
   ]
  },
  {
   "cell_type": "markdown",
   "metadata": {},
   "source": [
    "Посмотрим на столбцы в датафрейме:"
   ]
  },
  {
   "cell_type": "code",
   "execution_count": 62,
   "metadata": {},
   "outputs": [
    {
     "data": {
      "text/plain": [
       "Index(['DateCrawled', 'Price', 'VehicleType', 'RegistrationYear', 'Gearbox',\n",
       "       'Power', 'Model', 'Kilometer', 'RegistrationMonth', 'FuelType', 'Brand',\n",
       "       'Repaired', 'DateCreated', 'NumberOfPictures', 'PostalCode', 'LastSeen',\n",
       "       'reg_month'],\n",
       "      dtype='object')"
      ]
     },
     "execution_count": 62,
     "metadata": {},
     "output_type": "execute_result"
    }
   ],
   "source": [
    "data.columns"
   ]
  },
  {
   "cell_type": "markdown",
   "metadata": {},
   "source": [
    "Целевой признак - **Price** (цена)"
   ]
  },
  {
   "cell_type": "markdown",
   "metadata": {},
   "source": [
    "Так же из признаков исключаем:\n",
    "- RegistrationYear и RegistrationMonth: их заменит RegistrationDate;\n",
    "- NumberOfPictures: все значения - нулевые;\n",
    "- DateCrawled и DateCreated: вряд ли даты создания объявления и скачивания анкеты из базы влияет на результат;\n",
    "- LastSeen: дата последней активности пользователя - по той же причине;\n",
    "- PostalCode: индексы относятся к слишком мелкой разбивке территории, чтобы по можно было делать выводы.<br />\n",
    " \n",
    "Если бы это были российские индексы, то можно было бы выделить территории по фасете. <br />\n",
    "Но в России нет индексов, начинающихся с 0, да и цены в евро как бы намекают...."
   ]
  },
  {
   "cell_type": "code",
   "execution_count": 63,
   "metadata": {},
   "outputs": [],
   "source": [
    "target = data['Price'] \n",
    "features = data.drop(['Price', 'DateCrawled','DateCreated','RegistrationYear', 'RegistrationMonth', 'PostalCode','LastSeen','NumberOfPictures'], axis=1)"
   ]
  },
  {
   "cell_type": "code",
   "execution_count": 64,
   "metadata": {},
   "outputs": [
    {
     "name": "stdout",
     "output_type": "stream",
     "text": [
      "Дубликаты в наборе признаков отсутствуют после удаления.\n"
     ]
    }
   ],
   "source": [
    "# Проверка и удаление дубликатов в измененном наборе данных\n",
    "features = features.drop_duplicates()\n",
    "\n",
    "# Проверка наличия дубликатов после их удаления\n",
    "has_duplicates_after_cleaning = features.duplicated().any()\n",
    "\n",
    "if has_duplicates_after_cleaning:\n",
    "    print(\"В наборе признаков присутствуют дубликаты после удаления.\")\n",
    "else:\n",
    "    print(\"Дубликаты в наборе признаков отсутствуют после удаления.\")"
   ]
  },
  {
   "cell_type": "markdown",
   "metadata": {},
   "source": [
    "Разбиваем выборки на тренировочную и тестовую в пропорции 75:25. <br />\n",
    "Валидационную не выделяем, так как будем использовать кросс-валидацию"
   ]
  },
  {
   "cell_type": "code",
   "execution_count": 61,
   "metadata": {},
   "outputs": [],
   "source": [
    "features_train, features_test, target_train, target_test = train_test_split(features, target, test_size=0.25, random_state=42)"
   ]
  },
  {
   "cell_type": "code",
   "execution_count": 62,
   "metadata": {
    "scrolled": true
   },
   "outputs": [
    {
     "name": "stdout",
     "output_type": "stream",
     "text": [
      "Размерность выборок\n",
      "Обучающая выборка:\n",
      "Признаки: (241608, 9)\n",
      "Целевой признак: (241608,)\n",
      "\n",
      "Тестовая выборка:\n",
      "Признаки: (80536, 9)\n",
      "Целевой признак: (80536,)\n"
     ]
    }
   ],
   "source": [
    "print('Размерность выборок')\n",
    "print('Обучающая выборка:')\n",
    "print('Признаки:',features_train.shape)\n",
    "print('Целевой признак:',target_train.shape)\n",
    "print()\n",
    "print('Тестовая выборка:')\n",
    "print('Признаки:',features_test.shape)\n",
    "print('Целевой признак:',target_test.shape)"
   ]
  },
  {
   "cell_type": "markdown",
   "metadata": {},
   "source": [
    "Сбросим индексы у выборок (для упрощения кодирования признаков):"
   ]
  },
  {
   "cell_type": "code",
   "execution_count": 63,
   "metadata": {},
   "outputs": [],
   "source": [
    "features_train = features_train.reset_index(drop=True)\n",
    "features_test  = features_test.reset_index(drop=True)\n",
    "target_train   = target_train.reset_index(drop=True) \n",
    "target_test    = target_test.reset_index(drop=True)"
   ]
  },
  {
   "cell_type": "markdown",
   "metadata": {},
   "source": [
    "Выделим 3 группы признаков:\n",
    "- Количественные;\n",
    "- Категориальные, кодируемые OrdinalEncoder (содержащие большое количество разнообразных данных - чтобы не нагружать модель);\n",
    "- Категориальные, кодируемые OneHotEncoder (содержащие небольшое количество разнообразных данных).\n"
   ]
  },
  {
   "cell_type": "code",
   "execution_count": 64,
   "metadata": {},
   "outputs": [],
   "source": [
    "numeric = ['Power', 'Kilometer', 'reg_month']"
   ]
  },
  {
   "cell_type": "code",
   "execution_count": 65,
   "metadata": {},
   "outputs": [],
   "source": [
    "oe_columns = ['Model','Brand']"
   ]
  },
  {
   "cell_type": "code",
   "execution_count": 66,
   "metadata": {},
   "outputs": [],
   "source": [
    "ohe_columns = ['VehicleType','Gearbox','FuelType']"
   ]
  },
  {
   "cell_type": "markdown",
   "metadata": {},
   "source": [
    "#### Масштабирование количественных признаков:"
   ]
  },
  {
   "cell_type": "code",
   "execution_count": 67,
   "metadata": {},
   "outputs": [],
   "source": [
    "scaler = StandardScaler()\n",
    "scaler.fit(features_train[numeric]) \n",
    "features_train[numeric] = scaler.transform(features_train[numeric])\n",
    "features_test[numeric] = scaler.transform(features_test[numeric])"
   ]
  },
  {
   "cell_type": "code",
   "execution_count": 68,
   "metadata": {},
   "outputs": [
    {
     "data": {
      "text/html": [
       "<div>\n",
       "<style scoped>\n",
       "    .dataframe tbody tr th:only-of-type {\n",
       "        vertical-align: middle;\n",
       "    }\n",
       "\n",
       "    .dataframe tbody tr th {\n",
       "        vertical-align: top;\n",
       "    }\n",
       "\n",
       "    .dataframe thead th {\n",
       "        text-align: right;\n",
       "    }\n",
       "</style>\n",
       "<table border=\"1\" class=\"dataframe\">\n",
       "  <thead>\n",
       "    <tr style=\"text-align: right;\">\n",
       "      <th></th>\n",
       "      <th>VehicleType</th>\n",
       "      <th>Gearbox</th>\n",
       "      <th>Power</th>\n",
       "      <th>Model</th>\n",
       "      <th>Kilometer</th>\n",
       "      <th>FuelType</th>\n",
       "      <th>Brand</th>\n",
       "      <th>Repaired</th>\n",
       "      <th>reg_month</th>\n",
       "    </tr>\n",
       "  </thead>\n",
       "  <tbody>\n",
       "    <tr>\n",
       "      <th>0</th>\n",
       "      <td>sedan</td>\n",
       "      <td>manual</td>\n",
       "      <td>-0.35</td>\n",
       "      <td>vectra</td>\n",
       "      <td>0.58</td>\n",
       "      <td>petrol</td>\n",
       "      <td>opel</td>\n",
       "      <td>True</td>\n",
       "      <td>-0.85</td>\n",
       "    </tr>\n",
       "    <tr>\n",
       "      <th>1</th>\n",
       "      <td>wagon</td>\n",
       "      <td>manual</td>\n",
       "      <td>0.23</td>\n",
       "      <td>mondeo</td>\n",
       "      <td>-0.76</td>\n",
       "      <td>petrol</td>\n",
       "      <td>ford</td>\n",
       "      <td>True</td>\n",
       "      <td>-0.04</td>\n",
       "    </tr>\n",
       "    <tr>\n",
       "      <th>2</th>\n",
       "      <td>small</td>\n",
       "      <td>manual</td>\n",
       "      <td>-1.01</td>\n",
       "      <td>micra</td>\n",
       "      <td>-1.03</td>\n",
       "      <td>petrol</td>\n",
       "      <td>nissan</td>\n",
       "      <td>True</td>\n",
       "      <td>0.54</td>\n",
       "    </tr>\n",
       "    <tr>\n",
       "      <th>3</th>\n",
       "      <td>bus</td>\n",
       "      <td>manual</td>\n",
       "      <td>-0.26</td>\n",
       "      <td>transporter</td>\n",
       "      <td>0.58</td>\n",
       "      <td>petrol</td>\n",
       "      <td>volkswagen</td>\n",
       "      <td>True</td>\n",
       "      <td>0.22</td>\n",
       "    </tr>\n",
       "    <tr>\n",
       "      <th>4</th>\n",
       "      <td>wagon</td>\n",
       "      <td>manual</td>\n",
       "      <td>0.10</td>\n",
       "      <td>avensis</td>\n",
       "      <td>0.58</td>\n",
       "      <td>petrol</td>\n",
       "      <td>toyota</td>\n",
       "      <td>True</td>\n",
       "      <td>1.17</td>\n",
       "    </tr>\n",
       "  </tbody>\n",
       "</table>\n",
       "</div>"
      ],
      "text/plain": [
       "  VehicleType Gearbox  Power        Model  Kilometer FuelType       Brand  \\\n",
       "0       sedan  manual  -0.35       vectra       0.58   petrol        opel   \n",
       "1       wagon  manual   0.23       mondeo      -0.76   petrol        ford   \n",
       "2       small  manual  -1.01        micra      -1.03   petrol      nissan   \n",
       "3         bus  manual  -0.26  transporter       0.58   petrol  volkswagen   \n",
       "4       wagon  manual   0.10      avensis       0.58   petrol      toyota   \n",
       "\n",
       "   Repaired  reg_month  \n",
       "0      True      -0.85  \n",
       "1      True      -0.04  \n",
       "2      True       0.54  \n",
       "3      True       0.22  \n",
       "4      True       1.17  "
      ]
     },
     "execution_count": 68,
     "metadata": {},
     "output_type": "execute_result"
    }
   ],
   "source": [
    "features_train.head()"
   ]
  },
  {
   "cell_type": "markdown",
   "metadata": {},
   "source": [
    "#### Кодирование признаков\n",
    "\n",
    "Кодирование OrdinalEncoder"
   ]
  },
  {
   "cell_type": "code",
   "execution_count": 69,
   "metadata": {},
   "outputs": [
    {
     "data": {
      "text/plain": [
       "OrdinalEncoder()"
      ]
     },
     "execution_count": 69,
     "metadata": {},
     "output_type": "execute_result"
    }
   ],
   "source": [
    "encoder_oe = OrdinalEncoder()\n",
    "encoder_oe.fit(features_train[oe_columns])"
   ]
  },
  {
   "cell_type": "code",
   "execution_count": 70,
   "metadata": {},
   "outputs": [],
   "source": [
    "oe_cols = pd.DataFrame(data=encoder_oe.transform(features_train[oe_columns]),columns=oe_columns)\n",
    "features_train = features_train.drop(oe_columns, axis=1)\n",
    "features_train[oe_columns] = oe_cols\n",
    "\n",
    "oe_cols = pd.DataFrame(data=encoder_oe.transform(features_test[oe_columns]),columns=oe_columns)\n",
    "features_test = features_test.drop(oe_columns, axis=1)\n",
    "features_test[oe_columns] = oe_cols"
   ]
  },
  {
   "cell_type": "code",
   "execution_count": 71,
   "metadata": {},
   "outputs": [
    {
     "data": {
      "text/html": [
       "<div>\n",
       "<style scoped>\n",
       "    .dataframe tbody tr th:only-of-type {\n",
       "        vertical-align: middle;\n",
       "    }\n",
       "\n",
       "    .dataframe tbody tr th {\n",
       "        vertical-align: top;\n",
       "    }\n",
       "\n",
       "    .dataframe thead th {\n",
       "        text-align: right;\n",
       "    }\n",
       "</style>\n",
       "<table border=\"1\" class=\"dataframe\">\n",
       "  <thead>\n",
       "    <tr style=\"text-align: right;\">\n",
       "      <th></th>\n",
       "      <th>VehicleType</th>\n",
       "      <th>Gearbox</th>\n",
       "      <th>Power</th>\n",
       "      <th>Kilometer</th>\n",
       "      <th>FuelType</th>\n",
       "      <th>Repaired</th>\n",
       "      <th>reg_month</th>\n",
       "      <th>Model</th>\n",
       "      <th>Brand</th>\n",
       "    </tr>\n",
       "  </thead>\n",
       "  <tbody>\n",
       "    <tr>\n",
       "      <th>0</th>\n",
       "      <td>sedan</td>\n",
       "      <td>manual</td>\n",
       "      <td>-0.35</td>\n",
       "      <td>0.58</td>\n",
       "      <td>petrol</td>\n",
       "      <td>True</td>\n",
       "      <td>-0.85</td>\n",
       "      <td>234.00</td>\n",
       "      <td>24.00</td>\n",
       "    </tr>\n",
       "    <tr>\n",
       "      <th>1</th>\n",
       "      <td>wagon</td>\n",
       "      <td>manual</td>\n",
       "      <td>0.23</td>\n",
       "      <td>-0.76</td>\n",
       "      <td>petrol</td>\n",
       "      <td>True</td>\n",
       "      <td>-0.04</td>\n",
       "      <td>154.00</td>\n",
       "      <td>10.00</td>\n",
       "    </tr>\n",
       "    <tr>\n",
       "      <th>2</th>\n",
       "      <td>small</td>\n",
       "      <td>manual</td>\n",
       "      <td>-1.01</td>\n",
       "      <td>-1.03</td>\n",
       "      <td>petrol</td>\n",
       "      <td>True</td>\n",
       "      <td>0.54</td>\n",
       "      <td>151.00</td>\n",
       "      <td>23.00</td>\n",
       "    </tr>\n",
       "    <tr>\n",
       "      <th>3</th>\n",
       "      <td>bus</td>\n",
       "      <td>manual</td>\n",
       "      <td>-0.26</td>\n",
       "      <td>0.58</td>\n",
       "      <td>petrol</td>\n",
       "      <td>True</td>\n",
       "      <td>0.22</td>\n",
       "      <td>224.00</td>\n",
       "      <td>37.00</td>\n",
       "    </tr>\n",
       "    <tr>\n",
       "      <th>4</th>\n",
       "      <td>wagon</td>\n",
       "      <td>manual</td>\n",
       "      <td>0.10</td>\n",
       "      <td>0.58</td>\n",
       "      <td>petrol</td>\n",
       "      <td>True</td>\n",
       "      <td>1.17</td>\n",
       "      <td>44.00</td>\n",
       "      <td>35.00</td>\n",
       "    </tr>\n",
       "  </tbody>\n",
       "</table>\n",
       "</div>"
      ],
      "text/plain": [
       "  VehicleType Gearbox  Power  Kilometer FuelType  Repaired  reg_month  Model  \\\n",
       "0       sedan  manual  -0.35       0.58   petrol      True      -0.85 234.00   \n",
       "1       wagon  manual   0.23      -0.76   petrol      True      -0.04 154.00   \n",
       "2       small  manual  -1.01      -1.03   petrol      True       0.54 151.00   \n",
       "3         bus  manual  -0.26       0.58   petrol      True       0.22 224.00   \n",
       "4       wagon  manual   0.10       0.58   petrol      True       1.17  44.00   \n",
       "\n",
       "   Brand  \n",
       "0  24.00  \n",
       "1  10.00  \n",
       "2  23.00  \n",
       "3  37.00  \n",
       "4  35.00  "
      ]
     },
     "execution_count": 71,
     "metadata": {},
     "output_type": "execute_result"
    }
   ],
   "source": [
    "features_train.head()"
   ]
  },
  {
   "cell_type": "code",
   "execution_count": 72,
   "metadata": {},
   "outputs": [
    {
     "data": {
      "text/html": [
       "<div>\n",
       "<style scoped>\n",
       "    .dataframe tbody tr th:only-of-type {\n",
       "        vertical-align: middle;\n",
       "    }\n",
       "\n",
       "    .dataframe tbody tr th {\n",
       "        vertical-align: top;\n",
       "    }\n",
       "\n",
       "    .dataframe thead th {\n",
       "        text-align: right;\n",
       "    }\n",
       "</style>\n",
       "<table border=\"1\" class=\"dataframe\">\n",
       "  <thead>\n",
       "    <tr style=\"text-align: right;\">\n",
       "      <th></th>\n",
       "      <th>VehicleType</th>\n",
       "      <th>Gearbox</th>\n",
       "      <th>Power</th>\n",
       "      <th>Kilometer</th>\n",
       "      <th>FuelType</th>\n",
       "      <th>Repaired</th>\n",
       "      <th>reg_month</th>\n",
       "      <th>Model</th>\n",
       "      <th>Brand</th>\n",
       "    </tr>\n",
       "  </thead>\n",
       "  <tbody>\n",
       "    <tr>\n",
       "      <th>0</th>\n",
       "      <td>sedan</td>\n",
       "      <td>manual</td>\n",
       "      <td>0.59</td>\n",
       "      <td>0.58</td>\n",
       "      <td>petrol</td>\n",
       "      <td>True</td>\n",
       "      <td>-0.68</td>\n",
       "      <td>116.00</td>\n",
       "      <td>37.00</td>\n",
       "    </tr>\n",
       "    <tr>\n",
       "      <th>1</th>\n",
       "      <td>bus</td>\n",
       "      <td>manual</td>\n",
       "      <td>-0.44</td>\n",
       "      <td>0.58</td>\n",
       "      <td>petrol</td>\n",
       "      <td>True</td>\n",
       "      <td>0.61</td>\n",
       "      <td>237.00</td>\n",
       "      <td>20.00</td>\n",
       "    </tr>\n",
       "    <tr>\n",
       "      <th>2</th>\n",
       "      <td>wagon</td>\n",
       "      <td>manual</td>\n",
       "      <td>0.06</td>\n",
       "      <td>0.58</td>\n",
       "      <td>petrol</td>\n",
       "      <td>True</td>\n",
       "      <td>0.08</td>\n",
       "      <td>59.00</td>\n",
       "      <td>20.00</td>\n",
       "    </tr>\n",
       "    <tr>\n",
       "      <th>3</th>\n",
       "      <td>wagon</td>\n",
       "      <td>manual</td>\n",
       "      <td>-1.01</td>\n",
       "      <td>0.58</td>\n",
       "      <td>petrol</td>\n",
       "      <td>True</td>\n",
       "      <td>-0.79</td>\n",
       "      <td>166.00</td>\n",
       "      <td>30.00</td>\n",
       "    </tr>\n",
       "    <tr>\n",
       "      <th>4</th>\n",
       "      <td>bus</td>\n",
       "      <td>manual</td>\n",
       "      <td>-0.16</td>\n",
       "      <td>0.58</td>\n",
       "      <td>petrol</td>\n",
       "      <td>True</td>\n",
       "      <td>-0.75</td>\n",
       "      <td>204.00</td>\n",
       "      <td>37.00</td>\n",
       "    </tr>\n",
       "  </tbody>\n",
       "</table>\n",
       "</div>"
      ],
      "text/plain": [
       "  VehicleType Gearbox  Power  Kilometer FuelType  Repaired  reg_month  Model  \\\n",
       "0       sedan  manual   0.59       0.58   petrol      True      -0.68 116.00   \n",
       "1         bus  manual  -0.44       0.58   petrol      True       0.61 237.00   \n",
       "2       wagon  manual   0.06       0.58   petrol      True       0.08  59.00   \n",
       "3       wagon  manual  -1.01       0.58   petrol      True      -0.79 166.00   \n",
       "4         bus  manual  -0.16       0.58   petrol      True      -0.75 204.00   \n",
       "\n",
       "   Brand  \n",
       "0  37.00  \n",
       "1  20.00  \n",
       "2  20.00  \n",
       "3  30.00  \n",
       "4  37.00  "
      ]
     },
     "execution_count": 72,
     "metadata": {},
     "output_type": "execute_result"
    }
   ],
   "source": [
    "features_test.head()"
   ]
  },
  {
   "cell_type": "code",
   "execution_count": 73,
   "metadata": {},
   "outputs": [
    {
     "data": {
      "text/plain": [
       "VehicleType    0\n",
       "Gearbox        0\n",
       "Power          0\n",
       "Kilometer      0\n",
       "FuelType       0\n",
       "Repaired       0\n",
       "reg_month      0\n",
       "Model          0\n",
       "Brand          0\n",
       "dtype: int64"
      ]
     },
     "execution_count": 73,
     "metadata": {},
     "output_type": "execute_result"
    }
   ],
   "source": [
    "features_train.isna().sum()"
   ]
  },
  {
   "cell_type": "markdown",
   "metadata": {},
   "source": [
    "#### Кодирование OHE"
   ]
  },
  {
   "cell_type": "code",
   "execution_count": 75,
   "metadata": {},
   "outputs": [
    {
     "data": {
      "text/plain": [
       "OneHotEncoder(drop='first', sparse=False)"
      ]
     },
     "execution_count": 75,
     "metadata": {},
     "output_type": "execute_result"
    }
   ],
   "source": [
    "encoder_ohe = OneHotEncoder(drop='first', handle_unknown='error', sparse=False)\n",
    "encoder_ohe.fit(features_train[ohe_columns])"
   ]
  },
  {
   "cell_type": "code",
   "execution_count": 76,
   "metadata": {},
   "outputs": [],
   "source": [
    "try:\n",
    "    new_columns = encoder_ohe.get_feature_names_out()\n",
    "    new_columns\n",
    "except:\n",
    "    new_columns = encoder_ohe.get_feature_names()\n",
    "    new_columns\n",
    "    "
   ]
  },
  {
   "cell_type": "code",
   "execution_count": 77,
   "metadata": {},
   "outputs": [],
   "source": [
    "features_train[new_columns] = encoder_ohe.transform(features_train[ohe_columns])\n",
    "features_train = features_train.drop(ohe_columns, axis=1)"
   ]
  },
  {
   "cell_type": "code",
   "execution_count": 78,
   "metadata": {},
   "outputs": [],
   "source": [
    "features_test[new_columns] = encoder_ohe.transform(features_test[ohe_columns])\n",
    "features_test = features_test.drop(ohe_columns, axis=1)"
   ]
  },
  {
   "cell_type": "code",
   "execution_count": 79,
   "metadata": {},
   "outputs": [
    {
     "data": {
      "text/html": [
       "<div>\n",
       "<style scoped>\n",
       "    .dataframe tbody tr th:only-of-type {\n",
       "        vertical-align: middle;\n",
       "    }\n",
       "\n",
       "    .dataframe tbody tr th {\n",
       "        vertical-align: top;\n",
       "    }\n",
       "\n",
       "    .dataframe thead th {\n",
       "        text-align: right;\n",
       "    }\n",
       "</style>\n",
       "<table border=\"1\" class=\"dataframe\">\n",
       "  <thead>\n",
       "    <tr style=\"text-align: right;\">\n",
       "      <th></th>\n",
       "      <th>Power</th>\n",
       "      <th>Kilometer</th>\n",
       "      <th>Repaired</th>\n",
       "      <th>reg_month</th>\n",
       "      <th>Model</th>\n",
       "      <th>Brand</th>\n",
       "      <th>x0_convertible</th>\n",
       "      <th>x0_coupe</th>\n",
       "      <th>x0_other</th>\n",
       "      <th>x0_sedan</th>\n",
       "      <th>x0_small</th>\n",
       "      <th>x0_suv</th>\n",
       "      <th>x0_wagon</th>\n",
       "      <th>x1_manual</th>\n",
       "      <th>x2_electric</th>\n",
       "      <th>x2_hybrid</th>\n",
       "      <th>x2_lpg</th>\n",
       "      <th>x2_other</th>\n",
       "      <th>x2_petrol</th>\n",
       "    </tr>\n",
       "  </thead>\n",
       "  <tbody>\n",
       "    <tr>\n",
       "      <th>0</th>\n",
       "      <td>-0.35</td>\n",
       "      <td>0.58</td>\n",
       "      <td>True</td>\n",
       "      <td>-0.85</td>\n",
       "      <td>234.00</td>\n",
       "      <td>24.00</td>\n",
       "      <td>0.00</td>\n",
       "      <td>0.00</td>\n",
       "      <td>0.00</td>\n",
       "      <td>1.00</td>\n",
       "      <td>0.00</td>\n",
       "      <td>0.00</td>\n",
       "      <td>0.00</td>\n",
       "      <td>1.00</td>\n",
       "      <td>0.00</td>\n",
       "      <td>0.00</td>\n",
       "      <td>0.00</td>\n",
       "      <td>0.00</td>\n",
       "      <td>1.00</td>\n",
       "    </tr>\n",
       "    <tr>\n",
       "      <th>1</th>\n",
       "      <td>0.23</td>\n",
       "      <td>-0.76</td>\n",
       "      <td>True</td>\n",
       "      <td>-0.04</td>\n",
       "      <td>154.00</td>\n",
       "      <td>10.00</td>\n",
       "      <td>0.00</td>\n",
       "      <td>0.00</td>\n",
       "      <td>0.00</td>\n",
       "      <td>0.00</td>\n",
       "      <td>0.00</td>\n",
       "      <td>0.00</td>\n",
       "      <td>1.00</td>\n",
       "      <td>1.00</td>\n",
       "      <td>0.00</td>\n",
       "      <td>0.00</td>\n",
       "      <td>0.00</td>\n",
       "      <td>0.00</td>\n",
       "      <td>1.00</td>\n",
       "    </tr>\n",
       "    <tr>\n",
       "      <th>2</th>\n",
       "      <td>-1.01</td>\n",
       "      <td>-1.03</td>\n",
       "      <td>True</td>\n",
       "      <td>0.54</td>\n",
       "      <td>151.00</td>\n",
       "      <td>23.00</td>\n",
       "      <td>0.00</td>\n",
       "      <td>0.00</td>\n",
       "      <td>0.00</td>\n",
       "      <td>0.00</td>\n",
       "      <td>1.00</td>\n",
       "      <td>0.00</td>\n",
       "      <td>0.00</td>\n",
       "      <td>1.00</td>\n",
       "      <td>0.00</td>\n",
       "      <td>0.00</td>\n",
       "      <td>0.00</td>\n",
       "      <td>0.00</td>\n",
       "      <td>1.00</td>\n",
       "    </tr>\n",
       "    <tr>\n",
       "      <th>3</th>\n",
       "      <td>-0.26</td>\n",
       "      <td>0.58</td>\n",
       "      <td>True</td>\n",
       "      <td>0.22</td>\n",
       "      <td>224.00</td>\n",
       "      <td>37.00</td>\n",
       "      <td>0.00</td>\n",
       "      <td>0.00</td>\n",
       "      <td>0.00</td>\n",
       "      <td>0.00</td>\n",
       "      <td>0.00</td>\n",
       "      <td>0.00</td>\n",
       "      <td>0.00</td>\n",
       "      <td>1.00</td>\n",
       "      <td>0.00</td>\n",
       "      <td>0.00</td>\n",
       "      <td>0.00</td>\n",
       "      <td>0.00</td>\n",
       "      <td>1.00</td>\n",
       "    </tr>\n",
       "    <tr>\n",
       "      <th>4</th>\n",
       "      <td>0.10</td>\n",
       "      <td>0.58</td>\n",
       "      <td>True</td>\n",
       "      <td>1.17</td>\n",
       "      <td>44.00</td>\n",
       "      <td>35.00</td>\n",
       "      <td>0.00</td>\n",
       "      <td>0.00</td>\n",
       "      <td>0.00</td>\n",
       "      <td>0.00</td>\n",
       "      <td>0.00</td>\n",
       "      <td>0.00</td>\n",
       "      <td>1.00</td>\n",
       "      <td>1.00</td>\n",
       "      <td>0.00</td>\n",
       "      <td>0.00</td>\n",
       "      <td>0.00</td>\n",
       "      <td>0.00</td>\n",
       "      <td>1.00</td>\n",
       "    </tr>\n",
       "  </tbody>\n",
       "</table>\n",
       "</div>"
      ],
      "text/plain": [
       "   Power  Kilometer  Repaired  reg_month  Model  Brand  x0_convertible  \\\n",
       "0  -0.35       0.58      True      -0.85 234.00  24.00            0.00   \n",
       "1   0.23      -0.76      True      -0.04 154.00  10.00            0.00   \n",
       "2  -1.01      -1.03      True       0.54 151.00  23.00            0.00   \n",
       "3  -0.26       0.58      True       0.22 224.00  37.00            0.00   \n",
       "4   0.10       0.58      True       1.17  44.00  35.00            0.00   \n",
       "\n",
       "   x0_coupe  x0_other  x0_sedan  x0_small  x0_suv  x0_wagon  x1_manual  \\\n",
       "0      0.00      0.00      1.00      0.00    0.00      0.00       1.00   \n",
       "1      0.00      0.00      0.00      0.00    0.00      1.00       1.00   \n",
       "2      0.00      0.00      0.00      1.00    0.00      0.00       1.00   \n",
       "3      0.00      0.00      0.00      0.00    0.00      0.00       1.00   \n",
       "4      0.00      0.00      0.00      0.00    0.00      1.00       1.00   \n",
       "\n",
       "   x2_electric  x2_hybrid  x2_lpg  x2_other  x2_petrol  \n",
       "0         0.00       0.00    0.00      0.00       1.00  \n",
       "1         0.00       0.00    0.00      0.00       1.00  \n",
       "2         0.00       0.00    0.00      0.00       1.00  \n",
       "3         0.00       0.00    0.00      0.00       1.00  \n",
       "4         0.00       0.00    0.00      0.00       1.00  "
      ]
     },
     "execution_count": 79,
     "metadata": {},
     "output_type": "execute_result"
    }
   ],
   "source": [
    "features_train.head()"
   ]
  },
  {
   "cell_type": "code",
   "execution_count": 80,
   "metadata": {},
   "outputs": [
    {
     "data": {
      "text/html": [
       "<div>\n",
       "<style scoped>\n",
       "    .dataframe tbody tr th:only-of-type {\n",
       "        vertical-align: middle;\n",
       "    }\n",
       "\n",
       "    .dataframe tbody tr th {\n",
       "        vertical-align: top;\n",
       "    }\n",
       "\n",
       "    .dataframe thead th {\n",
       "        text-align: right;\n",
       "    }\n",
       "</style>\n",
       "<table border=\"1\" class=\"dataframe\">\n",
       "  <thead>\n",
       "    <tr style=\"text-align: right;\">\n",
       "      <th></th>\n",
       "      <th>Power</th>\n",
       "      <th>Kilometer</th>\n",
       "      <th>Repaired</th>\n",
       "      <th>reg_month</th>\n",
       "      <th>Model</th>\n",
       "      <th>Brand</th>\n",
       "      <th>x0_convertible</th>\n",
       "      <th>x0_coupe</th>\n",
       "      <th>x0_other</th>\n",
       "      <th>x0_sedan</th>\n",
       "      <th>x0_small</th>\n",
       "      <th>x0_suv</th>\n",
       "      <th>x0_wagon</th>\n",
       "      <th>x1_manual</th>\n",
       "      <th>x2_electric</th>\n",
       "      <th>x2_hybrid</th>\n",
       "      <th>x2_lpg</th>\n",
       "      <th>x2_other</th>\n",
       "      <th>x2_petrol</th>\n",
       "    </tr>\n",
       "  </thead>\n",
       "  <tbody>\n",
       "    <tr>\n",
       "      <th>0</th>\n",
       "      <td>0.59</td>\n",
       "      <td>0.58</td>\n",
       "      <td>True</td>\n",
       "      <td>-0.68</td>\n",
       "      <td>116.00</td>\n",
       "      <td>37.00</td>\n",
       "      <td>0.00</td>\n",
       "      <td>0.00</td>\n",
       "      <td>0.00</td>\n",
       "      <td>1.00</td>\n",
       "      <td>0.00</td>\n",
       "      <td>0.00</td>\n",
       "      <td>0.00</td>\n",
       "      <td>1.00</td>\n",
       "      <td>0.00</td>\n",
       "      <td>0.00</td>\n",
       "      <td>0.00</td>\n",
       "      <td>0.00</td>\n",
       "      <td>1.00</td>\n",
       "    </tr>\n",
       "    <tr>\n",
       "      <th>1</th>\n",
       "      <td>-0.44</td>\n",
       "      <td>0.58</td>\n",
       "      <td>True</td>\n",
       "      <td>0.61</td>\n",
       "      <td>237.00</td>\n",
       "      <td>20.00</td>\n",
       "      <td>0.00</td>\n",
       "      <td>0.00</td>\n",
       "      <td>0.00</td>\n",
       "      <td>0.00</td>\n",
       "      <td>0.00</td>\n",
       "      <td>0.00</td>\n",
       "      <td>0.00</td>\n",
       "      <td>1.00</td>\n",
       "      <td>0.00</td>\n",
       "      <td>0.00</td>\n",
       "      <td>0.00</td>\n",
       "      <td>0.00</td>\n",
       "      <td>1.00</td>\n",
       "    </tr>\n",
       "    <tr>\n",
       "      <th>2</th>\n",
       "      <td>0.06</td>\n",
       "      <td>0.58</td>\n",
       "      <td>True</td>\n",
       "      <td>0.08</td>\n",
       "      <td>59.00</td>\n",
       "      <td>20.00</td>\n",
       "      <td>0.00</td>\n",
       "      <td>0.00</td>\n",
       "      <td>0.00</td>\n",
       "      <td>0.00</td>\n",
       "      <td>0.00</td>\n",
       "      <td>0.00</td>\n",
       "      <td>1.00</td>\n",
       "      <td>1.00</td>\n",
       "      <td>0.00</td>\n",
       "      <td>0.00</td>\n",
       "      <td>0.00</td>\n",
       "      <td>0.00</td>\n",
       "      <td>1.00</td>\n",
       "    </tr>\n",
       "    <tr>\n",
       "      <th>3</th>\n",
       "      <td>-1.01</td>\n",
       "      <td>0.58</td>\n",
       "      <td>True</td>\n",
       "      <td>-0.79</td>\n",
       "      <td>166.00</td>\n",
       "      <td>30.00</td>\n",
       "      <td>0.00</td>\n",
       "      <td>0.00</td>\n",
       "      <td>0.00</td>\n",
       "      <td>0.00</td>\n",
       "      <td>0.00</td>\n",
       "      <td>0.00</td>\n",
       "      <td>1.00</td>\n",
       "      <td>1.00</td>\n",
       "      <td>0.00</td>\n",
       "      <td>0.00</td>\n",
       "      <td>0.00</td>\n",
       "      <td>0.00</td>\n",
       "      <td>1.00</td>\n",
       "    </tr>\n",
       "    <tr>\n",
       "      <th>4</th>\n",
       "      <td>-0.16</td>\n",
       "      <td>0.58</td>\n",
       "      <td>True</td>\n",
       "      <td>-0.75</td>\n",
       "      <td>204.00</td>\n",
       "      <td>37.00</td>\n",
       "      <td>0.00</td>\n",
       "      <td>0.00</td>\n",
       "      <td>0.00</td>\n",
       "      <td>0.00</td>\n",
       "      <td>0.00</td>\n",
       "      <td>0.00</td>\n",
       "      <td>0.00</td>\n",
       "      <td>1.00</td>\n",
       "      <td>0.00</td>\n",
       "      <td>0.00</td>\n",
       "      <td>0.00</td>\n",
       "      <td>0.00</td>\n",
       "      <td>1.00</td>\n",
       "    </tr>\n",
       "  </tbody>\n",
       "</table>\n",
       "</div>"
      ],
      "text/plain": [
       "   Power  Kilometer  Repaired  reg_month  Model  Brand  x0_convertible  \\\n",
       "0   0.59       0.58      True      -0.68 116.00  37.00            0.00   \n",
       "1  -0.44       0.58      True       0.61 237.00  20.00            0.00   \n",
       "2   0.06       0.58      True       0.08  59.00  20.00            0.00   \n",
       "3  -1.01       0.58      True      -0.79 166.00  30.00            0.00   \n",
       "4  -0.16       0.58      True      -0.75 204.00  37.00            0.00   \n",
       "\n",
       "   x0_coupe  x0_other  x0_sedan  x0_small  x0_suv  x0_wagon  x1_manual  \\\n",
       "0      0.00      0.00      1.00      0.00    0.00      0.00       1.00   \n",
       "1      0.00      0.00      0.00      0.00    0.00      0.00       1.00   \n",
       "2      0.00      0.00      0.00      0.00    0.00      1.00       1.00   \n",
       "3      0.00      0.00      0.00      0.00    0.00      1.00       1.00   \n",
       "4      0.00      0.00      0.00      0.00    0.00      0.00       1.00   \n",
       "\n",
       "   x2_electric  x2_hybrid  x2_lpg  x2_other  x2_petrol  \n",
       "0         0.00       0.00    0.00      0.00       1.00  \n",
       "1         0.00       0.00    0.00      0.00       1.00  \n",
       "2         0.00       0.00    0.00      0.00       1.00  \n",
       "3         0.00       0.00    0.00      0.00       1.00  \n",
       "4         0.00       0.00    0.00      0.00       1.00  "
      ]
     },
     "execution_count": 80,
     "metadata": {},
     "output_type": "execute_result"
    }
   ],
   "source": [
    "features_test.head()"
   ]
  },
  {
   "cell_type": "markdown",
   "metadata": {},
   "source": [
    "#### Корелляция признаков"
   ]
  },
  {
   "cell_type": "markdown",
   "metadata": {},
   "source": [
    "Проверим корелляцию признаков после преобразования:"
   ]
  },
  {
   "cell_type": "code",
   "execution_count": 81,
   "metadata": {},
   "outputs": [
    {
     "data": {
      "image/png": "[encoded data removed]",
      "text/plain": [
       "<Figure size 1152x432 with 2 Axes>"
      ]
     },
     "metadata": {
      "needs_background": "light"
     },
     "output_type": "display_data"
    }
   ],
   "source": [
    "plt.figure(figsize=(16, 6))\n",
    "mask = np.triu(np.ones_like(features_train.corr(), dtype=np.bool))\n",
    "heatmap = sns.heatmap(features_train.corr(), mask=mask, vmin=-1, vmax=1, annot=True, cmap='BrBG')\n",
    "plt.show()"
   ]
  },
  {
   "cell_type": "markdown",
   "metadata": {},
   "source": [
    "Очень высокая обратная корелляция между признаками petrol и lpg (-0.92)<br />\n",
    "Во избежание Dummy-ловушки, один из них надо убрать.\n",
    "Кроме того, чисто логически, есть взаимосвязь между брендом и моделью автомобиля. Имеет смысл убрать признак Brand"
   ]
  },
  {
   "cell_type": "code",
   "execution_count": 82,
   "metadata": {},
   "outputs": [],
   "source": [
    "try:\n",
    "    features_train = features_train.drop(['Brand', 'FuelType_lpg'], axis=1)\n",
    "    features_test = features_test.drop(['Brand', 'FuelType_lpg'], axis=1)\n",
    "except:\n",
    "    features_train = features_train.drop(['Brand', 'x2_lpg'], axis=1)\n",
    "    features_test = features_test.drop(['Brand', 'x2_lpg'], axis=1)"
   ]
  },
  {
   "cell_type": "markdown",
   "metadata": {},
   "source": [
    "Данные готовы к обучению моделей"
   ]
  },
  {
   "cell_type": "markdown",
   "metadata": {},
   "source": [
    "#### Итоги подготовки данных:"
   ]
  },
  {
   "cell_type": "code",
   "execution_count": 83,
   "metadata": {
    "scrolled": true
   },
   "outputs": [
    {
     "data": {
      "text/html": [
       "<div>\n",
       "<style scoped>\n",
       "    .dataframe tbody tr th:only-of-type {\n",
       "        vertical-align: middle;\n",
       "    }\n",
       "\n",
       "    .dataframe tbody tr th {\n",
       "        vertical-align: top;\n",
       "    }\n",
       "\n",
       "    .dataframe thead th {\n",
       "        text-align: right;\n",
       "    }\n",
       "</style>\n",
       "<table border=\"1\" class=\"dataframe\">\n",
       "  <thead>\n",
       "    <tr style=\"text-align: right;\">\n",
       "      <th></th>\n",
       "      <th>Power</th>\n",
       "      <th>Kilometer</th>\n",
       "      <th>Repaired</th>\n",
       "      <th>reg_month</th>\n",
       "      <th>Model</th>\n",
       "      <th>x0_convertible</th>\n",
       "      <th>x0_coupe</th>\n",
       "      <th>x0_other</th>\n",
       "      <th>x0_sedan</th>\n",
       "      <th>x0_small</th>\n",
       "      <th>x0_suv</th>\n",
       "      <th>x0_wagon</th>\n",
       "      <th>x1_manual</th>\n",
       "      <th>x2_electric</th>\n",
       "      <th>x2_hybrid</th>\n",
       "      <th>x2_other</th>\n",
       "      <th>x2_petrol</th>\n",
       "    </tr>\n",
       "  </thead>\n",
       "  <tbody>\n",
       "    <tr>\n",
       "      <th>0</th>\n",
       "      <td>-0.35</td>\n",
       "      <td>0.58</td>\n",
       "      <td>True</td>\n",
       "      <td>-0.85</td>\n",
       "      <td>234.00</td>\n",
       "      <td>0.00</td>\n",
       "      <td>0.00</td>\n",
       "      <td>0.00</td>\n",
       "      <td>1.00</td>\n",
       "      <td>0.00</td>\n",
       "      <td>0.00</td>\n",
       "      <td>0.00</td>\n",
       "      <td>1.00</td>\n",
       "      <td>0.00</td>\n",
       "      <td>0.00</td>\n",
       "      <td>0.00</td>\n",
       "      <td>1.00</td>\n",
       "    </tr>\n",
       "    <tr>\n",
       "      <th>1</th>\n",
       "      <td>0.23</td>\n",
       "      <td>-0.76</td>\n",
       "      <td>True</td>\n",
       "      <td>-0.04</td>\n",
       "      <td>154.00</td>\n",
       "      <td>0.00</td>\n",
       "      <td>0.00</td>\n",
       "      <td>0.00</td>\n",
       "      <td>0.00</td>\n",
       "      <td>0.00</td>\n",
       "      <td>0.00</td>\n",
       "      <td>1.00</td>\n",
       "      <td>1.00</td>\n",
       "      <td>0.00</td>\n",
       "      <td>0.00</td>\n",
       "      <td>0.00</td>\n",
       "      <td>1.00</td>\n",
       "    </tr>\n",
       "    <tr>\n",
       "      <th>2</th>\n",
       "      <td>-1.01</td>\n",
       "      <td>-1.03</td>\n",
       "      <td>True</td>\n",
       "      <td>0.54</td>\n",
       "      <td>151.00</td>\n",
       "      <td>0.00</td>\n",
       "      <td>0.00</td>\n",
       "      <td>0.00</td>\n",
       "      <td>0.00</td>\n",
       "      <td>1.00</td>\n",
       "      <td>0.00</td>\n",
       "      <td>0.00</td>\n",
       "      <td>1.00</td>\n",
       "      <td>0.00</td>\n",
       "      <td>0.00</td>\n",
       "      <td>0.00</td>\n",
       "      <td>1.00</td>\n",
       "    </tr>\n",
       "    <tr>\n",
       "      <th>3</th>\n",
       "      <td>-0.26</td>\n",
       "      <td>0.58</td>\n",
       "      <td>True</td>\n",
       "      <td>0.22</td>\n",
       "      <td>224.00</td>\n",
       "      <td>0.00</td>\n",
       "      <td>0.00</td>\n",
       "      <td>0.00</td>\n",
       "      <td>0.00</td>\n",
       "      <td>0.00</td>\n",
       "      <td>0.00</td>\n",
       "      <td>0.00</td>\n",
       "      <td>1.00</td>\n",
       "      <td>0.00</td>\n",
       "      <td>0.00</td>\n",
       "      <td>0.00</td>\n",
       "      <td>1.00</td>\n",
       "    </tr>\n",
       "    <tr>\n",
       "      <th>4</th>\n",
       "      <td>0.10</td>\n",
       "      <td>0.58</td>\n",
       "      <td>True</td>\n",
       "      <td>1.17</td>\n",
       "      <td>44.00</td>\n",
       "      <td>0.00</td>\n",
       "      <td>0.00</td>\n",
       "      <td>0.00</td>\n",
       "      <td>0.00</td>\n",
       "      <td>0.00</td>\n",
       "      <td>0.00</td>\n",
       "      <td>1.00</td>\n",
       "      <td>1.00</td>\n",
       "      <td>0.00</td>\n",
       "      <td>0.00</td>\n",
       "      <td>0.00</td>\n",
       "      <td>1.00</td>\n",
       "    </tr>\n",
       "  </tbody>\n",
       "</table>\n",
       "</div>"
      ],
      "text/plain": [
       "   Power  Kilometer  Repaired  reg_month  Model  x0_convertible  x0_coupe  \\\n",
       "0  -0.35       0.58      True      -0.85 234.00            0.00      0.00   \n",
       "1   0.23      -0.76      True      -0.04 154.00            0.00      0.00   \n",
       "2  -1.01      -1.03      True       0.54 151.00            0.00      0.00   \n",
       "3  -0.26       0.58      True       0.22 224.00            0.00      0.00   \n",
       "4   0.10       0.58      True       1.17  44.00            0.00      0.00   \n",
       "\n",
       "   x0_other  x0_sedan  x0_small  x0_suv  x0_wagon  x1_manual  x2_electric  \\\n",
       "0      0.00      1.00      0.00    0.00      0.00       1.00         0.00   \n",
       "1      0.00      0.00      0.00    0.00      1.00       1.00         0.00   \n",
       "2      0.00      0.00      1.00    0.00      0.00       1.00         0.00   \n",
       "3      0.00      0.00      0.00    0.00      0.00       1.00         0.00   \n",
       "4      0.00      0.00      0.00    0.00      1.00       1.00         0.00   \n",
       "\n",
       "   x2_hybrid  x2_other  x2_petrol  \n",
       "0       0.00      0.00       1.00  \n",
       "1       0.00      0.00       1.00  \n",
       "2       0.00      0.00       1.00  \n",
       "3       0.00      0.00       1.00  \n",
       "4       0.00      0.00       1.00  "
      ]
     },
     "execution_count": 83,
     "metadata": {},
     "output_type": "execute_result"
    }
   ],
   "source": [
    "features_train.head()"
   ]
  },
  {
   "cell_type": "code",
   "execution_count": 84,
   "metadata": {},
   "outputs": [
    {
     "data": {
      "text/html": [
       "<div>\n",
       "<style scoped>\n",
       "    .dataframe tbody tr th:only-of-type {\n",
       "        vertical-align: middle;\n",
       "    }\n",
       "\n",
       "    .dataframe tbody tr th {\n",
       "        vertical-align: top;\n",
       "    }\n",
       "\n",
       "    .dataframe thead th {\n",
       "        text-align: right;\n",
       "    }\n",
       "</style>\n",
       "<table border=\"1\" class=\"dataframe\">\n",
       "  <thead>\n",
       "    <tr style=\"text-align: right;\">\n",
       "      <th></th>\n",
       "      <th>Power</th>\n",
       "      <th>Kilometer</th>\n",
       "      <th>Repaired</th>\n",
       "      <th>reg_month</th>\n",
       "      <th>Model</th>\n",
       "      <th>x0_convertible</th>\n",
       "      <th>x0_coupe</th>\n",
       "      <th>x0_other</th>\n",
       "      <th>x0_sedan</th>\n",
       "      <th>x0_small</th>\n",
       "      <th>x0_suv</th>\n",
       "      <th>x0_wagon</th>\n",
       "      <th>x1_manual</th>\n",
       "      <th>x2_electric</th>\n",
       "      <th>x2_hybrid</th>\n",
       "      <th>x2_other</th>\n",
       "      <th>x2_petrol</th>\n",
       "    </tr>\n",
       "  </thead>\n",
       "  <tbody>\n",
       "    <tr>\n",
       "      <th>0</th>\n",
       "      <td>0.59</td>\n",
       "      <td>0.58</td>\n",
       "      <td>True</td>\n",
       "      <td>-0.68</td>\n",
       "      <td>116.00</td>\n",
       "      <td>0.00</td>\n",
       "      <td>0.00</td>\n",
       "      <td>0.00</td>\n",
       "      <td>1.00</td>\n",
       "      <td>0.00</td>\n",
       "      <td>0.00</td>\n",
       "      <td>0.00</td>\n",
       "      <td>1.00</td>\n",
       "      <td>0.00</td>\n",
       "      <td>0.00</td>\n",
       "      <td>0.00</td>\n",
       "      <td>1.00</td>\n",
       "    </tr>\n",
       "    <tr>\n",
       "      <th>1</th>\n",
       "      <td>-0.44</td>\n",
       "      <td>0.58</td>\n",
       "      <td>True</td>\n",
       "      <td>0.61</td>\n",
       "      <td>237.00</td>\n",
       "      <td>0.00</td>\n",
       "      <td>0.00</td>\n",
       "      <td>0.00</td>\n",
       "      <td>0.00</td>\n",
       "      <td>0.00</td>\n",
       "      <td>0.00</td>\n",
       "      <td>0.00</td>\n",
       "      <td>1.00</td>\n",
       "      <td>0.00</td>\n",
       "      <td>0.00</td>\n",
       "      <td>0.00</td>\n",
       "      <td>1.00</td>\n",
       "    </tr>\n",
       "    <tr>\n",
       "      <th>2</th>\n",
       "      <td>0.06</td>\n",
       "      <td>0.58</td>\n",
       "      <td>True</td>\n",
       "      <td>0.08</td>\n",
       "      <td>59.00</td>\n",
       "      <td>0.00</td>\n",
       "      <td>0.00</td>\n",
       "      <td>0.00</td>\n",
       "      <td>0.00</td>\n",
       "      <td>0.00</td>\n",
       "      <td>0.00</td>\n",
       "      <td>1.00</td>\n",
       "      <td>1.00</td>\n",
       "      <td>0.00</td>\n",
       "      <td>0.00</td>\n",
       "      <td>0.00</td>\n",
       "      <td>1.00</td>\n",
       "    </tr>\n",
       "    <tr>\n",
       "      <th>3</th>\n",
       "      <td>-1.01</td>\n",
       "      <td>0.58</td>\n",
       "      <td>True</td>\n",
       "      <td>-0.79</td>\n",
       "      <td>166.00</td>\n",
       "      <td>0.00</td>\n",
       "      <td>0.00</td>\n",
       "      <td>0.00</td>\n",
       "      <td>0.00</td>\n",
       "      <td>0.00</td>\n",
       "      <td>0.00</td>\n",
       "      <td>1.00</td>\n",
       "      <td>1.00</td>\n",
       "      <td>0.00</td>\n",
       "      <td>0.00</td>\n",
       "      <td>0.00</td>\n",
       "      <td>1.00</td>\n",
       "    </tr>\n",
       "    <tr>\n",
       "      <th>4</th>\n",
       "      <td>-0.16</td>\n",
       "      <td>0.58</td>\n",
       "      <td>True</td>\n",
       "      <td>-0.75</td>\n",
       "      <td>204.00</td>\n",
       "      <td>0.00</td>\n",
       "      <td>0.00</td>\n",
       "      <td>0.00</td>\n",
       "      <td>0.00</td>\n",
       "      <td>0.00</td>\n",
       "      <td>0.00</td>\n",
       "      <td>0.00</td>\n",
       "      <td>1.00</td>\n",
       "      <td>0.00</td>\n",
       "      <td>0.00</td>\n",
       "      <td>0.00</td>\n",
       "      <td>1.00</td>\n",
       "    </tr>\n",
       "  </tbody>\n",
       "</table>\n",
       "</div>"
      ],
      "text/plain": [
       "   Power  Kilometer  Repaired  reg_month  Model  x0_convertible  x0_coupe  \\\n",
       "0   0.59       0.58      True      -0.68 116.00            0.00      0.00   \n",
       "1  -0.44       0.58      True       0.61 237.00            0.00      0.00   \n",
       "2   0.06       0.58      True       0.08  59.00            0.00      0.00   \n",
       "3  -1.01       0.58      True      -0.79 166.00            0.00      0.00   \n",
       "4  -0.16       0.58      True      -0.75 204.00            0.00      0.00   \n",
       "\n",
       "   x0_other  x0_sedan  x0_small  x0_suv  x0_wagon  x1_manual  x2_electric  \\\n",
       "0      0.00      1.00      0.00    0.00      0.00       1.00         0.00   \n",
       "1      0.00      0.00      0.00    0.00      0.00       1.00         0.00   \n",
       "2      0.00      0.00      0.00    0.00      1.00       1.00         0.00   \n",
       "3      0.00      0.00      0.00    0.00      1.00       1.00         0.00   \n",
       "4      0.00      0.00      0.00    0.00      0.00       1.00         0.00   \n",
       "\n",
       "   x2_hybrid  x2_other  x2_petrol  \n",
       "0       0.00      0.00       1.00  \n",
       "1       0.00      0.00       1.00  \n",
       "2       0.00      0.00       1.00  \n",
       "3       0.00      0.00       1.00  \n",
       "4       0.00      0.00       1.00  "
      ]
     },
     "execution_count": 84,
     "metadata": {},
     "output_type": "execute_result"
    }
   ],
   "source": [
    "features_test.head()"
   ]
  },
  {
   "cell_type": "markdown",
   "metadata": {},
   "source": [
    "1. Удалены дубликаты записей;\n",
    "2. Исправлены типы данных;\n",
    "3. Данные о времени регистрации преобразованы в столбец с числом месяцев, прошедших с 1900 года;\n",
    "4. Восстановлены пропущенные данные в признаках VehicleType, FuelType, Gearbox;\n",
    "5. Удалены пропущенные данные в признаке Model;\n",
    "6. Исправлены аномальные значения в признаке Power;\n",
    "7. Данные разбиты на обучающую и тестовую выборки;\n",
    "8. Выделены признаки и целевой признак;\n",
    "9. Произведено масштабирование количественных признаков;\n",
    "10. Произведено кодирование категориальных признаков;\n",
    "11. Удалены признаки с высокой корелляцией;\n",
    "12. Данные готовы к обучению моделей."
   ]
  },
  {
   "cell_type": "markdown",
   "metadata": {},
   "source": [
    "### Этап 4. Обучение моделей"
   ]
  },
  {
   "cell_type": "markdown",
   "metadata": {},
   "source": [
    "Поскольку часть данных кодировано OrdinalEncoder, мы не можем использовать модель \"Линейная регрессия\".<br />\n",
    "Поэтому для решения задачи будем использовать модели \"DummyRegressor\" (в качестве меры адекватности моделей), \"Решающее дерево\", \"LightGBM\" и \"CatBoost\". "
   ]
  },
  {
   "cell_type": "markdown",
   "metadata": {},
   "source": [
    "#### Модель \"DummyRegressor\""
   ]
  },
  {
   "cell_type": "code",
   "execution_count": 85,
   "metadata": {},
   "outputs": [
    {
     "name": "stdout",
     "output_type": "stream",
     "text": [
      "Стратегия \"mean\". Средняя оценка качества модели: 4563.23, время обучения: 0.09 сек.\n",
      "Стратегия \"median\". Средняя оценка качества модели: 4855.25, время обучения: 0.07 сек.\n",
      "CPU times: user 130 ms, sys: 7.97 ms, total: 138 ms\n",
      "Wall time: 161 ms\n"
     ]
    }
   ],
   "source": [
    "%%time\n",
    "strategies = ['mean','median']\n",
    "dummy_time = []\n",
    "dummy_score= []\n",
    "for s in strategies:\n",
    "    start = time()\n",
    "    dummy = DummyRegressor(strategy = s)\n",
    "    dummy.fit(features_train, target_train)\n",
    "    scores = abs(cross_val_score(dummy, features_train,target_train, cv=5, scoring='neg_mean_squared_error'))**0.5\n",
    "    final_score = abs(sum(scores) / len(scores))\n",
    "    time_dummy = time() - start\n",
    "    print('Стратегия \"'+s+'\". Средняя оценка качества модели: {:.2f}, время обучения: {:.2f} сек.'.format(final_score, time_dummy))"
   ]
  },
  {
   "cell_type": "code",
   "execution_count": 86,
   "metadata": {},
   "outputs": [
    {
     "name": "stdout",
     "output_type": "stream",
     "text": [
      "Стратегия \"median\". Средняя оценка качества модели: 4563.23, время обучения: 0.06 сек.\n",
      "Стратегия \"median\". Средняя оценка качества модели: 4855.25, время обучения: 0.08 сек.\n",
      "CPU times: user 134 ms, sys: 0 ns, total: 134 ms\n",
      "Wall time: 139 ms\n"
     ]
    }
   ],
   "source": [
    "%%time\n",
    "strategies = ['mean','median']\n",
    "dummy_time = []\n",
    "dummy_score= []\n",
    "min_score = 1000000\n",
    "for i in range(len(strategies)):\n",
    "    start = time()\n",
    "    dummy = DummyRegressor(strategy = strategies[i])\n",
    "    dummy.fit(features_train, target_train)\n",
    "    scores = abs(cross_val_score(dummy, features_train,target_train, cv=5, scoring='neg_mean_squared_error'))**0.5\n",
    "    dummy_score.append(abs(sum(scores) / len(scores)))\n",
    "    dummy_time.append(time() - start)\n",
    "    if dummy_score[i] < min_score:\n",
    "        min_score = dummy_score[i]\n",
    "        min_index = i\n",
    "        \n",
    "    print('Стратегия \"'+s+'\". Средняя оценка качества модели: {:.2f}, время обучения: {:.2f} сек.'.\n",
    "          format(dummy_score[i], dummy_time[i]))\n",
    "strategy_dummy = strategies[min_index]\n",
    "result_dummy = dummy_score[min_index]\n",
    "time_dummy = dummy_time[min_index]"
   ]
  },
  {
   "cell_type": "code",
   "execution_count": 87,
   "metadata": {},
   "outputs": [
    {
     "name": "stdout",
     "output_type": "stream",
     "text": [
      "Наилучший результат показывает модель \"DummyRegressor\" со стратегией \"mean\":\n",
      "\n",
      "Средняя оценка качества модели: 4563.23, время обучения: 0.06 сек.\n"
     ]
    }
   ],
   "source": [
    "print('Наилучший результат показывает модель \"DummyRegressor\" со стратегией \"{0}\":'.format(strategy_dummy))\n",
    "print('\\nСредняя оценка качества модели: {:.2f}, время обучения: {:.2f} сек.'.format(result_dummy, time_dummy))"
   ]
  },
  {
   "cell_type": "markdown",
   "metadata": {},
   "source": [
    "#### Модель \"Решающее дерево\""
   ]
  },
  {
   "cell_type": "code",
   "execution_count": 88,
   "metadata": {},
   "outputs": [
    {
     "name": "stdout",
     "output_type": "stream",
     "text": [
      "Fitting 5 folds for each of 10 candidates, totalling 50 fits\n",
      "CPU times: user 38.1 s, sys: 2.38 s, total: 40.5 s\n",
      "Wall time: 42 s\n"
     ]
    }
   ],
   "source": [
    "%%time\n",
    "start = time()\n",
    "dtr = DecisionTreeRegressor(random_state=1176)\n",
    "max_depth = [int(x) for x in np.linspace(start = 1, stop = 30, num = 10)]\n",
    "param_dist = {'max_depth': max_depth}\n",
    "rs = RandomizedSearchCV(dtr, \n",
    "                        param_dist, \n",
    "                        n_iter = 10, \n",
    "                        scoring = 'neg_mean_squared_error',\n",
    "                        cv = 5, \n",
    "                        verbose = 1, \n",
    "                        n_jobs=-1, \n",
    "                        random_state=1176)\n",
    "rs.fit(features_train, target_train)\n",
    "model_tree = rs.best_estimator_\n",
    "model_tree.params = rs.best_params_\n",
    "result_tree = abs(rs.best_score_)**0.5\n",
    "time_tree = time() - start"
   ]
  },
  {
   "cell_type": "code",
   "execution_count": 89,
   "metadata": {},
   "outputs": [
    {
     "name": "stdout",
     "output_type": "stream",
     "text": [
      "Ветвей: 13.\n",
      "\n",
      "Средняя оценка качества модели: 2080.63, время обучения: 42.02 сек.\n"
     ]
    }
   ],
   "source": [
    "print('Ветвей: {:.0f}.'.format(model_tree.params['max_depth']))\n",
    "print('\\nСредняя оценка качества модели: {:.2f}, время обучения: {:.2f} сек.'.format(result_tree, time_tree))"
   ]
  },
  {
   "cell_type": "markdown",
   "metadata": {},
   "source": [
    "#### Модель \" LightGBM\""
   ]
  },
  {
   "cell_type": "code",
   "execution_count": 90,
   "metadata": {
    "scrolled": true
   },
   "outputs": [
    {
     "name": "stdout",
     "output_type": "stream",
     "text": [
      "Fitting 5 folds for each of 10 candidates, totalling 50 fits\n",
      "CPU times: user 2min 19s, sys: 3.24 s, total: 2min 22s\n",
      "Wall time: 2min 23s\n"
     ]
    }
   ],
   "source": [
    "%%time\n",
    "start = time()\n",
    "lgbm = LGBMRegressor()\n",
    "n_estimators = [int(x) for x in np.linspace(start = 1, stop = 101, num = 10)]\n",
    "max_depth = [int(x) for x in np.linspace(start = 1, stop = 30, num = 10)]\n",
    "learning_rate = [0.1, 0.25, 0.5, 0.75, 1]\n",
    "\n",
    "param_dist = {'n_estimators': n_estimators,\n",
    "              'max_depth':max_depth,\n",
    "              'learning_rate': learning_rate\n",
    "             }\n",
    "rs = RandomizedSearchCV(lgbm, \n",
    "                        param_dist, \n",
    "                        n_iter = 10, \n",
    "                        scoring = 'neg_mean_squared_error',\n",
    "                        cv = 5, \n",
    "                        verbose = 1, \n",
    "                        n_jobs=-1, \n",
    "                        random_state=1176)\n",
    "rs.fit(features_train, target_train)\n",
    "model_lgbm = rs.best_estimator_\n",
    "model_lgbm.params = rs.best_params_\n",
    "result_lgbm = abs(rs.best_score_)**0.5\n",
    "time_lgbm = time() - start"
   ]
  },
  {
   "cell_type": "code",
   "execution_count": 91,
   "metadata": {},
   "outputs": [
    {
     "name": "stdout",
     "output_type": "stream",
     "text": [
      "Деревьев: 78.\n",
      "Ветвей: 20.\n",
      "Скорость обучения: 0.75.\n",
      "\n",
      "Средняя оценка качества модели: 1855.08, время обучения: 143.66 сек.\n"
     ]
    }
   ],
   "source": [
    "print('Деревьев: {:.0f}.'.format(model_lgbm.params['n_estimators']))\n",
    "print('Ветвей: {:.0f}.'.format(model_lgbm.params['max_depth']))\n",
    "print('Скорость обучения: {:.2f}.'.format(model_lgbm.params['learning_rate']))\n",
    "print('\\nСредняя оценка качества модели: {:.2f}, время обучения: {:.2f} сек.'.format(result_lgbm, time_lgbm))"
   ]
  },
  {
   "cell_type": "markdown",
   "metadata": {},
   "source": [
    "#### Модель \" CatBoost\""
   ]
  },
  {
   "cell_type": "code",
   "execution_count": 92,
   "metadata": {
    "scrolled": true
   },
   "outputs": [
    {
     "name": "stdout",
     "output_type": "stream",
     "text": [
      "Fitting 5 folds for each of 10 candidates, totalling 50 fits\n",
      "0:\tlearn: 3383.9121302\ttotal: 73.9ms\tremaining: 813ms\n",
      "1:\tlearn: 2866.6707871\ttotal: 95.3ms\tremaining: 476ms\n",
      "2:\tlearn: 2603.8548028\ttotal: 115ms\tremaining: 344ms\n",
      "3:\tlearn: 2471.6460478\ttotal: 134ms\tremaining: 268ms\n",
      "4:\tlearn: 2408.8300549\ttotal: 153ms\tremaining: 214ms\n",
      "5:\tlearn: 2367.3651359\ttotal: 171ms\tremaining: 171ms\n",
      "6:\tlearn: 2328.9609695\ttotal: 190ms\tremaining: 136ms\n",
      "7:\tlearn: 2304.4644876\ttotal: 210ms\tremaining: 105ms\n",
      "8:\tlearn: 2286.7371763\ttotal: 235ms\tremaining: 78.3ms\n",
      "9:\tlearn: 2273.9428295\ttotal: 253ms\tremaining: 50.5ms\n",
      "10:\tlearn: 2241.5730179\ttotal: 271ms\tremaining: 24.6ms\n",
      "11:\tlearn: 2226.8936528\ttotal: 290ms\tremaining: 0us\n",
      "0:\tlearn: 3438.8274696\ttotal: 19.2ms\tremaining: 211ms\n",
      "1:\tlearn: 2863.1987176\ttotal: 38.5ms\tremaining: 192ms\n",
      "2:\tlearn: 2617.2024598\ttotal: 56.9ms\tremaining: 171ms\n",
      "3:\tlearn: 2500.5961413\ttotal: 74.6ms\tremaining: 149ms\n",
      "4:\tlearn: 2415.5396627\ttotal: 92.7ms\tremaining: 130ms\n",
      "5:\tlearn: 2375.2182696\ttotal: 111ms\tremaining: 111ms\n",
      "6:\tlearn: 2337.2593661\ttotal: 130ms\tremaining: 92.9ms\n",
      "7:\tlearn: 2316.9683167\ttotal: 148ms\tremaining: 74.1ms\n",
      "8:\tlearn: 2282.6660592\ttotal: 167ms\tremaining: 55.7ms\n",
      "9:\tlearn: 2265.3263045\ttotal: 185ms\tremaining: 36.9ms\n",
      "10:\tlearn: 2253.5631023\ttotal: 202ms\tremaining: 18.4ms\n",
      "11:\tlearn: 2236.2369328\ttotal: 222ms\tremaining: 0us\n",
      "0:\tlearn: 3383.6420925\ttotal: 18.2ms\tremaining: 200ms\n",
      "1:\tlearn: 2842.0596807\ttotal: 37.3ms\tremaining: 186ms\n",
      "2:\tlearn: 2602.2080572\ttotal: 55.9ms\tremaining: 168ms\n",
      "3:\tlearn: 2475.5880079\ttotal: 74ms\tremaining: 148ms\n",
      "4:\tlearn: 2409.9856668\ttotal: 92.8ms\tremaining: 130ms\n",
      "5:\tlearn: 2356.3699639\ttotal: 111ms\tremaining: 111ms\n",
      "6:\tlearn: 2326.2531975\ttotal: 129ms\tremaining: 92.1ms\n",
      "7:\tlearn: 2300.7116001\ttotal: 146ms\tremaining: 73.1ms\n",
      "8:\tlearn: 2263.5153617\ttotal: 164ms\tremaining: 54.8ms\n",
      "9:\tlearn: 2250.7445502\ttotal: 182ms\tremaining: 36.5ms\n",
      "10:\tlearn: 2233.7055530\ttotal: 200ms\tremaining: 18.2ms\n",
      "11:\tlearn: 2220.2708128\ttotal: 218ms\tremaining: 0us\n",
      "0:\tlearn: 3383.8002659\ttotal: 17.7ms\tremaining: 195ms\n",
      "1:\tlearn: 2848.9035049\ttotal: 36.3ms\tremaining: 182ms\n",
      "2:\tlearn: 2610.1900129\ttotal: 55ms\tremaining: 165ms\n",
      "3:\tlearn: 2483.2490483\ttotal: 73.8ms\tremaining: 148ms\n",
      "4:\tlearn: 2418.0740200\ttotal: 91.8ms\tremaining: 128ms\n",
      "5:\tlearn: 2368.2254547\ttotal: 110ms\tremaining: 110ms\n",
      "6:\tlearn: 2339.6266942\ttotal: 129ms\tremaining: 91.9ms\n",
      "7:\tlearn: 2313.1308683\ttotal: 147ms\tremaining: 73.3ms\n",
      "8:\tlearn: 2280.4214703\ttotal: 166ms\tremaining: 55.2ms\n",
      "9:\tlearn: 2263.5878210\ttotal: 185ms\tremaining: 37ms\n",
      "10:\tlearn: 2249.4167627\ttotal: 203ms\tremaining: 18.4ms\n",
      "11:\tlearn: 2236.1817848\ttotal: 221ms\tremaining: 0us\n",
      "0:\tlearn: 3382.7773589\ttotal: 17.9ms\tremaining: 197ms\n",
      "1:\tlearn: 2844.2817668\ttotal: 36.8ms\tremaining: 184ms\n",
      "2:\tlearn: 2606.5621070\ttotal: 56.1ms\tremaining: 168ms\n",
      "3:\tlearn: 2488.8766431\ttotal: 74.1ms\tremaining: 148ms\n",
      "4:\tlearn: 2401.1542479\ttotal: 92.5ms\tremaining: 129ms\n",
      "5:\tlearn: 2357.6643426\ttotal: 111ms\tremaining: 111ms\n",
      "6:\tlearn: 2326.8929460\ttotal: 129ms\tremaining: 92ms\n",
      "7:\tlearn: 2306.9578597\ttotal: 146ms\tremaining: 73.2ms\n",
      "8:\tlearn: 2275.1755592\ttotal: 166ms\tremaining: 55.2ms\n",
      "9:\tlearn: 2254.1320529\ttotal: 185ms\tremaining: 37.1ms\n",
      "10:\tlearn: 2237.9533256\ttotal: 205ms\tremaining: 18.6ms\n",
      "11:\tlearn: 2222.3535860\ttotal: 223ms\tremaining: 0us\n",
      "0:\tlearn: 3897.1322758\ttotal: 13.4ms\tremaining: 0us\n",
      "0:\tlearn: 3904.0953092\ttotal: 13.6ms\tremaining: 0us\n",
      "0:\tlearn: 3902.6252883\ttotal: 13.1ms\tremaining: 0us\n",
      "0:\tlearn: 3900.8617888\ttotal: 13.7ms\tremaining: 0us\n",
      "0:\tlearn: 3897.9028608\ttotal: 13.9ms\tremaining: 0us\n",
      "0:\tlearn: 3803.3353524\ttotal: 44.1ms\tremaining: 3.88s\n",
      "1:\tlearn: 3255.9934254\ttotal: 84.9ms\tremaining: 3.69s\n",
      "2:\tlearn: 2887.1891092\ttotal: 127ms\tremaining: 3.64s\n",
      "3:\tlearn: 2633.5972118\ttotal: 169ms\tremaining: 3.58s\n",
      "4:\tlearn: 2474.5019874\ttotal: 211ms\tremaining: 3.54s\n",
      "5:\tlearn: 2362.0769037\ttotal: 252ms\tremaining: 3.49s\n",
      "6:\tlearn: 2287.0106719\ttotal: 293ms\tremaining: 3.43s\n",
      "7:\tlearn: 2221.2686327\ttotal: 334ms\tremaining: 3.38s\n",
      "8:\tlearn: 2177.5409844\ttotal: 376ms\tremaining: 3.34s\n",
      "9:\tlearn: 2143.4474712\ttotal: 419ms\tremaining: 3.31s\n",
      "10:\tlearn: 2118.3784561\ttotal: 465ms\tremaining: 3.3s\n",
      "11:\tlearn: 2100.4442480\ttotal: 509ms\tremaining: 3.27s\n",
      "12:\tlearn: 2083.2237810\ttotal: 563ms\tremaining: 3.29s\n",
      "13:\tlearn: 2070.1801568\ttotal: 608ms\tremaining: 3.26s\n",
      "14:\tlearn: 2057.5820994\ttotal: 650ms\tremaining: 3.2s\n",
      "15:\tlearn: 2048.3421696\ttotal: 692ms\tremaining: 3.16s\n",
      "16:\tlearn: 2035.5408177\ttotal: 737ms\tremaining: 3.12s\n",
      "17:\tlearn: 2024.3299896\ttotal: 779ms\tremaining: 3.07s\n",
      "18:\tlearn: 2015.7767170\ttotal: 822ms\tremaining: 3.03s\n",
      "19:\tlearn: 2008.0543810\ttotal: 864ms\tremaining: 2.98s\n",
      "20:\tlearn: 1999.8755818\ttotal: 907ms\tremaining: 2.94s\n",
      "21:\tlearn: 1995.2139332\ttotal: 950ms\tremaining: 2.89s\n",
      "22:\tlearn: 1988.5359318\ttotal: 992ms\tremaining: 2.85s\n",
      "23:\tlearn: 1982.7312920\ttotal: 1.03s\tremaining: 2.8s\n",
      "24:\tlearn: 1977.3683059\ttotal: 1.07s\tremaining: 2.75s\n",
      "25:\tlearn: 1972.7301519\ttotal: 1.12s\tremaining: 2.71s\n",
      "26:\tlearn: 1965.1750153\ttotal: 1.16s\tremaining: 2.67s\n",
      "27:\tlearn: 1962.4666008\ttotal: 1.21s\tremaining: 2.63s\n",
      "28:\tlearn: 1959.1338936\ttotal: 1.25s\tremaining: 2.59s\n",
      "29:\tlearn: 1955.4302522\ttotal: 1.29s\tremaining: 2.54s\n",
      "30:\tlearn: 1951.2730382\ttotal: 1.34s\tremaining: 2.5s\n",
      "31:\tlearn: 1947.1788161\ttotal: 1.38s\tremaining: 2.46s\n",
      "32:\tlearn: 1944.1145605\ttotal: 1.43s\tremaining: 2.42s\n",
      "33:\tlearn: 1939.8029448\ttotal: 1.47s\tremaining: 2.37s\n",
      "34:\tlearn: 1936.9335955\ttotal: 1.51s\tremaining: 2.33s\n",
      "35:\tlearn: 1934.7115497\ttotal: 1.55s\tremaining: 2.28s\n",
      "36:\tlearn: 1932.1317280\ttotal: 1.59s\tremaining: 2.24s\n",
      "37:\tlearn: 1927.4166882\ttotal: 1.64s\tremaining: 2.2s\n",
      "38:\tlearn: 1923.7850323\ttotal: 1.69s\tremaining: 2.16s\n",
      "39:\tlearn: 1920.6062570\ttotal: 1.73s\tremaining: 2.12s\n",
      "40:\tlearn: 1918.6598959\ttotal: 1.78s\tremaining: 2.08s\n",
      "41:\tlearn: 1915.8671805\ttotal: 1.82s\tremaining: 2.04s\n",
      "42:\tlearn: 1913.3267924\ttotal: 1.87s\tremaining: 2s\n",
      "43:\tlearn: 1909.9230665\ttotal: 1.91s\tremaining: 1.95s\n",
      "44:\tlearn: 1907.0619407\ttotal: 1.96s\tremaining: 1.91s\n",
      "45:\tlearn: 1905.5741496\ttotal: 2s\tremaining: 1.87s\n",
      "46:\tlearn: 1901.0221689\ttotal: 2.04s\tremaining: 1.83s\n",
      "47:\tlearn: 1896.3930062\ttotal: 2.08s\tremaining: 1.78s\n",
      "48:\tlearn: 1894.4730117\ttotal: 2.13s\tremaining: 1.74s\n",
      "49:\tlearn: 1891.7235623\ttotal: 2.17s\tremaining: 1.69s\n",
      "50:\tlearn: 1888.1104028\ttotal: 2.22s\tremaining: 1.65s\n",
      "51:\tlearn: 1885.4504124\ttotal: 2.26s\tremaining: 1.61s\n",
      "52:\tlearn: 1881.9511893\ttotal: 2.3s\tremaining: 1.56s\n",
      "53:\tlearn: 1879.6111933\ttotal: 2.35s\tremaining: 1.52s\n",
      "54:\tlearn: 1876.8842964\ttotal: 2.39s\tremaining: 1.48s\n",
      "55:\tlearn: 1875.1031029\ttotal: 2.43s\tremaining: 1.43s\n",
      "56:\tlearn: 1872.3377575\ttotal: 2.47s\tremaining: 1.39s\n",
      "57:\tlearn: 1869.9422652\ttotal: 2.52s\tremaining: 1.35s\n",
      "58:\tlearn: 1867.6104882\ttotal: 2.56s\tremaining: 1.3s\n",
      "59:\tlearn: 1865.8782059\ttotal: 2.6s\tremaining: 1.26s\n",
      "60:\tlearn: 1863.2952630\ttotal: 2.65s\tremaining: 1.22s\n",
      "61:\tlearn: 1860.8952254\ttotal: 2.69s\tremaining: 1.17s\n",
      "62:\tlearn: 1859.0642743\ttotal: 2.73s\tremaining: 1.13s\n",
      "63:\tlearn: 1856.6016430\ttotal: 2.78s\tremaining: 1.08s\n",
      "64:\tlearn: 1853.6014061\ttotal: 2.82s\tremaining: 1.04s\n",
      "65:\tlearn: 1851.1657345\ttotal: 2.86s\tremaining: 997ms\n",
      "66:\tlearn: 1848.4766059\ttotal: 2.91s\tremaining: 954ms\n",
      "67:\tlearn: 1847.3902547\ttotal: 2.94s\tremaining: 910ms\n",
      "68:\tlearn: 1845.5739682\ttotal: 2.99s\tremaining: 866ms\n",
      "69:\tlearn: 1842.7861042\ttotal: 3.03s\tremaining: 822ms\n",
      "70:\tlearn: 1840.6083072\ttotal: 3.07s\tremaining: 778ms\n",
      "71:\tlearn: 1839.0263063\ttotal: 3.11s\tremaining: 735ms\n",
      "72:\tlearn: 1837.8417084\ttotal: 3.16s\tremaining: 693ms\n",
      "73:\tlearn: 1835.9910412\ttotal: 3.2s\tremaining: 649ms\n",
      "74:\tlearn: 1833.5348781\ttotal: 3.24s\tremaining: 606ms\n",
      "75:\tlearn: 1831.6033435\ttotal: 3.29s\tremaining: 562ms\n",
      "76:\tlearn: 1829.5200189\ttotal: 3.33s\tremaining: 519ms\n",
      "77:\tlearn: 1827.0888446\ttotal: 3.37s\tremaining: 476ms\n",
      "78:\tlearn: 1824.9313779\ttotal: 3.42s\tremaining: 432ms\n",
      "79:\tlearn: 1822.6396723\ttotal: 3.46s\tremaining: 389ms\n",
      "80:\tlearn: 1820.9616977\ttotal: 3.5s\tremaining: 346ms\n",
      "81:\tlearn: 1819.0224299\ttotal: 3.54s\tremaining: 303ms\n",
      "82:\tlearn: 1817.6980619\ttotal: 3.59s\tremaining: 259ms\n",
      "83:\tlearn: 1815.9698996\ttotal: 3.64s\tremaining: 217ms\n",
      "84:\tlearn: 1814.5396952\ttotal: 3.68s\tremaining: 173ms\n",
      "85:\tlearn: 1811.8748481\ttotal: 3.72s\tremaining: 130ms\n",
      "86:\tlearn: 1809.7891470\ttotal: 3.77s\tremaining: 86.6ms\n",
      "87:\tlearn: 1807.9160513\ttotal: 3.81s\tremaining: 43.3ms\n",
      "88:\tlearn: 1806.4239455\ttotal: 3.85s\tremaining: 0us\n",
      "0:\tlearn: 3797.5423917\ttotal: 41.5ms\tremaining: 3.65s\n",
      "1:\tlearn: 3260.9649176\ttotal: 85.7ms\tremaining: 3.73s\n",
      "2:\tlearn: 2882.1303703\ttotal: 127ms\tremaining: 3.63s\n",
      "3:\tlearn: 2632.7269000\ttotal: 167ms\tremaining: 3.56s\n",
      "4:\tlearn: 2471.0156578\ttotal: 209ms\tremaining: 3.51s\n",
      "5:\tlearn: 2353.4478534\ttotal: 250ms\tremaining: 3.46s\n",
      "6:\tlearn: 2277.1168982\ttotal: 294ms\tremaining: 3.45s\n",
      "7:\tlearn: 2226.7079779\ttotal: 334ms\tremaining: 3.38s\n",
      "8:\tlearn: 2187.3250296\ttotal: 374ms\tremaining: 3.33s\n",
      "9:\tlearn: 2147.8123918\ttotal: 421ms\tremaining: 3.33s\n",
      "10:\tlearn: 2122.7984593\ttotal: 463ms\tremaining: 3.28s\n",
      "11:\tlearn: 2100.4139755\ttotal: 508ms\tremaining: 3.26s\n",
      "12:\tlearn: 2082.1995830\ttotal: 550ms\tremaining: 3.22s\n",
      "13:\tlearn: 2068.4515761\ttotal: 594ms\tremaining: 3.18s\n",
      "14:\tlearn: 2055.1512049\ttotal: 637ms\tremaining: 3.14s\n",
      "15:\tlearn: 2046.0957321\ttotal: 680ms\tremaining: 3.1s\n",
      "16:\tlearn: 2037.5846406\ttotal: 723ms\tremaining: 3.06s\n",
      "17:\tlearn: 2029.1824015\ttotal: 764ms\tremaining: 3.01s\n",
      "18:\tlearn: 2018.7246763\ttotal: 806ms\tremaining: 2.97s\n",
      "19:\tlearn: 2011.1558566\ttotal: 848ms\tremaining: 2.92s\n",
      "20:\tlearn: 2002.4944835\ttotal: 895ms\tremaining: 2.9s\n",
      "21:\tlearn: 1995.7641068\ttotal: 938ms\tremaining: 2.85s\n",
      "22:\tlearn: 1989.6411785\ttotal: 980ms\tremaining: 2.81s\n",
      "23:\tlearn: 1985.2068686\ttotal: 1.03s\tremaining: 2.8s\n",
      "24:\tlearn: 1980.6965629\ttotal: 1.08s\tremaining: 2.76s\n",
      "25:\tlearn: 1974.8231300\ttotal: 1.12s\tremaining: 2.72s\n",
      "26:\tlearn: 1970.6502130\ttotal: 1.17s\tremaining: 2.69s\n",
      "27:\tlearn: 1965.6500685\ttotal: 1.21s\tremaining: 2.64s\n",
      "28:\tlearn: 1959.9010584\ttotal: 1.25s\tremaining: 2.6s\n",
      "29:\tlearn: 1955.7696796\ttotal: 1.3s\tremaining: 2.55s\n",
      "30:\tlearn: 1951.9557387\ttotal: 1.34s\tremaining: 2.5s\n",
      "31:\tlearn: 1946.0901166\ttotal: 1.38s\tremaining: 2.46s\n",
      "32:\tlearn: 1941.9033459\ttotal: 1.42s\tremaining: 2.42s\n",
      "33:\tlearn: 1938.3618351\ttotal: 1.47s\tremaining: 2.37s\n",
      "34:\tlearn: 1935.3041854\ttotal: 1.51s\tremaining: 2.33s\n",
      "35:\tlearn: 1931.5810402\ttotal: 1.56s\tremaining: 2.29s\n",
      "36:\tlearn: 1929.7376410\ttotal: 1.6s\tremaining: 2.25s\n",
      "37:\tlearn: 1924.4811655\ttotal: 1.64s\tremaining: 2.21s\n",
      "38:\tlearn: 1920.1959158\ttotal: 1.68s\tremaining: 2.16s\n",
      "39:\tlearn: 1917.4588765\ttotal: 1.73s\tremaining: 2.11s\n",
      "40:\tlearn: 1913.6103786\ttotal: 1.77s\tremaining: 2.07s\n",
      "41:\tlearn: 1910.6024431\ttotal: 1.81s\tremaining: 2.03s\n",
      "42:\tlearn: 1907.3388789\ttotal: 1.86s\tremaining: 1.99s\n",
      "43:\tlearn: 1904.2675371\ttotal: 1.9s\tremaining: 1.94s\n",
      "44:\tlearn: 1901.9589201\ttotal: 1.94s\tremaining: 1.9s\n",
      "45:\tlearn: 1899.6052974\ttotal: 1.98s\tremaining: 1.85s\n",
      "46:\tlearn: 1896.0338522\ttotal: 2.02s\tremaining: 1.81s\n",
      "47:\tlearn: 1893.2029056\ttotal: 2.07s\tremaining: 1.77s\n",
      "48:\tlearn: 1891.0244789\ttotal: 2.11s\tremaining: 1.72s\n",
      "49:\tlearn: 1888.6743748\ttotal: 2.15s\tremaining: 1.68s\n",
      "50:\tlearn: 1886.1980331\ttotal: 2.2s\tremaining: 1.64s\n",
      "51:\tlearn: 1884.1950781\ttotal: 2.24s\tremaining: 1.6s\n",
      "52:\tlearn: 1882.1261059\ttotal: 2.29s\tremaining: 1.55s\n",
      "53:\tlearn: 1879.1326090\ttotal: 2.34s\tremaining: 1.51s\n",
      "54:\tlearn: 1877.4359237\ttotal: 2.38s\tremaining: 1.47s\n",
      "55:\tlearn: 1874.9238947\ttotal: 2.43s\tremaining: 1.43s\n",
      "56:\tlearn: 1872.7087091\ttotal: 2.47s\tremaining: 1.39s\n",
      "57:\tlearn: 1869.3506030\ttotal: 2.51s\tremaining: 1.34s\n",
      "58:\tlearn: 1867.3828814\ttotal: 2.55s\tremaining: 1.3s\n",
      "59:\tlearn: 1865.4913000\ttotal: 2.59s\tremaining: 1.25s\n",
      "60:\tlearn: 1862.3679879\ttotal: 2.64s\tremaining: 1.21s\n",
      "61:\tlearn: 1860.4830622\ttotal: 2.68s\tremaining: 1.17s\n",
      "62:\tlearn: 1857.7149669\ttotal: 2.72s\tremaining: 1.12s\n",
      "63:\tlearn: 1854.3474100\ttotal: 2.77s\tremaining: 1.08s\n",
      "64:\tlearn: 1851.7388352\ttotal: 2.81s\tremaining: 1.04s\n",
      "65:\tlearn: 1849.4357697\ttotal: 2.86s\tremaining: 995ms\n",
      "66:\tlearn: 1848.2351106\ttotal: 2.9s\tremaining: 953ms\n",
      "67:\tlearn: 1846.2880901\ttotal: 2.95s\tremaining: 910ms\n",
      "68:\tlearn: 1843.6305407\ttotal: 2.99s\tremaining: 866ms\n",
      "69:\tlearn: 1841.7470061\ttotal: 3.03s\tremaining: 822ms\n",
      "70:\tlearn: 1838.9769832\ttotal: 3.07s\tremaining: 779ms\n",
      "71:\tlearn: 1836.8317360\ttotal: 3.11s\tremaining: 735ms\n",
      "72:\tlearn: 1834.9261939\ttotal: 3.16s\tremaining: 692ms\n",
      "73:\tlearn: 1831.8441346\ttotal: 3.2s\tremaining: 649ms\n",
      "74:\tlearn: 1829.4320513\ttotal: 3.26s\tremaining: 609ms\n",
      "75:\tlearn: 1827.2838372\ttotal: 3.31s\tremaining: 565ms\n",
      "76:\tlearn: 1825.7144681\ttotal: 3.35s\tremaining: 522ms\n",
      "77:\tlearn: 1824.0629141\ttotal: 3.39s\tremaining: 478ms\n",
      "78:\tlearn: 1822.5117529\ttotal: 3.43s\tremaining: 435ms\n",
      "79:\tlearn: 1820.7507171\ttotal: 3.48s\tremaining: 391ms\n",
      "80:\tlearn: 1818.5268314\ttotal: 3.52s\tremaining: 347ms\n",
      "81:\tlearn: 1817.1750939\ttotal: 3.56s\tremaining: 304ms\n",
      "82:\tlearn: 1815.2010550\ttotal: 3.6s\tremaining: 260ms\n",
      "83:\tlearn: 1812.7464561\ttotal: 3.65s\tremaining: 217ms\n",
      "84:\tlearn: 1810.5426628\ttotal: 3.69s\tremaining: 174ms\n",
      "85:\tlearn: 1808.9923011\ttotal: 3.74s\tremaining: 130ms\n",
      "86:\tlearn: 1807.6799881\ttotal: 3.78s\tremaining: 86.9ms\n",
      "87:\tlearn: 1805.7419515\ttotal: 3.82s\tremaining: 43.5ms\n",
      "88:\tlearn: 1803.5675767\ttotal: 3.87s\tremaining: 0us\n",
      "0:\tlearn: 3808.4650929\ttotal: 41.6ms\tremaining: 3.66s\n",
      "1:\tlearn: 3258.1535643\ttotal: 82.4ms\tremaining: 3.58s\n",
      "2:\tlearn: 2886.6488637\ttotal: 126ms\tremaining: 3.6s\n",
      "3:\tlearn: 2635.7614402\ttotal: 174ms\tremaining: 3.71s\n",
      "4:\tlearn: 2474.9844129\ttotal: 217ms\tremaining: 3.64s\n",
      "5:\tlearn: 2355.4838223\ttotal: 261ms\tremaining: 3.61s\n",
      "6:\tlearn: 2275.0990482\ttotal: 322ms\tremaining: 3.77s\n",
      "7:\tlearn: 2218.0492481\ttotal: 373ms\tremaining: 3.77s\n",
      "8:\tlearn: 2174.8977043\ttotal: 417ms\tremaining: 3.71s\n",
      "9:\tlearn: 2141.1622480\ttotal: 473ms\tremaining: 3.73s\n",
      "10:\tlearn: 2116.7387009\ttotal: 517ms\tremaining: 3.67s\n",
      "11:\tlearn: 2096.0039590\ttotal: 560ms\tremaining: 3.6s\n",
      "12:\tlearn: 2079.9083554\ttotal: 601ms\tremaining: 3.52s\n",
      "13:\tlearn: 2065.4768400\ttotal: 642ms\tremaining: 3.44s\n",
      "14:\tlearn: 2056.8133928\ttotal: 685ms\tremaining: 3.38s\n",
      "15:\tlearn: 2048.3865443\ttotal: 728ms\tremaining: 3.32s\n",
      "16:\tlearn: 2037.5963647\ttotal: 774ms\tremaining: 3.28s\n",
      "17:\tlearn: 2026.7724533\ttotal: 816ms\tremaining: 3.22s\n",
      "18:\tlearn: 2017.4185990\ttotal: 858ms\tremaining: 3.16s\n",
      "19:\tlearn: 2009.6216591\ttotal: 900ms\tremaining: 3.11s\n",
      "20:\tlearn: 2001.1414895\ttotal: 941ms\tremaining: 3.05s\n",
      "21:\tlearn: 1994.4772601\ttotal: 982ms\tremaining: 2.99s\n",
      "22:\tlearn: 1988.2047834\ttotal: 1.02s\tremaining: 2.93s\n",
      "23:\tlearn: 1982.8022803\ttotal: 1.06s\tremaining: 2.88s\n",
      "24:\tlearn: 1976.9912732\ttotal: 1.1s\tremaining: 2.82s\n",
      "25:\tlearn: 1973.1314395\ttotal: 1.15s\tremaining: 2.78s\n",
      "26:\tlearn: 1965.3094053\ttotal: 1.19s\tremaining: 2.72s\n",
      "27:\tlearn: 1960.9621225\ttotal: 1.23s\tremaining: 2.67s\n",
      "28:\tlearn: 1955.7383460\ttotal: 1.27s\tremaining: 2.62s\n",
      "29:\tlearn: 1952.1498493\ttotal: 1.31s\tremaining: 2.57s\n",
      "30:\tlearn: 1948.4969890\ttotal: 1.35s\tremaining: 2.53s\n",
      "31:\tlearn: 1945.3165738\ttotal: 1.4s\tremaining: 2.49s\n",
      "32:\tlearn: 1942.0475540\ttotal: 1.45s\tremaining: 2.45s\n",
      "33:\tlearn: 1938.7850934\ttotal: 1.49s\tremaining: 2.41s\n",
      "34:\tlearn: 1935.2390803\ttotal: 1.53s\tremaining: 2.36s\n",
      "35:\tlearn: 1931.9734419\ttotal: 1.57s\tremaining: 2.31s\n",
      "36:\tlearn: 1929.2820896\ttotal: 1.64s\tremaining: 2.3s\n",
      "37:\tlearn: 1925.2044773\ttotal: 1.68s\tremaining: 2.25s\n",
      "38:\tlearn: 1920.0444886\ttotal: 1.72s\tremaining: 2.21s\n",
      "39:\tlearn: 1916.6973751\ttotal: 1.76s\tremaining: 2.16s\n",
      "40:\tlearn: 1914.0035938\ttotal: 1.8s\tremaining: 2.11s\n",
      "41:\tlearn: 1910.0039958\ttotal: 1.85s\tremaining: 2.07s\n",
      "42:\tlearn: 1906.1900537\ttotal: 1.89s\tremaining: 2.02s\n",
      "43:\tlearn: 1902.8962123\ttotal: 1.93s\tremaining: 1.98s\n",
      "44:\tlearn: 1899.9368211\ttotal: 1.98s\tremaining: 1.93s\n",
      "45:\tlearn: 1895.6539919\ttotal: 2.02s\tremaining: 1.89s\n",
      "46:\tlearn: 1892.1066795\ttotal: 2.06s\tremaining: 1.84s\n",
      "47:\tlearn: 1890.2362089\ttotal: 2.11s\tremaining: 1.8s\n",
      "48:\tlearn: 1888.1338865\ttotal: 2.15s\tremaining: 1.75s\n",
      "49:\tlearn: 1884.5891433\ttotal: 2.19s\tremaining: 1.71s\n",
      "50:\tlearn: 1882.1706287\ttotal: 2.24s\tremaining: 1.67s\n",
      "51:\tlearn: 1878.8132085\ttotal: 2.28s\tremaining: 1.63s\n",
      "52:\tlearn: 1874.9305410\ttotal: 2.33s\tremaining: 1.58s\n",
      "53:\tlearn: 1873.1739519\ttotal: 2.37s\tremaining: 1.53s\n",
      "54:\tlearn: 1870.8033451\ttotal: 2.41s\tremaining: 1.49s\n",
      "55:\tlearn: 1868.6470749\ttotal: 2.45s\tremaining: 1.45s\n",
      "56:\tlearn: 1866.0008341\ttotal: 2.5s\tremaining: 1.4s\n",
      "57:\tlearn: 1863.8399271\ttotal: 2.54s\tremaining: 1.36s\n",
      "58:\tlearn: 1860.1247177\ttotal: 2.58s\tremaining: 1.31s\n",
      "59:\tlearn: 1857.4495819\ttotal: 2.62s\tremaining: 1.27s\n",
      "60:\tlearn: 1855.1473571\ttotal: 2.67s\tremaining: 1.22s\n",
      "61:\tlearn: 1851.7875588\ttotal: 2.71s\tremaining: 1.18s\n",
      "62:\tlearn: 1848.3591537\ttotal: 2.75s\tremaining: 1.13s\n",
      "63:\tlearn: 1846.4140961\ttotal: 2.79s\tremaining: 1.09s\n",
      "64:\tlearn: 1843.8282021\ttotal: 2.84s\tremaining: 1.05s\n",
      "65:\tlearn: 1842.0198310\ttotal: 2.88s\tremaining: 1s\n",
      "66:\tlearn: 1839.4429768\ttotal: 2.94s\tremaining: 964ms\n",
      "67:\tlearn: 1838.0074434\ttotal: 2.99s\tremaining: 922ms\n",
      "68:\tlearn: 1836.2681402\ttotal: 3.03s\tremaining: 879ms\n",
      "69:\tlearn: 1834.2961576\ttotal: 3.07s\tremaining: 834ms\n",
      "70:\tlearn: 1832.8444955\ttotal: 3.12s\tremaining: 791ms\n",
      "71:\tlearn: 1830.9534810\ttotal: 3.16s\tremaining: 747ms\n",
      "72:\tlearn: 1828.2604238\ttotal: 3.21s\tremaining: 703ms\n",
      "73:\tlearn: 1826.2061430\ttotal: 3.25s\tremaining: 658ms\n",
      "74:\tlearn: 1824.8418551\ttotal: 3.29s\tremaining: 614ms\n",
      "75:\tlearn: 1822.5410372\ttotal: 3.33s\tremaining: 570ms\n",
      "76:\tlearn: 1820.3525782\ttotal: 3.38s\tremaining: 526ms\n",
      "77:\tlearn: 1818.2955234\ttotal: 3.42s\tremaining: 482ms\n",
      "78:\tlearn: 1815.6702599\ttotal: 3.46s\tremaining: 438ms\n",
      "79:\tlearn: 1813.1754874\ttotal: 3.5s\tremaining: 394ms\n",
      "80:\tlearn: 1811.3974523\ttotal: 3.54s\tremaining: 350ms\n",
      "81:\tlearn: 1809.7593680\ttotal: 3.58s\tremaining: 306ms\n",
      "82:\tlearn: 1807.3974861\ttotal: 3.63s\tremaining: 262ms\n",
      "83:\tlearn: 1806.3330684\ttotal: 3.67s\tremaining: 219ms\n",
      "84:\tlearn: 1804.1218117\ttotal: 3.71s\tremaining: 175ms\n",
      "85:\tlearn: 1802.4086345\ttotal: 3.76s\tremaining: 131ms\n",
      "86:\tlearn: 1800.8640310\ttotal: 3.8s\tremaining: 87.4ms\n",
      "87:\tlearn: 1799.4832634\ttotal: 3.84s\tremaining: 43.7ms\n",
      "88:\tlearn: 1797.4044319\ttotal: 3.88s\tremaining: 0us\n",
      "0:\tlearn: 3806.1065781\ttotal: 42.8ms\tremaining: 3.76s\n",
      "1:\tlearn: 3267.5719047\ttotal: 83.5ms\tremaining: 3.63s\n",
      "2:\tlearn: 2889.6020100\ttotal: 124ms\tremaining: 3.56s\n",
      "3:\tlearn: 2642.4640491\ttotal: 165ms\tremaining: 3.5s\n",
      "4:\tlearn: 2478.9294026\ttotal: 205ms\tremaining: 3.44s\n",
      "5:\tlearn: 2358.2340810\ttotal: 246ms\tremaining: 3.4s\n",
      "6:\tlearn: 2286.4861346\ttotal: 287ms\tremaining: 3.36s\n",
      "7:\tlearn: 2227.8204129\ttotal: 333ms\tremaining: 3.37s\n",
      "8:\tlearn: 2183.1977365\ttotal: 375ms\tremaining: 3.34s\n",
      "9:\tlearn: 2150.5601588\ttotal: 419ms\tremaining: 3.31s\n",
      "10:\tlearn: 2126.7135426\ttotal: 461ms\tremaining: 3.27s\n",
      "11:\tlearn: 2109.3778064\ttotal: 507ms\tremaining: 3.25s\n",
      "12:\tlearn: 2095.4036027\ttotal: 553ms\tremaining: 3.23s\n",
      "13:\tlearn: 2079.8358451\ttotal: 603ms\tremaining: 3.23s\n",
      "14:\tlearn: 2066.7047948\ttotal: 647ms\tremaining: 3.19s\n",
      "15:\tlearn: 2057.6506089\ttotal: 689ms\tremaining: 3.14s\n",
      "16:\tlearn: 2049.4203210\ttotal: 733ms\tremaining: 3.1s\n",
      "17:\tlearn: 2039.8667238\ttotal: 777ms\tremaining: 3.06s\n",
      "18:\tlearn: 2030.2752234\ttotal: 820ms\tremaining: 3.02s\n",
      "19:\tlearn: 2023.2596284\ttotal: 870ms\tremaining: 3s\n",
      "20:\tlearn: 2014.2563246\ttotal: 926ms\tremaining: 3s\n",
      "21:\tlearn: 2009.3459062\ttotal: 974ms\tremaining: 2.96s\n",
      "22:\tlearn: 2000.6621477\ttotal: 1.02s\tremaining: 2.92s\n",
      "23:\tlearn: 1993.9110147\ttotal: 1.06s\tremaining: 2.86s\n",
      "24:\tlearn: 1988.3585092\ttotal: 1.1s\tremaining: 2.81s\n",
      "25:\tlearn: 1983.9923197\ttotal: 1.14s\tremaining: 2.76s\n",
      "26:\tlearn: 1980.2412426\ttotal: 1.18s\tremaining: 2.71s\n",
      "27:\tlearn: 1976.7102782\ttotal: 1.23s\tremaining: 2.67s\n",
      "28:\tlearn: 1970.5939522\ttotal: 1.27s\tremaining: 2.62s\n",
      "29:\tlearn: 1966.1617530\ttotal: 1.31s\tremaining: 2.58s\n",
      "30:\tlearn: 1962.8406383\ttotal: 1.35s\tremaining: 2.54s\n",
      "31:\tlearn: 1958.2354787\ttotal: 1.4s\tremaining: 2.5s\n",
      "32:\tlearn: 1954.6501764\ttotal: 1.45s\tremaining: 2.45s\n",
      "33:\tlearn: 1950.3736538\ttotal: 1.49s\tremaining: 2.41s\n",
      "34:\tlearn: 1947.5855788\ttotal: 1.53s\tremaining: 2.36s\n",
      "35:\tlearn: 1943.0113705\ttotal: 1.57s\tremaining: 2.32s\n",
      "36:\tlearn: 1938.2575194\ttotal: 1.63s\tremaining: 2.29s\n",
      "37:\tlearn: 1933.6461855\ttotal: 1.67s\tremaining: 2.24s\n",
      "38:\tlearn: 1929.8661939\ttotal: 1.72s\tremaining: 2.2s\n",
      "39:\tlearn: 1927.8118297\ttotal: 1.76s\tremaining: 2.16s\n",
      "40:\tlearn: 1925.3890840\ttotal: 1.8s\tremaining: 2.11s\n",
      "41:\tlearn: 1920.3866072\ttotal: 1.85s\tremaining: 2.07s\n",
      "42:\tlearn: 1915.0510878\ttotal: 1.89s\tremaining: 2.02s\n",
      "43:\tlearn: 1911.5713352\ttotal: 1.93s\tremaining: 1.97s\n",
      "44:\tlearn: 1909.5902959\ttotal: 1.97s\tremaining: 1.93s\n",
      "45:\tlearn: 1907.4663508\ttotal: 2.01s\tremaining: 1.88s\n",
      "46:\tlearn: 1904.1525544\ttotal: 2.06s\tremaining: 1.84s\n",
      "47:\tlearn: 1901.1442860\ttotal: 2.1s\tremaining: 1.79s\n",
      "48:\tlearn: 1898.7593966\ttotal: 2.14s\tremaining: 1.75s\n",
      "49:\tlearn: 1897.1226724\ttotal: 2.18s\tremaining: 1.7s\n",
      "50:\tlearn: 1893.7553542\ttotal: 2.23s\tremaining: 1.66s\n",
      "51:\tlearn: 1890.8428491\ttotal: 2.27s\tremaining: 1.62s\n",
      "52:\tlearn: 1887.6491403\ttotal: 2.32s\tremaining: 1.58s\n",
      "53:\tlearn: 1884.4366214\ttotal: 2.37s\tremaining: 1.53s\n",
      "54:\tlearn: 1881.8434382\ttotal: 2.41s\tremaining: 1.49s\n",
      "55:\tlearn: 1878.6589771\ttotal: 2.46s\tremaining: 1.45s\n",
      "56:\tlearn: 1876.8661429\ttotal: 2.51s\tremaining: 1.41s\n",
      "57:\tlearn: 1874.7464997\ttotal: 2.55s\tremaining: 1.36s\n",
      "58:\tlearn: 1873.3359051\ttotal: 2.59s\tremaining: 1.32s\n",
      "59:\tlearn: 1871.5283140\ttotal: 2.64s\tremaining: 1.27s\n",
      "60:\tlearn: 1869.2672468\ttotal: 2.68s\tremaining: 1.23s\n",
      "61:\tlearn: 1868.0798045\ttotal: 2.73s\tremaining: 1.19s\n",
      "62:\tlearn: 1865.1327147\ttotal: 2.77s\tremaining: 1.14s\n",
      "63:\tlearn: 1863.3569476\ttotal: 2.81s\tremaining: 1.1s\n",
      "64:\tlearn: 1861.1126221\ttotal: 2.85s\tremaining: 1.05s\n",
      "65:\tlearn: 1859.5814493\ttotal: 2.9s\tremaining: 1.01s\n",
      "66:\tlearn: 1856.9786983\ttotal: 2.94s\tremaining: 965ms\n",
      "67:\tlearn: 1854.7861351\ttotal: 2.98s\tremaining: 921ms\n",
      "68:\tlearn: 1852.9186148\ttotal: 3.02s\tremaining: 876ms\n",
      "69:\tlearn: 1849.7570323\ttotal: 3.06s\tremaining: 832ms\n",
      "70:\tlearn: 1848.2557490\ttotal: 3.11s\tremaining: 788ms\n",
      "71:\tlearn: 1845.0634566\ttotal: 3.15s\tremaining: 743ms\n",
      "72:\tlearn: 1843.7866723\ttotal: 3.19s\tremaining: 699ms\n",
      "73:\tlearn: 1841.6992433\ttotal: 3.23s\tremaining: 655ms\n",
      "74:\tlearn: 1839.8208920\ttotal: 3.27s\tremaining: 611ms\n",
      "75:\tlearn: 1838.1640076\ttotal: 3.31s\tremaining: 567ms\n",
      "76:\tlearn: 1836.6995045\ttotal: 3.36s\tremaining: 523ms\n",
      "77:\tlearn: 1835.6071286\ttotal: 3.4s\tremaining: 479ms\n",
      "78:\tlearn: 1832.1488688\ttotal: 3.44s\tremaining: 436ms\n",
      "79:\tlearn: 1830.1024247\ttotal: 3.49s\tremaining: 392ms\n",
      "80:\tlearn: 1828.5575537\ttotal: 3.53s\tremaining: 349ms\n",
      "81:\tlearn: 1826.7422244\ttotal: 3.58s\tremaining: 306ms\n",
      "82:\tlearn: 1825.0301568\ttotal: 3.63s\tremaining: 263ms\n",
      "83:\tlearn: 1823.5540158\ttotal: 3.68s\tremaining: 219ms\n",
      "84:\tlearn: 1820.9213026\ttotal: 3.72s\tremaining: 175ms\n",
      "85:\tlearn: 1819.5369898\ttotal: 3.76s\tremaining: 131ms\n",
      "86:\tlearn: 1818.1077952\ttotal: 3.8s\tremaining: 87.5ms\n",
      "87:\tlearn: 1816.8582921\ttotal: 3.85s\tremaining: 43.7ms\n",
      "88:\tlearn: 1814.6689118\ttotal: 3.89s\tremaining: 0us\n",
      "0:\tlearn: 3807.8511053\ttotal: 41.5ms\tremaining: 3.65s\n",
      "1:\tlearn: 3260.7249904\ttotal: 83.5ms\tremaining: 3.63s\n",
      "2:\tlearn: 2882.8320224\ttotal: 126ms\tremaining: 3.6s\n",
      "3:\tlearn: 2634.0337363\ttotal: 167ms\tremaining: 3.54s\n",
      "4:\tlearn: 2472.2770716\ttotal: 207ms\tremaining: 3.48s\n",
      "5:\tlearn: 2351.6369259\ttotal: 249ms\tremaining: 3.45s\n",
      "6:\tlearn: 2277.2419598\ttotal: 289ms\tremaining: 3.39s\n",
      "7:\tlearn: 2223.5229393\ttotal: 334ms\tremaining: 3.38s\n",
      "8:\tlearn: 2175.7884516\ttotal: 374ms\tremaining: 3.32s\n",
      "9:\tlearn: 2142.2671992\ttotal: 414ms\tremaining: 3.27s\n",
      "10:\tlearn: 2115.6449461\ttotal: 456ms\tremaining: 3.23s\n",
      "11:\tlearn: 2093.6580843\ttotal: 498ms\tremaining: 3.19s\n",
      "12:\tlearn: 2078.6589104\ttotal: 543ms\tremaining: 3.17s\n",
      "13:\tlearn: 2065.9667359\ttotal: 585ms\tremaining: 3.13s\n",
      "14:\tlearn: 2055.2075709\ttotal: 625ms\tremaining: 3.08s\n",
      "15:\tlearn: 2045.5659829\ttotal: 669ms\tremaining: 3.05s\n",
      "16:\tlearn: 2035.5880530\ttotal: 711ms\tremaining: 3.01s\n",
      "17:\tlearn: 2028.6914856\ttotal: 751ms\tremaining: 2.96s\n",
      "18:\tlearn: 2019.3227201\ttotal: 793ms\tremaining: 2.92s\n",
      "19:\tlearn: 2012.5667092\ttotal: 836ms\tremaining: 2.88s\n",
      "20:\tlearn: 2004.1599854\ttotal: 881ms\tremaining: 2.85s\n",
      "21:\tlearn: 1995.4755313\ttotal: 928ms\tremaining: 2.83s\n",
      "22:\tlearn: 1989.2348271\ttotal: 988ms\tremaining: 2.84s\n",
      "23:\tlearn: 1983.7462137\ttotal: 1.04s\tremaining: 2.81s\n",
      "24:\tlearn: 1978.8830987\ttotal: 1.08s\tremaining: 2.78s\n",
      "25:\tlearn: 1974.3984290\ttotal: 1.13s\tremaining: 2.74s\n",
      "26:\tlearn: 1969.2840032\ttotal: 1.17s\tremaining: 2.69s\n",
      "27:\tlearn: 1965.9786373\ttotal: 1.22s\tremaining: 2.65s\n",
      "28:\tlearn: 1960.6578750\ttotal: 1.26s\tremaining: 2.6s\n",
      "29:\tlearn: 1956.3614720\ttotal: 1.3s\tremaining: 2.56s\n",
      "30:\tlearn: 1950.8598810\ttotal: 1.35s\tremaining: 2.52s\n",
      "31:\tlearn: 1946.4973973\ttotal: 1.39s\tremaining: 2.47s\n",
      "32:\tlearn: 1943.0674067\ttotal: 1.43s\tremaining: 2.42s\n",
      "33:\tlearn: 1939.5962790\ttotal: 1.47s\tremaining: 2.38s\n",
      "34:\tlearn: 1936.4651950\ttotal: 1.51s\tremaining: 2.33s\n",
      "35:\tlearn: 1932.6551762\ttotal: 1.55s\tremaining: 2.29s\n",
      "36:\tlearn: 1928.4314422\ttotal: 1.59s\tremaining: 2.24s\n",
      "37:\tlearn: 1925.0582410\ttotal: 1.64s\tremaining: 2.19s\n",
      "38:\tlearn: 1922.2354530\ttotal: 1.68s\tremaining: 2.15s\n",
      "39:\tlearn: 1916.8853411\ttotal: 1.72s\tremaining: 2.11s\n",
      "40:\tlearn: 1914.1445000\ttotal: 1.76s\tremaining: 2.06s\n",
      "41:\tlearn: 1910.5391409\ttotal: 1.81s\tremaining: 2.02s\n",
      "42:\tlearn: 1907.5229763\ttotal: 1.85s\tremaining: 1.98s\n",
      "43:\tlearn: 1903.1786670\ttotal: 1.89s\tremaining: 1.93s\n",
      "44:\tlearn: 1901.1521249\ttotal: 1.93s\tremaining: 1.89s\n",
      "45:\tlearn: 1897.9597058\ttotal: 1.97s\tremaining: 1.84s\n",
      "46:\tlearn: 1893.1389277\ttotal: 2.01s\tremaining: 1.8s\n",
      "47:\tlearn: 1888.8889329\ttotal: 2.05s\tremaining: 1.75s\n",
      "48:\tlearn: 1886.9497832\ttotal: 2.09s\tremaining: 1.71s\n",
      "49:\tlearn: 1884.1276066\ttotal: 2.14s\tremaining: 1.67s\n",
      "50:\tlearn: 1880.5919219\ttotal: 2.18s\tremaining: 1.62s\n",
      "51:\tlearn: 1878.0041191\ttotal: 2.22s\tremaining: 1.58s\n",
      "52:\tlearn: 1875.8362022\ttotal: 2.28s\tremaining: 1.55s\n",
      "53:\tlearn: 1872.9401786\ttotal: 2.33s\tremaining: 1.51s\n",
      "54:\tlearn: 1871.0265914\ttotal: 2.37s\tremaining: 1.46s\n",
      "55:\tlearn: 1868.9957337\ttotal: 2.42s\tremaining: 1.42s\n",
      "56:\tlearn: 1866.2105230\ttotal: 2.46s\tremaining: 1.38s\n",
      "57:\tlearn: 1863.6751688\ttotal: 2.5s\tremaining: 1.34s\n",
      "58:\tlearn: 1861.1532670\ttotal: 2.55s\tremaining: 1.3s\n",
      "59:\tlearn: 1858.3026612\ttotal: 2.6s\tremaining: 1.26s\n",
      "60:\tlearn: 1856.7536531\ttotal: 2.64s\tremaining: 1.21s\n",
      "61:\tlearn: 1854.0778874\ttotal: 2.68s\tremaining: 1.17s\n",
      "62:\tlearn: 1852.2900217\ttotal: 2.73s\tremaining: 1.12s\n",
      "63:\tlearn: 1849.8022616\ttotal: 2.77s\tremaining: 1.08s\n",
      "64:\tlearn: 1847.0169286\ttotal: 2.81s\tremaining: 1.04s\n",
      "65:\tlearn: 1844.9868643\ttotal: 2.85s\tremaining: 993ms\n",
      "66:\tlearn: 1843.0960994\ttotal: 2.89s\tremaining: 950ms\n",
      "67:\tlearn: 1840.1845317\ttotal: 2.93s\tremaining: 906ms\n",
      "68:\tlearn: 1837.5139470\ttotal: 2.98s\tremaining: 862ms\n",
      "69:\tlearn: 1835.7956220\ttotal: 3.02s\tremaining: 819ms\n",
      "70:\tlearn: 1833.3988866\ttotal: 3.06s\tremaining: 776ms\n",
      "71:\tlearn: 1830.3287842\ttotal: 3.11s\tremaining: 735ms\n",
      "72:\tlearn: 1827.4237675\ttotal: 3.16s\tremaining: 692ms\n",
      "73:\tlearn: 1825.4909901\ttotal: 3.2s\tremaining: 648ms\n",
      "74:\tlearn: 1823.4946473\ttotal: 3.24s\tremaining: 605ms\n",
      "75:\tlearn: 1821.3683954\ttotal: 3.28s\tremaining: 562ms\n",
      "76:\tlearn: 1819.2182044\ttotal: 3.33s\tremaining: 519ms\n",
      "77:\tlearn: 1817.4709368\ttotal: 3.37s\tremaining: 475ms\n",
      "78:\tlearn: 1814.8315732\ttotal: 3.41s\tremaining: 432ms\n",
      "79:\tlearn: 1813.0744088\ttotal: 3.46s\tremaining: 389ms\n",
      "80:\tlearn: 1811.5075405\ttotal: 3.5s\tremaining: 346ms\n",
      "81:\tlearn: 1810.0100383\ttotal: 3.55s\tremaining: 303ms\n",
      "82:\tlearn: 1808.3587090\ttotal: 3.59s\tremaining: 260ms\n",
      "83:\tlearn: 1806.9916101\ttotal: 3.64s\tremaining: 217ms\n",
      "84:\tlearn: 1805.3095782\ttotal: 3.69s\tremaining: 173ms\n",
      "85:\tlearn: 1804.0312858\ttotal: 3.73s\tremaining: 130ms\n",
      "86:\tlearn: 1801.8489059\ttotal: 3.77s\tremaining: 86.7ms\n",
      "87:\tlearn: 1800.5899467\ttotal: 3.82s\tremaining: 43.4ms\n",
      "88:\tlearn: 1799.2639955\ttotal: 3.86s\tremaining: 0us\n",
      "0:\tlearn: 3383.9121302\ttotal: 18.4ms\tremaining: 606ms\n",
      "1:\tlearn: 2866.6707871\ttotal: 36.7ms\tremaining: 587ms\n",
      "2:\tlearn: 2603.8548028\ttotal: 54.4ms\tremaining: 562ms\n",
      "3:\tlearn: 2471.6460478\ttotal: 74.1ms\tremaining: 556ms\n",
      "4:\tlearn: 2408.8300549\ttotal: 91.7ms\tremaining: 532ms\n",
      "5:\tlearn: 2367.3651359\ttotal: 112ms\tremaining: 522ms\n",
      "6:\tlearn: 2328.9609695\ttotal: 132ms\tremaining: 507ms\n",
      "7:\tlearn: 2304.4644876\ttotal: 151ms\tremaining: 492ms\n",
      "8:\tlearn: 2286.7371763\ttotal: 170ms\tremaining: 472ms\n",
      "9:\tlearn: 2273.9428295\ttotal: 188ms\tremaining: 451ms\n",
      "10:\tlearn: 2241.5730179\ttotal: 208ms\tremaining: 434ms\n",
      "11:\tlearn: 2226.8936528\ttotal: 227ms\tremaining: 416ms\n",
      "12:\tlearn: 2210.8655113\ttotal: 246ms\tremaining: 397ms\n",
      "13:\tlearn: 2200.9832454\ttotal: 265ms\tremaining: 378ms\n",
      "14:\tlearn: 2187.8829185\ttotal: 283ms\tremaining: 358ms\n",
      "15:\tlearn: 2179.6509448\ttotal: 305ms\tremaining: 343ms\n",
      "16:\tlearn: 2172.4707822\ttotal: 325ms\tremaining: 325ms\n",
      "17:\tlearn: 2161.6159346\ttotal: 344ms\tremaining: 306ms\n",
      "18:\tlearn: 2153.0039246\ttotal: 362ms\tremaining: 286ms\n",
      "19:\tlearn: 2143.8272964\ttotal: 381ms\tremaining: 267ms\n",
      "20:\tlearn: 2136.6150888\ttotal: 400ms\tremaining: 248ms\n",
      "21:\tlearn: 2132.1699963\ttotal: 421ms\tremaining: 229ms\n",
      "22:\tlearn: 2125.3230828\ttotal: 439ms\tremaining: 210ms\n",
      "23:\tlearn: 2121.1634368\ttotal: 461ms\tremaining: 192ms\n",
      "24:\tlearn: 2116.2013319\ttotal: 479ms\tremaining: 173ms\n",
      "25:\tlearn: 2112.1654394\ttotal: 500ms\tremaining: 154ms\n",
      "26:\tlearn: 2108.0424781\ttotal: 520ms\tremaining: 135ms\n",
      "27:\tlearn: 2103.0129812\ttotal: 541ms\tremaining: 116ms\n",
      "28:\tlearn: 2097.6429175\ttotal: 561ms\tremaining: 96.7ms\n",
      "29:\tlearn: 2093.4478446\ttotal: 580ms\tremaining: 77.3ms\n",
      "30:\tlearn: 2091.7967157\ttotal: 597ms\tremaining: 57.8ms\n",
      "31:\tlearn: 2086.7938074\ttotal: 617ms\tremaining: 38.6ms\n",
      "32:\tlearn: 2082.4519211\ttotal: 637ms\tremaining: 19.3ms\n",
      "33:\tlearn: 2078.3655760\ttotal: 661ms\tremaining: 0us\n",
      "0:\tlearn: 3438.8274696\ttotal: 19.9ms\tremaining: 656ms\n",
      "1:\tlearn: 2863.1987176\ttotal: 39.4ms\tremaining: 630ms\n",
      "2:\tlearn: 2617.2024598\ttotal: 65.5ms\tremaining: 677ms\n",
      "3:\tlearn: 2500.5961413\ttotal: 93.2ms\tremaining: 699ms\n",
      "4:\tlearn: 2415.5396627\ttotal: 112ms\tremaining: 652ms\n",
      "5:\tlearn: 2375.2182696\ttotal: 132ms\tremaining: 614ms\n",
      "6:\tlearn: 2337.2593661\ttotal: 150ms\tremaining: 580ms\n",
      "7:\tlearn: 2316.9683167\ttotal: 169ms\tremaining: 549ms\n",
      "8:\tlearn: 2282.6660592\ttotal: 188ms\tremaining: 523ms\n",
      "9:\tlearn: 2265.3263045\ttotal: 208ms\tremaining: 498ms\n",
      "10:\tlearn: 2253.5631023\ttotal: 226ms\tremaining: 472ms\n",
      "11:\tlearn: 2236.2369328\ttotal: 246ms\tremaining: 451ms\n",
      "12:\tlearn: 2221.4402938\ttotal: 266ms\tremaining: 429ms\n",
      "13:\tlearn: 2206.7412402\ttotal: 285ms\tremaining: 408ms\n",
      "14:\tlearn: 2197.7571218\ttotal: 306ms\tremaining: 387ms\n",
      "15:\tlearn: 2189.2229301\ttotal: 326ms\tremaining: 366ms\n",
      "16:\tlearn: 2176.5892998\ttotal: 348ms\tremaining: 348ms\n",
      "17:\tlearn: 2166.1467324\ttotal: 370ms\tremaining: 329ms\n",
      "18:\tlearn: 2159.2163638\ttotal: 390ms\tremaining: 308ms\n",
      "19:\tlearn: 2152.6668092\ttotal: 410ms\tremaining: 287ms\n",
      "20:\tlearn: 2141.8691534\ttotal: 429ms\tremaining: 266ms\n",
      "21:\tlearn: 2135.8559003\ttotal: 449ms\tremaining: 245ms\n",
      "22:\tlearn: 2129.9366448\ttotal: 471ms\tremaining: 225ms\n",
      "23:\tlearn: 2122.7725690\ttotal: 489ms\tremaining: 204ms\n",
      "24:\tlearn: 2117.5842932\ttotal: 510ms\tremaining: 184ms\n",
      "25:\tlearn: 2113.2411080\ttotal: 532ms\tremaining: 164ms\n",
      "26:\tlearn: 2108.0434411\ttotal: 554ms\tremaining: 144ms\n",
      "27:\tlearn: 2102.1257102\ttotal: 573ms\tremaining: 123ms\n",
      "28:\tlearn: 2096.7015919\ttotal: 602ms\tremaining: 104ms\n",
      "29:\tlearn: 2092.6925999\ttotal: 631ms\tremaining: 84.1ms\n",
      "30:\tlearn: 2088.0470051\ttotal: 653ms\tremaining: 63.2ms\n",
      "31:\tlearn: 2084.4474556\ttotal: 676ms\tremaining: 42.3ms\n",
      "32:\tlearn: 2080.0661655\ttotal: 696ms\tremaining: 21.1ms\n",
      "33:\tlearn: 2076.0227239\ttotal: 715ms\tremaining: 0us\n",
      "0:\tlearn: 3383.6420925\ttotal: 19.5ms\tremaining: 642ms\n",
      "1:\tlearn: 2842.0596807\ttotal: 38.7ms\tremaining: 620ms\n",
      "2:\tlearn: 2602.2080572\ttotal: 58.1ms\tremaining: 600ms\n",
      "3:\tlearn: 2475.5880079\ttotal: 85.6ms\tremaining: 642ms\n",
      "4:\tlearn: 2409.9856668\ttotal: 105ms\tremaining: 610ms\n",
      "5:\tlearn: 2356.3699639\ttotal: 124ms\tremaining: 577ms\n",
      "6:\tlearn: 2326.2531975\ttotal: 142ms\tremaining: 547ms\n",
      "7:\tlearn: 2300.7116001\ttotal: 161ms\tremaining: 523ms\n",
      "8:\tlearn: 2263.5153617\ttotal: 180ms\tremaining: 501ms\n",
      "9:\tlearn: 2250.7445502\ttotal: 201ms\tremaining: 481ms\n",
      "10:\tlearn: 2233.7055530\ttotal: 219ms\tremaining: 459ms\n",
      "11:\tlearn: 2220.2708128\ttotal: 238ms\tremaining: 436ms\n",
      "12:\tlearn: 2206.0069843\ttotal: 257ms\tremaining: 415ms\n",
      "13:\tlearn: 2194.1560556\ttotal: 276ms\tremaining: 394ms\n",
      "14:\tlearn: 2185.4435032\ttotal: 294ms\tremaining: 373ms\n",
      "15:\tlearn: 2179.3952873\ttotal: 313ms\tremaining: 353ms\n",
      "16:\tlearn: 2171.0492230\ttotal: 332ms\tremaining: 332ms\n",
      "17:\tlearn: 2160.8032242\ttotal: 352ms\tremaining: 313ms\n",
      "18:\tlearn: 2150.4490159\ttotal: 370ms\tremaining: 292ms\n",
      "19:\tlearn: 2144.4274000\ttotal: 388ms\tremaining: 271ms\n",
      "20:\tlearn: 2136.9295510\ttotal: 406ms\tremaining: 251ms\n",
      "21:\tlearn: 2128.8488987\ttotal: 425ms\tremaining: 232ms\n",
      "22:\tlearn: 2124.9211392\ttotal: 444ms\tremaining: 212ms\n",
      "23:\tlearn: 2120.2075573\ttotal: 465ms\tremaining: 194ms\n",
      "24:\tlearn: 2115.7005280\ttotal: 484ms\tremaining: 174ms\n",
      "25:\tlearn: 2111.3689626\ttotal: 503ms\tremaining: 155ms\n",
      "26:\tlearn: 2106.0138575\ttotal: 522ms\tremaining: 135ms\n",
      "27:\tlearn: 2101.7634498\ttotal: 540ms\tremaining: 116ms\n",
      "28:\tlearn: 2097.3500933\ttotal: 558ms\tremaining: 96.2ms\n",
      "29:\tlearn: 2092.0651155\ttotal: 577ms\tremaining: 77ms\n",
      "30:\tlearn: 2088.3952212\ttotal: 595ms\tremaining: 57.6ms\n",
      "31:\tlearn: 2084.7971638\ttotal: 613ms\tremaining: 38.3ms\n",
      "32:\tlearn: 2082.7236210\ttotal: 633ms\tremaining: 19.2ms\n",
      "33:\tlearn: 2079.9246046\ttotal: 651ms\tremaining: 0us\n",
      "0:\tlearn: 3383.8002659\ttotal: 19ms\tremaining: 627ms\n",
      "1:\tlearn: 2848.9035049\ttotal: 40ms\tremaining: 640ms\n",
      "2:\tlearn: 2610.1900129\ttotal: 59.4ms\tremaining: 614ms\n",
      "3:\tlearn: 2483.2490483\ttotal: 78ms\tremaining: 585ms\n",
      "4:\tlearn: 2418.0740200\ttotal: 97ms\tremaining: 563ms\n",
      "5:\tlearn: 2368.2254547\ttotal: 115ms\tremaining: 538ms\n",
      "6:\tlearn: 2339.6266942\ttotal: 133ms\tremaining: 512ms\n",
      "7:\tlearn: 2313.1308683\ttotal: 151ms\tremaining: 492ms\n",
      "8:\tlearn: 2280.4214703\ttotal: 169ms\tremaining: 471ms\n",
      "9:\tlearn: 2263.5878210\ttotal: 189ms\tremaining: 453ms\n",
      "10:\tlearn: 2249.4167627\ttotal: 208ms\tremaining: 435ms\n",
      "11:\tlearn: 2236.1817848\ttotal: 227ms\tremaining: 415ms\n",
      "12:\tlearn: 2225.5131733\ttotal: 247ms\tremaining: 400ms\n",
      "13:\tlearn: 2216.4808174\ttotal: 267ms\tremaining: 382ms\n",
      "14:\tlearn: 2210.5762404\ttotal: 286ms\tremaining: 362ms\n",
      "15:\tlearn: 2196.2177294\ttotal: 304ms\tremaining: 342ms\n",
      "16:\tlearn: 2182.4449535\ttotal: 324ms\tremaining: 324ms\n",
      "17:\tlearn: 2174.2124027\ttotal: 342ms\tremaining: 304ms\n",
      "18:\tlearn: 2165.6509866\ttotal: 361ms\tremaining: 285ms\n",
      "19:\tlearn: 2158.4308898\ttotal: 380ms\tremaining: 266ms\n",
      "20:\tlearn: 2153.7599978\ttotal: 399ms\tremaining: 247ms\n",
      "21:\tlearn: 2146.6315591\ttotal: 417ms\tremaining: 227ms\n",
      "22:\tlearn: 2141.1204362\ttotal: 437ms\tremaining: 209ms\n",
      "23:\tlearn: 2136.2936449\ttotal: 457ms\tremaining: 190ms\n",
      "24:\tlearn: 2131.3050586\ttotal: 475ms\tremaining: 171ms\n",
      "25:\tlearn: 2127.9159625\ttotal: 492ms\tremaining: 152ms\n",
      "26:\tlearn: 2122.1834264\ttotal: 511ms\tremaining: 133ms\n",
      "27:\tlearn: 2119.0224312\ttotal: 529ms\tremaining: 113ms\n",
      "28:\tlearn: 2114.3400046\ttotal: 548ms\tremaining: 94.5ms\n",
      "29:\tlearn: 2109.2575792\ttotal: 566ms\tremaining: 75.5ms\n",
      "30:\tlearn: 2103.6441121\ttotal: 584ms\tremaining: 56.6ms\n",
      "31:\tlearn: 2099.0908633\ttotal: 603ms\tremaining: 37.7ms\n",
      "32:\tlearn: 2096.0662227\ttotal: 621ms\tremaining: 18.8ms\n",
      "33:\tlearn: 2092.5481988\ttotal: 640ms\tremaining: 0us\n",
      "0:\tlearn: 3382.7773589\ttotal: 18.2ms\tremaining: 602ms\n",
      "1:\tlearn: 2844.2817668\ttotal: 41.4ms\tremaining: 662ms\n",
      "2:\tlearn: 2606.5621070\ttotal: 64.2ms\tremaining: 663ms\n",
      "3:\tlearn: 2488.8766431\ttotal: 81.8ms\tremaining: 614ms\n",
      "4:\tlearn: 2401.1542479\ttotal: 99.9ms\tremaining: 580ms\n",
      "5:\tlearn: 2357.6643426\ttotal: 118ms\tremaining: 552ms\n",
      "6:\tlearn: 2326.8929460\ttotal: 137ms\tremaining: 527ms\n",
      "7:\tlearn: 2306.9578597\ttotal: 154ms\tremaining: 499ms\n",
      "8:\tlearn: 2275.1755592\ttotal: 172ms\tremaining: 477ms\n",
      "9:\tlearn: 2254.1320529\ttotal: 191ms\tremaining: 459ms\n",
      "10:\tlearn: 2237.9533256\ttotal: 209ms\tremaining: 438ms\n",
      "11:\tlearn: 2222.3535860\ttotal: 228ms\tremaining: 417ms\n",
      "12:\tlearn: 2212.1808317\ttotal: 249ms\tremaining: 402ms\n",
      "13:\tlearn: 2200.3772857\ttotal: 269ms\tremaining: 384ms\n",
      "14:\tlearn: 2185.0123915\ttotal: 287ms\tremaining: 364ms\n",
      "15:\tlearn: 2175.6484984\ttotal: 307ms\tremaining: 345ms\n",
      "16:\tlearn: 2167.2909693\ttotal: 325ms\tremaining: 325ms\n",
      "17:\tlearn: 2157.1949258\ttotal: 343ms\tremaining: 305ms\n",
      "18:\tlearn: 2151.1983884\ttotal: 361ms\tremaining: 285ms\n",
      "19:\tlearn: 2143.5484099\ttotal: 378ms\tremaining: 265ms\n",
      "20:\tlearn: 2135.4676031\ttotal: 396ms\tremaining: 245ms\n",
      "21:\tlearn: 2130.4376765\ttotal: 414ms\tremaining: 226ms\n",
      "22:\tlearn: 2123.8831571\ttotal: 433ms\tremaining: 207ms\n",
      "23:\tlearn: 2116.9963546\ttotal: 453ms\tremaining: 189ms\n",
      "24:\tlearn: 2112.8844165\ttotal: 472ms\tremaining: 170ms\n",
      "25:\tlearn: 2108.1078736\ttotal: 491ms\tremaining: 151ms\n",
      "26:\tlearn: 2105.0749590\ttotal: 509ms\tremaining: 132ms\n",
      "27:\tlearn: 2100.2489016\ttotal: 528ms\tremaining: 113ms\n",
      "28:\tlearn: 2096.9143691\ttotal: 545ms\tremaining: 94ms\n",
      "29:\tlearn: 2092.8024094\ttotal: 564ms\tremaining: 75.2ms\n",
      "30:\tlearn: 2087.9095004\ttotal: 582ms\tremaining: 56.3ms\n",
      "31:\tlearn: 2084.4401067\ttotal: 601ms\tremaining: 37.6ms\n",
      "32:\tlearn: 2080.3199104\ttotal: 619ms\tremaining: 18.7ms\n",
      "33:\tlearn: 2076.7589783\ttotal: 637ms\tremaining: 0us\n",
      "0:\tlearn: 4288.7490309\ttotal: 19ms\tremaining: 209ms\n",
      "1:\tlearn: 4060.7318777\ttotal: 38.4ms\tremaining: 192ms\n",
      "2:\tlearn: 3867.8982734\ttotal: 58.1ms\tremaining: 174ms\n",
      "3:\tlearn: 3680.3817739\ttotal: 77ms\tremaining: 154ms\n",
      "4:\tlearn: 3517.9725001\ttotal: 97.5ms\tremaining: 136ms\n",
      "5:\tlearn: 3384.4798470\ttotal: 123ms\tremaining: 123ms\n",
      "6:\tlearn: 3256.2192455\ttotal: 143ms\tremaining: 102ms\n",
      "7:\tlearn: 3148.3006264\ttotal: 162ms\tremaining: 81.1ms\n",
      "8:\tlearn: 3053.5170377\ttotal: 182ms\tremaining: 60.7ms\n",
      "9:\tlearn: 2969.0112223\ttotal: 204ms\tremaining: 40.7ms\n",
      "10:\tlearn: 2899.1498883\ttotal: 228ms\tremaining: 20.7ms\n",
      "11:\tlearn: 2836.9165735\ttotal: 256ms\tremaining: 0us\n",
      "0:\tlearn: 4310.0126813\ttotal: 19.2ms\tremaining: 211ms\n",
      "1:\tlearn: 4072.0075711\ttotal: 39.1ms\tremaining: 195ms\n",
      "2:\tlearn: 3870.5021370\ttotal: 59.8ms\tremaining: 179ms\n",
      "3:\tlearn: 3682.8194860\ttotal: 79.3ms\tremaining: 159ms\n",
      "4:\tlearn: 3520.9699674\ttotal: 99.6ms\tremaining: 139ms\n",
      "5:\tlearn: 3381.5026636\ttotal: 118ms\tremaining: 118ms\n",
      "6:\tlearn: 3254.7999693\ttotal: 138ms\tremaining: 98.6ms\n",
      "7:\tlearn: 3140.6815130\ttotal: 160ms\tremaining: 79.8ms\n",
      "8:\tlearn: 3040.5857786\ttotal: 180ms\tremaining: 59.9ms\n",
      "9:\tlearn: 2955.1229575\ttotal: 199ms\tremaining: 39.9ms\n",
      "10:\tlearn: 2885.6380514\ttotal: 220ms\tremaining: 20ms\n",
      "11:\tlearn: 2816.2532783\ttotal: 241ms\tremaining: 0us\n",
      "0:\tlearn: 4298.5770518\ttotal: 18ms\tremaining: 198ms\n",
      "1:\tlearn: 4069.8568416\ttotal: 37.5ms\tremaining: 187ms\n",
      "2:\tlearn: 3866.4007009\ttotal: 56.6ms\tremaining: 170ms\n",
      "3:\tlearn: 3677.8798149\ttotal: 76.2ms\tremaining: 152ms\n",
      "4:\tlearn: 3512.3105599\ttotal: 95.1ms\tremaining: 133ms\n",
      "5:\tlearn: 3372.6586124\ttotal: 115ms\tremaining: 115ms\n",
      "6:\tlearn: 3244.4644881\ttotal: 134ms\tremaining: 95.9ms\n",
      "7:\tlearn: 3136.0172634\ttotal: 154ms\tremaining: 77.1ms\n",
      "8:\tlearn: 3043.8819569\ttotal: 174ms\tremaining: 58ms\n",
      "9:\tlearn: 2958.7217044\ttotal: 193ms\tremaining: 38.6ms\n",
      "10:\tlearn: 2887.6732020\ttotal: 212ms\tremaining: 19.2ms\n",
      "11:\tlearn: 2818.2141193\ttotal: 230ms\tremaining: 0us\n",
      "0:\tlearn: 4292.8534301\ttotal: 17.9ms\tremaining: 197ms\n",
      "1:\tlearn: 4064.8652294\ttotal: 36.8ms\tremaining: 184ms\n",
      "2:\tlearn: 3862.7084447\ttotal: 55.7ms\tremaining: 167ms\n",
      "3:\tlearn: 3685.3438276\ttotal: 74.2ms\tremaining: 148ms\n",
      "4:\tlearn: 3523.1207727\ttotal: 96.4ms\tremaining: 135ms\n",
      "5:\tlearn: 3375.3872674\ttotal: 116ms\tremaining: 116ms\n",
      "6:\tlearn: 3247.4838455\ttotal: 136ms\tremaining: 97ms\n",
      "7:\tlearn: 3136.4675864\ttotal: 155ms\tremaining: 77.5ms\n",
      "8:\tlearn: 3037.3137675\ttotal: 175ms\tremaining: 58.2ms\n",
      "9:\tlearn: 2957.0182898\ttotal: 193ms\tremaining: 38.6ms\n",
      "10:\tlearn: 2885.3562582\ttotal: 212ms\tremaining: 19.3ms\n",
      "11:\tlearn: 2822.6267048\ttotal: 232ms\tremaining: 0us\n",
      "0:\tlearn: 4296.7692425\ttotal: 19.1ms\tremaining: 210ms\n",
      "1:\tlearn: 4067.8227661\ttotal: 38ms\tremaining: 190ms\n",
      "2:\tlearn: 3864.5128921\ttotal: 56.6ms\tremaining: 170ms\n",
      "3:\tlearn: 3675.7196406\ttotal: 75.2ms\tremaining: 150ms\n",
      "4:\tlearn: 3510.0830217\ttotal: 96.9ms\tremaining: 136ms\n",
      "5:\tlearn: 3370.8774293\ttotal: 120ms\tremaining: 120ms\n",
      "6:\tlearn: 3242.7626204\ttotal: 138ms\tremaining: 98.8ms\n",
      "7:\tlearn: 3134.4918790\ttotal: 157ms\tremaining: 78.6ms\n",
      "8:\tlearn: 3042.7292538\ttotal: 176ms\tremaining: 58.6ms\n",
      "9:\tlearn: 2957.6593105\ttotal: 194ms\tremaining: 38.8ms\n",
      "10:\tlearn: 2886.5102986\ttotal: 214ms\tremaining: 19.4ms\n",
      "11:\tlearn: 2816.5562682\ttotal: 233ms\tremaining: 0us\n",
      "0:\tlearn: 2783.9461284\ttotal: 25.7ms\tremaining: 2.26s\n",
      "1:\tlearn: 2420.8976583\ttotal: 49.2ms\tremaining: 2.14s\n",
      "2:\tlearn: 2310.2678517\ttotal: 74.1ms\tremaining: 2.12s\n",
      "3:\tlearn: 2252.5634017\ttotal: 96.1ms\tremaining: 2.04s\n",
      "4:\tlearn: 2209.5667563\ttotal: 121ms\tremaining: 2.04s\n",
      "5:\tlearn: 2183.7102392\ttotal: 145ms\tremaining: 2s\n",
      "6:\tlearn: 2163.4408927\ttotal: 170ms\tremaining: 1.99s\n",
      "7:\tlearn: 2146.1089793\ttotal: 194ms\tremaining: 1.96s\n",
      "8:\tlearn: 2123.5198141\ttotal: 217ms\tremaining: 1.93s\n",
      "9:\tlearn: 2107.9294104\ttotal: 241ms\tremaining: 1.91s\n",
      "10:\tlearn: 2084.3324361\ttotal: 264ms\tremaining: 1.87s\n",
      "11:\tlearn: 2072.6314883\ttotal: 288ms\tremaining: 1.85s\n",
      "12:\tlearn: 2061.0304584\ttotal: 313ms\tremaining: 1.83s\n",
      "13:\tlearn: 2051.2979952\ttotal: 336ms\tremaining: 1.8s\n",
      "14:\tlearn: 2045.8757096\ttotal: 359ms\tremaining: 1.77s\n",
      "15:\tlearn: 2037.6751206\ttotal: 385ms\tremaining: 1.75s\n",
      "16:\tlearn: 2031.1251988\ttotal: 408ms\tremaining: 1.73s\n",
      "17:\tlearn: 2026.0664413\ttotal: 430ms\tremaining: 1.7s\n",
      "18:\tlearn: 2017.5493120\ttotal: 455ms\tremaining: 1.68s\n",
      "19:\tlearn: 2008.0997813\ttotal: 480ms\tremaining: 1.65s\n",
      "20:\tlearn: 2000.7821156\ttotal: 504ms\tremaining: 1.63s\n",
      "21:\tlearn: 1991.9740055\ttotal: 531ms\tremaining: 1.62s\n",
      "22:\tlearn: 1986.7268881\ttotal: 553ms\tremaining: 1.59s\n",
      "23:\tlearn: 1979.6928799\ttotal: 578ms\tremaining: 1.56s\n",
      "24:\tlearn: 1973.7526838\ttotal: 600ms\tremaining: 1.54s\n",
      "25:\tlearn: 1968.5628928\ttotal: 623ms\tremaining: 1.51s\n",
      "26:\tlearn: 1962.9541996\ttotal: 646ms\tremaining: 1.48s\n",
      "27:\tlearn: 1957.8357566\ttotal: 670ms\tremaining: 1.46s\n",
      "28:\tlearn: 1953.8948872\ttotal: 693ms\tremaining: 1.43s\n",
      "29:\tlearn: 1949.5825917\ttotal: 717ms\tremaining: 1.41s\n",
      "30:\tlearn: 1945.3459934\ttotal: 741ms\tremaining: 1.39s\n",
      "31:\tlearn: 1938.7340523\ttotal: 776ms\tremaining: 1.38s\n",
      "32:\tlearn: 1932.9641097\ttotal: 800ms\tremaining: 1.36s\n",
      "33:\tlearn: 1927.6613198\ttotal: 826ms\tremaining: 1.34s\n",
      "34:\tlearn: 1923.5701655\ttotal: 850ms\tremaining: 1.31s\n",
      "35:\tlearn: 1920.8958410\ttotal: 873ms\tremaining: 1.28s\n",
      "36:\tlearn: 1916.1518463\ttotal: 897ms\tremaining: 1.26s\n",
      "37:\tlearn: 1911.8831415\ttotal: 923ms\tremaining: 1.24s\n",
      "38:\tlearn: 1905.4649037\ttotal: 958ms\tremaining: 1.23s\n",
      "39:\tlearn: 1899.0836894\ttotal: 984ms\tremaining: 1.2s\n",
      "40:\tlearn: 1896.7404547\ttotal: 1.01s\tremaining: 1.18s\n",
      "41:\tlearn: 1893.9965718\ttotal: 1.03s\tremaining: 1.15s\n",
      "42:\tlearn: 1891.5553518\ttotal: 1.05s\tremaining: 1.13s\n",
      "43:\tlearn: 1889.4394140\ttotal: 1.08s\tremaining: 1.11s\n",
      "44:\tlearn: 1887.0986858\ttotal: 1.11s\tremaining: 1.08s\n",
      "45:\tlearn: 1884.2555749\ttotal: 1.13s\tremaining: 1.06s\n",
      "46:\tlearn: 1880.4946038\ttotal: 1.16s\tremaining: 1.03s\n",
      "47:\tlearn: 1878.0549746\ttotal: 1.18s\tremaining: 1.01s\n",
      "48:\tlearn: 1873.7211879\ttotal: 1.21s\tremaining: 984ms\n",
      "49:\tlearn: 1870.5114454\ttotal: 1.23s\tremaining: 960ms\n",
      "50:\tlearn: 1868.3384377\ttotal: 1.25s\tremaining: 935ms\n",
      "51:\tlearn: 1866.0537007\ttotal: 1.28s\tremaining: 911ms\n",
      "52:\tlearn: 1862.9535232\ttotal: 1.3s\tremaining: 886ms\n",
      "53:\tlearn: 1857.9858993\ttotal: 1.33s\tremaining: 864ms\n",
      "54:\tlearn: 1854.6069012\ttotal: 1.35s\tremaining: 838ms\n",
      "55:\tlearn: 1852.4880289\ttotal: 1.38s\tremaining: 813ms\n",
      "56:\tlearn: 1850.5083899\ttotal: 1.4s\tremaining: 788ms\n",
      "57:\tlearn: 1848.4972737\ttotal: 1.43s\tremaining: 763ms\n",
      "58:\tlearn: 1845.9988107\ttotal: 1.45s\tremaining: 738ms\n",
      "59:\tlearn: 1843.6335520\ttotal: 1.47s\tremaining: 712ms\n",
      "60:\tlearn: 1842.2231452\ttotal: 1.5s\tremaining: 687ms\n",
      "61:\tlearn: 1840.3678203\ttotal: 1.52s\tremaining: 664ms\n",
      "62:\tlearn: 1838.1027978\ttotal: 1.55s\tremaining: 640ms\n",
      "63:\tlearn: 1835.5966499\ttotal: 1.57s\tremaining: 615ms\n",
      "64:\tlearn: 1833.1590609\ttotal: 1.6s\tremaining: 591ms\n",
      "65:\tlearn: 1831.7884792\ttotal: 1.63s\tremaining: 567ms\n",
      "66:\tlearn: 1828.8694071\ttotal: 1.66s\tremaining: 545ms\n",
      "67:\tlearn: 1827.6240436\ttotal: 1.69s\tremaining: 521ms\n",
      "68:\tlearn: 1825.8377051\ttotal: 1.71s\tremaining: 496ms\n",
      "69:\tlearn: 1824.6516551\ttotal: 1.74s\tremaining: 471ms\n",
      "70:\tlearn: 1823.2993117\ttotal: 1.76s\tremaining: 446ms\n",
      "71:\tlearn: 1821.3396431\ttotal: 1.78s\tremaining: 421ms\n",
      "72:\tlearn: 1819.9938584\ttotal: 1.81s\tremaining: 397ms\n",
      "73:\tlearn: 1818.9285031\ttotal: 1.83s\tremaining: 372ms\n",
      "74:\tlearn: 1817.4471984\ttotal: 1.86s\tremaining: 347ms\n",
      "75:\tlearn: 1814.8158474\ttotal: 1.88s\tremaining: 322ms\n",
      "76:\tlearn: 1813.8607789\ttotal: 1.91s\tremaining: 297ms\n",
      "77:\tlearn: 1811.8347618\ttotal: 1.93s\tremaining: 272ms\n",
      "78:\tlearn: 1810.0767135\ttotal: 1.96s\tremaining: 248ms\n",
      "79:\tlearn: 1808.9943055\ttotal: 1.98s\tremaining: 223ms\n",
      "80:\tlearn: 1807.4535985\ttotal: 2s\tremaining: 198ms\n",
      "81:\tlearn: 1805.7873048\ttotal: 2.02s\tremaining: 173ms\n",
      "82:\tlearn: 1804.7604775\ttotal: 2.05s\tremaining: 148ms\n",
      "83:\tlearn: 1803.4069959\ttotal: 2.07s\tremaining: 123ms\n",
      "84:\tlearn: 1802.1157231\ttotal: 2.09s\tremaining: 98.5ms\n",
      "85:\tlearn: 1800.4657236\ttotal: 2.12s\tremaining: 74ms\n",
      "86:\tlearn: 1798.6498677\ttotal: 2.15s\tremaining: 49.4ms\n",
      "87:\tlearn: 1798.0179637\ttotal: 2.17s\tremaining: 24.7ms\n",
      "88:\tlearn: 1796.5778703\ttotal: 2.21s\tremaining: 0us\n",
      "0:\tlearn: 2805.4220779\ttotal: 25.1ms\tremaining: 2.21s\n",
      "1:\tlearn: 2420.0996316\ttotal: 50.1ms\tremaining: 2.18s\n",
      "2:\tlearn: 2333.5393816\ttotal: 73.2ms\tremaining: 2.1s\n",
      "3:\tlearn: 2269.9218636\ttotal: 97.7ms\tremaining: 2.08s\n",
      "4:\tlearn: 2213.9693713\ttotal: 123ms\tremaining: 2.06s\n",
      "5:\tlearn: 2181.5343475\ttotal: 146ms\tremaining: 2.02s\n",
      "6:\tlearn: 2155.7832667\ttotal: 170ms\tremaining: 1.99s\n",
      "7:\tlearn: 2141.6558011\ttotal: 192ms\tremaining: 1.94s\n",
      "8:\tlearn: 2115.2676886\ttotal: 217ms\tremaining: 1.93s\n",
      "9:\tlearn: 2098.0671514\ttotal: 241ms\tremaining: 1.91s\n",
      "10:\tlearn: 2086.8085150\ttotal: 264ms\tremaining: 1.87s\n",
      "11:\tlearn: 2076.6343356\ttotal: 288ms\tremaining: 1.84s\n",
      "12:\tlearn: 2062.0696387\ttotal: 311ms\tremaining: 1.82s\n",
      "13:\tlearn: 2052.9730592\ttotal: 337ms\tremaining: 1.8s\n",
      "14:\tlearn: 2044.4310180\ttotal: 362ms\tremaining: 1.79s\n",
      "15:\tlearn: 2029.7485922\ttotal: 387ms\tremaining: 1.76s\n",
      "16:\tlearn: 2021.4006218\ttotal: 411ms\tremaining: 1.74s\n",
      "17:\tlearn: 2014.2499601\ttotal: 433ms\tremaining: 1.71s\n",
      "18:\tlearn: 2006.9913764\ttotal: 457ms\tremaining: 1.68s\n",
      "19:\tlearn: 1999.5673009\ttotal: 481ms\tremaining: 1.66s\n",
      "20:\tlearn: 1993.3981910\ttotal: 506ms\tremaining: 1.64s\n",
      "21:\tlearn: 1984.6789970\ttotal: 535ms\tremaining: 1.63s\n",
      "22:\tlearn: 1978.2806178\ttotal: 559ms\tremaining: 1.6s\n",
      "23:\tlearn: 1975.3039883\ttotal: 582ms\tremaining: 1.58s\n",
      "24:\tlearn: 1970.1916763\ttotal: 606ms\tremaining: 1.55s\n",
      "25:\tlearn: 1965.2450043\ttotal: 631ms\tremaining: 1.53s\n",
      "26:\tlearn: 1960.4614940\ttotal: 657ms\tremaining: 1.51s\n",
      "27:\tlearn: 1957.1800719\ttotal: 680ms\tremaining: 1.48s\n",
      "28:\tlearn: 1953.5221259\ttotal: 702ms\tremaining: 1.45s\n",
      "29:\tlearn: 1947.3449883\ttotal: 726ms\tremaining: 1.43s\n",
      "30:\tlearn: 1944.2463883\ttotal: 749ms\tremaining: 1.4s\n",
      "31:\tlearn: 1937.5541574\ttotal: 774ms\tremaining: 1.38s\n",
      "32:\tlearn: 1932.3288189\ttotal: 798ms\tremaining: 1.35s\n",
      "33:\tlearn: 1927.8362601\ttotal: 820ms\tremaining: 1.33s\n",
      "34:\tlearn: 1922.0198901\ttotal: 843ms\tremaining: 1.3s\n",
      "35:\tlearn: 1917.3505436\ttotal: 866ms\tremaining: 1.27s\n",
      "36:\tlearn: 1913.8320403\ttotal: 891ms\tremaining: 1.25s\n",
      "37:\tlearn: 1910.7587768\ttotal: 914ms\tremaining: 1.23s\n",
      "38:\tlearn: 1907.9157864\ttotal: 937ms\tremaining: 1.2s\n",
      "39:\tlearn: 1903.1877884\ttotal: 960ms\tremaining: 1.18s\n",
      "40:\tlearn: 1899.9861397\ttotal: 983ms\tremaining: 1.15s\n",
      "41:\tlearn: 1897.3950030\ttotal: 1.01s\tremaining: 1.13s\n",
      "42:\tlearn: 1894.9720581\ttotal: 1.03s\tremaining: 1.1s\n",
      "43:\tlearn: 1892.5635549\ttotal: 1.05s\tremaining: 1.08s\n",
      "44:\tlearn: 1886.5294902\ttotal: 1.08s\tremaining: 1.05s\n",
      "45:\tlearn: 1884.5275247\ttotal: 1.11s\tremaining: 1.03s\n",
      "46:\tlearn: 1882.5129965\ttotal: 1.13s\tremaining: 1.01s\n",
      "47:\tlearn: 1879.6560952\ttotal: 1.16s\tremaining: 987ms\n",
      "48:\tlearn: 1874.9042633\ttotal: 1.18s\tremaining: 963ms\n",
      "49:\tlearn: 1873.1816427\ttotal: 1.2s\tremaining: 938ms\n",
      "50:\tlearn: 1870.7544312\ttotal: 1.23s\tremaining: 914ms\n",
      "51:\tlearn: 1868.7824170\ttotal: 1.25s\tremaining: 890ms\n",
      "52:\tlearn: 1866.9977088\ttotal: 1.27s\tremaining: 867ms\n",
      "53:\tlearn: 1863.4092260\ttotal: 1.3s\tremaining: 844ms\n",
      "54:\tlearn: 1859.7456766\ttotal: 1.32s\tremaining: 820ms\n",
      "55:\tlearn: 1857.9737948\ttotal: 1.35s\tremaining: 795ms\n",
      "56:\tlearn: 1856.9461226\ttotal: 1.37s\tremaining: 772ms\n",
      "57:\tlearn: 1854.8603031\ttotal: 1.4s\tremaining: 749ms\n",
      "58:\tlearn: 1851.6469626\ttotal: 1.42s\tremaining: 725ms\n",
      "59:\tlearn: 1849.7857657\ttotal: 1.45s\tremaining: 702ms\n",
      "60:\tlearn: 1847.2865898\ttotal: 1.48s\tremaining: 680ms\n",
      "61:\tlearn: 1845.0375945\ttotal: 1.51s\tremaining: 656ms\n",
      "62:\tlearn: 1843.4534176\ttotal: 1.53s\tremaining: 633ms\n",
      "63:\tlearn: 1841.4893861\ttotal: 1.56s\tremaining: 609ms\n",
      "64:\tlearn: 1838.8477048\ttotal: 1.58s\tremaining: 585ms\n",
      "65:\tlearn: 1837.1088566\ttotal: 1.61s\tremaining: 561ms\n",
      "66:\tlearn: 1835.9400701\ttotal: 1.63s\tremaining: 535ms\n",
      "67:\tlearn: 1833.8719940\ttotal: 1.65s\tremaining: 511ms\n",
      "68:\tlearn: 1831.5262757\ttotal: 1.68s\tremaining: 486ms\n",
      "69:\tlearn: 1829.3217245\ttotal: 1.7s\tremaining: 462ms\n",
      "70:\tlearn: 1827.1945603\ttotal: 1.73s\tremaining: 438ms\n",
      "71:\tlearn: 1825.3290708\ttotal: 1.75s\tremaining: 414ms\n",
      "72:\tlearn: 1824.2889182\ttotal: 1.77s\tremaining: 389ms\n",
      "73:\tlearn: 1822.9501797\ttotal: 1.81s\tremaining: 367ms\n",
      "74:\tlearn: 1820.9174982\ttotal: 1.83s\tremaining: 343ms\n",
      "75:\tlearn: 1818.2328005\ttotal: 1.86s\tremaining: 318ms\n",
      "76:\tlearn: 1816.7401811\ttotal: 1.89s\tremaining: 295ms\n",
      "77:\tlearn: 1815.2099976\ttotal: 1.92s\tremaining: 270ms\n",
      "78:\tlearn: 1814.1554565\ttotal: 1.94s\tremaining: 246ms\n",
      "79:\tlearn: 1811.7253850\ttotal: 1.97s\tremaining: 221ms\n",
      "80:\tlearn: 1809.5091620\ttotal: 2s\tremaining: 197ms\n",
      "81:\tlearn: 1808.2502596\ttotal: 2.02s\tremaining: 173ms\n",
      "82:\tlearn: 1806.9360289\ttotal: 2.04s\tremaining: 148ms\n",
      "83:\tlearn: 1805.3583354\ttotal: 2.07s\tremaining: 123ms\n",
      "84:\tlearn: 1804.2081989\ttotal: 2.1s\tremaining: 98.8ms\n",
      "85:\tlearn: 1803.1587683\ttotal: 2.13s\tremaining: 74.2ms\n",
      "86:\tlearn: 1801.1385844\ttotal: 2.15s\tremaining: 49.5ms\n",
      "87:\tlearn: 1800.1900875\ttotal: 2.18s\tremaining: 24.8ms\n",
      "88:\tlearn: 1798.6611600\ttotal: 2.21s\tremaining: 0us\n",
      "0:\tlearn: 2778.2291724\ttotal: 24.5ms\tremaining: 2.15s\n",
      "1:\tlearn: 2412.9204572\ttotal: 47.3ms\tremaining: 2.06s\n",
      "2:\tlearn: 2317.4193183\ttotal: 71.5ms\tremaining: 2.05s\n",
      "3:\tlearn: 2269.1936182\ttotal: 95.8ms\tremaining: 2.04s\n",
      "4:\tlearn: 2218.5139956\ttotal: 121ms\tremaining: 2.03s\n",
      "5:\tlearn: 2192.8947839\ttotal: 147ms\tremaining: 2.03s\n",
      "6:\tlearn: 2163.2994568\ttotal: 180ms\tremaining: 2.11s\n",
      "7:\tlearn: 2142.7146625\ttotal: 208ms\tremaining: 2.11s\n",
      "8:\tlearn: 2116.4970534\ttotal: 237ms\tremaining: 2.11s\n",
      "9:\tlearn: 2104.5075090\ttotal: 262ms\tremaining: 2.07s\n",
      "10:\tlearn: 2092.4064925\ttotal: 290ms\tremaining: 2.05s\n",
      "11:\tlearn: 2075.7138631\ttotal: 323ms\tremaining: 2.07s\n",
      "12:\tlearn: 2065.2701904\ttotal: 349ms\tremaining: 2.04s\n",
      "13:\tlearn: 2053.3966352\ttotal: 384ms\tremaining: 2.06s\n",
      "14:\tlearn: 2044.3181466\ttotal: 409ms\tremaining: 2.02s\n",
      "15:\tlearn: 2038.9358012\ttotal: 434ms\tremaining: 1.98s\n",
      "16:\tlearn: 2029.8658958\ttotal: 458ms\tremaining: 1.94s\n",
      "17:\tlearn: 2021.4372538\ttotal: 484ms\tremaining: 1.91s\n",
      "18:\tlearn: 2015.0178598\ttotal: 510ms\tremaining: 1.88s\n",
      "19:\tlearn: 2008.4724332\ttotal: 535ms\tremaining: 1.84s\n",
      "20:\tlearn: 2000.1883412\ttotal: 560ms\tremaining: 1.81s\n",
      "21:\tlearn: 1992.3684845\ttotal: 584ms\tremaining: 1.78s\n",
      "22:\tlearn: 1986.9933737\ttotal: 607ms\tremaining: 1.74s\n",
      "23:\tlearn: 1977.3126844\ttotal: 634ms\tremaining: 1.72s\n",
      "24:\tlearn: 1970.2846303\ttotal: 657ms\tremaining: 1.68s\n",
      "25:\tlearn: 1962.1335882\ttotal: 682ms\tremaining: 1.65s\n",
      "26:\tlearn: 1958.0221300\ttotal: 706ms\tremaining: 1.62s\n",
      "27:\tlearn: 1949.7754740\ttotal: 732ms\tremaining: 1.59s\n",
      "28:\tlearn: 1944.4593483\ttotal: 759ms\tremaining: 1.57s\n",
      "29:\tlearn: 1939.8196581\ttotal: 785ms\tremaining: 1.54s\n",
      "30:\tlearn: 1935.0117363\ttotal: 809ms\tremaining: 1.51s\n",
      "31:\tlearn: 1931.4229595\ttotal: 832ms\tremaining: 1.48s\n",
      "32:\tlearn: 1924.6642948\ttotal: 858ms\tremaining: 1.46s\n",
      "33:\tlearn: 1919.0639963\ttotal: 887ms\tremaining: 1.43s\n",
      "34:\tlearn: 1914.1400481\ttotal: 913ms\tremaining: 1.41s\n",
      "35:\tlearn: 1910.6376493\ttotal: 937ms\tremaining: 1.38s\n",
      "36:\tlearn: 1906.1061628\ttotal: 964ms\tremaining: 1.35s\n",
      "37:\tlearn: 1902.1873367\ttotal: 989ms\tremaining: 1.33s\n",
      "38:\tlearn: 1898.6570346\ttotal: 1.01s\tremaining: 1.3s\n",
      "39:\tlearn: 1894.3541678\ttotal: 1.04s\tremaining: 1.27s\n",
      "40:\tlearn: 1890.8699576\ttotal: 1.07s\tremaining: 1.25s\n",
      "41:\tlearn: 1888.2364146\ttotal: 1.09s\tremaining: 1.22s\n",
      "42:\tlearn: 1885.7059636\ttotal: 1.12s\tremaining: 1.2s\n",
      "43:\tlearn: 1882.3638250\ttotal: 1.15s\tremaining: 1.17s\n",
      "44:\tlearn: 1879.1449403\ttotal: 1.18s\tremaining: 1.15s\n",
      "45:\tlearn: 1875.3376756\ttotal: 1.21s\tremaining: 1.13s\n",
      "46:\tlearn: 1872.1026064\ttotal: 1.23s\tremaining: 1.1s\n",
      "47:\tlearn: 1870.0967896\ttotal: 1.25s\tremaining: 1.07s\n",
      "48:\tlearn: 1866.8856052\ttotal: 1.29s\tremaining: 1.05s\n",
      "49:\tlearn: 1864.8856902\ttotal: 1.31s\tremaining: 1.03s\n",
      "50:\tlearn: 1863.2734513\ttotal: 1.34s\tremaining: 999ms\n",
      "51:\tlearn: 1860.3385840\ttotal: 1.37s\tremaining: 975ms\n",
      "52:\tlearn: 1857.5326089\ttotal: 1.39s\tremaining: 947ms\n",
      "53:\tlearn: 1855.0412781\ttotal: 1.43s\tremaining: 925ms\n",
      "54:\tlearn: 1852.7389859\ttotal: 1.45s\tremaining: 897ms\n",
      "55:\tlearn: 1850.1042175\ttotal: 1.48s\tremaining: 873ms\n",
      "56:\tlearn: 1847.0377887\ttotal: 1.51s\tremaining: 847ms\n",
      "57:\tlearn: 1844.2365225\ttotal: 1.53s\tremaining: 820ms\n",
      "58:\tlearn: 1841.9913378\ttotal: 1.56s\tremaining: 796ms\n",
      "59:\tlearn: 1839.8794172\ttotal: 1.59s\tremaining: 769ms\n",
      "60:\tlearn: 1838.1245887\ttotal: 1.62s\tremaining: 744ms\n",
      "61:\tlearn: 1836.3094679\ttotal: 1.65s\tremaining: 720ms\n",
      "62:\tlearn: 1834.8296004\ttotal: 1.68s\tremaining: 692ms\n",
      "63:\tlearn: 1832.3787949\ttotal: 1.7s\tremaining: 665ms\n",
      "64:\tlearn: 1831.1441971\ttotal: 1.73s\tremaining: 637ms\n",
      "65:\tlearn: 1829.0416843\ttotal: 1.76s\tremaining: 612ms\n",
      "66:\tlearn: 1827.2741926\ttotal: 1.78s\tremaining: 585ms\n",
      "67:\tlearn: 1825.7531050\ttotal: 1.81s\tremaining: 558ms\n",
      "68:\tlearn: 1824.2354894\ttotal: 1.83s\tremaining: 531ms\n",
      "69:\tlearn: 1822.1115261\ttotal: 1.85s\tremaining: 504ms\n",
      "70:\tlearn: 1820.9628766\ttotal: 1.88s\tremaining: 476ms\n",
      "71:\tlearn: 1819.8394037\ttotal: 1.91s\tremaining: 452ms\n",
      "72:\tlearn: 1817.9861289\ttotal: 1.94s\tremaining: 426ms\n",
      "73:\tlearn: 1816.3209720\ttotal: 1.98s\tremaining: 401ms\n",
      "74:\tlearn: 1814.3744229\ttotal: 2.01s\tremaining: 375ms\n",
      "75:\tlearn: 1812.6533870\ttotal: 2.03s\tremaining: 348ms\n",
      "76:\tlearn: 1810.8003808\ttotal: 2.06s\tremaining: 321ms\n",
      "77:\tlearn: 1808.7095733\ttotal: 2.08s\tremaining: 294ms\n",
      "78:\tlearn: 1806.2538417\ttotal: 2.11s\tremaining: 267ms\n",
      "79:\tlearn: 1805.4083224\ttotal: 2.13s\tremaining: 239ms\n",
      "80:\tlearn: 1804.1801001\ttotal: 2.15s\tremaining: 213ms\n",
      "81:\tlearn: 1802.4032220\ttotal: 2.17s\tremaining: 186ms\n",
      "82:\tlearn: 1801.0176779\ttotal: 2.2s\tremaining: 159ms\n",
      "83:\tlearn: 1799.9409277\ttotal: 2.22s\tremaining: 132ms\n",
      "84:\tlearn: 1798.1021350\ttotal: 2.25s\tremaining: 106ms\n",
      "85:\tlearn: 1795.7190391\ttotal: 2.27s\tremaining: 79.2ms\n",
      "86:\tlearn: 1794.6500129\ttotal: 2.3s\tremaining: 52.8ms\n",
      "87:\tlearn: 1792.7424651\ttotal: 2.32s\tremaining: 26.4ms\n",
      "88:\tlearn: 1791.3488464\ttotal: 2.35s\tremaining: 0us\n",
      "0:\tlearn: 2785.8749266\ttotal: 25.1ms\tremaining: 2.21s\n",
      "1:\tlearn: 2421.9982742\ttotal: 48.3ms\tremaining: 2.1s\n",
      "2:\tlearn: 2319.2307300\ttotal: 71.7ms\tremaining: 2.05s\n",
      "3:\tlearn: 2270.7044439\ttotal: 94.2ms\tremaining: 2s\n",
      "4:\tlearn: 2224.7390190\ttotal: 119ms\tremaining: 1.99s\n",
      "5:\tlearn: 2186.8638375\ttotal: 142ms\tremaining: 1.96s\n",
      "6:\tlearn: 2158.3983564\ttotal: 165ms\tremaining: 1.93s\n",
      "7:\tlearn: 2142.9599029\ttotal: 188ms\tremaining: 1.9s\n",
      "8:\tlearn: 2128.7304091\ttotal: 210ms\tremaining: 1.87s\n",
      "9:\tlearn: 2112.7715947\ttotal: 236ms\tremaining: 1.86s\n",
      "10:\tlearn: 2098.6121006\ttotal: 260ms\tremaining: 1.84s\n",
      "11:\tlearn: 2085.2653353\ttotal: 283ms\tremaining: 1.82s\n",
      "12:\tlearn: 2072.4043177\ttotal: 308ms\tremaining: 1.8s\n",
      "13:\tlearn: 2063.8429601\ttotal: 332ms\tremaining: 1.78s\n",
      "14:\tlearn: 2054.6841231\ttotal: 359ms\tremaining: 1.77s\n",
      "15:\tlearn: 2044.5003287\ttotal: 383ms\tremaining: 1.75s\n",
      "16:\tlearn: 2038.4885661\ttotal: 408ms\tremaining: 1.73s\n",
      "17:\tlearn: 2030.4785992\ttotal: 434ms\tremaining: 1.71s\n",
      "18:\tlearn: 2021.2625715\ttotal: 458ms\tremaining: 1.69s\n",
      "19:\tlearn: 2016.1460900\ttotal: 484ms\tremaining: 1.67s\n",
      "20:\tlearn: 2010.2151163\ttotal: 508ms\tremaining: 1.65s\n",
      "21:\tlearn: 2002.1554052\ttotal: 534ms\tremaining: 1.63s\n",
      "22:\tlearn: 1995.5758844\ttotal: 559ms\tremaining: 1.6s\n",
      "23:\tlearn: 1987.8046193\ttotal: 582ms\tremaining: 1.58s\n",
      "24:\tlearn: 1982.3380368\ttotal: 607ms\tremaining: 1.55s\n",
      "25:\tlearn: 1975.6936611\ttotal: 630ms\tremaining: 1.53s\n",
      "26:\tlearn: 1971.1350054\ttotal: 653ms\tremaining: 1.5s\n",
      "27:\tlearn: 1965.4223084\ttotal: 676ms\tremaining: 1.47s\n",
      "28:\tlearn: 1960.7935821\ttotal: 699ms\tremaining: 1.45s\n",
      "29:\tlearn: 1956.7498457\ttotal: 722ms\tremaining: 1.42s\n",
      "30:\tlearn: 1953.0009771\ttotal: 746ms\tremaining: 1.4s\n",
      "31:\tlearn: 1949.6158575\ttotal: 768ms\tremaining: 1.37s\n",
      "32:\tlearn: 1946.2355763\ttotal: 790ms\tremaining: 1.34s\n",
      "33:\tlearn: 1943.1440112\ttotal: 811ms\tremaining: 1.31s\n",
      "34:\tlearn: 1937.5962109\ttotal: 839ms\tremaining: 1.29s\n",
      "35:\tlearn: 1930.9104531\ttotal: 867ms\tremaining: 1.28s\n",
      "36:\tlearn: 1927.4626358\ttotal: 890ms\tremaining: 1.25s\n",
      "37:\tlearn: 1924.8846139\ttotal: 912ms\tremaining: 1.22s\n",
      "38:\tlearn: 1921.7941537\ttotal: 934ms\tremaining: 1.2s\n",
      "39:\tlearn: 1919.2699455\ttotal: 959ms\tremaining: 1.17s\n",
      "40:\tlearn: 1916.9477269\ttotal: 981ms\tremaining: 1.15s\n",
      "41:\tlearn: 1913.7157463\ttotal: 1s\tremaining: 1.12s\n",
      "42:\tlearn: 1909.2515005\ttotal: 1.03s\tremaining: 1.1s\n",
      "43:\tlearn: 1905.7339863\ttotal: 1.05s\tremaining: 1.08s\n",
      "44:\tlearn: 1902.1614928\ttotal: 1.08s\tremaining: 1.05s\n",
      "45:\tlearn: 1899.9347141\ttotal: 1.1s\tremaining: 1.03s\n",
      "46:\tlearn: 1897.0660458\ttotal: 1.13s\tremaining: 1.01s\n",
      "47:\tlearn: 1894.6959171\ttotal: 1.15s\tremaining: 981ms\n",
      "48:\tlearn: 1891.2881136\ttotal: 1.17s\tremaining: 959ms\n",
      "49:\tlearn: 1889.3527652\ttotal: 1.2s\tremaining: 936ms\n",
      "50:\tlearn: 1886.7562299\ttotal: 1.22s\tremaining: 912ms\n",
      "51:\tlearn: 1882.3109663\ttotal: 1.25s\tremaining: 888ms\n",
      "52:\tlearn: 1879.7111125\ttotal: 1.27s\tremaining: 864ms\n",
      "53:\tlearn: 1877.4552368\ttotal: 1.3s\tremaining: 840ms\n",
      "54:\tlearn: 1874.6047363\ttotal: 1.32s\tremaining: 817ms\n",
      "55:\tlearn: 1871.7318369\ttotal: 1.34s\tremaining: 793ms\n",
      "56:\tlearn: 1868.9920567\ttotal: 1.37s\tremaining: 769ms\n",
      "57:\tlearn: 1864.9676951\ttotal: 1.39s\tremaining: 746ms\n",
      "58:\tlearn: 1861.0351016\ttotal: 1.42s\tremaining: 721ms\n",
      "59:\tlearn: 1858.5416187\ttotal: 1.44s\tremaining: 697ms\n",
      "60:\tlearn: 1855.9705438\ttotal: 1.47s\tremaining: 674ms\n",
      "61:\tlearn: 1853.6134719\ttotal: 1.49s\tremaining: 650ms\n",
      "62:\tlearn: 1851.9902591\ttotal: 1.52s\tremaining: 626ms\n",
      "63:\tlearn: 1849.7863119\ttotal: 1.54s\tremaining: 602ms\n",
      "64:\tlearn: 1846.8130467\ttotal: 1.56s\tremaining: 578ms\n",
      "65:\tlearn: 1844.8670891\ttotal: 1.59s\tremaining: 553ms\n",
      "66:\tlearn: 1842.7933491\ttotal: 1.61s\tremaining: 529ms\n",
      "67:\tlearn: 1841.2348866\ttotal: 1.64s\tremaining: 505ms\n",
      "68:\tlearn: 1838.9883304\ttotal: 1.66s\tremaining: 481ms\n",
      "69:\tlearn: 1836.8884923\ttotal: 1.68s\tremaining: 457ms\n",
      "70:\tlearn: 1834.5511724\ttotal: 1.71s\tremaining: 432ms\n",
      "71:\tlearn: 1832.9996028\ttotal: 1.73s\tremaining: 408ms\n",
      "72:\tlearn: 1830.6692614\ttotal: 1.75s\tremaining: 384ms\n",
      "73:\tlearn: 1828.1071086\ttotal: 1.78s\tremaining: 360ms\n",
      "74:\tlearn: 1826.3103008\ttotal: 1.8s\tremaining: 336ms\n",
      "75:\tlearn: 1824.0152380\ttotal: 1.82s\tremaining: 312ms\n",
      "76:\tlearn: 1822.9536253\ttotal: 1.85s\tremaining: 288ms\n",
      "77:\tlearn: 1821.2105398\ttotal: 1.88s\tremaining: 264ms\n",
      "78:\tlearn: 1819.4955656\ttotal: 1.9s\tremaining: 240ms\n",
      "79:\tlearn: 1817.1055202\ttotal: 1.92s\tremaining: 216ms\n",
      "80:\tlearn: 1815.2281952\ttotal: 1.95s\tremaining: 193ms\n",
      "81:\tlearn: 1813.8656646\ttotal: 1.98s\tremaining: 169ms\n",
      "82:\tlearn: 1812.5882131\ttotal: 2s\tremaining: 145ms\n",
      "83:\tlearn: 1810.6045976\ttotal: 2.03s\tremaining: 121ms\n",
      "84:\tlearn: 1809.6344884\ttotal: 2.05s\tremaining: 96.5ms\n",
      "85:\tlearn: 1807.9602523\ttotal: 2.08s\tremaining: 72.4ms\n",
      "86:\tlearn: 1805.8189567\ttotal: 2.1s\tremaining: 48.3ms\n",
      "87:\tlearn: 1804.3906517\ttotal: 2.13s\tremaining: 24.2ms\n",
      "88:\tlearn: 1802.3258512\ttotal: 2.15s\tremaining: 0us\n",
      "0:\tlearn: 2779.1356001\ttotal: 31ms\tremaining: 2.73s\n",
      "1:\tlearn: 2413.1622574\ttotal: 55.8ms\tremaining: 2.43s\n",
      "2:\tlearn: 2312.9343250\ttotal: 80.6ms\tremaining: 2.31s\n",
      "3:\tlearn: 2265.0190861\ttotal: 105ms\tremaining: 2.23s\n",
      "4:\tlearn: 2234.6787869\ttotal: 153ms\tremaining: 2.57s\n",
      "5:\tlearn: 2204.2936476\ttotal: 179ms\tremaining: 2.48s\n",
      "6:\tlearn: 2161.4513235\ttotal: 252ms\tremaining: 2.95s\n",
      "7:\tlearn: 2141.3204728\ttotal: 275ms\tremaining: 2.78s\n",
      "8:\tlearn: 2120.1622696\ttotal: 301ms\tremaining: 2.67s\n",
      "9:\tlearn: 2104.3742587\ttotal: 345ms\tremaining: 2.72s\n",
      "10:\tlearn: 2091.2425478\ttotal: 368ms\tremaining: 2.61s\n",
      "11:\tlearn: 2072.8485781\ttotal: 455ms\tremaining: 2.92s\n",
      "12:\tlearn: 2062.9923080\ttotal: 480ms\tremaining: 2.8s\n",
      "13:\tlearn: 2051.4631538\ttotal: 505ms\tremaining: 2.7s\n",
      "14:\tlearn: 2043.8494856\ttotal: 543ms\tremaining: 2.68s\n",
      "15:\tlearn: 2035.4757193\ttotal: 568ms\tremaining: 2.59s\n",
      "16:\tlearn: 2024.6057403\ttotal: 592ms\tremaining: 2.51s\n",
      "17:\tlearn: 2017.7138352\ttotal: 617ms\tremaining: 2.43s\n",
      "18:\tlearn: 2008.3565918\ttotal: 639ms\tremaining: 2.35s\n",
      "19:\tlearn: 2001.7170754\ttotal: 664ms\tremaining: 2.29s\n",
      "20:\tlearn: 1993.5899580\ttotal: 688ms\tremaining: 2.23s\n",
      "21:\tlearn: 1981.5642188\ttotal: 714ms\tremaining: 2.17s\n",
      "22:\tlearn: 1974.7270211\ttotal: 738ms\tremaining: 2.12s\n",
      "23:\tlearn: 1971.7738808\ttotal: 760ms\tremaining: 2.06s\n",
      "24:\tlearn: 1964.4814586\ttotal: 783ms\tremaining: 2s\n",
      "25:\tlearn: 1958.1316032\ttotal: 807ms\tremaining: 1.96s\n",
      "26:\tlearn: 1953.2301381\ttotal: 833ms\tremaining: 1.91s\n",
      "27:\tlearn: 1948.3330722\ttotal: 858ms\tremaining: 1.87s\n",
      "28:\tlearn: 1942.9254653\ttotal: 884ms\tremaining: 1.83s\n",
      "29:\tlearn: 1937.7628208\ttotal: 913ms\tremaining: 1.79s\n",
      "30:\tlearn: 1933.1176755\ttotal: 938ms\tremaining: 1.75s\n",
      "31:\tlearn: 1927.8361517\ttotal: 964ms\tremaining: 1.72s\n",
      "32:\tlearn: 1924.6933652\ttotal: 988ms\tremaining: 1.68s\n",
      "33:\tlearn: 1918.2917684\ttotal: 1.01s\tremaining: 1.64s\n",
      "34:\tlearn: 1914.0818741\ttotal: 1.04s\tremaining: 1.6s\n",
      "35:\tlearn: 1910.6437871\ttotal: 1.06s\tremaining: 1.56s\n",
      "36:\tlearn: 1907.7433634\ttotal: 1.08s\tremaining: 1.52s\n",
      "37:\tlearn: 1904.7114874\ttotal: 1.1s\tremaining: 1.48s\n",
      "38:\tlearn: 1900.5026758\ttotal: 1.13s\tremaining: 1.45s\n",
      "39:\tlearn: 1896.6098819\ttotal: 1.15s\tremaining: 1.41s\n",
      "40:\tlearn: 1893.3913582\ttotal: 1.18s\tremaining: 1.38s\n",
      "41:\tlearn: 1890.3487339\ttotal: 1.2s\tremaining: 1.34s\n",
      "42:\tlearn: 1886.3213272\ttotal: 1.23s\tremaining: 1.31s\n",
      "43:\tlearn: 1883.4739638\ttotal: 1.25s\tremaining: 1.28s\n",
      "44:\tlearn: 1878.3110166\ttotal: 1.27s\tremaining: 1.24s\n",
      "45:\tlearn: 1876.0700703\ttotal: 1.29s\tremaining: 1.21s\n",
      "46:\tlearn: 1873.1042181\ttotal: 1.32s\tremaining: 1.18s\n",
      "47:\tlearn: 1870.4287729\ttotal: 1.34s\tremaining: 1.15s\n",
      "48:\tlearn: 1867.0630986\ttotal: 1.37s\tremaining: 1.12s\n",
      "49:\tlearn: 1862.8539653\ttotal: 1.4s\tremaining: 1.09s\n",
      "50:\tlearn: 1860.4666691\ttotal: 1.42s\tremaining: 1.06s\n",
      "51:\tlearn: 1857.4028113\ttotal: 1.45s\tremaining: 1.03s\n",
      "52:\tlearn: 1855.8846323\ttotal: 1.47s\tremaining: 1s\n",
      "53:\tlearn: 1853.4226332\ttotal: 1.5s\tremaining: 976ms\n",
      "54:\tlearn: 1851.7591057\ttotal: 1.53s\tremaining: 945ms\n",
      "55:\tlearn: 1848.5059790\ttotal: 1.55s\tremaining: 917ms\n",
      "56:\tlearn: 1845.8144454\ttotal: 1.58s\tremaining: 887ms\n",
      "57:\tlearn: 1844.0679685\ttotal: 1.6s\tremaining: 857ms\n",
      "58:\tlearn: 1841.6163109\ttotal: 1.63s\tremaining: 828ms\n",
      "59:\tlearn: 1839.9451874\ttotal: 1.65s\tremaining: 799ms\n",
      "60:\tlearn: 1837.8067425\ttotal: 1.68s\tremaining: 772ms\n",
      "61:\tlearn: 1834.8587540\ttotal: 1.7s\tremaining: 742ms\n",
      "62:\tlearn: 1833.5899554\ttotal: 1.73s\tremaining: 713ms\n",
      "63:\tlearn: 1831.4497161\ttotal: 1.75s\tremaining: 684ms\n",
      "64:\tlearn: 1827.9482731\ttotal: 1.78s\tremaining: 656ms\n",
      "65:\tlearn: 1826.0709744\ttotal: 1.8s\tremaining: 628ms\n",
      "66:\tlearn: 1823.9667709\ttotal: 1.83s\tremaining: 600ms\n",
      "67:\tlearn: 1822.4869571\ttotal: 1.85s\tremaining: 572ms\n",
      "68:\tlearn: 1820.9574987\ttotal: 1.88s\tremaining: 544ms\n",
      "69:\tlearn: 1818.9249701\ttotal: 1.9s\tremaining: 516ms\n",
      "70:\tlearn: 1816.8125576\ttotal: 1.92s\tremaining: 488ms\n",
      "71:\tlearn: 1815.5779948\ttotal: 1.95s\tremaining: 460ms\n",
      "72:\tlearn: 1814.1967663\ttotal: 1.97s\tremaining: 432ms\n",
      "73:\tlearn: 1812.6313981\ttotal: 2s\tremaining: 405ms\n",
      "74:\tlearn: 1810.6282731\ttotal: 2.02s\tremaining: 377ms\n",
      "75:\tlearn: 1808.7416967\ttotal: 2.05s\tremaining: 350ms\n",
      "76:\tlearn: 1806.9279558\ttotal: 2.07s\tremaining: 323ms\n",
      "77:\tlearn: 1805.7888851\ttotal: 2.1s\tremaining: 296ms\n",
      "78:\tlearn: 1804.0021712\ttotal: 2.12s\tremaining: 269ms\n",
      "79:\tlearn: 1802.1700691\ttotal: 2.15s\tremaining: 242ms\n",
      "80:\tlearn: 1800.6843140\ttotal: 2.17s\tremaining: 215ms\n",
      "81:\tlearn: 1798.5972558\ttotal: 2.2s\tremaining: 188ms\n",
      "82:\tlearn: 1796.9420895\ttotal: 2.22s\tremaining: 161ms\n",
      "83:\tlearn: 1795.8791648\ttotal: 2.25s\tremaining: 134ms\n",
      "84:\tlearn: 1793.9920240\ttotal: 2.28s\tremaining: 107ms\n",
      "85:\tlearn: 1792.3558149\ttotal: 2.31s\tremaining: 80.4ms\n",
      "86:\tlearn: 1790.3904056\ttotal: 2.33s\tremaining: 53.6ms\n",
      "87:\tlearn: 1788.7509130\ttotal: 2.36s\tremaining: 26.8ms\n",
      "88:\tlearn: 1787.7827931\ttotal: 2.39s\tremaining: 0us\n",
      "0:\tlearn: 3794.3357053\ttotal: 54.9ms\tremaining: 4.83s\n",
      "1:\tlearn: 3249.6187156\ttotal: 105ms\tremaining: 4.56s\n",
      "2:\tlearn: 2887.8192000\ttotal: 154ms\tremaining: 4.42s\n",
      "3:\tlearn: 2637.4390244\ttotal: 207ms\tremaining: 4.4s\n",
      "4:\tlearn: 2470.1744121\ttotal: 278ms\tremaining: 4.68s\n",
      "5:\tlearn: 2359.8689843\ttotal: 335ms\tremaining: 4.64s\n",
      "6:\tlearn: 2278.9686490\ttotal: 387ms\tremaining: 4.54s\n",
      "7:\tlearn: 2217.3352577\ttotal: 443ms\tremaining: 4.49s\n",
      "8:\tlearn: 2177.6180842\ttotal: 497ms\tremaining: 4.42s\n",
      "9:\tlearn: 2144.7313075\ttotal: 550ms\tremaining: 4.35s\n",
      "10:\tlearn: 2118.4588390\ttotal: 601ms\tremaining: 4.26s\n",
      "11:\tlearn: 2097.4756086\ttotal: 651ms\tremaining: 4.18s\n",
      "12:\tlearn: 2077.1363302\ttotal: 702ms\tremaining: 4.11s\n",
      "13:\tlearn: 2064.6909628\ttotal: 753ms\tremaining: 4.04s\n",
      "14:\tlearn: 2054.3873971\ttotal: 808ms\tremaining: 3.98s\n",
      "15:\tlearn: 2043.5185831\ttotal: 860ms\tremaining: 3.92s\n",
      "16:\tlearn: 2035.8048632\ttotal: 915ms\tremaining: 3.88s\n",
      "17:\tlearn: 2026.5408723\ttotal: 969ms\tremaining: 3.82s\n",
      "18:\tlearn: 2019.4592778\ttotal: 1.02s\tremaining: 3.77s\n",
      "19:\tlearn: 2013.1222630\ttotal: 1.08s\tremaining: 3.73s\n",
      "20:\tlearn: 2007.8143613\ttotal: 1.14s\tremaining: 3.7s\n",
      "21:\tlearn: 2001.1619596\ttotal: 1.19s\tremaining: 3.64s\n",
      "22:\tlearn: 1993.9271392\ttotal: 1.25s\tremaining: 3.58s\n",
      "23:\tlearn: 1988.6483538\ttotal: 1.3s\tremaining: 3.51s\n",
      "24:\tlearn: 1985.4781747\ttotal: 1.35s\tremaining: 3.45s\n",
      "25:\tlearn: 1978.5425951\ttotal: 1.4s\tremaining: 3.4s\n",
      "26:\tlearn: 1972.9412442\ttotal: 1.45s\tremaining: 3.33s\n",
      "27:\tlearn: 1968.6526357\ttotal: 1.5s\tremaining: 3.27s\n",
      "28:\tlearn: 1964.3147440\ttotal: 1.55s\tremaining: 3.22s\n",
      "29:\tlearn: 1960.8787415\ttotal: 1.61s\tremaining: 3.17s\n",
      "30:\tlearn: 1954.8968732\ttotal: 1.66s\tremaining: 3.11s\n",
      "31:\tlearn: 1950.6121170\ttotal: 1.71s\tremaining: 3.05s\n",
      "32:\tlearn: 1946.6850363\ttotal: 1.76s\tremaining: 3s\n",
      "33:\tlearn: 1941.8676297\ttotal: 1.82s\tremaining: 2.94s\n",
      "34:\tlearn: 1937.7757573\ttotal: 1.87s\tremaining: 2.88s\n",
      "35:\tlearn: 1934.2923141\ttotal: 1.92s\tremaining: 2.83s\n",
      "36:\tlearn: 1929.9620310\ttotal: 1.97s\tremaining: 2.77s\n",
      "37:\tlearn: 1926.9577318\ttotal: 2.02s\tremaining: 2.71s\n",
      "38:\tlearn: 1923.4184229\ttotal: 2.08s\tremaining: 2.67s\n",
      "39:\tlearn: 1919.8263057\ttotal: 2.15s\tremaining: 2.63s\n",
      "40:\tlearn: 1915.8342872\ttotal: 2.21s\tremaining: 2.58s\n",
      "41:\tlearn: 1912.3625737\ttotal: 2.26s\tremaining: 2.53s\n",
      "42:\tlearn: 1909.2740233\ttotal: 2.32s\tremaining: 2.48s\n",
      "43:\tlearn: 1906.6539621\ttotal: 2.37s\tremaining: 2.42s\n",
      "44:\tlearn: 1904.5681431\ttotal: 2.42s\tremaining: 2.37s\n",
      "45:\tlearn: 1902.0287835\ttotal: 2.48s\tremaining: 2.32s\n",
      "46:\tlearn: 1898.9288160\ttotal: 2.56s\tremaining: 2.29s\n",
      "47:\tlearn: 1895.8752565\ttotal: 2.63s\tremaining: 2.24s\n",
      "48:\tlearn: 1891.3377066\ttotal: 2.68s\tremaining: 2.19s\n",
      "49:\tlearn: 1889.6749825\ttotal: 2.74s\tremaining: 2.13s\n",
      "50:\tlearn: 1886.9879208\ttotal: 2.79s\tremaining: 2.08s\n",
      "51:\tlearn: 1885.2715765\ttotal: 2.85s\tremaining: 2.03s\n",
      "52:\tlearn: 1882.7557020\ttotal: 2.9s\tremaining: 1.97s\n",
      "53:\tlearn: 1879.1999123\ttotal: 2.95s\tremaining: 1.91s\n",
      "54:\tlearn: 1877.2801955\ttotal: 3s\tremaining: 1.85s\n",
      "55:\tlearn: 1875.5451944\ttotal: 3.05s\tremaining: 1.8s\n",
      "56:\tlearn: 1873.0093929\ttotal: 3.1s\tremaining: 1.74s\n",
      "57:\tlearn: 1870.6424380\ttotal: 3.16s\tremaining: 1.69s\n",
      "58:\tlearn: 1869.0254404\ttotal: 3.21s\tremaining: 1.63s\n",
      "59:\tlearn: 1866.3768768\ttotal: 3.26s\tremaining: 1.57s\n",
      "60:\tlearn: 1863.9610228\ttotal: 3.31s\tremaining: 1.52s\n",
      "61:\tlearn: 1862.4293018\ttotal: 3.36s\tremaining: 1.46s\n",
      "62:\tlearn: 1860.0141142\ttotal: 3.41s\tremaining: 1.41s\n",
      "63:\tlearn: 1857.7607909\ttotal: 3.46s\tremaining: 1.35s\n",
      "64:\tlearn: 1854.4961147\ttotal: 3.52s\tremaining: 1.3s\n",
      "65:\tlearn: 1852.7489211\ttotal: 3.57s\tremaining: 1.24s\n",
      "66:\tlearn: 1851.3108617\ttotal: 3.62s\tremaining: 1.19s\n",
      "67:\tlearn: 1849.5890095\ttotal: 3.67s\tremaining: 1.13s\n",
      "68:\tlearn: 1846.7470259\ttotal: 3.72s\tremaining: 1.08s\n",
      "69:\tlearn: 1844.7836437\ttotal: 3.78s\tremaining: 1.02s\n",
      "70:\tlearn: 1842.9714474\ttotal: 3.83s\tremaining: 971ms\n",
      "71:\tlearn: 1841.1505418\ttotal: 3.88s\tremaining: 916ms\n",
      "72:\tlearn: 1839.8704020\ttotal: 3.93s\tremaining: 862ms\n",
      "73:\tlearn: 1837.6442647\ttotal: 3.98s\tremaining: 808ms\n",
      "74:\tlearn: 1835.4405070\ttotal: 4.03s\tremaining: 753ms\n",
      "75:\tlearn: 1834.1225457\ttotal: 4.08s\tremaining: 698ms\n",
      "76:\tlearn: 1831.5175448\ttotal: 4.14s\tremaining: 646ms\n",
      "77:\tlearn: 1829.9948139\ttotal: 4.2s\tremaining: 593ms\n",
      "78:\tlearn: 1828.5083890\ttotal: 4.25s\tremaining: 538ms\n",
      "79:\tlearn: 1826.7954560\ttotal: 4.3s\tremaining: 484ms\n",
      "80:\tlearn: 1825.0622931\ttotal: 4.35s\tremaining: 430ms\n",
      "81:\tlearn: 1823.1742400\ttotal: 4.4s\tremaining: 376ms\n",
      "82:\tlearn: 1821.3082056\ttotal: 4.45s\tremaining: 322ms\n",
      "83:\tlearn: 1819.7826341\ttotal: 4.5s\tremaining: 268ms\n",
      "84:\tlearn: 1818.9578958\ttotal: 4.56s\tremaining: 214ms\n",
      "85:\tlearn: 1817.1109012\ttotal: 4.61s\tremaining: 161ms\n",
      "86:\tlearn: 1815.6393781\ttotal: 4.66s\tremaining: 107ms\n",
      "87:\tlearn: 1813.9663221\ttotal: 4.71s\tremaining: 53.6ms\n",
      "88:\tlearn: 1812.5448053\ttotal: 4.77s\tremaining: 0us\n",
      "CPU times: user 49 s, sys: 360 ms, total: 49.4 s\n",
      "Wall time: 1min 9s\n"
     ]
    }
   ],
   "source": [
    "%%time\n",
    "start = time()\n",
    "cbr = CatBoostRegressor()\n",
    "n_estimators = [int(x) for x in np.linspace(start = 1, stop = 101, num = 10)]\n",
    "max_depth = [int(x) for x in np.linspace(start = 1, stop = 30, num = 10)]\n",
    "learning_rate = [0.1, 0.25, 0.5, 0.75, 1]\n",
    "\n",
    "\n",
    "param_dist = {'n_estimators': n_estimators,\n",
    "              'max_depth':max_depth,\n",
    "              'learning_rate': learning_rate\n",
    "             }\n",
    "rs = RandomizedSearchCV(cbr, \n",
    "                        param_dist, \n",
    "                        n_iter = 10, \n",
    "                        scoring = 'neg_mean_squared_error',\n",
    "                        cv = 5, \n",
    "                        verbose = 1, \n",
    "                        n_jobs=-1, \n",
    "                        random_state=1176)\n",
    "rs.fit(features_train, target_train);\n",
    "model_cbr = rs.best_estimator_\n",
    "model_cbr.params = rs.best_params_\n",
    "result_cbr = abs(rs.best_score_)**0.5\n",
    "time_cbr = time() - start"
   ]
  },
  {
   "cell_type": "code",
   "execution_count": 93,
   "metadata": {},
   "outputs": [
    {
     "name": "stdout",
     "output_type": "stream",
     "text": [
      "Деревьев: 89.\n",
      "Ветвей: 10.\n",
      "Скорость обучения: 0.25.\n",
      "\n",
      "Средняя оценка качества модели: 1868.78, время обучения: 69.80 сек.\n"
     ]
    }
   ],
   "source": [
    "print('Деревьев: {:.0f}.'.format(model_cbr.params['n_estimators']))\n",
    "print('Ветвей: {:.0f}.'.format(model_cbr.params['max_depth']))\n",
    "print('Скорость обучения: {:.2f}.'.format(model_cbr.params['learning_rate']))\n",
    "print('\\nСредняя оценка качества модели: {:.2f}, время обучения: {:.2f} сек.'.format(result_cbr, time_cbr))"
   ]
  },
  {
   "cell_type": "markdown",
   "metadata": {},
   "source": [
    "#### Итоги обучения моделей:"
   ]
  },
  {
   "cell_type": "markdown",
   "metadata": {},
   "source": [
    "Проведено моделирование с использованием моделей \"DummyRegressor\" (в качестве меры адекватности моделей), \"Решающее дерево\", \"LightGBM\" и \"CatBoost\". <br />\n",
    "Оценка моделей проводилась на обучающей выборке метрикой RMSE.\n",
    "Наилучшие значения метрики:<br /><br />"
   ]
  },
  {
   "cell_type": "code",
   "execution_count": 94,
   "metadata": {},
   "outputs": [
    {
     "name": "stdout",
     "output_type": "stream",
     "text": [
      "1. Модель \"DummyRegressor\":\n",
      "Стратегия: mean\n",
      "\n",
      "Средняя оценка качества модели: 4563.23\n",
      "Время обучения: 0.06 сек.\n"
     ]
    }
   ],
   "source": [
    "print('1. Модель \"DummyRegressor\":')\n",
    "print('Стратегия:', strategy_dummy)\n",
    "print('\\nСредняя оценка качества модели: {:.2f}'.format(result_dummy))\n",
    "print('Время обучения: {:.2f} сек.'.format(time_dummy))"
   ]
  },
  {
   "cell_type": "code",
   "execution_count": 95,
   "metadata": {},
   "outputs": [
    {
     "name": "stdout",
     "output_type": "stream",
     "text": [
      "2. Модель \"Решающее дерево\":\n",
      "Ветвей: 13.\n",
      "\n",
      "Средняя оценка качества модели: 2080.63\n",
      "Время обучения: 42.02 сек.\n"
     ]
    }
   ],
   "source": [
    "print('2. Модель \"Решающее дерево\":')\n",
    "print('Ветвей: {:.0f}.'.format(model_tree.params['max_depth']))\n",
    "print('\\nСредняя оценка качества модели: {:.2f}'.format(result_tree))\n",
    "print('Время обучения: {:.2f} сек.'.format(time_tree))"
   ]
  },
  {
   "cell_type": "code",
   "execution_count": 96,
   "metadata": {
    "scrolled": true
   },
   "outputs": [
    {
     "name": "stdout",
     "output_type": "stream",
     "text": [
      "3. Модель \"LightGBM\":\n",
      "Деревьев: 78.\n",
      "Ветвей: 20.\n",
      "Скорость обучения: 0.75.\n",
      "\n",
      "Средняя оценка качества модели: 1855.08\n",
      "Время обучения: 143.66 сек.\n"
     ]
    }
   ],
   "source": [
    "print('3. Модель \"LightGBM\":')\n",
    "print('Деревьев: {:.0f}.'.format(model_lgbm.params['n_estimators']))\n",
    "print('Ветвей: {:.0f}.'.format(model_lgbm.params['max_depth']))\n",
    "print('Скорость обучения: {:.2f}.'.format(model_lgbm.params['learning_rate']))\n",
    "print('\\nСредняя оценка качества модели: {:.2f}'.format(result_lgbm))\n",
    "print('Время обучения: {:.2f} сек.'.format(time_lgbm))"
   ]
  },
  {
   "cell_type": "code",
   "execution_count": 97,
   "metadata": {
    "scrolled": true
   },
   "outputs": [
    {
     "name": "stdout",
     "output_type": "stream",
     "text": [
      "3. Модель \"CatBoost\":\n",
      "Деревьев: 89.\n",
      "Ветвей: 10.\n",
      "Скорость обучения: 0.25.\n",
      "\n",
      "Средняя оценка качества модели: 1868.78\n",
      "Время обучения: 69.80 сек.\n"
     ]
    }
   ],
   "source": [
    "print('3. Модель \"CatBoost\":')\n",
    "print('Деревьев: {:.0f}.'.format(model_cbr.params['n_estimators']))\n",
    "print('Ветвей: {:.0f}.'.format(model_cbr.params['max_depth']))\n",
    "print('Скорость обучения: {:.2f}.'.format(model_cbr.params['learning_rate']))\n",
    "print('\\nСредняя оценка качества модели: {:.2f}'.format(result_cbr))\n",
    "print('Время обучения: {:.2f} сек.'.format(time_cbr))"
   ]
  },
  {
   "cell_type": "markdown",
   "metadata": {},
   "source": [
    "### Этап 5. Анализ моделей"
   ]
  },
  {
   "cell_type": "code",
   "execution_count": 98,
   "metadata": {},
   "outputs": [
    {
     "name": "stdout",
     "output_type": "stream",
     "text": [
      "Наилучший результат показала модель \"LightGBM\" с параметрами:\n",
      "Деревьев: 78.\n",
      "Ветвей: 20.\n",
      "Скорость обучения: 0.75.\n",
      "\n",
      "Средняя оценка качества модели: 1855.08\n",
      "Время обучения: 143.66 сек.\n"
     ]
    }
   ],
   "source": [
    "print('Наилучший результат показала модель \"LightGBM\" с параметрами:')\n",
    "print('Деревьев: {:.0f}.'.format(model_lgbm.params['n_estimators']))\n",
    "print('Ветвей: {:.0f}.'.format(model_lgbm.params['max_depth']))\n",
    "print('Скорость обучения: {:.2f}.'.format(model_lgbm.params['learning_rate']))\n",
    "print('\\nСредняя оценка качества модели: {:.2f}'.format(result_lgbm))\n",
    "print('Время обучения: {:.2f} сек.'.format(time_lgbm))"
   ]
  },
  {
   "cell_type": "markdown",
   "metadata": {},
   "source": [
    "По времени она конкурирует с моделью \"Решающее дерево\" (при разных запусках и на разных машинах результат меняется), но проигрывает ему в метрике: "
   ]
  },
  {
   "cell_type": "code",
   "execution_count": 99,
   "metadata": {},
   "outputs": [
    {
     "name": "stdout",
     "output_type": "stream",
     "text": [
      "Ветвей: 13.\n",
      "\n",
      "Средняя оценка качества модели: 2080.63\n",
      "Время обучения: 42.02 сек.\n"
     ]
    }
   ],
   "source": [
    "print('Ветвей: {:.0f}.'.format(model_tree.params['max_depth']))\n",
    "print('\\nСредняя оценка качества модели: {:.2f}'.format(result_tree))\n",
    "print('Время обучения: {:.2f} сек.'.format(time_tree))"
   ]
  },
  {
   "cell_type": "markdown",
   "metadata": {},
   "source": [
    "### Этап 6. Тестирование наилучшей модели"
   ]
  },
  {
   "cell_type": "markdown",
   "metadata": {},
   "source": [
    "Проверим наилучшую модель на тестовой выборке"
   ]
  },
  {
   "cell_type": "code",
   "execution_count": 100,
   "metadata": {
    "scrolled": true
   },
   "outputs": [
    {
     "name": "stdout",
     "output_type": "stream",
     "text": [
      "CPU times: user 408 ms, sys: 0 ns, total: 408 ms\n",
      "Wall time: 334 ms\n"
     ]
    }
   ],
   "source": [
    "%%time \n",
    "start = time()\n",
    "predict = model_lgbm.predict(features_test)\n",
    "result = mean_squared_error(predict,target_test)**0.5\n",
    "predict_time = time() - start"
   ]
  },
  {
   "cell_type": "code",
   "execution_count": 101,
   "metadata": {},
   "outputs": [
    {
     "name": "stdout",
     "output_type": "stream",
     "text": [
      "RMSE модели: 1853.19\n",
      "Время предсказания модели на тестовой выборке : 0.33 сек.\n"
     ]
    }
   ],
   "source": [
    "print('RMSE модели: {:.2f}'.format(result))\n",
    "print('Время предсказания модели на тестовой выборке : {:.2f} сек.'.format(predict_time))"
   ]
  },
  {
   "cell_type": "markdown",
   "metadata": {},
   "source": [
    "RMSE модели на тестовой выборке еще лучше, чем на обучающей!"
   ]
  },
  {
   "cell_type": "markdown",
   "metadata": {},
   "source": [
    "### Итоги проекта:"
   ]
  },
  {
   "cell_type": "markdown",
   "metadata": {},
   "source": [
    "#### Анализ исходных данных:\n",
    "\n",
    "1. Датасет содержит 354369 записей;\n",
    "2. Присутствует 4 полных дубликата;\n",
    "3. Часть признаков (VehicleType, Model, FuelType, Gearbox, Repaired) содержит пропуски;\n",
    "4. Присутствует  слабая обратная корелляция между пробегом и ценой, а также очень слабая корреляция между мощностью двигателя и ценой;\n",
    "5. Требуется приведение типов:\n",
    "\n",
    "    - DateCrawled - к типу DateTime;\n",
    "    - RegistrationYear, RegistrationMonth - объединить; \n",
    "    - DateCreated - к типу DateTime;\n",
    "    - PostalCode - к типу string, добавить лидирующие нули до 6 символов;\n",
    "    - Repaired - к типу boolean;\n",
    "    - LastSeen - к типу DateTime.\n",
    "\n",
    "6. NumberOfPictures содержит только нулевые данные;\n",
    "7. признаки RegistrationYear, Power содержат сбойные данные (RegistrationMonth - 13 месяцев, Power - мощность 0 и 20000 л.с."
   ]
  },
  {
   "cell_type": "markdown",
   "metadata": {},
   "source": [
    "#### Подготовка данных\n",
    "\n",
    "1. Удалены дубликаты записей;\n",
    "2. Исправлены типы данных;\n",
    "3. Данные о времени регистрации преобразованы в столбец с числом месяцев, прошедших с 1900 года;\n",
    "4. Восстановлены пропущенные данные в признаках VehicleType, FuelType, Gearbox;\n",
    "5. Удалены пропущенные данные в признаке Model;\n",
    "6. Исправлены аномальные значения в признаке Power;\n",
    "7. Данные разбиты на обучающую и тестовую выборки;\n",
    "8. Выделены признаки и целевой признак;\n",
    "9. Произведено масштабирование количественных признаков;\n",
    "10. Произведено кодирование категориальных признаков;\n",
    "11. Удалены признаки с высокой корелляцией;\n",
    "12. Данные подготовлены к обучению моделей."
   ]
  },
  {
   "cell_type": "markdown",
   "metadata": {},
   "source": [
    "#### Моделирование:\n",
    "\n",
    "Проведено моделирование с использованием моделей \"DummyRegressor\" (в качестве меры адекватности моделей), \"Решающее дерево\", \"LightGBM\" и \"CatBoost\". <br />\n",
    "Оценка моделей проводилась на обучающей выборке метрикой RMSE."
   ]
  },
  {
   "cell_type": "code",
   "execution_count": 102,
   "metadata": {},
   "outputs": [
    {
     "name": "stdout",
     "output_type": "stream",
     "text": [
      "1. Модель \"DummyRegressor\":\n",
      "Стратегия: mean\n",
      "\n",
      "Средняя оценка качества модели: 4563.23\n",
      "Время обучения: 0.06 сек.\n"
     ]
    }
   ],
   "source": [
    "print('1. Модель \"DummyRegressor\":')\n",
    "print('Стратегия:', strategy_dummy)\n",
    "print('\\nСредняя оценка качества модели: {:.2f}'.format(result_dummy))\n",
    "print('Время обучения: {:.2f} сек.'.format(time_dummy))"
   ]
  },
  {
   "cell_type": "code",
   "execution_count": 103,
   "metadata": {},
   "outputs": [
    {
     "name": "stdout",
     "output_type": "stream",
     "text": [
      "2. Модель \"Решающее дерево\":\n",
      "Ветвей: 13.\n",
      "\n",
      "Средняя оценка качества модели: 2080.63\n",
      "Время обучения: 42.02 сек.\n"
     ]
    }
   ],
   "source": [
    "print('2. Модель \"Решающее дерево\":')\n",
    "print('Ветвей: {:.0f}.'.format(model_tree.params['max_depth']))\n",
    "print('\\nСредняя оценка качества модели: {:.2f}'.format(result_tree))\n",
    "print('Время обучения: {:.2f} сек.'.format(time_tree))"
   ]
  },
  {
   "cell_type": "code",
   "execution_count": 104,
   "metadata": {
    "scrolled": true
   },
   "outputs": [
    {
     "name": "stdout",
     "output_type": "stream",
     "text": [
      "3. Модель \"LightGBM\":\n",
      "Деревьев: 78.\n",
      "Ветвей: 20.\n",
      "Скорость обучения: 0.75.\n",
      "\n",
      "Средняя оценка качества модели: 1855.08\n",
      "Время обучения: 143.66 сек.\n"
     ]
    }
   ],
   "source": [
    "print('3. Модель \"LightGBM\":')\n",
    "print('Деревьев: {:.0f}.'.format(model_lgbm.params['n_estimators']))\n",
    "print('Ветвей: {:.0f}.'.format(model_lgbm.params['max_depth']))\n",
    "print('Скорость обучения: {:.2f}.'.format(model_lgbm.params['learning_rate']))\n",
    "print('\\nСредняя оценка качества модели: {:.2f}'.format(result_lgbm))\n",
    "print('Время обучения: {:.2f} сек.'.format(time_lgbm))"
   ]
  },
  {
   "cell_type": "code",
   "execution_count": 105,
   "metadata": {
    "scrolled": true
   },
   "outputs": [
    {
     "name": "stdout",
     "output_type": "stream",
     "text": [
      "3. Модель \"CatBoost\":\n",
      "Деревьев: 89.\n",
      "Ветвей: 10.\n",
      "Скорость обучения: 0.25.\n",
      "\n",
      "Средняя оценка качества модели: 1868.78\n",
      "Время обучения: 69.80 сек.\n"
     ]
    }
   ],
   "source": [
    "print('3. Модель \"CatBoost\":')\n",
    "print('Деревьев: {:.0f}.'.format(model_cbr.params['n_estimators']))\n",
    "print('Ветвей: {:.0f}.'.format(model_cbr.params['max_depth']))\n",
    "print('Скорость обучения: {:.2f}.'.format(model_cbr.params['learning_rate']))\n",
    "print('\\nСредняя оценка качества модели: {:.2f}'.format(result_cbr))\n",
    "print('Время обучения: {:.2f} сек.'.format(time_cbr))"
   ]
  },
  {
   "cell_type": "markdown",
   "metadata": {},
   "source": [
    "#### Выбор модели"
   ]
  },
  {
   "cell_type": "code",
   "execution_count": 106,
   "metadata": {
    "scrolled": true
   },
   "outputs": [
    {
     "name": "stdout",
     "output_type": "stream",
     "text": [
      "Наилучший результат показала модель \"LightGBM\" с параметрами:\n",
      "Деревьев: 78.\n",
      "Ветвей: 20.\n",
      "Скорость обучения: 0.75.\n",
      "\n",
      "Итоговая метрика RMSE модели:\n",
      "- на обучающей выборке: 1855.08\n",
      "- на тестовой выборке: 1853.19\n",
      "\n",
      "Время обучения модели: 143.66 сек.\n",
      "Время предсказания модели на тестовой выборке : 0.33 сек.\n"
     ]
    }
   ],
   "source": [
    "print('Наилучший результат показала модель \"LightGBM\" с параметрами:')\n",
    "print('Деревьев: {:.0f}.'.format(model_lgbm.params['n_estimators']))\n",
    "print('Ветвей: {:.0f}.'.format(model_lgbm.params['max_depth']))\n",
    "print('Скорость обучения: {:.2f}.'.format(model_lgbm.params['learning_rate']))\n",
    "print()\n",
    "print('Итоговая метрика RMSE модели:')\n",
    "print('- на обучающей выборке: {:.2f}'.format(result_lgbm))\n",
    "print('- на тестовой выборке: {:.2f}'.format(result))\n",
    "print()\n",
    "print('Время обучения модели: {:.2f} сек.'.format(time_lgbm))\n",
    "print('Время предсказания модели на тестовой выборке : {:.2f} сек.'.format(predict_time))"
   ]
  }
 ],
 "metadata": {
  "ExecuteTimeLog": [
   {
    "duration": 4,
    "start_time": "2023-03-18T21:58:01.326Z"
   },
   {
    "duration": 1810,
    "start_time": "2023-03-18T21:58:01.331Z"
   },
   {
    "duration": 3,
    "start_time": "2023-03-18T21:58:03.143Z"
   },
   {
    "duration": 11,
    "start_time": "2023-03-18T21:58:03.147Z"
   },
   {
    "duration": 9,
    "start_time": "2023-03-18T21:58:03.160Z"
   },
   {
    "duration": 9,
    "start_time": "2023-03-18T21:58:03.171Z"
   },
   {
    "duration": 17,
    "start_time": "2023-03-18T21:58:03.181Z"
   },
   {
    "duration": 2959,
    "start_time": "2023-03-18T21:58:03.200Z"
   },
   {
    "duration": 22119,
    "start_time": "2023-03-18T21:58:06.161Z"
   },
   {
    "duration": 515,
    "start_time": "2023-03-18T21:58:28.282Z"
   },
   {
    "duration": 539,
    "start_time": "2023-03-18T21:58:28.800Z"
   },
   {
    "duration": 488,
    "start_time": "2023-03-18T21:58:29.340Z"
   },
   {
    "duration": 13,
    "start_time": "2023-03-18T21:58:29.829Z"
   },
   {
    "duration": 79,
    "start_time": "2023-03-18T21:58:29.844Z"
   },
   {
    "duration": 13,
    "start_time": "2023-03-18T21:58:29.925Z"
   },
   {
    "duration": 111,
    "start_time": "2023-03-18T21:58:29.940Z"
   },
   {
    "duration": 77,
    "start_time": "2023-03-18T21:58:30.052Z"
   },
   {
    "duration": 17,
    "start_time": "2023-03-18T21:58:30.131Z"
   },
   {
    "duration": 14,
    "start_time": "2023-03-18T21:58:30.149Z"
   },
   {
    "duration": 63,
    "start_time": "2023-03-18T21:58:30.165Z"
   },
   {
    "duration": 9,
    "start_time": "2023-03-18T21:58:30.230Z"
   },
   {
    "duration": 8,
    "start_time": "2023-03-18T21:58:30.241Z"
   },
   {
    "duration": 231841,
    "start_time": "2023-03-18T21:58:30.251Z"
   },
   {
    "duration": 16,
    "start_time": "2023-03-18T22:02:22.095Z"
   },
   {
    "duration": 22,
    "start_time": "2023-03-18T22:02:22.112Z"
   },
   {
    "duration": 26894,
    "start_time": "2023-03-18T22:02:22.136Z"
   },
   {
    "duration": 14,
    "start_time": "2023-03-18T22:02:49.032Z"
   },
   {
    "duration": 16,
    "start_time": "2023-03-18T22:02:49.048Z"
   },
   {
    "duration": 8,
    "start_time": "2023-03-18T22:02:49.066Z"
   },
   {
    "duration": 102,
    "start_time": "2023-03-18T22:02:49.075Z"
   },
   {
    "duration": 49,
    "start_time": "2023-03-18T22:02:49.179Z"
   },
   {
    "duration": 76,
    "start_time": "2023-03-18T22:02:49.230Z"
   },
   {
    "duration": 20,
    "start_time": "2023-03-18T22:02:49.309Z"
   },
   {
    "duration": 29,
    "start_time": "2023-03-18T22:02:49.330Z"
   },
   {
    "duration": 16375,
    "start_time": "2023-03-18T22:02:49.360Z"
   },
   {
    "duration": 19,
    "start_time": "2023-03-18T22:03:05.737Z"
   },
   {
    "duration": 41,
    "start_time": "2023-03-18T22:03:05.757Z"
   },
   {
    "duration": 15666,
    "start_time": "2023-03-18T22:03:05.799Z"
   },
   {
    "duration": 20,
    "start_time": "2023-03-18T22:03:21.467Z"
   },
   {
    "duration": 40,
    "start_time": "2023-03-18T22:03:21.488Z"
   },
   {
    "duration": 16467,
    "start_time": "2023-03-18T22:03:21.532Z"
   },
   {
    "duration": 26,
    "start_time": "2023-03-18T22:03:38.002Z"
   },
   {
    "duration": 13,
    "start_time": "2023-03-18T22:03:38.029Z"
   },
   {
    "duration": 117,
    "start_time": "2023-03-18T22:03:38.044Z"
   },
   {
    "duration": 7,
    "start_time": "2023-03-18T22:03:38.163Z"
   },
   {
    "duration": 19,
    "start_time": "2023-03-18T22:03:38.172Z"
   },
   {
    "duration": 3,
    "start_time": "2023-03-18T22:03:38.196Z"
   },
   {
    "duration": 40,
    "start_time": "2023-03-18T22:03:38.202Z"
   },
   {
    "duration": 21,
    "start_time": "2023-03-18T22:03:38.245Z"
   },
   {
    "duration": 43,
    "start_time": "2023-03-18T22:03:38.268Z"
   },
   {
    "duration": 9,
    "start_time": "2023-03-18T22:03:38.312Z"
   },
   {
    "duration": 3,
    "start_time": "2023-03-18T22:03:38.323Z"
   },
   {
    "duration": 22556,
    "start_time": "2023-03-18T22:03:38.327Z"
   },
   {
    "duration": 10296,
    "start_time": "2023-03-18T22:04:00.884Z"
   },
   {
    "duration": 30,
    "start_time": "2023-03-18T22:04:11.182Z"
   },
   {
    "duration": 29,
    "start_time": "2023-03-18T22:04:11.213Z"
   },
   {
    "duration": 4,
    "start_time": "2023-03-18T22:04:11.244Z"
   },
   {
    "duration": 5,
    "start_time": "2023-03-18T22:04:11.250Z"
   },
   {
    "duration": 17,
    "start_time": "2023-03-18T22:04:11.256Z"
   },
   {
    "duration": 87,
    "start_time": "2023-03-18T22:04:11.274Z"
   },
   {
    "duration": 5,
    "start_time": "2023-03-18T22:04:11.363Z"
   },
   {
    "duration": 37,
    "start_time": "2023-03-18T22:04:11.370Z"
   },
   {
    "duration": 3,
    "start_time": "2023-03-18T22:04:11.410Z"
   },
   {
    "duration": 9,
    "start_time": "2023-03-18T22:04:11.414Z"
   },
   {
    "duration": 5,
    "start_time": "2023-03-18T22:04:11.424Z"
   },
   {
    "duration": 152,
    "start_time": "2023-03-18T22:04:11.430Z"
   },
   {
    "duration": 20,
    "start_time": "2023-03-18T22:04:11.584Z"
   },
   {
    "duration": 37,
    "start_time": "2023-03-18T22:04:11.610Z"
   },
   {
    "duration": 183,
    "start_time": "2023-03-18T22:04:11.648Z"
   },
   {
    "duration": 10,
    "start_time": "2023-03-18T22:04:11.832Z"
   },
   {
    "duration": 12,
    "start_time": "2023-03-18T22:04:11.844Z"
   },
   {
    "duration": 58,
    "start_time": "2023-03-18T22:04:11.857Z"
   },
   {
    "duration": 34,
    "start_time": "2023-03-18T22:04:11.916Z"
   },
   {
    "duration": 3,
    "start_time": "2023-03-18T22:04:11.951Z"
   },
   {
    "duration": 1537,
    "start_time": "2023-03-18T22:04:11.956Z"
   },
   {
    "duration": 497,
    "start_time": "2023-03-18T22:04:13.495Z"
   },
   {
    "duration": 21,
    "start_time": "2023-03-18T22:04:13.995Z"
   },
   {
    "duration": 45,
    "start_time": "2023-03-18T22:04:14.017Z"
   },
   {
    "duration": 2112,
    "start_time": "2023-03-18T22:04:14.064Z"
   },
   {
    "duration": 175,
    "start_time": "2023-03-18T22:04:16.178Z"
   },
   {
    "duration": 1,
    "start_time": "2023-03-18T22:04:16.354Z"
   },
   {
    "duration": 0,
    "start_time": "2023-03-18T22:04:16.356Z"
   },
   {
    "duration": 0,
    "start_time": "2023-03-18T22:04:16.357Z"
   },
   {
    "duration": 0,
    "start_time": "2023-03-18T22:04:16.358Z"
   },
   {
    "duration": 0,
    "start_time": "2023-03-18T22:04:16.359Z"
   },
   {
    "duration": 0,
    "start_time": "2023-03-18T22:04:16.360Z"
   },
   {
    "duration": 0,
    "start_time": "2023-03-18T22:04:16.362Z"
   },
   {
    "duration": 0,
    "start_time": "2023-03-18T22:04:16.363Z"
   },
   {
    "duration": 21,
    "start_time": "2023-03-18T22:18:46.651Z"
   },
   {
    "duration": 5,
    "start_time": "2023-03-18T22:19:21.608Z"
   },
   {
    "duration": 3,
    "start_time": "2023-03-18T22:20:14.510Z"
   },
   {
    "duration": 1556,
    "start_time": "2023-03-18T22:20:14.591Z"
   },
   {
    "duration": 3,
    "start_time": "2023-03-18T22:20:16.148Z"
   },
   {
    "duration": 9,
    "start_time": "2023-03-18T22:20:16.152Z"
   },
   {
    "duration": 12,
    "start_time": "2023-03-18T22:20:16.162Z"
   },
   {
    "duration": 8,
    "start_time": "2023-03-18T22:20:16.176Z"
   },
   {
    "duration": 11,
    "start_time": "2023-03-18T22:20:16.185Z"
   },
   {
    "duration": 934,
    "start_time": "2023-03-18T22:20:16.198Z"
   },
   {
    "duration": 22034,
    "start_time": "2023-03-18T22:20:17.134Z"
   },
   {
    "duration": 463,
    "start_time": "2023-03-18T22:20:39.169Z"
   },
   {
    "duration": 479,
    "start_time": "2023-03-18T22:20:39.633Z"
   },
   {
    "duration": 456,
    "start_time": "2023-03-18T22:20:40.114Z"
   },
   {
    "duration": 14,
    "start_time": "2023-03-18T22:20:40.571Z"
   },
   {
    "duration": 76,
    "start_time": "2023-03-18T22:20:40.586Z"
   },
   {
    "duration": 34,
    "start_time": "2023-03-18T22:20:40.666Z"
   },
   {
    "duration": 68,
    "start_time": "2023-03-18T22:20:40.702Z"
   },
   {
    "duration": 85,
    "start_time": "2023-03-18T22:20:40.771Z"
   },
   {
    "duration": 13,
    "start_time": "2023-03-18T22:20:40.858Z"
   },
   {
    "duration": 29,
    "start_time": "2023-03-18T22:20:40.873Z"
   },
   {
    "duration": 33,
    "start_time": "2023-03-18T22:20:40.904Z"
   },
   {
    "duration": 7,
    "start_time": "2023-03-18T22:20:40.938Z"
   },
   {
    "duration": 5,
    "start_time": "2023-03-18T22:20:40.946Z"
   },
   {
    "duration": 239293,
    "start_time": "2023-03-18T22:20:40.953Z"
   },
   {
    "duration": 18,
    "start_time": "2023-03-18T22:24:40.247Z"
   },
   {
    "duration": 5,
    "start_time": "2023-03-18T22:24:40.267Z"
   },
   {
    "duration": 26599,
    "start_time": "2023-03-18T22:24:40.274Z"
   },
   {
    "duration": 21,
    "start_time": "2023-03-18T22:25:06.875Z"
   },
   {
    "duration": 24,
    "start_time": "2023-03-18T22:25:06.898Z"
   },
   {
    "duration": 9,
    "start_time": "2023-03-18T22:25:06.924Z"
   },
   {
    "duration": 109,
    "start_time": "2023-03-18T22:25:06.935Z"
   },
   {
    "duration": 31,
    "start_time": "2023-03-18T22:25:07.046Z"
   },
   {
    "duration": 69,
    "start_time": "2023-03-18T22:25:07.079Z"
   },
   {
    "duration": 21,
    "start_time": "2023-03-18T22:25:07.150Z"
   },
   {
    "duration": 33,
    "start_time": "2023-03-18T22:25:07.194Z"
   },
   {
    "duration": 16792,
    "start_time": "2023-03-18T22:25:07.229Z"
   },
   {
    "duration": 30,
    "start_time": "2023-03-18T22:25:24.023Z"
   },
   {
    "duration": 68,
    "start_time": "2023-03-18T22:25:24.055Z"
   },
   {
    "duration": 16820,
    "start_time": "2023-03-18T22:25:24.126Z"
   },
   {
    "duration": 20,
    "start_time": "2023-03-18T22:25:40.947Z"
   },
   {
    "duration": 48,
    "start_time": "2023-03-18T22:25:40.969Z"
   },
   {
    "duration": 16555,
    "start_time": "2023-03-18T22:25:41.019Z"
   },
   {
    "duration": 28,
    "start_time": "2023-03-18T22:25:57.578Z"
   },
   {
    "duration": 9,
    "start_time": "2023-03-18T22:25:57.607Z"
   },
   {
    "duration": 121,
    "start_time": "2023-03-18T22:25:57.618Z"
   },
   {
    "duration": 8,
    "start_time": "2023-03-18T22:25:57.741Z"
   },
   {
    "duration": 8,
    "start_time": "2023-03-18T22:25:57.751Z"
   },
   {
    "duration": 3,
    "start_time": "2023-03-18T22:25:57.761Z"
   },
   {
    "duration": 53,
    "start_time": "2023-03-18T22:25:57.765Z"
   },
   {
    "duration": 18,
    "start_time": "2023-03-18T22:25:57.819Z"
   },
   {
    "duration": 19,
    "start_time": "2023-03-18T22:25:57.839Z"
   },
   {
    "duration": 36,
    "start_time": "2023-03-18T22:25:57.860Z"
   },
   {
    "duration": 3,
    "start_time": "2023-03-18T22:25:57.897Z"
   },
   {
    "duration": 4,
    "start_time": "2023-03-18T23:15:31.978Z"
   },
   {
    "duration": 1565,
    "start_time": "2023-03-18T23:15:31.984Z"
   },
   {
    "duration": 3,
    "start_time": "2023-03-18T23:15:33.551Z"
   },
   {
    "duration": 8,
    "start_time": "2023-03-18T23:15:33.556Z"
   },
   {
    "duration": 10,
    "start_time": "2023-03-18T23:15:33.566Z"
   },
   {
    "duration": 21,
    "start_time": "2023-03-18T23:15:33.578Z"
   },
   {
    "duration": 20,
    "start_time": "2023-03-18T23:15:33.600Z"
   },
   {
    "duration": 960,
    "start_time": "2023-03-18T23:15:33.622Z"
   },
   {
    "duration": 19807,
    "start_time": "2023-03-18T23:15:34.584Z"
   },
   {
    "duration": 0,
    "start_time": "2023-03-18T23:15:54.406Z"
   },
   {
    "duration": 0,
    "start_time": "2023-03-18T23:15:54.407Z"
   },
   {
    "duration": 0,
    "start_time": "2023-03-18T23:15:54.409Z"
   },
   {
    "duration": 0,
    "start_time": "2023-03-18T23:15:54.410Z"
   },
   {
    "duration": 0,
    "start_time": "2023-03-18T23:15:54.411Z"
   },
   {
    "duration": 0,
    "start_time": "2023-03-18T23:15:54.412Z"
   },
   {
    "duration": 0,
    "start_time": "2023-03-18T23:15:54.414Z"
   },
   {
    "duration": 0,
    "start_time": "2023-03-18T23:15:54.415Z"
   },
   {
    "duration": 0,
    "start_time": "2023-03-18T23:15:54.416Z"
   },
   {
    "duration": 0,
    "start_time": "2023-03-18T23:15:54.417Z"
   },
   {
    "duration": 0,
    "start_time": "2023-03-18T23:15:54.419Z"
   },
   {
    "duration": 0,
    "start_time": "2023-03-18T23:15:54.420Z"
   },
   {
    "duration": 0,
    "start_time": "2023-03-18T23:15:54.421Z"
   },
   {
    "duration": 0,
    "start_time": "2023-03-18T23:15:54.422Z"
   },
   {
    "duration": 0,
    "start_time": "2023-03-18T23:15:54.423Z"
   },
   {
    "duration": 0,
    "start_time": "2023-03-18T23:15:54.424Z"
   },
   {
    "duration": 0,
    "start_time": "2023-03-18T23:15:54.425Z"
   },
   {
    "duration": 0,
    "start_time": "2023-03-18T23:15:54.427Z"
   },
   {
    "duration": 0,
    "start_time": "2023-03-18T23:15:54.427Z"
   },
   {
    "duration": 0,
    "start_time": "2023-03-18T23:15:54.428Z"
   },
   {
    "duration": 0,
    "start_time": "2023-03-18T23:15:54.429Z"
   },
   {
    "duration": 0,
    "start_time": "2023-03-18T23:15:54.430Z"
   },
   {
    "duration": 0,
    "start_time": "2023-03-18T23:15:54.431Z"
   },
   {
    "duration": 0,
    "start_time": "2023-03-18T23:15:54.432Z"
   },
   {
    "duration": 0,
    "start_time": "2023-03-18T23:15:54.433Z"
   },
   {
    "duration": 0,
    "start_time": "2023-03-18T23:15:54.434Z"
   },
   {
    "duration": 0,
    "start_time": "2023-03-18T23:15:54.435Z"
   },
   {
    "duration": 0,
    "start_time": "2023-03-18T23:15:54.436Z"
   },
   {
    "duration": 0,
    "start_time": "2023-03-18T23:15:54.437Z"
   },
   {
    "duration": 0,
    "start_time": "2023-03-18T23:15:54.438Z"
   },
   {
    "duration": 0,
    "start_time": "2023-03-18T23:15:54.439Z"
   },
   {
    "duration": 0,
    "start_time": "2023-03-18T23:15:54.440Z"
   },
   {
    "duration": 0,
    "start_time": "2023-03-18T23:15:54.441Z"
   },
   {
    "duration": 0,
    "start_time": "2023-03-18T23:15:54.499Z"
   },
   {
    "duration": 0,
    "start_time": "2023-03-18T23:15:54.499Z"
   },
   {
    "duration": 0,
    "start_time": "2023-03-18T23:15:54.501Z"
   },
   {
    "duration": 0,
    "start_time": "2023-03-18T23:15:54.502Z"
   },
   {
    "duration": 0,
    "start_time": "2023-03-18T23:15:54.502Z"
   },
   {
    "duration": 0,
    "start_time": "2023-03-18T23:15:54.510Z"
   },
   {
    "duration": 0,
    "start_time": "2023-03-18T23:15:54.511Z"
   },
   {
    "duration": 0,
    "start_time": "2023-03-18T23:15:54.512Z"
   },
   {
    "duration": 0,
    "start_time": "2023-03-18T23:15:54.513Z"
   },
   {
    "duration": 0,
    "start_time": "2023-03-18T23:15:54.514Z"
   },
   {
    "duration": 0,
    "start_time": "2023-03-18T23:15:54.515Z"
   },
   {
    "duration": 0,
    "start_time": "2023-03-18T23:15:54.516Z"
   },
   {
    "duration": 0,
    "start_time": "2023-03-18T23:15:54.517Z"
   },
   {
    "duration": 0,
    "start_time": "2023-03-18T23:15:54.518Z"
   },
   {
    "duration": 0,
    "start_time": "2023-03-18T23:15:54.519Z"
   },
   {
    "duration": 1,
    "start_time": "2023-03-18T23:15:54.519Z"
   },
   {
    "duration": 0,
    "start_time": "2023-03-18T23:15:54.520Z"
   },
   {
    "duration": 0,
    "start_time": "2023-03-18T23:15:54.522Z"
   },
   {
    "duration": 0,
    "start_time": "2023-03-18T23:15:54.523Z"
   },
   {
    "duration": 0,
    "start_time": "2023-03-18T23:15:54.524Z"
   },
   {
    "duration": 0,
    "start_time": "2023-03-18T23:15:54.525Z"
   },
   {
    "duration": 0,
    "start_time": "2023-03-18T23:15:54.526Z"
   },
   {
    "duration": 0,
    "start_time": "2023-03-18T23:15:54.527Z"
   },
   {
    "duration": 0,
    "start_time": "2023-03-18T23:15:54.528Z"
   },
   {
    "duration": 0,
    "start_time": "2023-03-18T23:15:54.529Z"
   },
   {
    "duration": 0,
    "start_time": "2023-03-18T23:15:54.530Z"
   },
   {
    "duration": 0,
    "start_time": "2023-03-18T23:15:54.532Z"
   },
   {
    "duration": 0,
    "start_time": "2023-03-18T23:15:54.533Z"
   },
   {
    "duration": 0,
    "start_time": "2023-03-18T23:15:54.534Z"
   },
   {
    "duration": 0,
    "start_time": "2023-03-18T23:15:54.535Z"
   },
   {
    "duration": 0,
    "start_time": "2023-03-18T23:15:54.536Z"
   },
   {
    "duration": 0,
    "start_time": "2023-03-18T23:15:54.537Z"
   },
   {
    "duration": 0,
    "start_time": "2023-03-18T23:15:54.538Z"
   },
   {
    "duration": 0,
    "start_time": "2023-03-18T23:15:54.538Z"
   },
   {
    "duration": 0,
    "start_time": "2023-03-18T23:15:54.539Z"
   },
   {
    "duration": 0,
    "start_time": "2023-03-18T23:15:54.539Z"
   },
   {
    "duration": 0,
    "start_time": "2023-03-18T23:15:54.540Z"
   },
   {
    "duration": 0,
    "start_time": "2023-03-18T23:15:54.540Z"
   },
   {
    "duration": 0,
    "start_time": "2023-03-18T23:15:54.541Z"
   },
   {
    "duration": 0,
    "start_time": "2023-03-18T23:15:54.596Z"
   },
   {
    "duration": 0,
    "start_time": "2023-03-18T23:15:54.597Z"
   },
   {
    "duration": 0,
    "start_time": "2023-03-18T23:15:54.598Z"
   },
   {
    "duration": 0,
    "start_time": "2023-03-18T23:15:54.598Z"
   },
   {
    "duration": 0,
    "start_time": "2023-03-18T23:15:54.599Z"
   },
   {
    "duration": 0,
    "start_time": "2023-03-18T23:15:54.600Z"
   },
   {
    "duration": 0,
    "start_time": "2023-03-18T23:15:54.610Z"
   },
   {
    "duration": 4,
    "start_time": "2023-03-18T23:16:08.211Z"
   },
   {
    "duration": 1497,
    "start_time": "2023-03-18T23:16:08.231Z"
   },
   {
    "duration": 2,
    "start_time": "2023-03-18T23:16:09.730Z"
   },
   {
    "duration": 5,
    "start_time": "2023-03-18T23:16:09.734Z"
   },
   {
    "duration": 10,
    "start_time": "2023-03-18T23:16:09.741Z"
   },
   {
    "duration": 8,
    "start_time": "2023-03-18T23:16:09.753Z"
   },
   {
    "duration": 26,
    "start_time": "2023-03-18T23:16:09.763Z"
   },
   {
    "duration": 914,
    "start_time": "2023-03-18T23:16:09.791Z"
   },
   {
    "duration": 22274,
    "start_time": "2023-03-18T23:16:10.707Z"
   },
   {
    "duration": 446,
    "start_time": "2023-03-18T23:16:32.983Z"
   },
   {
    "duration": 453,
    "start_time": "2023-03-18T23:16:33.431Z"
   },
   {
    "duration": 523,
    "start_time": "2023-03-18T23:16:33.886Z"
   },
   {
    "duration": 12,
    "start_time": "2023-03-18T23:16:34.411Z"
   },
   {
    "duration": 97,
    "start_time": "2023-03-18T23:16:34.425Z"
   },
   {
    "duration": 13,
    "start_time": "2023-03-18T23:16:34.525Z"
   },
   {
    "duration": 101,
    "start_time": "2023-03-18T23:16:34.539Z"
   },
   {
    "duration": 82,
    "start_time": "2023-03-18T23:16:34.642Z"
   },
   {
    "duration": 12,
    "start_time": "2023-03-18T23:16:34.726Z"
   },
   {
    "duration": 8,
    "start_time": "2023-03-18T23:16:34.739Z"
   },
   {
    "duration": 52,
    "start_time": "2023-03-18T23:16:34.749Z"
   },
   {
    "duration": 8,
    "start_time": "2023-03-18T23:16:34.802Z"
   },
   {
    "duration": 4,
    "start_time": "2023-03-18T23:16:34.811Z"
   },
   {
    "duration": 226913,
    "start_time": "2023-03-18T23:16:34.816Z"
   },
   {
    "duration": 15,
    "start_time": "2023-03-18T23:20:21.731Z"
   },
   {
    "duration": 5,
    "start_time": "2023-03-18T23:20:21.748Z"
   },
   {
    "duration": 25825,
    "start_time": "2023-03-18T23:20:21.755Z"
   },
   {
    "duration": 28,
    "start_time": "2023-03-18T23:20:47.582Z"
   },
   {
    "duration": 15,
    "start_time": "2023-03-18T23:20:47.612Z"
   },
   {
    "duration": 7,
    "start_time": "2023-03-18T23:20:47.629Z"
   },
   {
    "duration": 101,
    "start_time": "2023-03-18T23:20:47.638Z"
   },
   {
    "duration": 30,
    "start_time": "2023-03-18T23:20:47.740Z"
   },
   {
    "duration": 80,
    "start_time": "2023-03-18T23:20:47.771Z"
   },
   {
    "duration": 21,
    "start_time": "2023-03-18T23:20:47.852Z"
   },
   {
    "duration": 54,
    "start_time": "2023-03-18T23:20:47.875Z"
   },
   {
    "duration": 16028,
    "start_time": "2023-03-18T23:20:47.931Z"
   },
   {
    "duration": 24,
    "start_time": "2023-03-18T23:21:03.961Z"
   },
   {
    "duration": 33,
    "start_time": "2023-03-18T23:31:25.984Z"
   },
   {
    "duration": 124,
    "start_time": "2023-03-18T23:31:26.020Z"
   },
   {
    "duration": 20,
    "start_time": "2023-03-18T23:31:26.146Z"
   },
   {
    "duration": 46,
    "start_time": "2023-03-18T23:31:26.168Z"
   },
   {
    "duration": 117,
    "start_time": "2023-03-18T23:31:26.216Z"
   },
   {
    "duration": 20,
    "start_time": "2023-03-18T23:31:26.335Z"
   },
   {
    "duration": 10,
    "start_time": "2023-03-18T23:31:26.357Z"
   },
   {
    "duration": 142,
    "start_time": "2023-03-18T23:31:26.370Z"
   },
   {
    "duration": 7,
    "start_time": "2023-03-18T23:31:26.514Z"
   },
   {
    "duration": 8,
    "start_time": "2023-03-18T23:31:26.522Z"
   },
   {
    "duration": 3,
    "start_time": "2023-03-18T23:31:26.531Z"
   },
   {
    "duration": 27,
    "start_time": "2023-03-18T23:31:26.536Z"
   },
   {
    "duration": 6,
    "start_time": "2023-03-18T23:31:26.564Z"
   },
   {
    "duration": 17,
    "start_time": "2023-03-18T23:31:26.595Z"
   },
   {
    "duration": 17,
    "start_time": "2023-03-18T23:31:26.615Z"
   },
   {
    "duration": 3,
    "start_time": "2023-03-18T23:31:26.634Z"
   },
   {
    "duration": 23847,
    "start_time": "2023-03-18T23:31:26.639Z"
   },
   {
    "duration": 176,
    "start_time": "2023-03-18T23:31:50.488Z"
   },
   {
    "duration": 9,
    "start_time": "2023-03-18T23:31:50.666Z"
   },
   {
    "duration": 45,
    "start_time": "2023-03-18T23:31:50.677Z"
   },
   {
    "duration": 5,
    "start_time": "2023-03-18T23:31:50.723Z"
   },
   {
    "duration": 5,
    "start_time": "2023-03-18T23:31:50.730Z"
   },
   {
    "duration": 17,
    "start_time": "2023-03-18T23:31:50.737Z"
   },
   {
    "duration": 91,
    "start_time": "2023-03-18T23:31:50.756Z"
   },
   {
    "duration": 5,
    "start_time": "2023-03-18T23:31:50.848Z"
   },
   {
    "duration": 17,
    "start_time": "2023-03-18T23:31:50.855Z"
   },
   {
    "duration": 2,
    "start_time": "2023-03-18T23:31:50.874Z"
   },
   {
    "duration": 11,
    "start_time": "2023-03-18T23:31:50.895Z"
   },
   {
    "duration": 7,
    "start_time": "2023-03-18T23:31:50.907Z"
   },
   {
    "duration": 149,
    "start_time": "2023-03-18T23:31:50.916Z"
   },
   {
    "duration": 11,
    "start_time": "2023-03-18T23:31:51.067Z"
   },
   {
    "duration": 50,
    "start_time": "2023-03-18T23:31:51.079Z"
   },
   {
    "duration": 184,
    "start_time": "2023-03-18T23:31:51.130Z"
   },
   {
    "duration": 11,
    "start_time": "2023-03-18T23:31:51.316Z"
   },
   {
    "duration": 13,
    "start_time": "2023-03-18T23:31:51.329Z"
   },
   {
    "duration": 62,
    "start_time": "2023-03-18T23:31:51.344Z"
   },
   {
    "duration": 37,
    "start_time": "2023-03-18T23:31:51.408Z"
   },
   {
    "duration": 3,
    "start_time": "2023-03-18T23:31:51.447Z"
   },
   {
    "duration": 1654,
    "start_time": "2023-03-18T23:31:51.452Z"
   },
   {
    "duration": 467,
    "start_time": "2023-03-18T23:31:53.108Z"
   },
   {
    "duration": 21,
    "start_time": "2023-03-18T23:31:53.577Z"
   },
   {
    "duration": 20,
    "start_time": "2023-03-18T23:31:53.603Z"
   },
   {
    "duration": 2052,
    "start_time": "2023-03-18T23:31:53.624Z"
   },
   {
    "duration": 32,
    "start_time": "2023-03-18T23:31:55.678Z"
   },
   {
    "duration": 16,
    "start_time": "2023-03-18T23:31:55.712Z"
   },
   {
    "duration": 13,
    "start_time": "2023-03-18T23:31:55.730Z"
   },
   {
    "duration": 173,
    "start_time": "2023-03-18T23:31:55.745Z"
   },
   {
    "duration": 50501,
    "start_time": "2023-03-18T23:31:55.920Z"
   },
   {
    "duration": 589192,
    "start_time": "2023-03-18T23:32:46.423Z"
   },
   {
    "duration": 72742,
    "start_time": "2023-03-18T23:42:35.617Z"
   },
   {
    "duration": 4,
    "start_time": "2023-03-18T23:43:48.361Z"
   },
   {
    "duration": 540,
    "start_time": "2023-03-18T23:43:48.367Z"
   },
   {
    "duration": 107253,
    "start_time": "2023-03-19T00:03:36.049Z"
   },
   {
    "duration": 49,
    "start_time": "2023-03-20T15:06:11.663Z"
   },
   {
    "duration": 2,
    "start_time": "2023-03-20T15:06:18.033Z"
   },
   {
    "duration": 1586,
    "start_time": "2023-03-20T15:06:18.070Z"
   },
   {
    "duration": 3,
    "start_time": "2023-03-20T15:06:19.658Z"
   },
   {
    "duration": 10,
    "start_time": "2023-03-20T15:06:19.662Z"
   },
   {
    "duration": 12,
    "start_time": "2023-03-20T15:06:19.674Z"
   },
   {
    "duration": 12,
    "start_time": "2023-03-20T15:06:19.688Z"
   },
   {
    "duration": 20,
    "start_time": "2023-03-20T15:06:19.702Z"
   },
   {
    "duration": 1064,
    "start_time": "2023-03-20T15:06:19.724Z"
   },
   {
    "duration": 20636,
    "start_time": "2023-03-20T15:06:20.790Z"
   },
   {
    "duration": 370,
    "start_time": "2023-03-20T15:06:41.427Z"
   },
   {
    "duration": 449,
    "start_time": "2023-03-20T15:06:41.799Z"
   },
   {
    "duration": 417,
    "start_time": "2023-03-20T15:06:42.250Z"
   },
   {
    "duration": 12,
    "start_time": "2023-03-20T15:06:42.669Z"
   },
   {
    "duration": 116,
    "start_time": "2023-03-20T15:06:42.683Z"
   },
   {
    "duration": 23,
    "start_time": "2023-03-20T15:06:42.801Z"
   },
   {
    "duration": 101,
    "start_time": "2023-03-20T15:06:42.825Z"
   },
   {
    "duration": 64,
    "start_time": "2023-03-20T15:06:42.928Z"
   },
   {
    "duration": 32,
    "start_time": "2023-03-20T15:06:42.994Z"
   },
   {
    "duration": 4,
    "start_time": "2023-03-20T15:07:28.470Z"
   },
   {
    "duration": 1550,
    "start_time": "2023-03-20T15:07:28.481Z"
   },
   {
    "duration": 4,
    "start_time": "2023-03-20T15:07:30.033Z"
   },
   {
    "duration": 26,
    "start_time": "2023-03-20T15:07:30.039Z"
   },
   {
    "duration": 20,
    "start_time": "2023-03-20T15:07:30.067Z"
   },
   {
    "duration": 24,
    "start_time": "2023-03-20T15:07:30.089Z"
   },
   {
    "duration": 34,
    "start_time": "2023-03-20T15:07:30.114Z"
   },
   {
    "duration": 778,
    "start_time": "2023-03-20T15:07:30.150Z"
   },
   {
    "duration": 22198,
    "start_time": "2023-03-20T15:07:30.929Z"
   },
   {
    "duration": 341,
    "start_time": "2023-03-20T15:07:53.129Z"
   },
   {
    "duration": 361,
    "start_time": "2023-03-20T15:07:53.472Z"
   },
   {
    "duration": 348,
    "start_time": "2023-03-20T15:07:53.835Z"
   },
   {
    "duration": 18,
    "start_time": "2023-03-20T15:07:54.185Z"
   },
   {
    "duration": 109,
    "start_time": "2023-03-20T15:07:54.205Z"
   },
   {
    "duration": 12,
    "start_time": "2023-03-20T15:07:54.317Z"
   },
   {
    "duration": 96,
    "start_time": "2023-03-20T15:07:54.331Z"
   },
   {
    "duration": 61,
    "start_time": "2023-03-20T15:07:54.429Z"
   },
   {
    "duration": 31,
    "start_time": "2023-03-20T15:07:54.492Z"
   },
   {
    "duration": 7,
    "start_time": "2023-03-20T15:07:54.524Z"
   },
   {
    "duration": 31,
    "start_time": "2023-03-20T15:07:54.532Z"
   },
   {
    "duration": 6,
    "start_time": "2023-03-20T15:07:54.565Z"
   },
   {
    "duration": 4,
    "start_time": "2023-03-20T15:07:54.573Z"
   },
   {
    "duration": 190922,
    "start_time": "2023-03-20T15:07:54.578Z"
   },
   {
    "duration": 13,
    "start_time": "2023-03-20T15:11:05.501Z"
   },
   {
    "duration": 3,
    "start_time": "2023-03-20T15:11:05.524Z"
   },
   {
    "duration": 25735,
    "start_time": "2023-03-20T15:11:05.528Z"
   },
   {
    "duration": 12,
    "start_time": "2023-03-20T15:11:31.265Z"
   },
   {
    "duration": 47,
    "start_time": "2023-03-20T15:11:31.278Z"
   },
   {
    "duration": 83,
    "start_time": "2023-03-20T15:11:31.327Z"
   },
   {
    "duration": 24,
    "start_time": "2023-03-20T15:11:31.412Z"
   },
   {
    "duration": 51,
    "start_time": "2023-03-20T15:11:31.438Z"
   },
   {
    "duration": 49,
    "start_time": "2023-03-20T15:11:31.491Z"
   },
   {
    "duration": 41,
    "start_time": "2023-03-20T15:11:31.542Z"
   },
   {
    "duration": 12305,
    "start_time": "2023-03-20T15:11:31.585Z"
   },
   {
    "duration": 17,
    "start_time": "2023-03-20T15:11:43.892Z"
   },
   {
    "duration": 33,
    "start_time": "2023-03-20T15:11:43.910Z"
   },
   {
    "duration": 13607,
    "start_time": "2023-03-20T15:11:43.944Z"
   },
   {
    "duration": 18,
    "start_time": "2023-03-20T15:11:57.553Z"
   },
   {
    "duration": 30,
    "start_time": "2023-03-20T15:11:57.573Z"
   },
   {
    "duration": 53,
    "start_time": "2023-03-20T15:11:57.605Z"
   },
   {
    "duration": 34,
    "start_time": "2023-03-20T15:11:57.660Z"
   },
   {
    "duration": 12605,
    "start_time": "2023-03-20T15:11:57.701Z"
   },
   {
    "duration": 18,
    "start_time": "2023-03-20T15:12:10.308Z"
   },
   {
    "duration": 6,
    "start_time": "2023-03-20T15:12:10.328Z"
   },
   {
    "duration": 138,
    "start_time": "2023-03-20T15:12:10.336Z"
   },
   {
    "duration": 7,
    "start_time": "2023-03-20T15:12:10.477Z"
   },
   {
    "duration": 17,
    "start_time": "2023-03-20T15:12:10.486Z"
   },
   {
    "duration": 14,
    "start_time": "2023-03-20T15:12:10.505Z"
   },
   {
    "duration": 54,
    "start_time": "2023-03-20T15:12:10.521Z"
   },
   {
    "duration": 17,
    "start_time": "2023-03-20T15:12:10.577Z"
   },
   {
    "duration": 27,
    "start_time": "2023-03-20T15:12:10.596Z"
   },
   {
    "duration": 7,
    "start_time": "2023-03-20T15:12:10.625Z"
   },
   {
    "duration": 9,
    "start_time": "2023-03-20T15:12:10.634Z"
   },
   {
    "duration": 20049,
    "start_time": "2023-03-20T15:12:10.644Z"
   },
   {
    "duration": 8112,
    "start_time": "2023-03-20T15:12:30.695Z"
   },
   {
    "duration": 20,
    "start_time": "2023-03-20T15:12:38.809Z"
   },
   {
    "duration": 22,
    "start_time": "2023-03-20T15:12:38.831Z"
   },
   {
    "duration": 4,
    "start_time": "2023-03-20T15:12:38.855Z"
   },
   {
    "duration": 8,
    "start_time": "2023-03-20T15:12:38.861Z"
   },
   {
    "duration": 16,
    "start_time": "2023-03-20T15:12:38.870Z"
   },
   {
    "duration": 65,
    "start_time": "2023-03-20T15:12:38.887Z"
   },
   {
    "duration": 4,
    "start_time": "2023-03-20T15:12:38.954Z"
   },
   {
    "duration": 11,
    "start_time": "2023-03-20T15:12:38.960Z"
   },
   {
    "duration": 3,
    "start_time": "2023-03-20T15:12:38.972Z"
   },
   {
    "duration": 4,
    "start_time": "2023-03-20T15:12:38.976Z"
   },
   {
    "duration": 5,
    "start_time": "2023-03-20T15:12:38.982Z"
   },
   {
    "duration": 136,
    "start_time": "2023-03-20T15:12:38.988Z"
   },
   {
    "duration": 9,
    "start_time": "2023-03-20T15:12:39.125Z"
   },
   {
    "duration": 41,
    "start_time": "2023-03-20T15:12:39.136Z"
   },
   {
    "duration": 147,
    "start_time": "2023-03-20T15:12:39.178Z"
   },
   {
    "duration": 8,
    "start_time": "2023-03-20T15:12:39.327Z"
   },
   {
    "duration": 14,
    "start_time": "2023-03-20T15:12:39.336Z"
   },
   {
    "duration": 38,
    "start_time": "2023-03-20T15:12:39.351Z"
   },
   {
    "duration": 35,
    "start_time": "2023-03-20T15:12:39.390Z"
   },
   {
    "duration": 3,
    "start_time": "2023-03-20T15:12:39.426Z"
   },
   {
    "duration": 1145,
    "start_time": "2023-03-20T15:12:39.430Z"
   },
   {
    "duration": 302,
    "start_time": "2023-03-20T15:12:40.577Z"
   },
   {
    "duration": 11,
    "start_time": "2023-03-20T15:12:40.881Z"
   },
   {
    "duration": 11,
    "start_time": "2023-03-20T15:12:40.894Z"
   },
   {
    "duration": 1938,
    "start_time": "2023-03-20T15:12:40.906Z"
   },
   {
    "duration": 20,
    "start_time": "2023-03-20T15:12:42.846Z"
   },
   {
    "duration": 22,
    "start_time": "2023-03-20T15:12:42.868Z"
   },
   {
    "duration": 32,
    "start_time": "2023-03-20T15:12:42.891Z"
   },
   {
    "duration": 185,
    "start_time": "2023-03-20T15:12:42.925Z"
   },
   {
    "duration": 170,
    "start_time": "2023-03-20T15:12:43.112Z"
   },
   {
    "duration": 3,
    "start_time": "2023-03-20T15:12:43.284Z"
   },
   {
    "duration": 41301,
    "start_time": "2023-03-20T15:12:43.289Z"
   },
   {
    "duration": 3,
    "start_time": "2023-03-20T15:13:24.592Z"
   },
   {
    "duration": 425228,
    "start_time": "2023-03-20T15:13:24.597Z"
   },
   {
    "duration": 5,
    "start_time": "2023-03-20T15:20:29.827Z"
   },
   {
    "duration": 72217,
    "start_time": "2023-03-20T15:20:29.833Z"
   },
   {
    "duration": 6,
    "start_time": "2023-03-20T15:21:42.052Z"
   },
   {
    "duration": 7,
    "start_time": "2023-03-20T15:21:42.060Z"
   },
   {
    "duration": 7,
    "start_time": "2023-03-20T15:21:42.068Z"
   },
   {
    "duration": 24,
    "start_time": "2023-03-20T15:21:42.077Z"
   },
   {
    "duration": 8,
    "start_time": "2023-03-20T15:21:42.102Z"
   },
   {
    "duration": 7,
    "start_time": "2023-03-20T15:21:42.112Z"
   },
   {
    "duration": 5,
    "start_time": "2023-03-20T15:21:42.121Z"
   },
   {
    "duration": 601,
    "start_time": "2023-03-20T15:21:42.128Z"
   },
   {
    "duration": 4,
    "start_time": "2023-03-20T15:21:42.731Z"
   },
   {
    "duration": 24,
    "start_time": "2023-03-20T15:21:42.736Z"
   },
   {
    "duration": 14,
    "start_time": "2023-03-20T15:21:42.762Z"
   },
   {
    "duration": 45,
    "start_time": "2023-03-20T15:21:42.777Z"
   },
   {
    "duration": 8,
    "start_time": "2023-03-20T15:21:42.824Z"
   },
   {
    "duration": 6,
    "start_time": "2023-03-20T15:21:42.834Z"
   },
   {
    "duration": 91,
    "start_time": "2023-03-20T15:21:42.847Z"
   },
   {
    "duration": 3,
    "start_time": "2024-02-11T15:55:40.032Z"
   },
   {
    "duration": 1627,
    "start_time": "2024-02-11T15:55:40.036Z"
   },
   {
    "duration": 3,
    "start_time": "2024-02-11T15:55:41.665Z"
   },
   {
    "duration": 4,
    "start_time": "2024-02-11T15:55:41.670Z"
   },
   {
    "duration": 9,
    "start_time": "2024-02-11T15:55:41.675Z"
   },
   {
    "duration": 8,
    "start_time": "2024-02-11T15:55:41.685Z"
   },
   {
    "duration": 6,
    "start_time": "2024-02-11T15:55:41.717Z"
   },
   {
    "duration": 1078,
    "start_time": "2024-02-11T15:55:41.725Z"
   },
   {
    "duration": 20241,
    "start_time": "2024-02-11T15:55:42.805Z"
   },
   {
    "duration": 404,
    "start_time": "2024-02-11T15:56:03.048Z"
   },
   {
    "duration": 608,
    "start_time": "2024-02-11T15:56:03.454Z"
   },
   {
    "duration": 802,
    "start_time": "2024-02-11T15:56:04.063Z"
   },
   {
    "duration": 12,
    "start_time": "2024-02-11T15:56:04.918Z"
   },
   {
    "duration": 111,
    "start_time": "2024-02-11T15:56:04.931Z"
   },
   {
    "duration": 12,
    "start_time": "2024-02-11T15:56:05.043Z"
   },
   {
    "duration": 103,
    "start_time": "2024-02-11T15:56:05.056Z"
   },
   {
    "duration": 72,
    "start_time": "2024-02-11T15:56:05.161Z"
   },
   {
    "duration": 15,
    "start_time": "2024-02-11T15:56:05.235Z"
   },
   {
    "duration": 7,
    "start_time": "2024-02-11T15:56:05.251Z"
   },
   {
    "duration": 32,
    "start_time": "2024-02-11T15:56:05.260Z"
   },
   {
    "duration": 25,
    "start_time": "2024-02-11T15:56:05.294Z"
   },
   {
    "duration": 4,
    "start_time": "2024-02-11T15:56:05.321Z"
   },
   {
    "duration": 199711,
    "start_time": "2024-02-11T15:56:05.326Z"
   },
   {
    "duration": 14,
    "start_time": "2024-02-11T15:59:25.040Z"
   },
   {
    "duration": 4,
    "start_time": "2024-02-11T15:59:25.055Z"
   },
   {
    "duration": 23977,
    "start_time": "2024-02-11T15:59:25.060Z"
   },
   {
    "duration": 14,
    "start_time": "2024-02-11T15:59:49.038Z"
   },
   {
    "duration": 13,
    "start_time": "2024-02-11T15:59:49.053Z"
   },
   {
    "duration": 76,
    "start_time": "2024-02-11T15:59:49.068Z"
   },
   {
    "duration": 26,
    "start_time": "2024-02-11T15:59:49.146Z"
   },
   {
    "duration": 57,
    "start_time": "2024-02-11T15:59:49.173Z"
   },
   {
    "duration": 20,
    "start_time": "2024-02-11T15:59:49.231Z"
   },
   {
    "duration": 24,
    "start_time": "2024-02-11T15:59:49.253Z"
   },
   {
    "duration": 15340,
    "start_time": "2024-02-11T15:59:49.278Z"
   },
   {
    "duration": 21,
    "start_time": "2024-02-11T16:00:04.619Z"
   },
   {
    "duration": 41,
    "start_time": "2024-02-11T16:00:04.642Z"
   },
   {
    "duration": 15562,
    "start_time": "2024-02-11T16:00:04.685Z"
   },
   {
    "duration": 20,
    "start_time": "2024-02-11T16:00:20.248Z"
   },
   {
    "duration": 18,
    "start_time": "2024-02-11T16:00:20.270Z"
   },
   {
    "duration": 40,
    "start_time": "2024-02-11T16:00:20.290Z"
   },
   {
    "duration": 26,
    "start_time": "2024-02-11T16:00:20.332Z"
   },
   {
    "duration": 14913,
    "start_time": "2024-02-11T16:00:20.359Z"
   },
   {
    "duration": 20,
    "start_time": "2024-02-11T16:00:35.274Z"
   },
   {
    "duration": 7,
    "start_time": "2024-02-11T16:00:35.295Z"
   },
   {
    "duration": 111,
    "start_time": "2024-02-11T16:00:35.318Z"
   },
   {
    "duration": 7,
    "start_time": "2024-02-11T16:00:35.431Z"
   },
   {
    "duration": 24,
    "start_time": "2024-02-11T16:00:35.440Z"
   },
   {
    "duration": 16,
    "start_time": "2024-02-11T16:00:35.466Z"
   },
   {
    "duration": 37,
    "start_time": "2024-02-11T16:00:35.484Z"
   },
   {
    "duration": 17,
    "start_time": "2024-02-11T16:00:35.523Z"
   },
   {
    "duration": 19,
    "start_time": "2024-02-11T16:00:35.542Z"
   },
   {
    "duration": 9,
    "start_time": "2024-02-11T16:00:35.563Z"
   },
   {
    "duration": 9,
    "start_time": "2024-02-11T16:00:35.574Z"
   },
   {
    "duration": 19341,
    "start_time": "2024-02-11T16:00:35.585Z"
   },
   {
    "duration": 9968,
    "start_time": "2024-02-11T16:00:54.927Z"
   },
   {
    "duration": 22,
    "start_time": "2024-02-11T16:01:04.896Z"
   },
   {
    "duration": 27,
    "start_time": "2024-02-11T16:01:04.919Z"
   },
   {
    "duration": 4,
    "start_time": "2024-02-11T16:01:04.948Z"
   },
   {
    "duration": 7,
    "start_time": "2024-02-11T16:01:04.954Z"
   },
   {
    "duration": 14,
    "start_time": "2024-02-11T16:01:04.962Z"
   },
   {
    "duration": 78,
    "start_time": "2024-02-11T16:01:04.978Z"
   },
   {
    "duration": 5,
    "start_time": "2024-02-11T16:01:05.057Z"
   },
   {
    "duration": 29,
    "start_time": "2024-02-11T16:01:05.064Z"
   },
   {
    "duration": 8,
    "start_time": "2024-02-11T16:01:05.095Z"
   },
   {
    "duration": 16,
    "start_time": "2024-02-11T16:01:05.104Z"
   },
   {
    "duration": 4,
    "start_time": "2024-02-11T16:01:05.121Z"
   },
   {
    "duration": 136,
    "start_time": "2024-02-11T16:01:05.126Z"
   },
   {
    "duration": 11,
    "start_time": "2024-02-11T16:01:05.264Z"
   },
   {
    "duration": 45,
    "start_time": "2024-02-11T16:01:05.280Z"
   },
   {
    "duration": 171,
    "start_time": "2024-02-11T16:01:05.326Z"
   },
   {
    "duration": 10,
    "start_time": "2024-02-11T16:01:05.498Z"
   },
   {
    "duration": 16,
    "start_time": "2024-02-11T16:01:05.510Z"
   },
   {
    "duration": 39,
    "start_time": "2024-02-11T16:01:05.528Z"
   },
   {
    "duration": 9375,
    "start_time": "2024-02-11T16:01:05.569Z"
   },
   {
    "duration": 42,
    "start_time": "2024-02-11T16:01:14.946Z"
   },
   {
    "duration": 2,
    "start_time": "2024-02-11T16:01:14.990Z"
   },
   {
    "duration": 1389,
    "start_time": "2024-02-11T16:01:14.994Z"
   },
   {
    "duration": 322,
    "start_time": "2024-02-11T16:01:16.384Z"
   },
   {
    "duration": 15,
    "start_time": "2024-02-11T16:01:16.707Z"
   },
   {
    "duration": 21,
    "start_time": "2024-02-11T16:01:16.724Z"
   },
   {
    "duration": 1768,
    "start_time": "2024-02-11T16:01:16.746Z"
   },
   {
    "duration": 24,
    "start_time": "2024-02-11T16:01:18.517Z"
   },
   {
    "duration": 18,
    "start_time": "2024-02-11T16:01:18.543Z"
   },
   {
    "duration": 12,
    "start_time": "2024-02-11T16:01:18.563Z"
   },
   {
    "duration": 165,
    "start_time": "2024-02-11T16:01:18.577Z"
   },
   {
    "duration": 143,
    "start_time": "2024-02-11T16:01:18.744Z"
   },
   {
    "duration": 4,
    "start_time": "2024-02-11T16:01:18.889Z"
   },
   {
    "duration": 42028,
    "start_time": "2024-02-11T16:01:18.894Z"
   },
   {
    "duration": 4,
    "start_time": "2024-02-11T16:02:00.923Z"
   },
   {
    "duration": 143791,
    "start_time": "2024-02-11T16:02:00.928Z"
   },
   {
    "duration": 5,
    "start_time": "2024-02-11T16:04:24.720Z"
   },
   {
    "duration": 69808,
    "start_time": "2024-02-11T16:04:24.727Z"
   },
   {
    "duration": 4,
    "start_time": "2024-02-11T16:05:34.537Z"
   },
   {
    "duration": 15,
    "start_time": "2024-02-11T16:05:34.542Z"
   },
   {
    "duration": 3,
    "start_time": "2024-02-11T16:05:34.559Z"
   },
   {
    "duration": 4,
    "start_time": "2024-02-11T16:05:34.564Z"
   },
   {
    "duration": 7,
    "start_time": "2024-02-11T16:05:34.570Z"
   },
   {
    "duration": 5,
    "start_time": "2024-02-11T16:05:34.578Z"
   },
   {
    "duration": 11,
    "start_time": "2024-02-11T16:05:34.585Z"
   },
   {
    "duration": 421,
    "start_time": "2024-02-11T16:05:34.597Z"
   },
   {
    "duration": 3,
    "start_time": "2024-02-11T16:05:35.020Z"
   },
   {
    "duration": 21,
    "start_time": "2024-02-11T16:05:35.024Z"
   },
   {
    "duration": 40,
    "start_time": "2024-02-11T16:05:35.047Z"
   },
   {
    "duration": 6,
    "start_time": "2024-02-11T16:05:35.088Z"
   },
   {
    "duration": 13,
    "start_time": "2024-02-11T16:05:35.095Z"
   },
   {
    "duration": 7,
    "start_time": "2024-02-11T16:05:35.109Z"
   },
   {
    "duration": 1750,
    "start_time": "2024-02-16T08:25:24.741Z"
   },
   {
    "duration": 3,
    "start_time": "2024-02-16T08:25:30.525Z"
   },
   {
    "duration": 6,
    "start_time": "2024-02-16T08:25:31.805Z"
   },
   {
    "duration": 9,
    "start_time": "2024-02-16T08:25:33.086Z"
   },
   {
    "duration": 8,
    "start_time": "2024-02-16T08:25:35.151Z"
   },
   {
    "duration": 7,
    "start_time": "2024-02-16T08:25:37.179Z"
   },
   {
    "duration": 1212,
    "start_time": "2024-02-16T08:25:39.284Z"
   },
   {
    "duration": 20558,
    "start_time": "2024-02-16T08:25:43.236Z"
   },
   {
    "duration": 419,
    "start_time": "2024-02-16T08:26:03.796Z"
   },
   {
    "duration": 450,
    "start_time": "2024-02-16T08:26:18.545Z"
   },
   {
    "duration": 385,
    "start_time": "2024-02-16T08:26:19.503Z"
   },
   {
    "duration": 432,
    "start_time": "2024-02-16T08:45:32.708Z"
   },
   {
    "duration": 414,
    "start_time": "2024-02-16T09:21:53.496Z"
   },
   {
    "duration": 430,
    "start_time": "2024-02-16T09:22:11.415Z"
   },
   {
    "duration": 13,
    "start_time": "2024-02-16T09:26:38.992Z"
   },
   {
    "duration": 88,
    "start_time": "2024-02-16T09:26:40.017Z"
   },
   {
    "duration": 14,
    "start_time": "2024-02-16T09:26:40.262Z"
   },
   {
    "duration": 82,
    "start_time": "2024-02-16T09:26:40.475Z"
   },
   {
    "duration": 65,
    "start_time": "2024-02-16T09:26:40.712Z"
   },
   {
    "duration": 17,
    "start_time": "2024-02-16T09:26:41.406Z"
   },
   {
    "duration": 8,
    "start_time": "2024-02-16T09:26:41.845Z"
   },
   {
    "duration": 37,
    "start_time": "2024-02-16T09:26:42.317Z"
   },
   {
    "duration": 6,
    "start_time": "2024-02-16T09:26:43.720Z"
   },
   {
    "duration": 4,
    "start_time": "2024-02-16T09:26:44.556Z"
   },
   {
    "duration": 200005,
    "start_time": "2024-02-16T09:26:44.966Z"
   },
   {
    "duration": 15,
    "start_time": "2024-02-16T09:30:04.972Z"
   },
   {
    "duration": 22,
    "start_time": "2024-02-16T09:30:04.988Z"
   },
   {
    "duration": 27269,
    "start_time": "2024-02-16T09:30:05.012Z"
   },
   {
    "duration": 15,
    "start_time": "2024-02-16T09:30:32.283Z"
   },
   {
    "duration": 32,
    "start_time": "2024-02-16T09:30:32.299Z"
   },
   {
    "duration": 84,
    "start_time": "2024-02-16T09:30:32.332Z"
   },
   {
    "duration": 38,
    "start_time": "2024-02-16T09:30:32.417Z"
   },
   {
    "duration": 73,
    "start_time": "2024-02-16T09:30:32.457Z"
   },
   {
    "duration": 21,
    "start_time": "2024-02-16T09:30:32.532Z"
   },
   {
    "duration": 27,
    "start_time": "2024-02-16T09:30:32.564Z"
   },
   {
    "duration": 15117,
    "start_time": "2024-02-16T09:30:32.593Z"
   },
   {
    "duration": 20,
    "start_time": "2024-02-16T09:30:47.711Z"
   },
   {
    "duration": 38,
    "start_time": "2024-02-16T09:30:47.733Z"
   },
   {
    "duration": 15158,
    "start_time": "2024-02-16T09:30:47.772Z"
   },
   {
    "duration": 22,
    "start_time": "2024-02-16T09:31:02.931Z"
   },
   {
    "duration": 30,
    "start_time": "2024-02-16T09:31:02.955Z"
   },
   {
    "duration": 27,
    "start_time": "2024-02-16T09:31:02.987Z"
   },
   {
    "duration": 51,
    "start_time": "2024-02-16T09:31:03.015Z"
   },
   {
    "duration": 15320,
    "start_time": "2024-02-16T09:31:03.068Z"
   },
   {
    "duration": 21,
    "start_time": "2024-02-16T09:31:18.390Z"
   },
   {
    "duration": 8,
    "start_time": "2024-02-16T09:31:18.413Z"
   },
   {
    "duration": 139,
    "start_time": "2024-02-16T09:31:18.423Z"
   },
   {
    "duration": 8,
    "start_time": "2024-02-16T09:31:18.566Z"
   },
   {
    "duration": 16,
    "start_time": "2024-02-16T09:31:18.576Z"
   },
   {
    "duration": 8,
    "start_time": "2024-02-16T09:31:18.594Z"
   },
   {
    "duration": 32,
    "start_time": "2024-02-16T09:31:18.604Z"
   },
   {
    "duration": 32,
    "start_time": "2024-02-16T09:31:18.639Z"
   },
   {
    "duration": 18,
    "start_time": "2024-02-16T09:31:18.673Z"
   },
   {
    "duration": 10,
    "start_time": "2024-02-16T09:31:18.693Z"
   },
   {
    "duration": 7,
    "start_time": "2024-02-16T09:31:18.705Z"
   },
   {
    "duration": 19639,
    "start_time": "2024-02-16T09:31:18.713Z"
   },
   {
    "duration": 9525,
    "start_time": "2024-02-16T09:31:38.354Z"
   },
   {
    "duration": 21,
    "start_time": "2024-02-16T09:31:47.880Z"
   },
   {
    "duration": 46,
    "start_time": "2024-02-16T09:31:47.902Z"
   },
   {
    "duration": 8,
    "start_time": "2024-02-16T09:31:47.949Z"
   },
   {
    "duration": 126,
    "start_time": "2024-02-16T09:34:25.668Z"
   },
   {
    "duration": 5,
    "start_time": "2024-02-16T09:42:21.919Z"
   },
   {
    "duration": 5,
    "start_time": "2024-02-16T09:42:29.983Z"
   },
   {
    "duration": 67,
    "start_time": "2024-02-16T09:58:12.894Z"
   },
   {
    "duration": 114,
    "start_time": "2024-02-16T09:58:54.536Z"
   },
   {
    "duration": 28,
    "start_time": "2024-02-16T09:59:40.801Z"
   },
   {
    "duration": 15,
    "start_time": "2024-02-16T09:59:46.000Z"
   },
   {
    "duration": 77,
    "start_time": "2024-02-16T10:22:30.473Z"
   },
   {
    "duration": 116,
    "start_time": "2024-02-16T11:06:03.762Z"
   },
   {
    "duration": 10,
    "start_time": "2024-02-16T11:06:33.671Z"
   },
   {
    "duration": 16,
    "start_time": "2024-02-16T11:07:47.031Z"
   },
   {
    "duration": 70,
    "start_time": "2024-02-16T11:09:41.110Z"
   },
   {
    "duration": 22,
    "start_time": "2024-02-16T11:09:50.959Z"
   },
   {
    "duration": 1676,
    "start_time": "2024-02-18T13:03:42.984Z"
   },
   {
    "duration": 3,
    "start_time": "2024-02-18T13:03:47.919Z"
   },
   {
    "duration": 4,
    "start_time": "2024-02-18T13:03:48.395Z"
   },
   {
    "duration": 10,
    "start_time": "2024-02-18T13:03:48.700Z"
   },
   {
    "duration": 8,
    "start_time": "2024-02-18T13:03:49.467Z"
   },
   {
    "duration": 9,
    "start_time": "2024-02-18T13:03:49.599Z"
   },
   {
    "duration": 1102,
    "start_time": "2024-02-18T13:03:49.763Z"
   },
   {
    "duration": 20446,
    "start_time": "2024-02-18T13:03:50.867Z"
   },
   {
    "duration": 437,
    "start_time": "2024-02-18T13:04:11.318Z"
   },
   {
    "duration": 489,
    "start_time": "2024-02-18T13:04:11.758Z"
   },
   {
    "duration": 403,
    "start_time": "2024-02-18T13:04:12.248Z"
   },
   {
    "duration": 11,
    "start_time": "2024-02-18T13:04:12.653Z"
   },
   {
    "duration": 79,
    "start_time": "2024-02-18T13:04:12.666Z"
   },
   {
    "duration": 13,
    "start_time": "2024-02-18T13:04:12.746Z"
   },
   {
    "duration": 93,
    "start_time": "2024-02-18T13:04:12.760Z"
   },
   {
    "duration": 75,
    "start_time": "2024-02-18T13:04:12.856Z"
   },
   {
    "duration": 15,
    "start_time": "2024-02-18T13:04:12.933Z"
   },
   {
    "duration": 11,
    "start_time": "2024-02-18T13:04:12.949Z"
   },
   {
    "duration": 38,
    "start_time": "2024-02-18T13:04:12.962Z"
   },
   {
    "duration": 6,
    "start_time": "2024-02-18T13:04:13.017Z"
   },
   {
    "duration": 3,
    "start_time": "2024-02-18T13:04:13.025Z"
   },
   {
    "duration": 194607,
    "start_time": "2024-02-18T13:04:13.030Z"
   },
   {
    "duration": 13,
    "start_time": "2024-02-18T13:07:27.639Z"
   },
   {
    "duration": 4,
    "start_time": "2024-02-18T13:07:27.654Z"
   },
   {
    "duration": 23993,
    "start_time": "2024-02-18T13:07:27.660Z"
   },
   {
    "duration": 17,
    "start_time": "2024-02-18T13:07:51.654Z"
   },
   {
    "duration": 17,
    "start_time": "2024-02-18T13:07:51.673Z"
   },
   {
    "duration": 94,
    "start_time": "2024-02-18T13:07:51.691Z"
   },
   {
    "duration": 35,
    "start_time": "2024-02-18T13:07:51.787Z"
   },
   {
    "duration": 50,
    "start_time": "2024-02-18T13:07:51.824Z"
   },
   {
    "duration": 21,
    "start_time": "2024-02-18T13:07:51.876Z"
   },
   {
    "duration": 40,
    "start_time": "2024-02-18T13:07:51.899Z"
   },
   {
    "duration": 14265,
    "start_time": "2024-02-18T13:07:51.941Z"
   },
   {
    "duration": 23,
    "start_time": "2024-02-18T13:08:06.219Z"
   },
   {
    "duration": 25,
    "start_time": "2024-02-18T13:08:06.244Z"
   },
   {
    "duration": 14578,
    "start_time": "2024-02-18T13:08:06.270Z"
   },
   {
    "duration": 19,
    "start_time": "2024-02-18T13:08:20.850Z"
   },
   {
    "duration": 20,
    "start_time": "2024-02-18T13:08:20.870Z"
   },
   {
    "duration": 45,
    "start_time": "2024-02-18T13:08:20.891Z"
   },
   {
    "duration": 24,
    "start_time": "2024-02-18T13:08:20.937Z"
   },
   {
    "duration": 14515,
    "start_time": "2024-02-18T13:08:20.962Z"
   },
   {
    "duration": 20,
    "start_time": "2024-02-18T13:08:35.478Z"
   },
   {
    "duration": 19,
    "start_time": "2024-02-18T13:08:35.499Z"
   },
   {
    "duration": 114,
    "start_time": "2024-02-18T13:08:35.520Z"
   },
   {
    "duration": 8,
    "start_time": "2024-02-18T13:08:35.636Z"
   },
   {
    "duration": 9,
    "start_time": "2024-02-18T13:08:35.645Z"
   },
   {
    "duration": 3,
    "start_time": "2024-02-18T13:08:35.655Z"
   },
   {
    "duration": 25,
    "start_time": "2024-02-18T13:08:35.660Z"
   },
   {
    "duration": 45,
    "start_time": "2024-02-18T13:08:35.687Z"
   },
   {
    "duration": 19,
    "start_time": "2024-02-18T13:08:35.734Z"
   },
   {
    "duration": 7,
    "start_time": "2024-02-18T13:08:35.755Z"
   },
   {
    "duration": 3,
    "start_time": "2024-02-18T13:08:35.764Z"
   },
   {
    "duration": 18831,
    "start_time": "2024-02-18T13:08:35.768Z"
   },
   {
    "duration": 9022,
    "start_time": "2024-02-18T13:08:54.601Z"
   },
   {
    "duration": 15,
    "start_time": "2024-02-18T13:09:03.625Z"
   },
   {
    "duration": 36,
    "start_time": "2024-02-18T13:09:03.642Z"
   },
   {
    "duration": 5,
    "start_time": "2024-02-18T13:09:03.680Z"
   },
   {
    "duration": 38,
    "start_time": "2024-02-18T13:09:03.687Z"
   },
   {
    "duration": 14,
    "start_time": "2024-02-18T13:09:03.727Z"
   },
   {
    "duration": 54,
    "start_time": "2024-02-18T13:09:03.743Z"
   },
   {
    "duration": 31,
    "start_time": "2024-02-18T13:09:03.798Z"
   },
   {
    "duration": 4,
    "start_time": "2024-02-18T13:09:03.830Z"
   },
   {
    "duration": 13,
    "start_time": "2024-02-18T13:09:03.836Z"
   },
   {
    "duration": 193,
    "start_time": "2024-02-18T13:09:03.850Z"
   },
   {
    "duration": 36,
    "start_time": "2024-02-18T13:24:48.131Z"
   },
   {
    "duration": 14,
    "start_time": "2024-02-18T13:24:49.587Z"
   }
  ],
  "kernelspec": {
   "display_name": "Python 3 (ipykernel)",
   "language": "python",
   "name": "python3"
  },
  "language_info": {
   "codemirror_mode": {
    "name": "ipython",
    "version": 3
   },
   "file_extension": ".py",
   "mimetype": "text/x-python",
   "name": "python",
   "nbconvert_exporter": "python",
   "pygments_lexer": "ipython3",
   "version": "3.9.5"
  },
  "toc": {
   "base_numbering": 1,
   "nav_menu": {},
   "number_sections": true,
   "sideBar": true,
   "skip_h1_title": true,
   "title_cell": "Table of Contents",
   "title_sidebar": "Contents",
   "toc_cell": false,
   "toc_position": {
    "height": "calc(100% - 180px)",
    "left": "10px",
    "top": "150px",
    "width": "165px"
   },
   "toc_section_display": true,
   "toc_window_display": true
  }
 },
 "nbformat": 4,
 "nbformat_minor": 4
}
