{
 "cells": [
  {
   "cell_type": "markdown",
   "metadata": {},
   "source": [
    "# Выбор локации для скважины"
   ]
  },
  {
   "cell_type": "markdown",
   "metadata": {},
   "source": [
    "Допустим, вы работаете в добывающей компании «ГлавРосГосНефть». Нужно решить, где бурить новую скважину.\n",
    "\n",
    "Вам предоставлены пробы нефти в трёх регионах: в каждом 10 000 месторождений, где измерили качество нефти и объём её запасов. Постройте модель машинного обучения, которая поможет определить регион, где добыча принесёт наибольшую прибыль. Проанализируйте возможную прибыль и риски техникой *Bootstrap.*\n",
    "\n",
    "Шаги для выбора локации:\n",
    "\n",
    "- В избранном регионе ищут месторождения, для каждого определяют значения признаков;\n",
    "- Строят модель и оценивают объём запасов;\n",
    "- Выбирают месторождения с самым высокими оценками значений. Количество месторождений зависит от бюджета компании и стоимости разработки одной скважины;\n",
    "- Прибыль равна суммарной прибыли отобранных месторождений."
   ]
  },
  {
   "cell_type": "markdown",
   "metadata": {},
   "source": [
    "<a id=\"Этап_1\"></a>\n",
    "<a id=\"1.1\"></a>\n",
    "\n",
    "### Этап 1: Загрузим и изучим данные \n",
    "#### Подключение библиотек\n",
    "\n",
    "[Вернуться к задачам исследования](#Задачи_исследования)"
   ]
  },
  {
   "cell_type": "code",
   "execution_count": 1,
   "metadata": {},
   "outputs": [
    {
     "name": "stdout",
     "output_type": "stream",
     "text": [
      "Requirement already satisfied: seaborn in /Library/Frameworks/Python.framework/Versions/3.11/lib/python3.11/site-packages (0.12.2)\n",
      "Requirement already satisfied: numpy!=1.24.0,>=1.17 in /Library/Frameworks/Python.framework/Versions/3.11/lib/python3.11/site-packages (from seaborn) (1.23.5)\n",
      "Requirement already satisfied: pandas>=0.25 in /Library/Frameworks/Python.framework/Versions/3.11/lib/python3.11/site-packages (from seaborn) (1.5.3)\n",
      "Requirement already satisfied: matplotlib!=3.6.1,>=3.1 in /Library/Frameworks/Python.framework/Versions/3.11/lib/python3.11/site-packages (from seaborn) (3.7.1)\n",
      "Requirement already satisfied: contourpy>=1.0.1 in /Library/Frameworks/Python.framework/Versions/3.11/lib/python3.11/site-packages (from matplotlib!=3.6.1,>=3.1->seaborn) (1.0.7)\n",
      "Requirement already satisfied: cycler>=0.10 in /Library/Frameworks/Python.framework/Versions/3.11/lib/python3.11/site-packages (from matplotlib!=3.6.1,>=3.1->seaborn) (0.11.0)\n",
      "Requirement already satisfied: fonttools>=4.22.0 in /Library/Frameworks/Python.framework/Versions/3.11/lib/python3.11/site-packages (from matplotlib!=3.6.1,>=3.1->seaborn) (4.39.3)\n",
      "Requirement already satisfied: kiwisolver>=1.0.1 in /Library/Frameworks/Python.framework/Versions/3.11/lib/python3.11/site-packages (from matplotlib!=3.6.1,>=3.1->seaborn) (1.4.4)\n",
      "Requirement already satisfied: packaging>=20.0 in /Users/Edward/Library/Python/3.11/lib/python/site-packages (from matplotlib!=3.6.1,>=3.1->seaborn) (23.1)\n",
      "Requirement already satisfied: pillow>=6.2.0 in /Library/Frameworks/Python.framework/Versions/3.11/lib/python3.11/site-packages (from matplotlib!=3.6.1,>=3.1->seaborn) (9.5.0)\n",
      "Requirement already satisfied: pyparsing>=2.3.1 in /Library/Frameworks/Python.framework/Versions/3.11/lib/python3.11/site-packages (from matplotlib!=3.6.1,>=3.1->seaborn) (3.0.9)\n",
      "Requirement already satisfied: python-dateutil>=2.7 in /Library/Frameworks/Python.framework/Versions/3.11/lib/python3.11/site-packages (from matplotlib!=3.6.1,>=3.1->seaborn) (2.8.2)\n",
      "Requirement already satisfied: pytz>=2020.1 in /Library/Frameworks/Python.framework/Versions/3.11/lib/python3.11/site-packages (from pandas>=0.25->seaborn) (2023.3)\n",
      "Requirement already satisfied: six>=1.5 in /Library/Frameworks/Python.framework/Versions/3.11/lib/python3.11/site-packages (from python-dateutil>=2.7->matplotlib!=3.6.1,>=3.1->seaborn) (1.16.0)\n",
      "Note: you may need to restart the kernel to use updated packages.\n"
     ]
    }
   ],
   "source": [
    "import pandas as pd                                            # Библиотека для работы с данными, предоставляет функции и структуры данных, такие как DataFrame и Series.\n",
    "import numpy as np                                             # Фундаментальная библиотека для научных вычислений с поддержкой многомерных массивов и матриц.\n",
    "import warnings                                                # Модуль для управления предупреждениями.\n",
    "import random                                                  # Импорт модуля для генерации случайных чисел\n",
    "\n",
    "import statsmodels.api as sm                                                # statsmodels.api используется для оценки статистических моделей\n",
    "from statsmodels.stats.outliers_influence import variance_inflation_factor  # variance_inflation_factor из statsmodels используется для определения мультиколлинеарности\n",
    "\n",
    "# Модули для работы с машинным обучением\n",
    "from sklearn.model_selection import train_test_split           # Инструмент библиотеки sklearn для разделения исходных данных на обучающую, валидационную и тестовую выборку.\n",
    "\n",
    "# Модели машинного обучения\n",
    "from sklearn.linear_model    import LogisticRegression         # Модель логистической регрессии.\n",
    "from sklearn.tree            import DecisionTreeClassifier     # Модель дерева решений.\n",
    "from sklearn.ensemble        import RandomForestClassifier     # Модель случайного леса.\n",
    "from sklearn.ensemble        import GradientBoostingClassifier # Модель градиентного бустинга.\n",
    "from sklearn.dummy           import DummyClassifier            # Базовые модели для проверки на вменяемость.\n",
    "\n",
    "# Инструменты для оценки моделей и метрики\n",
    "from sklearn.model_selection import learning_curve             # Инструмент для построения кривых обучения.\n",
    "from sklearn.model_selection import GridSearchCV               # Инструмент для выполнения поиска по сетке параметров модели.\n",
    "from sklearn.metrics         import accuracy_score             # Метрика - точность классификации.\n",
    "from sklearn.metrics         import confusion_matrix           # Метрика - матрица неточностей.\n",
    "from sklearn.metrics         import roc_curve, roc_auc_score   # Метрики - ROC-кривая и ROC AUC Score.\n",
    "from sklearn.metrics         import f1_score                   # Метрика - F1 Score.\n",
    "from sklearn.preprocessing   import StandardScaler             # Инструмент для маштабирования данны.\n",
    "\n",
    "\n",
    "%pip install seaborn\n",
    "# Визуализация данных\n",
    "import matplotlib.pyplot as plt                                # Библиотека для визуализации данных.\n",
    "import seaborn as sns                                          # Библиотека для красивой визуализации статистических данных.\n",
    "\n",
    "# Настрйоки отображения\n",
    "# Устанавливаем формат отображения чисел с двумя знаками после запятой \n",
    "pd.options.display.float_format = '{:.2f}'.format\n",
    "\n",
    "# Устанавливает фильтр предупреждений\n",
    "warnings.filterwarnings(\"ignore\")\n",
    "\n",
    "random_state = random.seed(42)"
   ]
  },
  {
   "cell_type": "code",
   "execution_count": 2,
   "metadata": {},
   "outputs": [],
   "source": [
    "try:\n",
    "    df_geo_0 = pd.read_csv('/Users/Edward/Code/DS+/csv/geo_data_0.csv', sep = ',')\n",
    "    df_geo_1 = pd.read_csv('/Users/Edward/Code/DS+/csv/geo_data_1.csv', sep = ',')\n",
    "    df_geo_2 = pd.read_csv('/Users/Edward/Code/DS+/csv/geo_data_2.csv', sep = ',')\n",
    "except:\n",
    "    df_geo_0 = pd.read_csv('/datasets/geo_data_0.csv', sep = ',')\n",
    "    df_geo_1 = pd.read_csv('/datasets/geo_data_1.csv', sep = ',')\n",
    "    df_geo_2 = pd.read_csv('/datasets/geo_data_2.csv', sep = ',')"
   ]
  },
  {
   "cell_type": "code",
   "execution_count": 3,
   "metadata": {},
   "outputs": [
    {
     "name": "stdout",
     "output_type": "stream",
     "text": [
      "<class 'pandas.core.frame.DataFrame'>\n",
      "RangeIndex: 100000 entries, 0 to 99999\n",
      "Data columns (total 5 columns):\n",
      " #   Column   Non-Null Count   Dtype  \n",
      "---  ------   --------------   -----  \n",
      " 0   id       100000 non-null  object \n",
      " 1   f0       100000 non-null  float64\n",
      " 2   f1       100000 non-null  float64\n",
      " 3   f2       100000 non-null  float64\n",
      " 4   product  100000 non-null  float64\n",
      "dtypes: float64(4), object(1)\n",
      "memory usage: 3.8+ MB\n",
      "None\n",
      "-----------------------------------\n",
      "      id    f0    f1   f2  product\n",
      "0  txEyH  0.71 -0.50 1.22   105.28\n",
      "1  2acmU  1.33 -0.34 4.37    73.04\n",
      "2  409Wp  1.02  0.15 1.42    85.27\n",
      "3  iJLyR -0.03  0.14 2.98   168.62\n",
      "4  Xdl7t  1.99  0.16 4.75   154.04\n"
     ]
    }
   ],
   "source": [
    "print(df_geo_0.info())\n",
    "print('-' * 35)\n",
    "print(df_geo_0.head())"
   ]
  },
  {
   "cell_type": "code",
   "execution_count": 4,
   "metadata": {},
   "outputs": [
    {
     "name": "stdout",
     "output_type": "stream",
     "text": [
      "<class 'pandas.core.frame.DataFrame'>\n",
      "RangeIndex: 100000 entries, 0 to 99999\n",
      "Data columns (total 5 columns):\n",
      " #   Column   Non-Null Count   Dtype  \n",
      "---  ------   --------------   -----  \n",
      " 0   id       100000 non-null  object \n",
      " 1   f0       100000 non-null  float64\n",
      " 2   f1       100000 non-null  float64\n",
      " 3   f2       100000 non-null  float64\n",
      " 4   product  100000 non-null  float64\n",
      "dtypes: float64(4), object(1)\n",
      "memory usage: 3.8+ MB\n",
      "None\n",
      "-----------------------------------\n",
      "      id     f0     f1    f2  product\n",
      "0  kBEdx -15.00  -8.28 -0.01     3.18\n",
      "1  62mP7  14.27  -3.48  1.00    26.95\n",
      "2  vyE1P   6.26  -5.95  5.00   134.77\n",
      "3  KcrkZ -13.08 -11.51  5.00   137.95\n",
      "4  AHL4O  12.70  -8.15  5.00   134.77\n"
     ]
    }
   ],
   "source": [
    "print(df_geo_1.info())\n",
    "print('-' * 35)\n",
    "print(df_geo_1.head())"
   ]
  },
  {
   "cell_type": "code",
   "execution_count": 5,
   "metadata": {},
   "outputs": [
    {
     "name": "stdout",
     "output_type": "stream",
     "text": [
      "<class 'pandas.core.frame.DataFrame'>\n",
      "RangeIndex: 100000 entries, 0 to 99999\n",
      "Data columns (total 5 columns):\n",
      " #   Column   Non-Null Count   Dtype  \n",
      "---  ------   --------------   -----  \n",
      " 0   id       100000 non-null  object \n",
      " 1   f0       100000 non-null  float64\n",
      " 2   f1       100000 non-null  float64\n",
      " 3   f2       100000 non-null  float64\n",
      " 4   product  100000 non-null  float64\n",
      "dtypes: float64(4), object(1)\n",
      "memory usage: 3.8+ MB\n",
      "None\n",
      "-----------------------------------\n",
      "      id    f0    f1    f2  product\n",
      "0  fwXo0 -1.15  0.96 -0.83    27.76\n",
      "1  WJtFt  0.26  0.27 -2.53    56.07\n",
      "2  ovLUW  0.19  0.29 -5.59    62.87\n",
      "3  q6cA6  2.24 -0.55  0.93   114.57\n",
      "4  WPMUX -0.52  1.72  5.90   149.60\n"
     ]
    }
   ],
   "source": [
    "print(df_geo_2.info())\n",
    "print('-' * 35)\n",
    "print(df_geo_2.head())"
   ]
  },
  {
   "cell_type": "code",
   "execution_count": 6,
   "metadata": {},
   "outputs": [
    {
     "name": "stdout",
     "output_type": "stream",
     "text": [
      "Колличество дубликатов в df_geo_0: 0\n",
      "Колличество дубликатов в df_geo_1: 0\n",
      "Колличество дубликатов в df_geo_2: 0\n"
     ]
    }
   ],
   "source": [
    "print('Колличество дубликатов в df_geo_0:', df_geo_0.duplicated().sum())\n",
    "print('Колличество дубликатов в df_geo_1:', df_geo_1.duplicated().sum())\n",
    "print('Колличество дубликатов в df_geo_2:', df_geo_2.duplicated().sum())"
   ]
  },
  {
   "cell_type": "code",
   "execution_count": 7,
   "metadata": {},
   "outputs": [
    {
     "name": "stdout",
     "output_type": "stream",
     "text": [
      "Колличество пропущенных значений в df_geo_0:\n",
      "id         0\n",
      "f0         0\n",
      "f1         0\n",
      "f2         0\n",
      "product    0\n",
      "dtype: int64\n",
      "---------------\n",
      "Колличество пропущенных значений в df_geo_1:\n",
      "id         0\n",
      "f0         0\n",
      "f1         0\n",
      "f2         0\n",
      "product    0\n",
      "dtype: int64\n",
      "---------------\n",
      "Колличество пропущенных значений в df_geo_2:\n",
      "id         0\n",
      "f0         0\n",
      "f1         0\n",
      "f2         0\n",
      "product    0\n",
      "dtype: int64\n",
      "---------------\n"
     ]
    }
   ],
   "source": [
    "print('Колличество пропущенных значений в df_geo_0:')\n",
    "print(df_geo_0.isnull().sum())\n",
    "print('-' * 15)\n",
    "print('Колличество пропущенных значений в df_geo_1:')\n",
    "print(df_geo_1.isnull().sum())\n",
    "print('-' * 15)\n",
    "print('Колличество пропущенных значений в df_geo_2:')\n",
    "print(df_geo_2.isnull().sum())\n",
    "print('-' * 15)"
   ]
  },
  {
   "cell_type": "code",
   "execution_count": 8,
   "metadata": {},
   "outputs": [],
   "source": [
    "# Список всех DataFrame, которые нужно объединить\n",
    "dataframes = [df_geo_0, df_geo_1, df_geo_2]\n",
    "\n",
    "# Используем функцию concat для объединения DataFrame\n",
    "df = pd.concat(dataframes, ignore_index=True)"
   ]
  },
  {
   "cell_type": "code",
   "execution_count": 9,
   "metadata": {},
   "outputs": [
    {
     "name": "stdout",
     "output_type": "stream",
     "text": [
      "<class 'pandas.core.frame.DataFrame'>\n",
      "RangeIndex: 300000 entries, 0 to 299999\n",
      "Data columns (total 5 columns):\n",
      " #   Column   Non-Null Count   Dtype  \n",
      "---  ------   --------------   -----  \n",
      " 0   id       300000 non-null  object \n",
      " 1   f0       300000 non-null  float64\n",
      " 2   f1       300000 non-null  float64\n",
      " 3   f2       300000 non-null  float64\n",
      " 4   product  300000 non-null  float64\n",
      "dtypes: float64(4), object(1)\n",
      "memory usage: 11.4+ MB\n"
     ]
    }
   ],
   "source": [
    "df.info()"
   ]
  },
  {
   "cell_type": "markdown",
   "metadata": {},
   "source": [
    "#### Вывод:\n",
    "\n",
    "Анализ показал, что данные находятся в хорошем состоянии и подготовлены для проведения обучения."
   ]
  },
  {
   "cell_type": "markdown",
   "metadata": {},
   "source": [
    "#### Коэффициент Пирсона\n",
    "\n",
    "Коэффициент корреляции Пирсона — это статистическая мера силы и направления линейной связи между двумя переменными. Коэффициент корреляции может принимать значения от -1 до +1. Значение +1 означает совершенную положительную линейную связь, значение -1 означает совершенную отрицательную линейную связь, а 0 означает отсутствие линейной связи.\n",
    "\n",
    "Коэффициент корреляции Пирсона рассчитывается по формуле:\n",
    "\n",
    "- $ r = \\frac{n(\\sum x_i y_i) - (\\sum x_i)(\\sum y_i)}{\\sqrt{[n\\sum x_i^2 - (\\sum x)^2][n\\sum y_i^2 - (\\sum y_i)^2]}} $\n",
    "\n",
    "где:\n",
    "\n",
    "- $x$ и $y$ — значения переменных;\n",
    "\n",
    "- $n$ — количество наблюдений.\n",
    "\n",
    "Числитель:\n",
    "\n",
    "- $ n(\\sum x_i y_i) - (\\sum x_i)(\\sum y_i)$\n",
    "\n",
    "Эта часть формулы представляет \"ковариацию\" между $x_i$ и $y_i$. Ковариация показывает, насколько переменные изменяются вместе. Если $x_i$ возрастает, когда $y_i$ возрастает, то ковариация будет положительной. Если $x_i$ уменьшается, когда $y_i$ возрастает, ковариация будет отрицательной. Если переменные не имеют явной связи, ковариация будет близка к нулю.\n",
    "\n",
    "Знаменатель:\n",
    "\n",
    "- $\\sqrt{[n\\sum x_i^2 - (\\sum x)^2][n\\sum y_i^2 - (\\sum y_i)^2]}$\n",
    "\n",
    "Эта часть формулы представляет собой произведение стандартных отклонений $x_i$ и $y_i$. Стандартное отклонение - это мера разброса значений переменной вокруг ее среднего значения. Знаменатель нормализует ковариацию, делая коэффициент корреляции Пирсона масштабно-инвариантным, т.е. он не зависит от масштаба измерения переменных.\n",
    "\n",
    "Итоговый коэффициент корреляции:\n",
    "\n",
    "Таким образом, коэффициент корреляции Пирсона представляет собой нормализованную ковариацию между двумя переменными. Это дает нам меру силы и направления линейной связи между переменными.\n",
    "\n",
    "В контексте линейной регрессии коэффициент Пирсона может быть использован для оценки степени линейной зависимости между независимыми и зависимой переменными. Это может помочь в определении того, насколько переменные подходят для использования в модели линейной регрессии.\n",
    "\n",
    "#### Линейная регрессия\n",
    "\n",
    "Линейная регрессия — это статистический метод, используемый для моделирования и анализа взаимосвязей между переменными, где одна или несколько независимых переменных используются для прогнозирования значения зависимой переменной.\n",
    "\n",
    "Модель линейной регрессии предполагает линейную зависимость между независимыми и зависимыми переменными, и она строится по следующей формуле:\n",
    "\n",
    "- $ Y=β_0 + β_1 X_1 + β_2 X_2 +…+ β_n X_n + ϵ $\n",
    "\n",
    "где:\n",
    "\n",
    "- $Y$ — зависимая переменная, значение которой мы хотим предсказать;\n",
    "\n",
    "- $X_1, X_2 ,…, X_n$ — независимые переменные, которые используются для предсказания значения Y;\n",
    "\n",
    "- $β_0$ — это константа, которая представляет собой точку пересечения линии регрессии с осью Y, когда все независимые переменные равны нулю;\n",
    "\n",
    "- $β_1, β_2 ,…, β_n$ — это коэффициенты регрессии, которые представляют изменение зависимой переменной $Y$ на единицу, при изменении соответствующей независимой переменной $X$, при условии, что все остальные независимые переменные остаются неизменными;\n",
    "\n",
    "- $ϵ$ — это ошибка, которая представляет разницу между фактическим значением зависимой переменной и значением, предсказанным моделью линейной регрессии.\n",
    "\n",
    "#### Оценка параметров\n",
    "\n",
    "Для оценки параметров $β_0, β_1 ,…, β_n$ обычно используется метод наименьших квадратов (OLS). Этот метод минимизирует сумму квадратов ошибок (SSE), которые представляют собой разницу между фактическими и предсказанными значениями зависимой переменной.\n",
    "\n",
    "- $ [ SSE = \\sum_{i=1}^{n} (Y_i - \\hat{Y}_i)^2] $\n",
    "\n",
    "где:\n",
    "\n",
    "- $Y_i$ — фактическое значение зависимой переменной для $i$-го наблюдения;\n",
    "\n",
    "- $\\hat{Y}_i$— значение зависимой переменной, предсказанное моделью линейной регрессии для $i$-го наблюдения.\n",
    "\n",
    "#### Подбор значений наименьших квадратов\n",
    "\n",
    "Метод наименьших квадратов (OLS) минимизирует сумму квадратов ошибок (SSE), находя значения параметров $β_0, β_1, …, β_n$, которые минимизируют SSE. Для этого, необходимо взять производные SSE по каждому параметру, приравнять их к нулю и решить полученные уравнения. Это приведет к аналитическому решению, описанному ниже.\n",
    "\n",
    "#### Аналитическое решение\n",
    "\n",
    "Линейная регрессия может быть представлена через аналитическое решение. Аналитическое решение можно получить, минимизируя сумму квадратов ошибок (SSE), что приводит к системе линейных уравнений, известной как уравнения нормального состояния. Для простой линейной регрессии с одной независимой переменной аналитическое решение может быть найдено из следующих формул:\n",
    "\n",
    "- $ β_1 = \\frac{n(\\sum xy) - (\\sum x)(\\sum y)}{n\\sum x^2 - (\\sum x)^2} $\n",
    "\n",
    "- $ β_0 = \\frac{\\sum y - β_1\\sum x}{n} $\n",
    "\n",
    "#### Предпосылки линейной регрессии\n",
    "\n",
    "Для того чтобы модель линейной регрессии была действительной, должны выполняться следующие предпосылки:\n",
    "\n",
    "- Линейность: Зависимость между зависимой и независимыми переменными должна быть линейной;\n",
    "\n",
    "- Нормальность ошибок: Ошибки должны быть нормально распределены;\n",
    "\n",
    "- Гомоскедастичность ошибок: Дисперсия ошибок должна быть одинаковой для всех значений независимых переменных;\n",
    "\n",
    "- Независимость ошибок: Ошибки должны быть независимыми друг от друга;\n",
    "\n",
    "- Отсутствие мультиколлинеарности: Независимые переменные не должны быть сильно коррелированными друг с другом.\n",
    "\n",
    "#### Почему не стоит использовать интерполиационный полином Лагранжа\n",
    "\n",
    "Интерполиационный полином Лагранжа используется для нахождения полинома, который проходит через заданный набор точек. Однако, этот метод не подходит для задач линейной регрессии по нескольким причинам:\n",
    "\n",
    "- Переобучение: Интерполиационный полином Лагранжа будет проходить точно через каждую точку данных, что может привести к переобучению модели. Модель будет идеально описывать обучающий набор данных, но может плохо работать на новых данных;\n",
    "\n",
    "- Высокая степень полинома: Интерполиационный полином Лагранжа может иметь высокую степень, что делает его сложным и неустойчивым. Например, если у нас есть 10 точек данных, интерполиационный полином будет 9-й степени;\n",
    "\n",
    "- Вычислительная сложность: Расчет коэффициентов интерполиационного полинома Лагранжа может быть вычислительно сложным для больших наборов данных.\n",
    "\n",
    "Из-за этих причин, интерполиационный полином Лагранжа не рекомендуется для задач линейной регрессии. Вместо этого, лучше использовать метод наименьших квадратов для нахождения параметров линейной регрессии."
   ]
  },
  {
   "cell_type": "code",
   "execution_count": null,
   "metadata": {},
   "outputs": [],
   "source": []
  },
  {
   "cell_type": "markdown",
   "metadata": {},
   "source": [
    "## Чек-лист готовности проекта"
   ]
  },
  {
   "cell_type": "markdown",
   "metadata": {},
   "source": [
    "Поставьте 'x' в выполненных пунктах. Далее нажмите Shift+Enter."
   ]
  },
  {
   "cell_type": "markdown",
   "metadata": {},
   "source": [
    "- [x]  Jupyter Notebook открыт\n",
    "- [ ]  Весь код выполняется без ошибок\n",
    "- [ ]  Ячейки с кодом расположены в порядке исполнения\n",
    "- [ ]  Выполнен шаг 1: данные подготовлены\n",
    "- [ ]  Выполнен шаг 2: модели обучены и проверены\n",
    "    - [ ]  Данные корректно разбиты на обучающую и валидационную выборки\n",
    "    - [ ]  Модели обучены, предсказания сделаны\n",
    "    - [ ]  Предсказания и правильные ответы на валидационной выборке сохранены\n",
    "    - [ ]  На экране напечатаны результаты\n",
    "    - [ ]  Сделаны выводы\n",
    "- [ ]  Выполнен шаг 3: проведена подготовка к расчёту прибыли\n",
    "    - [ ]  Для всех ключевых значений созданы константы Python\n",
    "    - [ ]  Посчитано минимальное среднее количество продукта в месторождениях региона, достаточное для разработки\n",
    "    - [ ]  По предыдущему пункту сделаны выводы\n",
    "    - [ ]  Написана функция расчёта прибыли\n",
    "- [ ]  Выполнен шаг 4: посчитаны риски и прибыль\n",
    "    - [ ]  Проведена процедура *Bootstrap*\n",
    "    - [ ]  Все параметры бутстрепа соответствуют условию\n",
    "    - [ ]  Найдены все нужные величины\n",
    "    - [ ]  Предложен регион для разработки месторождения\n",
    "    - [ ]  Выбор региона обоснован"
   ]
  },
  {
   "cell_type": "code",
   "execution_count": null,
   "metadata": {},
   "outputs": [],
   "source": []
  }
 ],
 "metadata": {
  "ExecuteTimeLog": [
   {
    "duration": 10630,
    "start_time": "2023-08-30T06:18:08.077Z"
   },
   {
    "duration": 2442,
    "start_time": "2023-08-30T06:19:20.837Z"
   },
   {
    "duration": 1576,
    "start_time": "2023-08-30T06:27:41.344Z"
   },
   {
    "duration": 63,
    "start_time": "2023-08-30T06:29:27.188Z"
   },
   {
    "duration": 83,
    "start_time": "2023-08-30T06:29:33.732Z"
   },
   {
    "duration": 18,
    "start_time": "2023-08-30T06:29:44.229Z"
   },
   {
    "duration": 16,
    "start_time": "2023-08-30T06:30:55.428Z"
   },
   {
    "duration": 16,
    "start_time": "2023-08-30T06:31:00.891Z"
   },
   {
    "duration": 15,
    "start_time": "2023-08-30T06:31:09.400Z"
   },
   {
    "duration": 16,
    "start_time": "2023-08-30T06:31:17.868Z"
   },
   {
    "duration": 22,
    "start_time": "2023-08-30T06:34:19.044Z"
   },
   {
    "duration": 21,
    "start_time": "2023-08-30T06:34:47.728Z"
   },
   {
    "duration": 24,
    "start_time": "2023-08-30T06:35:41.967Z"
   },
   {
    "duration": 55,
    "start_time": "2023-08-30T06:35:57.003Z"
   },
   {
    "duration": 84,
    "start_time": "2023-08-30T06:37:19.203Z"
   },
   {
    "duration": 72,
    "start_time": "2023-08-30T06:37:22.827Z"
   },
   {
    "duration": 48,
    "start_time": "2023-08-30T06:37:32.544Z"
   },
   {
    "duration": 132,
    "start_time": "2023-08-30T06:37:59.262Z"
   },
   {
    "duration": 9,
    "start_time": "2023-08-30T06:39:04.634Z"
   },
   {
    "duration": 9,
    "start_time": "2023-08-30T06:40:12.585Z"
   },
   {
    "duration": 14,
    "start_time": "2023-08-30T06:40:40.214Z"
   },
   {
    "duration": 9,
    "start_time": "2023-08-30T06:41:00.384Z"
   },
   {
    "duration": 9,
    "start_time": "2023-08-30T06:41:05.408Z"
   },
   {
    "duration": 10,
    "start_time": "2023-08-30T06:41:20.863Z"
   },
   {
    "duration": 10,
    "start_time": "2023-08-30T06:41:40.969Z"
   },
   {
    "duration": 9,
    "start_time": "2023-08-30T06:42:01.274Z"
   },
   {
    "duration": 9,
    "start_time": "2023-08-30T06:42:07.840Z"
   },
   {
    "duration": 10,
    "start_time": "2023-08-30T06:42:15.696Z"
   },
   {
    "duration": 11,
    "start_time": "2023-08-30T06:42:51.043Z"
   },
   {
    "duration": 22,
    "start_time": "2023-08-30T06:43:34.800Z"
   },
   {
    "duration": 45,
    "start_time": "2023-08-30T06:45:09.002Z"
   },
   {
    "duration": 65,
    "start_time": "2023-08-30T06:46:44.213Z"
   }
  ],
  "kernelspec": {
   "display_name": "Python 3 (ipykernel)",
   "language": "python",
   "name": "python3"
  },
  "language_info": {
   "codemirror_mode": {
    "name": "ipython",
    "version": 3
   },
   "file_extension": ".py",
   "mimetype": "text/x-python",
   "name": "python",
   "nbconvert_exporter": "python",
   "pygments_lexer": "ipython3",
   "version": "3.11.3"
  },
  "toc": {
   "base_numbering": 1,
   "nav_menu": {},
   "number_sections": true,
   "sideBar": true,
   "skip_h1_title": true,
   "title_cell": "Table of Contents",
   "title_sidebar": "Contents",
   "toc_cell": false,
   "toc_position": {},
   "toc_section_display": true,
   "toc_window_display": false
  },
  "widgets": {
   "application/vnd.jupyter.widget-state+json": {
    "state": {},
    "version_major": 2,
    "version_minor": 0
   }
  }
 },
 "nbformat": 4,
 "nbformat_minor": 2
}
