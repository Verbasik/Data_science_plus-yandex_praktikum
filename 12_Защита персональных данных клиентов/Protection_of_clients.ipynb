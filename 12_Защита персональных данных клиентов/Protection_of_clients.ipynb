{
  "cells": [
    {
      "cell_type": "markdown",
      "metadata": {
        "id": "E-e9dd9TiOLm"
      },
      "source": [
        "# Защита персональных данных клиентов\n",
        "---\n",
        "\n",
        "#### Описание проекта\n",
        "\n",
        "Требуется защитить данные клиентов страховой компании «Хоть потоп». Нужно разработать такой метод преобразования данных, чтобы по ним было сложно восстановить персональную информацию. Требуется обосновать корректность работы алгоритма. Важно защитить данные таким образом, чтобы при преобразовании качество моделей машинного обучения не ухудшилось. Подбирать наилучшую модель не требуется.\n",
        "\n",
        "#### Описание данных:\n",
        "\n",
        "- Пол: Бинарный признак, представляющий пол клиента;\n",
        "- Возраст: Возраст клиента;\n",
        "- Зарплата: Годовая зарплата клиента;\n",
        "- Члены семьи: Количество членов семьи;\n",
        "- Страховые выплаты: Количество страховых выплат клиенту за последние 5 лет.\n",
        "\n",
        "#### Задачи исследования:\n",
        "\n",
        "##### Этап 1. Разведочный анализ данных (EDA):\n",
        "\n",
        " - Загрузка данных из файлов;\n",
        "\n",
        " - Первичный осмотр данных.\n",
        "\n",
        "##### Этап 2. Обучение модели на исходных данных;\n",
        "\n",
        "##### Этап 3. Обучение модели на преобразованных данных:\n",
        "\n",
        " - Теоретическое обоснование преобразования (использование данного подхода);\n",
        "\n",
        " - Докозательство;\n",
        "\n",
        " - Генерация обратимой матрицы;\n",
        "\n",
        " - Преобразование данных;\n",
        "\n",
        " - Реализация и Проверка Алгоритма;\n",
        "\n",
        " - Вывод.\n",
        "\n",
        "\n",
        "\n"
      ]
    },
    {
      "cell_type": "code",
      "execution_count": null,
      "metadata": {
        "id": "p9YVMx1297tr",
        "outputId": "dcd4efea-ea83-4248-8603-d987390a9676"
      },
      "outputs": [
        {
          "name": "stderr",
          "output_type": "stream",
          "text": [
            "/opt/conda/lib/python3.9/site-packages/scipy/__init__.py:155: UserWarning: A NumPy version >=1.18.5 and <1.25.0 is required for this version of SciPy (detected version 1.26.2\n",
            "  warnings.warn(f\"A NumPy version >={np_minversion} and <{np_maxversion}\"\n"
          ]
        }
      ],
      "source": [
        "# Стандартные библиотеки\n",
        "import warnings\n",
        "import random\n",
        "\n",
        "# Сторонние библиотеки и фреймворки\n",
        "import pandas as pd\n",
        "import numpy  as np\n",
        "from   numpy.linalg import inv\n",
        "\n",
        "# Инструменты для машинного обучения\n",
        "from sklearn.model_selection import train_test_split\n",
        "from sklearn.linear_model    import LinearRegression\n",
        "from sklearn.metrics         import r2_score\n",
        "\n",
        "# Настройки\n",
        "pd.options.display.float_format = '{:.2f}'.format\n",
        "warnings.filterwarnings(\"ignore\")\n",
        "RANDOM_STATE = random.seed(42)"
      ]
    },
    {
      "cell_type": "code",
      "execution_count": null,
      "metadata": {
        "id": "YhBxb1nnKt_u"
      },
      "outputs": [],
      "source": [
        "def generate_invertible_matrix(size:int):\n",
        "    \"\"\"\n",
        "    Функция для создания случайной обратимой матрицы заданного размера.\n",
        "\n",
        "    Эта функция генерирует матрицу размера 'size x size' с элементами, случайно выбранными\n",
        "    из равномерного распределения от 0 до 1. После генерации проверяется, обратима ли матрица.\n",
        "    Если матрица обратима, она возвращается как результат функции. В противном случае\n",
        "    процесс генерации повторяется до получения обратимой матрицы.\n",
        "\n",
        "    Параметры:\n",
        "    size : int\n",
        "        Размерность генерируемой матрицы (количество строк и столбцов).\n",
        "\n",
        "    Возвращает:\n",
        "    matrix : ndarray\n",
        "        Случайно сгенерированная обратимая матрица размера 'size x size'.\n",
        "\n",
        "    Исключения:\n",
        "    np.linalg.LinAlgError\n",
        "        Исключение возникает, если генерируемая матрица необратима. В таком случае\n",
        "        функция повторно пытается сгенерировать другую матрицу.\n",
        "    \"\"\"\n",
        "    while True:\n",
        "        matrix = np.random.rand(size, size)\n",
        "        try:\n",
        "            inv(matrix)\n",
        "            break\n",
        "        except np.linalg.LinAlgError:\n",
        "            pass\n",
        "    return matrix"
      ]
    },
    {
      "cell_type": "markdown",
      "metadata": {
        "id": "TJqT0XC1seoo"
      },
      "source": [
        "#### Этап 1. Разведочный анализ данных (EDA)"
      ]
    },
    {
      "cell_type": "code",
      "execution_count": null,
      "metadata": {
        "id": "oftHvy4d-_pd"
      },
      "outputs": [],
      "source": [
        "try:\n",
        "    df = pd.read_csv('/content/insurance.csv', sep = ',')\n",
        "except:\n",
        "    df = pd.read_csv('/datasets/insurance.csv', sep = ',')"
      ]
    },
    {
      "cell_type": "code",
      "execution_count": null,
      "metadata": {
        "colab": {
          "base_uri": "https://localhost:8080/"
        },
        "id": "5Z5HmrVo_RYp",
        "outputId": "d3859c1d-cb4a-408c-953a-c8651707942b"
      },
      "outputs": [
        {
          "name": "stdout",
          "output_type": "stream",
          "text": [
            "<class 'pandas.core.frame.DataFrame'>\n",
            "RangeIndex: 5000 entries, 0 to 4999\n",
            "Data columns (total 5 columns):\n",
            " #   Column             Non-Null Count  Dtype  \n",
            "---  ------             --------------  -----  \n",
            " 0   Пол                5000 non-null   int64  \n",
            " 1   Возраст            5000 non-null   float64\n",
            " 2   Зарплата           5000 non-null   float64\n",
            " 3   Члены семьи        5000 non-null   int64  \n",
            " 4   Страховые выплаты  5000 non-null   int64  \n",
            "dtypes: float64(2), int64(3)\n",
            "memory usage: 195.4 KB\n"
          ]
        }
      ],
      "source": [
        "df.info()"
      ]
    },
    {
      "cell_type": "code",
      "execution_count": null,
      "metadata": {
        "colab": {
          "base_uri": "https://localhost:8080/",
          "height": 206
        },
        "id": "hE0hnO6K_S4c",
        "outputId": "95733be4-f0ee-41ab-e855-354901de750b"
      },
      "outputs": [
        {
          "data": {
            "text/html": [
              "<div>\n",
              "<style scoped>\n",
              "    .dataframe tbody tr th:only-of-type {\n",
              "        vertical-align: middle;\n",
              "    }\n",
              "\n",
              "    .dataframe tbody tr th {\n",
              "        vertical-align: top;\n",
              "    }\n",
              "\n",
              "    .dataframe thead th {\n",
              "        text-align: right;\n",
              "    }\n",
              "</style>\n",
              "<table border=\"1\" class=\"dataframe\">\n",
              "  <thead>\n",
              "    <tr style=\"text-align: right;\">\n",
              "      <th></th>\n",
              "      <th>Пол</th>\n",
              "      <th>Возраст</th>\n",
              "      <th>Зарплата</th>\n",
              "      <th>Члены семьи</th>\n",
              "      <th>Страховые выплаты</th>\n",
              "    </tr>\n",
              "  </thead>\n",
              "  <tbody>\n",
              "    <tr>\n",
              "      <th>0</th>\n",
              "      <td>1</td>\n",
              "      <td>41.00</td>\n",
              "      <td>49600.00</td>\n",
              "      <td>1</td>\n",
              "      <td>0</td>\n",
              "    </tr>\n",
              "    <tr>\n",
              "      <th>1</th>\n",
              "      <td>0</td>\n",
              "      <td>46.00</td>\n",
              "      <td>38000.00</td>\n",
              "      <td>1</td>\n",
              "      <td>1</td>\n",
              "    </tr>\n",
              "    <tr>\n",
              "      <th>2</th>\n",
              "      <td>0</td>\n",
              "      <td>29.00</td>\n",
              "      <td>21000.00</td>\n",
              "      <td>0</td>\n",
              "      <td>0</td>\n",
              "    </tr>\n",
              "    <tr>\n",
              "      <th>3</th>\n",
              "      <td>0</td>\n",
              "      <td>21.00</td>\n",
              "      <td>41700.00</td>\n",
              "      <td>2</td>\n",
              "      <td>0</td>\n",
              "    </tr>\n",
              "    <tr>\n",
              "      <th>4</th>\n",
              "      <td>1</td>\n",
              "      <td>28.00</td>\n",
              "      <td>26100.00</td>\n",
              "      <td>0</td>\n",
              "      <td>0</td>\n",
              "    </tr>\n",
              "  </tbody>\n",
              "</table>\n",
              "</div>"
            ],
            "text/plain": [
              "   Пол  Возраст  Зарплата  Члены семьи  Страховые выплаты\n",
              "0    1    41.00  49600.00            1                  0\n",
              "1    0    46.00  38000.00            1                  1\n",
              "2    0    29.00  21000.00            0                  0\n",
              "3    0    21.00  41700.00            2                  0\n",
              "4    1    28.00  26100.00            0                  0"
            ]
          },
          "execution_count": 5,
          "metadata": {},
          "output_type": "execute_result"
        }
      ],
      "source": [
        "df.head()"
      ]
    },
    {
      "cell_type": "code",
      "execution_count": null,
      "metadata": {
        "id": "upZhZ3EbM7Jc",
        "outputId": "1b3ee65d-a12d-4dc1-effd-bc12bd18f2c9"
      },
      "outputs": [
        {
          "data": {
            "text/html": [
              "<div>\n",
              "<style scoped>\n",
              "    .dataframe tbody tr th:only-of-type {\n",
              "        vertical-align: middle;\n",
              "    }\n",
              "\n",
              "    .dataframe tbody tr th {\n",
              "        vertical-align: top;\n",
              "    }\n",
              "\n",
              "    .dataframe thead th {\n",
              "        text-align: right;\n",
              "    }\n",
              "</style>\n",
              "<table border=\"1\" class=\"dataframe\">\n",
              "  <thead>\n",
              "    <tr style=\"text-align: right;\">\n",
              "      <th></th>\n",
              "      <th>count</th>\n",
              "      <th>mean</th>\n",
              "      <th>std</th>\n",
              "      <th>min</th>\n",
              "      <th>25%</th>\n",
              "      <th>50%</th>\n",
              "      <th>75%</th>\n",
              "      <th>max</th>\n",
              "    </tr>\n",
              "  </thead>\n",
              "  <tbody>\n",
              "    <tr>\n",
              "      <th>Пол</th>\n",
              "      <td>5000.00</td>\n",
              "      <td>0.50</td>\n",
              "      <td>0.50</td>\n",
              "      <td>0.00</td>\n",
              "      <td>0.00</td>\n",
              "      <td>0.00</td>\n",
              "      <td>1.00</td>\n",
              "      <td>1.00</td>\n",
              "    </tr>\n",
              "    <tr>\n",
              "      <th>Возраст</th>\n",
              "      <td>5000.00</td>\n",
              "      <td>30.95</td>\n",
              "      <td>8.44</td>\n",
              "      <td>18.00</td>\n",
              "      <td>24.00</td>\n",
              "      <td>30.00</td>\n",
              "      <td>37.00</td>\n",
              "      <td>65.00</td>\n",
              "    </tr>\n",
              "    <tr>\n",
              "      <th>Зарплата</th>\n",
              "      <td>5000.00</td>\n",
              "      <td>39916.36</td>\n",
              "      <td>9900.08</td>\n",
              "      <td>5300.00</td>\n",
              "      <td>33300.00</td>\n",
              "      <td>40200.00</td>\n",
              "      <td>46600.00</td>\n",
              "      <td>79000.00</td>\n",
              "    </tr>\n",
              "    <tr>\n",
              "      <th>Члены семьи</th>\n",
              "      <td>5000.00</td>\n",
              "      <td>1.19</td>\n",
              "      <td>1.09</td>\n",
              "      <td>0.00</td>\n",
              "      <td>0.00</td>\n",
              "      <td>1.00</td>\n",
              "      <td>2.00</td>\n",
              "      <td>6.00</td>\n",
              "    </tr>\n",
              "    <tr>\n",
              "      <th>Страховые выплаты</th>\n",
              "      <td>5000.00</td>\n",
              "      <td>0.15</td>\n",
              "      <td>0.46</td>\n",
              "      <td>0.00</td>\n",
              "      <td>0.00</td>\n",
              "      <td>0.00</td>\n",
              "      <td>0.00</td>\n",
              "      <td>5.00</td>\n",
              "    </tr>\n",
              "  </tbody>\n",
              "</table>\n",
              "</div>"
            ],
            "text/plain": [
              "                    count     mean     std     min      25%      50%      75%  \\\n",
              "Пол               5000.00     0.50    0.50    0.00     0.00     0.00     1.00   \n",
              "Возраст           5000.00    30.95    8.44   18.00    24.00    30.00    37.00   \n",
              "Зарплата          5000.00 39916.36 9900.08 5300.00 33300.00 40200.00 46600.00   \n",
              "Члены семьи       5000.00     1.19    1.09    0.00     0.00     1.00     2.00   \n",
              "Страховые выплаты 5000.00     0.15    0.46    0.00     0.00     0.00     0.00   \n",
              "\n",
              "                       max  \n",
              "Пол                   1.00  \n",
              "Возраст              65.00  \n",
              "Зарплата          79000.00  \n",
              "Члены семьи           6.00  \n",
              "Страховые выплаты     5.00  "
            ]
          },
          "execution_count": 6,
          "metadata": {},
          "output_type": "execute_result"
        }
      ],
      "source": [
        "df.describe().T"
      ]
    },
    {
      "cell_type": "markdown",
      "metadata": {
        "id": "0k-Zj-EGoYzl"
      },
      "source": [
        "#### Этап 2. Обучение модели на исходных данных"
      ]
    },
    {
      "cell_type": "code",
      "execution_count": null,
      "metadata": {
        "id": "vWYgIPcA_WL2"
      },
      "outputs": [],
      "source": [
        "# Разделение данных на признаки и целевую переменную\n",
        "X = df.drop('Страховые выплаты', axis=1)\n",
        "y = df['Страховые выплаты']\n",
        "\n",
        "# Разделение на обучающую и тестовую выборки\n",
        "X_train, X_test, y_train, y_test = train_test_split(X, y, test_size=0.2, random_state=42)"
      ]
    },
    {
      "cell_type": "code",
      "execution_count": null,
      "metadata": {
        "id": "PxAVDr1hD0Gz"
      },
      "outputs": [],
      "source": [
        "# Обучение модели линейной регрессии на исходных данных\n",
        "model = LinearRegression()\n",
        "model.fit(X_train, y_train)\n",
        "predictions = model.predict(X_test)\n",
        "original_r2 = r2_score(y_test, predictions)"
      ]
    },
    {
      "cell_type": "markdown",
      "metadata": {
        "id": "s19XI1RbpRJe"
      },
      "source": [
        "#### Этап 3. Обучение модели на преобразованных данных"
      ]
    },
    {
      "cell_type": "markdown",
      "metadata": {
        "id": "FG4gPq-KO3yP"
      },
      "source": [
        "#### Теоретическое обоснование преобразования\n",
        "\n",
        "##### Влияние на Качество Линейной Регрессии\n",
        "\n",
        "Умножение признаков на обратимую матрицу не изменит качество линейной регрессии. Это связано с тем, что в линейной регрессии ищется решение вида\n",
        "$y=Xw+ϵ$, где $X$ - матрица признаков, $w$ - вектор весов, а $ϵ$ - ошибка. Если признаки умножить на обратимую матрицу $A$, то задача преобразуется в $y=(XA)w′+ϵ$. Поскольку $A$ обратима, можно найти новый вектор весов $w′$, который компенсирует это преобразование.\n",
        "\n",
        "##### Связь Параметров Линейной Регрессии\n",
        "\n",
        "Вектор весов $w′$ в преобразованной задаче связан с исходным вектором весов $w$ через обратимую матрицу $A$. Это обеспечивает эквивалентность прогнозов до и после преобразования."
      ]
    },
    {
      "cell_type": "markdown",
      "metadata": {
        "id": "ns4HQ62e_uPp"
      },
      "source": [
        "### Пример Преобразования Данных в Линейной Регрессии\n",
        "\n",
        "Предположим, у нас есть матрица признаков $X$ размером 2×2 и вектор целевых значений $y$.\n",
        "\n",
        "Пусть:\n",
        "- Матрица признаков $X$:\n",
        "\n",
        "  $\n",
        "  X = \\begin{pmatrix}\n",
        "  1 & 2 \\\\\n",
        "  3 & 4\n",
        "  \\end{pmatrix}\n",
        "  $\n",
        "- Вектор целевой переменной $y$:\n",
        "  \n",
        "  $\n",
        "  y = \\begin{pmatrix}\n",
        "  5 \\\\\n",
        "  11\n",
        "  \\end{pmatrix}\n",
        "  $\n",
        "- Вектор весов $w$ (коэффициенты модели):\n",
        "  \n",
        "  $\n",
        "  w = \\begin{pmatrix}\n",
        "  1 \\\\\n",
        "  1\n",
        "  \\end{pmatrix},\n",
        "  $ так что $y = Xw$.\n",
        "  \n",
        "  \n",
        "\n",
        "#### Преобразование с Обратимой Матрицей\n",
        "\n",
        "Теперь выберем обратимую матрицу $A$ размером 2×2 (например, любую квадратную матрицу с ненулевым определителем).\n",
        "\n",
        "Пусть:\n",
        "\n",
        "- Обратная матрица $A$ размером 2×2:\n",
        "\n",
        "  $\n",
        "  A = \\begin{pmatrix}\n",
        "  2 & 0 \\\\\n",
        "  0 & 2\n",
        "  \\end{pmatrix}\n",
        "  $\n",
        "\n",
        "- Тогда ($A^{-1}$):\n",
        "\n",
        "  $\n",
        "  A^{-1} = \\begin{pmatrix}\n",
        "  0.5 & 0 \\\\\n",
        "  0 & 0.5\n",
        "  \\end{pmatrix}\n",
        "  $\n",
        "\n",
        "#### Преобразование Признаков\n",
        "\n",
        "- Умножаем матрицу признаков $X$ на матрицу $A$:\n",
        "\n",
        "  $\n",
        "  XA = \\begin{pmatrix}\n",
        "  1 & 2 \\\\\n",
        "  3 & 4\n",
        "  \\end{pmatrix} \\times \\begin{pmatrix}\n",
        "  2 & 0 \\\\\n",
        "  0 & 2\n",
        "  \\end{pmatrix} = \\begin{pmatrix}\n",
        "  2 & 4 \\\\\n",
        "  6 & 8\n",
        "  \\end{pmatrix}\n",
        "  $\n",
        "\n",
        "#### Нахождение Новых Весов\n",
        "\n",
        "- Вычисляем новые веса $w$:\n",
        "\n",
        "  $\n",
        "  w' = A^{-1}w = \\begin{pmatrix}\n",
        "  0.5 & 0 \\\\\n",
        "  0 & 0.5\n",
        "  \\end{pmatrix} \\times \\begin{pmatrix}\n",
        "  1 \\\\\n",
        "  1\n",
        "  \\end{pmatrix} = \\begin{pmatrix}\n",
        "  0.5 \\\\\n",
        "  0.5\n",
        "  \\end{pmatrix}\n",
        "  $\n",
        "\n",
        "#### Применение Новых Весов\n",
        "\n",
        "- Вычисляем прогнозы с новыми признаками и весами:\n",
        "  \n",
        "  $\n",
        "  y = XA \\times w' = \\begin{pmatrix}\n",
        "  2 & 4 \\\\\n",
        "  6 & 8\n",
        "  \\end{pmatrix} \\times \\begin{pmatrix}\n",
        "  0.5 \\\\\n",
        "  0.5\n",
        "  \\end{pmatrix} = \\begin{pmatrix}\n",
        "  5 \\\\\n",
        "  11\n",
        "  \\end{pmatrix}\n",
        "  $\n",
        "\n",
        "### Доказательство Неизменности Предсказаний Линейной Регрессии После Преобразования\n",
        "\n",
        "#### Исходные Уравнения\n",
        "\n",
        "1. Определяем, что предсказания модели линейной регрессии задаются как $y = Xw$, где:\n",
        "   - $X$ — матрица признаков,\n",
        "   - $w$ — вектор весов модели,\n",
        "   - $y$ — вектор предсказаний модели.\n",
        "\n",
        "#### Преобразование с Обратимой Матрицей\n",
        "\n",
        "2. Предполагаем, что после преобразования признаков уравнение изменяется на $y = XA * w'$, где:\n",
        "   - $A$ — обратимая матрица,\n",
        "   - $w$ — новый вектор весов после преобразования.\n",
        "\n",
        "#### Шаги Доказательства\n",
        "\n",
        "3. Из $y = Xw$ и $y = XA * w'$ следует, что $Xw = XA * w'$:\n",
        "\n",
        "   $\n",
        "   y = Xw \\quad \\text{и} \\quad y = XA * w' \\quad \\Rightarrow \\quad Xw = XA * w'\n",
        "   $\n",
        "\n",
        "4. Принимая во внимание, что $w' = A^{-1}w$, мы можем заменить $w'$ в уравнении:\n",
        "\n",
        "   $\n",
        "   Xw = XA * A^{-1}w\n",
        "   $\n",
        "\n",
        "5. Умножение матрицы $A$ на её обратную $A^{-1}$ даёт единичную матрицу $I$:\n",
        "\n",
        "   $\n",
        "   Xw = XA * A^{-1}w \\quad \\Rightarrow \\quad Xw = Xw * AA^{-1}\n",
        "   $\n",
        "\n",
        "6. Так как $AA^{-1}$ равно единичной матрице $I$, уравнение упрощается до:\n",
        "   \n",
        "   $\n",
        "   Xw = Xw * AA^{-1} \\quad \\Rightarrow \\quad Xw = XwI\n",
        "   $\n",
        "\n",
        "7. Умножение на единичную матрицу $I$ не изменяет исходную матрицу:\n",
        "   \n",
        "   $\n",
        "   Xw = XwI \\quad \\Rightarrow \\quad Xw = Xw\n",
        "   $\n",
        "\n",
        "\n",
        "#### Вывод\n",
        "\n",
        "Таким образом, умножение признаков на обратимую матрицу $A$ и последующая корректировка весов\n",
        "$w′$ позволяет сохранить исходные предсказания модели, что подтверждает теорию о неизменности качества линейной регрессии при таком преобразовании.\n",
        "\n",
        "---\n",
        "### Важно помнить: Формула для Нахождения Весов в Линейной Регрессии\n",
        "\n",
        "Формула, используемая для вычисления весов $w$ в линейной регрессии с использованием метода наименьших квадратов, выглядит следующим образом:\n",
        "\n",
        "$ w = (X^TX)^{-1}X^Ty $\n",
        "\n",
        "где:\n",
        "\n",
        "- $X$ — матрица признаков;\n",
        "- $X^T$ — транспонированная матрица признаков;\n",
        "- $y$ — вектор целевой переменной.\n",
        "\n"
      ]
    },
    {
      "cell_type": "markdown",
      "metadata": {
        "id": "2k6joaQgRm6B"
      },
      "source": [
        "#### Предложение Алгоритма Преобразования\n",
        "\n",
        "##### Алгоритм будет включать следующие шаги:\n",
        "\n",
        "1.Генерация случайной обратимой матрицы $A$ соответствующего размера;\n",
        "\n",
        "2.Умножение матрицы признаков $X$ на $A$ для получения преобразованных данных."
      ]
    },
    {
      "cell_type": "markdown",
      "metadata": {
        "id": "zbFmugb2STQl"
      },
      "source": [
        "#### Реализация и Проверка Алгоритма\n",
        "\n",
        "Теперь мы реализуем этот алгоритм и проверим, сохраняется ли качество модели линейной регрессии (используя метрику R2) до и после преобразования. Мы начнем с генерации обратимой матрицы. ​"
      ]
    },
    {
      "cell_type": "code",
      "execution_count": null,
      "metadata": {
        "id": "_ERV3mHaD0Jh"
      },
      "outputs": [],
      "source": [
        "# Генерация обратимой матрицы\n",
        "matrix_size = X.shape[1]\n",
        "A = generate_invertible_matrix(matrix_size)"
      ]
    },
    {
      "cell_type": "code",
      "execution_count": null,
      "metadata": {
        "id": "WBczr-sRD0Mg"
      },
      "outputs": [],
      "source": [
        "# Преобразование данных\n",
        "X_train_transformed = X_train.dot(A)\n",
        "X_test_transformed = X_test.dot(A)"
      ]
    },
    {
      "cell_type": "code",
      "execution_count": null,
      "metadata": {
        "id": "GpwwdA4sD0PH"
      },
      "outputs": [],
      "source": [
        "# Обучение модели на преобразованных данных\n",
        "model_transformed = LinearRegression()\n",
        "model_transformed.fit(X_train_transformed, y_train)\n",
        "predictions_transformed = model_transformed.predict(X_test_transformed)\n",
        "transformed_r2 = r2_score(y_test, predictions_transformed)"
      ]
    },
    {
      "cell_type": "code",
      "execution_count": null,
      "metadata": {
        "colab": {
          "base_uri": "https://localhost:8080/"
        },
        "id": "DwNsMXUUD0Rw",
        "outputId": "5593c2a5-d2af-4afd-a935-b3662cc4ef3a",
        "scrolled": true
      },
      "outputs": [
        {
          "name": "stdout",
          "output_type": "stream",
          "text": [
            "Метрика R2 на исходных данных  0.43686949231379935\n",
            "Метрика R2 на преобразованных данных  0.4368694923119707\n"
          ]
        }
      ],
      "source": [
        "print('Метрика R2 на исходных данных ', original_r2)\n",
        "print('Метрика R2 на преобразованных данных ', transformed_r2)"
      ]
    },
    {
      "cell_type": "markdown",
      "metadata": {
        "id": "oqeBmkjQTjoF"
      },
      "source": [
        "#### Результаты Проверки Алгоритма\n",
        "\n",
        "##### Коэффициент детерминации R2 для модели линейной регрессии:\n",
        "\n",
        "- На исходных данных: 0.4369;\n",
        "- На преобразованных данных: 0.4369\n",
        "\n",
        "Эти результаты показывают, что качество модели линейной регрессии не изменилось после преобразования данных. Коэффициент R2 остался почти идентичным, что подтверждает теоретическое предположение о том, что умножение признаков на обратимую матрицу не влияет на способность модели линейной регрессии делать точные предсказания."
      ]
    },
    {
      "cell_type": "markdown",
      "metadata": {
        "id": "1IHHi2N8T3RG"
      },
      "source": [
        "#### Выводы\n",
        "\n",
        "Предложенный метод преобразования данных путём умножения на обратимую матрицу оказался эффективным для защиты личной информации клиентов. Он изменяет данные таким образом, что становится сложно восстановить исходную личную информацию, одновременно сохраняя важные для моделирования статистические свойства данных. Этот подход может быть особенно полезен в области страхования для защиты конфиденциальных данных клиентов, не ухудшая при этом качества аналитических моделей."
      ]
    }
  ],
  "metadata": {
    "ExecuteTimeLog": [
      {
        "duration": 2864,
        "start_time": "2023-12-20T12:03:10.827Z"
      },
      {
        "duration": 4,
        "start_time": "2023-12-20T12:03:13.693Z"
      },
      {
        "duration": 115,
        "start_time": "2023-12-20T12:03:13.698Z"
      },
      {
        "duration": 0,
        "start_time": "2023-12-20T12:03:13.815Z"
      },
      {
        "duration": 0,
        "start_time": "2023-12-20T12:03:13.816Z"
      },
      {
        "duration": 0,
        "start_time": "2023-12-20T12:03:13.817Z"
      },
      {
        "duration": 0,
        "start_time": "2023-12-20T12:03:13.818Z"
      },
      {
        "duration": 0,
        "start_time": "2023-12-20T12:03:13.819Z"
      },
      {
        "duration": 0,
        "start_time": "2023-12-20T12:03:13.820Z"
      },
      {
        "duration": 0,
        "start_time": "2023-12-20T12:03:13.821Z"
      },
      {
        "duration": 0,
        "start_time": "2023-12-20T12:03:13.821Z"
      },
      {
        "duration": 1139,
        "start_time": "2023-12-22T07:31:28.707Z"
      },
      {
        "duration": 4,
        "start_time": "2023-12-22T07:31:29.848Z"
      },
      {
        "duration": 78,
        "start_time": "2023-12-22T07:31:31.223Z"
      },
      {
        "duration": 12,
        "start_time": "2023-12-22T07:31:35.581Z"
      },
      {
        "duration": 14,
        "start_time": "2023-12-22T07:31:37.515Z"
      },
      {
        "duration": 23,
        "start_time": "2023-12-22T07:31:39.580Z"
      },
      {
        "duration": 23,
        "start_time": "2023-12-22T07:31:58.551Z"
      },
      {
        "duration": 21,
        "start_time": "2023-12-22T07:32:03.597Z"
      },
      {
        "duration": 2656,
        "start_time": "2023-12-22T17:17:18.862Z"
      },
      {
        "duration": 5,
        "start_time": "2023-12-22T17:17:21.520Z"
      },
      {
        "duration": 101,
        "start_time": "2023-12-22T17:17:21.526Z"
      },
      {
        "duration": 12,
        "start_time": "2023-12-22T17:17:21.629Z"
      },
      {
        "duration": 15,
        "start_time": "2023-12-22T17:17:21.643Z"
      },
      {
        "duration": 31,
        "start_time": "2023-12-22T17:17:21.659Z"
      },
      {
        "duration": 7,
        "start_time": "2023-12-22T17:17:21.691Z"
      },
      {
        "duration": 144,
        "start_time": "2023-12-22T17:17:21.699Z"
      },
      {
        "duration": 7,
        "start_time": "2023-12-22T17:17:21.845Z"
      },
      {
        "duration": 99,
        "start_time": "2023-12-22T17:17:21.944Z"
      },
      {
        "duration": 7,
        "start_time": "2023-12-22T17:17:22.044Z"
      },
      {
        "duration": 6,
        "start_time": "2023-12-22T17:17:22.053Z"
      }
    ],
    "colab": {
      "provenance": []
    },
    "kernelspec": {
      "display_name": "Python 3 (ipykernel)",
      "language": "python",
      "name": "python3"
    },
    "language_info": {
      "codemirror_mode": {
        "name": "ipython",
        "version": 3
      },
      "file_extension": ".py",
      "mimetype": "text/x-python",
      "name": "python",
      "nbconvert_exporter": "python",
      "pygments_lexer": "ipython3",
      "version": "3.9.5"
    },
    "toc": {
      "base_numbering": 1,
      "nav_menu": {},
      "number_sections": true,
      "sideBar": true,
      "skip_h1_title": true,
      "title_cell": "Table of Contents",
      "title_sidebar": "Contents",
      "toc_cell": false,
      "toc_position": {},
      "toc_section_display": true,
      "toc_window_display": false
    }
  },
  "nbformat": 4,
  "nbformat_minor": 0
}